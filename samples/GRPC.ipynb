{
 "cells": [
  {
   "cell_type": "code",
   "execution_count": 77,
   "metadata": {},
   "outputs": [],
   "source": [
    "import grpc\n",
    "import json\n",
    "from google.protobuf import text_format, json_format\n",
    "from google.protobuf.json_format import MessageToJson\n",
    "from tensorflow_serving.apis import model_service_pb2_grpc, model_management_pb2\n",
    "from tensorflow_serving.config import model_server_config_pb2\n",
    "\n",
    "def get_grpc_connection(host, port=443, crt_path=\"server.crt\"):\n",
    "    \"\"\"Establish secure grpc channel\"\"\"\n",
    "    with open(crt_path, 'rb') as f:\n",
    "        trusted_certs = f.read()\n",
    "        \n",
    "    credentials = grpc.ssl_channel_credentials(root_certificates=trusted_certs)\n",
    "    channel = grpc.secure_channel('{}:{}'.format(host, port), credentials)\n",
    "    return channel\n",
    "\n",
    "def add_model_config(conf_filepath, host, port, crt_path, name, base_path, model_platform):\n",
    "\n",
    "    # Merge new server config into existing\n",
    "    with open(conf_filepath, 'r') as openfile:\n",
    "        config = json.load(openfile)\n",
    "               \n",
    "    config[\"modelConfigList\"][\"config\"].append(\n",
    "        {\n",
    "            \"name\": name,\n",
    "            \"base_path\": base_path,\n",
    "            \"model_platform\": model_platform\n",
    "        })\n",
    "    \n",
    "    result = {}\n",
    "    for c in config[\"modelConfigList\"][\"config\"]:\n",
    "        result.setdefault(c[\"name\"], {}).update(c)\n",
    "    config[\"modelConfigList\"][\"config\"] = list(result.values())\n",
    "\n",
    "    # Load proto buffers\n",
    "    channel = get_grpc_connection(host, port, crt_path)\n",
    "    \n",
    "    stub = model_service_pb2_grpc.ModelServiceStub(channel)\n",
    "    request = model_management_pb2.ReloadConfigRequest()\n",
    "    model_server_config = model_server_config_pb2.ModelServerConfig()\n",
    "    config_list = model_server_config_pb2.ModelConfigList()\n",
    "        \n",
    "    # Parse json config to proto message\n",
    "    model_server_config = json_format.Parse(text=json.dumps(config), message=model_server_config)\n",
    "\n",
    "    request.config.CopyFrom(model_server_config)\n",
    "    with open(conf_filepath, \"w\") as outfile:\n",
    "        outfile.write(json.dumps(json.loads(MessageToJson(request.config)), indent=4))\n",
    "\n",
    "    #response = stub.HandleReloadConfigRequest(request, 10)\n",
    "    #if response.status.error_code == 0:\n",
    "    #    \n",
    "    #    print(MessageToJson(request.config))\n",
    "    #    print(\"Updated TF Serving conf file\")\n",
    "    #else:\n",
    "    #    print(\"Failed to update model_config_list!\")\n",
    "    #    print(response.status.error_code)\n",
    "    #    print(response.status.error_message)"
   ]
  },
  {
   "cell_type": "code",
   "execution_count": 83,
   "metadata": {},
   "outputs": [
    {
     "name": "stdout",
     "output_type": "stream",
     "text": [
      "{'modelConfigList': {'config': [{'name': 'mlmodel', 'basePath': '/models/mlmodel/', 'modelPlatform': 'tensorflow'}, {'name': 'quad', 'basePath': '/models/quad/', 'modelPlatform': 'tensorflow'}, {'name': 'quad2', 'basePath': '/models/quad/', 'modelPlatform': 'tensorflow', 'base_path': '/models/quad2/', 'model_platform': 'tensorflow'}]}}\n"
     ]
    }
   ],
   "source": [
    "crt_path = \"./cert/server.crt\"\n",
    "host=\"model-server-grpc.192.168.1.203.nip.io\"\n",
    "port=\"443\"\n",
    "\n",
    "add_model_config(\"./model_config.json\", host, port, crt_path, \"quad2\", \"/models/quad2/\", \"tensorflow\")\n"
   ]
  },
  {
   "cell_type": "code",
   "execution_count": 32,
   "metadata": {},
   "outputs": [],
   "source": [
    "jsonString = {\n",
    "  \"modelConfigList\": {\n",
    "    \"config\": [\n",
    "      {\n",
    "        \"name\": \"mlmodel\",\n",
    "        \"basePath\": \"/models/mlmodel/\",\n",
    "        \"modelPlatform\": \"tensorflow\"\n",
    "      },\n",
    "      {\n",
    "        \"name\": \"quad\",\n",
    "        \"basePath\": \"/models/quad/\",\n",
    "        \"modelPlatform\": \"tensorflow\"\n",
    "      },\n",
    "      {\n",
    "        \"name\": \"quad2\",\n",
    "        \"basePath\": \"/models/quad/\",\n",
    "        \"modelPlatform\": \"tensorflow\"\n",
    "      }\n",
    "    ]\n",
    "  }\n",
    "}"
   ]
  },
  {
   "cell_type": "code",
   "execution_count": 102,
   "metadata": {},
   "outputs": [
    {
     "data": {
      "text/plain": [
       "'{\"list\": [[1, 2, 3], [2, 3, 4]]}'"
      ]
     },
     "execution_count": 102,
     "metadata": {},
     "output_type": "execute_result"
    }
   ],
   "source": [
    "import json\n",
    "json.dumps({\"list\": x.values.tolist()})\n"
   ]
  },
  {
   "cell_type": "code",
   "execution_count": 106,
   "metadata": {},
   "outputs": [],
   "source": [
    "import numpy as np\n",
    "y = np.array(x.values.tolist())"
   ]
  },
  {
   "cell_type": "code",
   "execution_count": 111,
   "metadata": {},
   "outputs": [
    {
     "data": {
      "text/plain": [
       "3"
      ]
     },
     "execution_count": 111,
     "metadata": {},
     "output_type": "execute_result"
    }
   ],
   "source": [
    "y.shape[1]"
   ]
  },
  {
   "cell_type": "code",
   "execution_count": 119,
   "metadata": {},
   "outputs": [],
   "source": [
    "z = pd.DataFrame(x.values, columns=[f'y_{y}' for y in range(y.shape[1])])"
   ]
  },
  {
   "cell_type": "code",
   "execution_count": 156,
   "metadata": {},
   "outputs": [
    {
     "data": {
      "text/plain": [
       "array([[1],\n",
       "       [2]])"
      ]
     },
     "execution_count": 156,
     "metadata": {},
     "output_type": "execute_result"
    }
   ],
   "source": [
    "z[[\"y_0\"]].values"
   ]
  },
  {
   "cell_type": "code",
   "execution_count": 146,
   "metadata": {},
   "outputs": [
    {
     "data": {
      "text/plain": [
       "(2,)"
      ]
     },
     "execution_count": 146,
     "metadata": {},
     "output_type": "execute_result"
    }
   ],
   "source": [
    "z[\"y_0\"].values.shape"
   ]
  },
  {
   "cell_type": "code",
   "execution_count": null,
   "metadata": {},
   "outputs": [],
   "source": []
  }
 ],
 "metadata": {
  "kernelspec": {
   "display_name": "dev3.9",
   "language": "python",
   "name": "dev3.9"
  },
  "language_info": {
   "codemirror_mode": {
    "name": "ipython",
    "version": 3
   },
   "file_extension": ".py",
   "mimetype": "text/x-python",
   "name": "python",
   "nbconvert_exporter": "python",
   "pygments_lexer": "ipython3",
   "version": "3.9.12"
  }
 },
 "nbformat": 4,
 "nbformat_minor": 2
}
