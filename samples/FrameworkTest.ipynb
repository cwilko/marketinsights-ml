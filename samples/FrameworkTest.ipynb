{
 "cells": [
  {
   "cell_type": "code",
   "execution_count": 2,
   "metadata": {},
   "outputs": [],
   "source": [
    "import numpy as np\n",
    "import pandas as pd\n",
    "\n",
    "import quantutils.dataset.pipeline as ppl\n",
    "import quantutils.dataset.ml as mlutils\n",
    "from marketinsights.api.model import MarketInsightsModel\n",
    "from marketinsights.remote.ml import MIAssembly\n",
    "from marketinsights.remote.models import MIModelServer"
   ]
  },
  {
   "cell_type": "code",
   "execution_count": 3,
   "metadata": {},
   "outputs": [],
   "source": [
    "DATASET_ID1 = \"4234f0f1b6fcc17f6458696a6cdf5101\"  # DOW\n",
    "MODEL_ID = \"3a491b1a-8af6-416d-aa14-f812cbd660bb\"\n",
    "\n",
    "assembly = MIAssembly(MIModelServer(secret=\"marketinsights-k8s-cred\"))\n",
    "modelConfig = assembly.get_model(MODEL_ID)\n",
    "\n",
    "# Training Set\n",
    "dataset, descriptor = assembly.get_dataset_by_id(DATASET_ID1)\n",
    "\n",
    "# Test Set\n",
    "dataset2 = pd.read_pickle(\"testset.pkl\")"
   ]
  },
  {
   "cell_type": "code",
   "execution_count": 5,
   "metadata": {},
   "outputs": [],
   "source": [
    "mlmodel = MarketInsightsModel.createInstance(\n",
    "    \"Perceptron\", \n",
    "    opts={\"name\": \"MLModel\", \"featureCount\": descriptor[\"features\"], \"labelCount\": descriptor[\"labels\"], \"modelConfig\": modelConfig }\n",
    ")"
   ]
  },
  {
   "cell_type": "code",
   "execution_count": 6,
   "metadata": {},
   "outputs": [],
   "source": [
    "train_x, train_y = ppl.splitCol(dataset, descriptor[\"features\"])\n",
    "test_x, test_y = ppl.splitCol(dataset2, descriptor[\"features\"])"
   ]
  },
  {
   "cell_type": "code",
   "execution_count": 7,
   "metadata": {},
   "outputs": [
    {
     "name": "stdout",
     "output_type": "stream",
     "text": [
      "Won : 709.0\n",
      "Lost : 668.0\n",
      "Total : 1377.0\n",
      "Diff : 41.0\n",
      "Edge : 2.9774872912127814%\n",
      "IR : 1.1048845\n"
     ]
    },
    {
     "data": {
      "text/plain": [
       "0.51488745"
      ]
     },
     "execution_count": 7,
     "metadata": {},
     "output_type": "execute_result"
    }
   ],
   "source": [
    "mlutils.evaluate(ppl.onehot(mlmodel.predictions(train_x).numpy()), ppl.onehot(train_y), threshold=0.5)"
   ]
  },
  {
   "cell_type": "code",
   "execution_count": 8,
   "metadata": {},
   "outputs": [
    {
     "data": {
      "text/plain": [
       "<tensorflow.python.checkpoint.checkpoint.CheckpointLoadStatus at 0x7f5be1a40730>"
      ]
     },
     "execution_count": 8,
     "metadata": {},
     "output_type": "execute_result"
    }
   ],
   "source": [
    "mlmodel.restore(\"../config/modelserver/mlmodel/3\")"
   ]
  },
  {
   "cell_type": "code",
   "execution_count": 9,
   "metadata": {},
   "outputs": [
    {
     "name": "stdout",
     "output_type": "stream",
     "text": [
      "Won : 1033.0\n",
      "Lost : 344.0\n",
      "Total : 1377.0\n",
      "Diff : 689.0\n",
      "Edge : 50.03631082062454%\n",
      "IR : 18.56745\n"
     ]
    },
    {
     "data": {
      "text/plain": [
       "0.75018156"
      ]
     },
     "execution_count": 9,
     "metadata": {},
     "output_type": "execute_result"
    }
   ],
   "source": [
    "mlutils.evaluate(ppl.onehot(mlmodel.predictions(train_x).numpy()), ppl.onehot(train_y), threshold=0.5)"
   ]
  },
  {
   "cell_type": "code",
   "execution_count": 11,
   "metadata": {},
   "outputs": [
    {
     "name": "stdout",
     "output_type": "stream",
     "text": [
      "Won : 33.0\n",
      "Lost : 17.0\n",
      "Total : 50.0\n",
      "Diff : 16.0\n",
      "Edge : 32.0%\n",
      "IR : 2.2627416\n"
     ]
    },
    {
     "data": {
      "text/plain": [
       "0.66"
      ]
     },
     "execution_count": 11,
     "metadata": {},
     "output_type": "execute_result"
    }
   ],
   "source": [
    "mlutils.evaluate(ppl.onehot(mlmodel.predictions(test_x).numpy()), ppl.onehot(test_y), threshold=0.8)"
   ]
  },
  {
   "cell_type": "code",
   "execution_count": 14,
   "metadata": {},
   "outputs": [
    {
     "name": "stdout",
     "output_type": "stream",
     "text": [
      "Mean squared error for step 0: 0.481\n",
      "Precision 0.75\n"
     ]
    }
   ],
   "source": [
    "import tensorflow as tf\n",
    "train_x = tf.cast(train_x, tf.float32)\n",
    "train_y = tf.cast(train_y, tf.float32)\n",
    "mlmodel.train(train_x, train_y, learning_rate=3.0, epochs=100)"
   ]
  },
  {
   "cell_type": "code",
   "execution_count": null,
   "metadata": {},
   "outputs": [],
   "source": []
  }
 ],
 "metadata": {
  "kernelspec": {
   "display_name": "dev3.9",
   "language": "python",
   "name": "dev3.9"
  },
  "language_info": {
   "codemirror_mode": {
    "name": "ipython",
    "version": 3
   },
   "file_extension": ".py",
   "mimetype": "text/x-python",
   "name": "python",
   "nbconvert_exporter": "python",
   "pygments_lexer": "ipython3",
   "version": "3.9.12"
  }
 },
 "nbformat": 4,
 "nbformat_minor": 2
}
