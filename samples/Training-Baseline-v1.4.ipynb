{
 "cells": [
  {
   "cell_type": "code",
   "execution_count": 1,
   "metadata": {},
   "outputs": [],
   "source": [
    "# LIST OF UPDATES\n",
    "#\n",
    "# Added bias (constant) to each linear layer\n",
    "# Switched to using equivalent keras optimizer - SGD \n",
    "# Moved loss calculation to an independent function\n",
    "# Switched to defining the network as Keras layers(!)\n",
    "# Add tf.function to training loop - 10x speed increase(!)\n",
    "# Switch to calculating gradients with keras 'trainable_weight' vs tf 'variables' \n",
    "# Tried using Keras Model.fit but order of magnitude slower than custom loop!\n",
    "# Switch to train/val/test -> Showed that validation accuracy peaks at about 55% Training accuracy :(\n",
    "# Switch to MeanSquaredError as loss function (But this is not a good error for classification)\n",
    "# Add callback support to custom training loop\n",
    "# Early completion based on validation changes\n",
    "# Switch to correct method of regularisation with L2 Loss\n",
    "# Addition of Dropout for regularisation\n",
    "# Batch support (improves regularisation)\n",
    "# Tried various train/test/val combinations - results are very sensitive to this.\n",
    "# Tried various activation functions - \"elu\" seems best (not sure why yet)\n",
    "# Switched to BinaryCrossEntropy loss function from keras\n",
    "# Switched to Adam optimiser with scheduled learning\n",
    "# Utilised log x-scale to compare model plot results\n",
    "# Add Accuracy as a metric\n",
    "# Add multiple plots to compare metrics\n",
    "# TODO : Represent data using windowing method\n"
   ]
  },
  {
   "cell_type": "code",
   "execution_count": 2,
   "metadata": {},
   "outputs": [],
   "source": [
    "import tensorflow as tf\n",
    "import tensorflow.compat.v1 as tf1\n",
    "\n",
    "import numpy as np\n",
    "import pandas as pd\n",
    "\n",
    "import quantutils.dataset.pipeline as ppl\n",
    "import quantutils.dataset.ml as mlutils\n",
    "from marketinsights.api.model import MarketInsightsModel\n",
    "from marketinsights.remote.ml import MIAssembly\n",
    "\n",
    "from tqdm import tqdm, trange\n",
    "from functools import partialmethod\n",
    "\n",
    "import tensorflow_docs as tfdocs\n",
    "import tensorflow_docs.modeling\n",
    "import tensorflow_docs.plots\n",
    "from  IPython import display\n",
    "from matplotlib import pyplot as plt\n",
    "\n",
    "\n",
    "tqdm.__init__ = partialmethod(tqdm.__init__, disable=False)"
   ]
  },
  {
   "cell_type": "code",
   "execution_count": 10,
   "metadata": {},
   "outputs": [
    {
     "name": "stdout",
     "output_type": "stream",
     "text": [
      "<class 'pandas.core.frame.DataFrame'>\n",
      "DatetimeIndex: 1387 entries, 2013-01-02 15:00:00-05:00 to 2018-08-01 15:00:00-04:00\n",
      "Data columns (total 10 columns):\n",
      " #   Column  Non-Null Count  Dtype  \n",
      "---  ------  --------------  -----  \n",
      " 0   0       1387 non-null   float64\n",
      " 1   1       1387 non-null   float64\n",
      " 2   2       1387 non-null   float64\n",
      " 3   3       1387 non-null   float64\n",
      " 4   4       1387 non-null   float64\n",
      " 5   5       1387 non-null   float64\n",
      " 6   6       1387 non-null   float64\n",
      " 7   7       1387 non-null   float64\n",
      " 8   8       1387 non-null   float64\n",
      " 9   9       1387 non-null   int64  \n",
      "dtypes: float64(9), int64(1)\n",
      "memory usage: 119.2 KB\n"
     ]
    }
   ],
   "source": [
    "#DATASET_ID1 = \"dbaab93d94795145539e595fab79f2d4\"  # DOW\n",
    "#DATASET_ID1 = \"4234f0f1b6fcc17f6458696a6cdf5101\"  # DOW\n",
    "DATASET_ID1 = \"09dcbc101dd03d999a479baa924901b3\" # 2023 - Corrected \n",
    "NUM_FEATURES = (2 * 4) + 1\n",
    "\n",
    "assembly = MIAssembly(secret=\"marketinsights-k8s-cred\")\n",
    "\n",
    "# Dataset\n",
    "dataset, descriptor = assembly.get_dataset_by_id(DATASET_ID1, debug=False)\n",
    "dataset.info()"
   ]
  },
  {
   "cell_type": "code",
   "execution_count": 12,
   "metadata": {},
   "outputs": [
    {
     "name": "stderr",
     "output_type": "stream",
     "text": [
      "/tmp/ipykernel_18299/320720586.py:2: SettingWithCopyWarning: \n",
      "A value is trying to be set on a copy of a slice from a DataFrame\n",
      "\n",
      "See the caveats in the documentation: https://pandas.pydata.org/pandas-docs/stable/user_guide/indexing.html#returning-a-view-versus-a-copy\n",
      "  labels[labels == 0] = -1\n"
     ]
    },
    {
     "data": {
      "text/html": [
       "<div>\n",
       "<style scoped>\n",
       "    .dataframe tbody tr th:only-of-type {\n",
       "        vertical-align: middle;\n",
       "    }\n",
       "\n",
       "    .dataframe tbody tr th {\n",
       "        vertical-align: top;\n",
       "    }\n",
       "\n",
       "    .dataframe thead th {\n",
       "        text-align: right;\n",
       "    }\n",
       "</style>\n",
       "<table border=\"1\" class=\"dataframe\">\n",
       "  <thead>\n",
       "    <tr style=\"text-align: right;\">\n",
       "      <th></th>\n",
       "      <th>0</th>\n",
       "      <th>1</th>\n",
       "      <th>2</th>\n",
       "      <th>3</th>\n",
       "      <th>4</th>\n",
       "      <th>5</th>\n",
       "      <th>6</th>\n",
       "      <th>7</th>\n",
       "      <th>8</th>\n",
       "      <th>9</th>\n",
       "    </tr>\n",
       "    <tr>\n",
       "      <th>Date_Time</th>\n",
       "      <th></th>\n",
       "      <th></th>\n",
       "      <th></th>\n",
       "      <th></th>\n",
       "      <th></th>\n",
       "      <th></th>\n",
       "      <th></th>\n",
       "      <th></th>\n",
       "      <th></th>\n",
       "      <th></th>\n",
       "    </tr>\n",
       "  </thead>\n",
       "  <tbody>\n",
       "    <tr>\n",
       "      <th>2013-01-02 15:00:00-05:00</th>\n",
       "      <td>0.390854</td>\n",
       "      <td>0.826284</td>\n",
       "      <td>0.199852</td>\n",
       "      <td>0.508756</td>\n",
       "      <td>0.504133</td>\n",
       "      <td>1.000000</td>\n",
       "      <td>0.000000</td>\n",
       "      <td>0.629408</td>\n",
       "      <td>0.051259</td>\n",
       "      <td>1</td>\n",
       "    </tr>\n",
       "    <tr>\n",
       "      <th>2013-01-03 15:00:00-05:00</th>\n",
       "      <td>0.766445</td>\n",
       "      <td>1.000000</td>\n",
       "      <td>0.586159</td>\n",
       "      <td>0.943148</td>\n",
       "      <td>0.943148</td>\n",
       "      <td>0.944016</td>\n",
       "      <td>0.000000</td>\n",
       "      <td>0.487062</td>\n",
       "      <td>0.108321</td>\n",
       "      <td>-1</td>\n",
       "    </tr>\n",
       "    <tr>\n",
       "      <th>2013-01-04 15:00:00-05:00</th>\n",
       "      <td>0.096991</td>\n",
       "      <td>1.000000</td>\n",
       "      <td>0.000000</td>\n",
       "      <td>0.631825</td>\n",
       "      <td>0.632902</td>\n",
       "      <td>0.905283</td>\n",
       "      <td>0.340489</td>\n",
       "      <td>0.847693</td>\n",
       "      <td>0.043706</td>\n",
       "      <td>1</td>\n",
       "    </tr>\n",
       "    <tr>\n",
       "      <th>2013-01-07 15:00:00-05:00</th>\n",
       "      <td>0.078908</td>\n",
       "      <td>0.468290</td>\n",
       "      <td>0.000000</td>\n",
       "      <td>0.337985</td>\n",
       "      <td>0.337655</td>\n",
       "      <td>1.000000</td>\n",
       "      <td>0.253843</td>\n",
       "      <td>0.984516</td>\n",
       "      <td>0.071635</td>\n",
       "      <td>1</td>\n",
       "    </tr>\n",
       "    <tr>\n",
       "      <th>2013-01-08 15:00:00-05:00</th>\n",
       "      <td>0.000000</td>\n",
       "      <td>0.748026</td>\n",
       "      <td>0.000000</td>\n",
       "      <td>0.685708</td>\n",
       "      <td>0.685012</td>\n",
       "      <td>1.000000</td>\n",
       "      <td>0.344723</td>\n",
       "      <td>0.518904</td>\n",
       "      <td>0.068146</td>\n",
       "      <td>1</td>\n",
       "    </tr>\n",
       "    <tr>\n",
       "      <th>...</th>\n",
       "      <td>...</td>\n",
       "      <td>...</td>\n",
       "      <td>...</td>\n",
       "      <td>...</td>\n",
       "      <td>...</td>\n",
       "      <td>...</td>\n",
       "      <td>...</td>\n",
       "      <td>...</td>\n",
       "      <td>...</td>\n",
       "      <td>...</td>\n",
       "    </tr>\n",
       "    <tr>\n",
       "      <th>2018-07-26 15:00:00-04:00</th>\n",
       "      <td>0.117785</td>\n",
       "      <td>0.779641</td>\n",
       "      <td>0.000000</td>\n",
       "      <td>0.500333</td>\n",
       "      <td>0.492980</td>\n",
       "      <td>1.000000</td>\n",
       "      <td>0.345889</td>\n",
       "      <td>0.654713</td>\n",
       "      <td>0.078719</td>\n",
       "      <td>-1</td>\n",
       "    </tr>\n",
       "    <tr>\n",
       "      <th>2018-07-27 15:00:00-04:00</th>\n",
       "      <td>0.378094</td>\n",
       "      <td>0.888481</td>\n",
       "      <td>0.000000</td>\n",
       "      <td>0.861922</td>\n",
       "      <td>0.845986</td>\n",
       "      <td>1.000000</td>\n",
       "      <td>0.287613</td>\n",
       "      <td>0.489824</td>\n",
       "      <td>0.109395</td>\n",
       "      <td>1</td>\n",
       "    </tr>\n",
       "    <tr>\n",
       "      <th>2018-07-30 15:00:00-04:00</th>\n",
       "      <td>0.307187</td>\n",
       "      <td>0.954621</td>\n",
       "      <td>0.000000</td>\n",
       "      <td>0.892212</td>\n",
       "      <td>0.903560</td>\n",
       "      <td>1.000000</td>\n",
       "      <td>0.369722</td>\n",
       "      <td>0.483388</td>\n",
       "      <td>0.102674</td>\n",
       "      <td>-1</td>\n",
       "    </tr>\n",
       "    <tr>\n",
       "      <th>2018-07-31 15:00:00-04:00</th>\n",
       "      <td>0.820354</td>\n",
       "      <td>1.000000</td>\n",
       "      <td>0.359752</td>\n",
       "      <td>0.719278</td>\n",
       "      <td>0.730509</td>\n",
       "      <td>0.786664</td>\n",
       "      <td>0.000000</td>\n",
       "      <td>0.157419</td>\n",
       "      <td>0.051675</td>\n",
       "      <td>-1</td>\n",
       "    </tr>\n",
       "    <tr>\n",
       "      <th>2018-08-01 15:00:00-04:00</th>\n",
       "      <td>0.778085</td>\n",
       "      <td>0.944538</td>\n",
       "      <td>0.216968</td>\n",
       "      <td>0.489333</td>\n",
       "      <td>0.500444</td>\n",
       "      <td>1.000000</td>\n",
       "      <td>0.000000</td>\n",
       "      <td>0.988908</td>\n",
       "      <td>0.105143</td>\n",
       "      <td>-1</td>\n",
       "    </tr>\n",
       "  </tbody>\n",
       "</table>\n",
       "<p>1387 rows × 10 columns</p>\n",
       "</div>"
      ],
      "text/plain": [
       "                                  0         1         2         3         4  \\\n",
       "Date_Time                                                                     \n",
       "2013-01-02 15:00:00-05:00  0.390854  0.826284  0.199852  0.508756  0.504133   \n",
       "2013-01-03 15:00:00-05:00  0.766445  1.000000  0.586159  0.943148  0.943148   \n",
       "2013-01-04 15:00:00-05:00  0.096991  1.000000  0.000000  0.631825  0.632902   \n",
       "2013-01-07 15:00:00-05:00  0.078908  0.468290  0.000000  0.337985  0.337655   \n",
       "2013-01-08 15:00:00-05:00  0.000000  0.748026  0.000000  0.685708  0.685012   \n",
       "...                             ...       ...       ...       ...       ...   \n",
       "2018-07-26 15:00:00-04:00  0.117785  0.779641  0.000000  0.500333  0.492980   \n",
       "2018-07-27 15:00:00-04:00  0.378094  0.888481  0.000000  0.861922  0.845986   \n",
       "2018-07-30 15:00:00-04:00  0.307187  0.954621  0.000000  0.892212  0.903560   \n",
       "2018-07-31 15:00:00-04:00  0.820354  1.000000  0.359752  0.719278  0.730509   \n",
       "2018-08-01 15:00:00-04:00  0.778085  0.944538  0.216968  0.489333  0.500444   \n",
       "\n",
       "                                  5         6         7         8  9  \n",
       "Date_Time                                                             \n",
       "2013-01-02 15:00:00-05:00  1.000000  0.000000  0.629408  0.051259  1  \n",
       "2013-01-03 15:00:00-05:00  0.944016  0.000000  0.487062  0.108321 -1  \n",
       "2013-01-04 15:00:00-05:00  0.905283  0.340489  0.847693  0.043706  1  \n",
       "2013-01-07 15:00:00-05:00  1.000000  0.253843  0.984516  0.071635  1  \n",
       "2013-01-08 15:00:00-05:00  1.000000  0.344723  0.518904  0.068146  1  \n",
       "...                             ...       ...       ...       ... ..  \n",
       "2018-07-26 15:00:00-04:00  1.000000  0.345889  0.654713  0.078719 -1  \n",
       "2018-07-27 15:00:00-04:00  1.000000  0.287613  0.489824  0.109395  1  \n",
       "2018-07-30 15:00:00-04:00  1.000000  0.369722  0.483388  0.102674 -1  \n",
       "2018-07-31 15:00:00-04:00  0.786664  0.000000  0.157419  0.051675 -1  \n",
       "2018-08-01 15:00:00-04:00  1.000000  0.000000  0.988908  0.105143 -1  \n",
       "\n",
       "[1387 rows x 10 columns]"
      ]
     },
     "execution_count": 12,
     "metadata": {},
     "output_type": "execute_result"
    }
   ],
   "source": [
    "# Flip labels for Hinge loss function\n",
    "labels = dataset[9]\n",
    "labels[labels == 0] = -1\n",
    "dataset[9] = labels\n",
    "dataset"
   ]
  },
  {
   "cell_type": "code",
   "execution_count": 13,
   "metadata": {},
   "outputs": [],
   "source": [
    "dataset = tf.cast(dataset, tf.float32)\n",
    "\n",
    "# Split into Train/Val/Test\n",
    "n = len(dataset)\n",
    "train_df = dataset[:1200]\n",
    "val_df = dataset[1200:1300]\n",
    "test_df = dataset[1300:]\n",
    "\n",
    "# Split into features/labels\n",
    "train_x, train_y = train_df[:, :NUM_FEATURES], train_df[:,NUM_FEATURES:]\n",
    "val_x, val_y =  val_df[:, :NUM_FEATURES], val_df[:,NUM_FEATURES:]\n",
    "test_x, test_y =  test_df[:, :NUM_FEATURES], test_df[:,NUM_FEATURES:]"
   ]
  },
  {
   "cell_type": "code",
   "execution_count": 247,
   "metadata": {
    "scrolled": false
   },
   "outputs": [],
   "source": [
    "\n",
    "def batches(x, y, batch_size):\n",
    "    return [(batch, x[batch*batch_size:(batch+1)*batch_size], y[batch*batch_size:(batch+1)*batch_size]) for batch in range(int(len(x) / batch_size))]\n",
    "\n",
    "\n",
    "def roundTan(x):\n",
    "    x = tf.nn.tanh(mlmodel(x))\n",
    "    x = tf.where(x < 0, -1., x)\n",
    "    x = tf.where(x > 0, 1., x)\n",
    "    return x\n",
    "\n",
    "def train(mlmodel, epochs=100000, _callbacks=[]):\n",
    "    \n",
    "    callbacks = tf.keras.callbacks.CallbackList(_callbacks, add_history=True, model=mlmodel)\n",
    "    \n",
    "    lr_schedule = tf.keras.optimizers.schedules.InverseTimeDecay(\n",
    "      0.001,\n",
    "      decay_steps=1000,\n",
    "      decay_rate=1,\n",
    "      staircase=False)\n",
    "\n",
    "    optimizer = tf.keras.optimizers.Adam()\n",
    "    loss_fn = tf.keras.losses.SquaredHinge()\n",
    "    metric = tf.keras.losses.MeanSquaredError()\n",
    "    accuracyMetric = tf.keras.metrics.Accuracy()\n",
    "    val_accuracyMetric = tf.keras.metrics.Accuracy()\n",
    "    \n",
    "    @tf.function  # Make it fast.\n",
    "    def train_on_batch(x, y):\n",
    "        with tf.GradientTape() as tape:\n",
    "                        \n",
    "            loss = loss_fn(y_pred=tf.nn.tanh(mlmodel(x, training=True)), y_true=y) \n",
    "            regularization_loss=tf.add_n(mlmodel.losses)\n",
    "            loss = loss# + regularization_loss\n",
    "            \n",
    "            #binary_cross_entropy = metric(y_pred=y_pred, y_true=y) \n",
    "            \n",
    "            #val_binary_cross_entropy = metric(y_pred=val_y_pred, y_true=val_y)\n",
    "            val_loss = loss_fn(y_pred=tf.nn.tanh(mlmodel(val_x)), y_true=val_y) \n",
    "            \n",
    "            accuracy = accuracyMetric(y_pred=roundTan(x), y_true=y)\n",
    "            val_accuracy = val_accuracyMetric(y_pred=roundTan(val_x), y_true=val_y)\n",
    "            \n",
    "            gradients = tape.gradient(loss, mlmodel.trainable_weights)\n",
    "        optimizer.apply_gradients(zip(gradients, mlmodel.trainable_weights))\n",
    "        return {\n",
    "            \"loss\":loss, \n",
    "            \"val_loss\": val_loss, \n",
    "            #\"metric\":binary_cross_entropy, \n",
    "            #\"val_metric\":val_binary_cross_entropy, \n",
    "            \"bob\": accuracy,\n",
    "            \"val_bob\": val_accuracy,\n",
    "            \"regularization_loss\":regularization_loss}\n",
    "\n",
    "\n",
    "    logs = {}\n",
    "    mlmodel.stop_training = False\n",
    "\n",
    "    \n",
    "    callbacks.on_train_begin(logs=logs)\n",
    "\n",
    "    # Format training loop\n",
    "    for epoch in range(epochs):\n",
    "\n",
    "        callbacks.on_epoch_begin(epoch, logs=logs)\n",
    "        #mlmodel.reset_states() # Not needed?\n",
    "\n",
    "        for batch, batch_x, batch_y in batches(train_x, train_y, 400):\n",
    "\n",
    "            callbacks.on_batch_begin(batch, logs=logs)\n",
    "            callbacks.on_train_batch_begin(batch, logs=logs)\n",
    "\n",
    "            logs = train_on_batch(batch_x, batch_y)\n",
    "\n",
    "            callbacks.on_train_batch_end(batch, logs=logs)\n",
    "            callbacks.on_batch_end(batch, logs=logs)\n",
    "\n",
    "        callbacks.on_epoch_end(epoch, logs=logs)\n",
    "\n",
    "        if epoch % 100 == 0:\n",
    "            accuracy = tf.keras.metrics.Accuracy()(roundTan(train_x), train_y)\n",
    "            val_accuracy = tf.keras.metrics.Accuracy()(roundTan(val_x), val_y)\n",
    "            print(f'Step {epoch} - Training Loss: {logs[\"loss\"]}, Val Loss: {logs[\"val_loss\"]}, Accuracy: {logs[\"bob\"]}, Val Accuracy: {logs[\"val_bob\"]}')\n",
    "\n",
    "        if mlmodel.stop_training:\n",
    "            print(f'Step {epoch} - Training Loss: {logs[\"loss\"]}, Val Loss: {logs[\"val_loss\"]}')\n",
    "            break\n",
    "\n",
    "    callbacks.on_train_end(logs=logs)\n",
    "\n",
    "    # Fetch the history object we normally get from keras.fit\n",
    "    history_object = None\n",
    "    for cb in callbacks:\n",
    "        if isinstance(cb, tf.keras.callbacks.History):\n",
    "            history_object = cb\n",
    "    assert history_object is not None\n",
    "    \n",
    "    return history_object"
   ]
  },
  {
   "cell_type": "code",
   "execution_count": 248,
   "metadata": {},
   "outputs": [],
   "source": [
    "TOTAL_EPOCHS = 3000\n",
    "\n",
    "earlyStopping = tf.keras.callbacks.EarlyStopping(monitor='val_bob', mode='max', verbose=1, start_from_epoch=500, patience=1000, restore_best_weights=True)\n",
    "# Set up callbacks\n",
    "callbacks = [earlyStopping]\n"
   ]
  },
  {
   "cell_type": "code",
   "execution_count": 249,
   "metadata": {},
   "outputs": [],
   "source": [
    "histories = {}"
   ]
  },
  {
   "cell_type": "code",
   "execution_count": 250,
   "metadata": {
    "scrolled": false
   },
   "outputs": [
    {
     "name": "stdout",
     "output_type": "stream",
     "text": [
      "Step 0 - Training Loss: 1.0642259120941162, Val Loss: 1.0191850662231445, Accuracy: 0.47833332419395447, Val Accuracy: 0.49666666984558105\n",
      "Step 100 - Training Loss: 0.8504772782325745, Val Loss: 1.0394558906555176, Accuracy: 0.6100494861602783, Val Accuracy: 0.5086468458175659\n",
      "Step 200 - Training Loss: 0.6841992735862732, Val Loss: 1.2160450220108032, Accuracy: 0.6712852120399475, Val Accuracy: 0.5017578601837158\n",
      "Step 300 - Training Loss: 0.5805940628051758, Val Loss: 1.3182487487792969, Accuracy: 0.712992787361145, Val Accuracy: 0.4972757399082184\n",
      "Step 400 - Training Loss: 0.4860297441482544, Val Loss: 1.357515573501587, Accuracy: 0.7452285885810852, Val Accuracy: 0.4944306015968323\n",
      "Step 500 - Training Loss: 0.4120748043060303, Val Loss: 1.4150766134262085, Accuracy: 0.7712275385856628, Val Accuracy: 0.49567532539367676\n",
      "Step 600 - Training Loss: 0.4084605276584625, Val Loss: 1.567192792892456, Accuracy: 0.7929866909980774, Val Accuracy: 0.4968996047973633\n",
      "Step 700 - Training Loss: 0.31433922052383423, Val Loss: 1.5648002624511719, Accuracy: 0.8108595013618469, Val Accuracy: 0.4974370002746582\n",
      "Step 800 - Training Loss: 0.282611608505249, Val Loss: 1.5848394632339478, Accuracy: 0.8255753517150879, Val Accuracy: 0.49818143248558044\n",
      "Step 900 - Training Loss: 0.261019766330719, Val Loss: 1.5488195419311523, Accuracy: 0.8395042419433594, Val Accuracy: 0.4991527795791626\n",
      "Step 1000 - Training Loss: 0.21148552000522614, Val Loss: 1.6034655570983887, Accuracy: 0.8505020141601562, Val Accuracy: 0.501135528087616\n",
      "Step 1100 - Training Loss: 0.18611881136894226, Val Loss: 1.5810012817382812, Accuracy: 0.859636664390564, Val Accuracy: 0.5035240650177002\n",
      "Step 1200 - Training Loss: 0.16071410477161407, Val Loss: 1.5620492696762085, Accuracy: 0.8688440322875977, Val Accuracy: 0.5066083669662476\n",
      "Step 1300 - Training Loss: 0.15800943970680237, Val Loss: 1.562574863433838, Accuracy: 0.8757724761962891, Val Accuracy: 0.5094311833381653\n",
      "Step 1400 - Training Loss: 0.13631410896778107, Val Loss: 1.589668869972229, Accuracy: 0.8831518888473511, Val Accuracy: 0.5131929516792297\n",
      "Step 1500 - Training Loss: 0.13360999524593353, Val Loss: 1.6092283725738525, Accuracy: 0.889392614364624, Val Accuracy: 0.5156207084655762\n",
      "Step 1600 - Training Loss: 0.11938197910785675, Val Loss: 1.5995815992355347, Accuracy: 0.8951785564422607, Val Accuracy: 0.5181344747543335\n",
      "Step 1700 - Training Loss: 0.10356730222702026, Val Loss: 1.6100856065750122, Accuracy: 0.900222897529602, Val Accuracy: 0.5202332139015198\n",
      "Step 1800 - Training Loss: 0.19939982891082764, Val Loss: 1.532641887664795, Accuracy: 0.9045822024345398, Val Accuracy: 0.5223560929298401\n",
      "Step 1900 - Training Loss: 0.14174412190914154, Val Loss: 1.5487074851989746, Accuracy: 0.9079751968383789, Val Accuracy: 0.5241557359695435\n",
      "Step 2000 - Training Loss: 0.07948481291532516, Val Loss: 1.614249587059021, Accuracy: 0.9106130003929138, Val Accuracy: 0.5254056453704834\n",
      "Step 2100 - Training Loss: 0.07042105495929718, Val Loss: 1.575197696685791, Accuracy: 0.9143118262290955, Val Accuracy: 0.5267348885536194\n",
      "Step 2200 - Training Loss: 0.06737171113491058, Val Loss: 1.5759611129760742, Accuracy: 0.9177086353302002, Val Accuracy: 0.5277207493782043\n",
      "Step 2300 - Training Loss: 0.06419020146131516, Val Loss: 1.5618268251419067, Accuracy: 0.9208492636680603, Val Accuracy: 0.5287367701530457\n",
      "Step 2400 - Training Loss: 0.061377301812171936, Val Loss: 1.556534767150879, Accuracy: 0.9237293601036072, Val Accuracy: 0.5301443934440613\n",
      "Step 2500 - Training Loss: 0.0618361197412014, Val Loss: 1.5245062112808228, Accuracy: 0.9263771176338196, Val Accuracy: 0.5315540432929993\n",
      "Step 2600 - Training Loss: 0.05712597817182541, Val Loss: 1.576921820640564, Accuracy: 0.928152322769165, Val Accuracy: 0.5326964259147644\n",
      "Step 2700 - Training Loss: 0.05288482829928398, Val Loss: 1.5587676763534546, Accuracy: 0.9304420948028564, Val Accuracy: 0.5333370566368103\n",
      "Step 2800 - Training Loss: 0.049207743257284164, Val Loss: 1.5578912496566772, Accuracy: 0.9325684309005737, Val Accuracy: 0.5344020128250122\n",
      "Step 2900 - Training Loss: 0.04680251702666283, Val Loss: 1.571377158164978, Accuracy: 0.9345740079879761, Val Accuracy: 0.5355796813964844\n"
     ]
    }
   ],
   "source": [
    "NUM_LABELS = 1\n",
    "HIDDEN_UNITS = 64\n",
    "\n",
    "# Prepare our layer, loss, and optimizer.\n",
    "mlmodel = tf.keras.Sequential(\n",
    "    [\n",
    "        tf.keras.layers.Dense(HIDDEN_UNITS, kernel_initializer='he_uniform', kernel_regularizer=tf.keras.regularizers.l2(0.001), activation=\"relu\"),\n",
    "        tf.keras.layers.Dense(HIDDEN_UNITS, kernel_initializer='he_uniform', kernel_regularizer=tf.keras.regularizers.l2(0.001), activation=\"relu\"),\n",
    "        tf.keras.layers.Dense(HIDDEN_UNITS, kernel_initializer='he_uniform', kernel_regularizer=tf.keras.regularizers.l2(0.001), activation=\"relu\"),\n",
    "        tf.keras.layers.Dense(HIDDEN_UNITS, kernel_initializer='he_uniform', kernel_regularizer=tf.keras.regularizers.l2(0.001), activation=\"relu\"),\n",
    "        #tf.keras.layers.Dropout(0.5),\n",
    "        tf.keras.layers.Dense(NUM_LABELS),\n",
    "    ]\n",
    ")\n",
    "\n",
    "histories[\"64x4\"] = train(mlmodel, TOTAL_EPOCHS, callbacks)"
   ]
  },
  {
   "cell_type": "code",
   "execution_count": null,
   "metadata": {},
   "outputs": [],
   "source": [
    "NUM_LABELS = 1\n",
    "HIDDEN_UNITS = 64\n",
    "\n",
    "# Prepare our layer, loss, and optimizer.\n",
    "mlmodel = tf.keras.Sequential(\n",
    "    [\n",
    "        tf.keras.layers.Dense(HIDDEN_UNITS, kernel_regularizer=tf.keras.regularizers.l2(0.001), activation=\"relu\"),\n",
    "        tf.keras.layers.Dropout(0.5),\n",
    "        tf.keras.layers.Dense(HIDDEN_UNITS, kernel_regularizer=tf.keras.regularizers.l2(0.001), activation=\"relu\"),\n",
    "        tf.keras.layers.Dropout(0.5),\n",
    "        tf.keras.layers.Dense(HIDDEN_UNITS, kernel_regularizer=tf.keras.regularizers.l2(0.001), activation=\"relu\"),\n",
    "        tf.keras.layers.Dropout(0.5),\n",
    "        tf.keras.layers.Dense(HIDDEN_UNITS, kernel_regularizer=tf.keras.regularizers.l2(0.001), activation=\"relu\"),\n",
    "        tf.keras.layers.Dropout(0.5),\n",
    "        tf.keras.layers.Dense(NUM_LABELS),\n",
    "    ]\n",
    ")\n",
    "\n",
    "histories[\"64x4+DO\"] = train(mlmodel, TOTAL_EPOCHS, callbacks)"
   ]
  },
  {
   "cell_type": "code",
   "execution_count": 267,
   "metadata": {},
   "outputs": [
    {
     "data": {
      "text/plain": [
       "Text(0.5, 0, 'Epochs')"
      ]
     },
     "execution_count": 267,
     "metadata": {},
     "output_type": "execute_result"
    },
    {
     "data": {
      "image/png": "[encoded data removed]",
      "text/plain": [
       "<Figure size 1000x1500 with 2 Axes>"
      ]
     },
     "metadata": {},
     "output_type": "display_data"
    }
   ],
   "source": [
    "plt.rcParams['figure.figsize'] = [10, 15]\n",
    "\n",
    "# PLOT histories\n",
    "plt.subplot(211)\n",
    "plotter = tfdocs.plots.HistoryPlotter(metric = 'loss', smoothing_std=10).plot(histories)\n",
    "a = plt.xscale('log')\n",
    "plt.xlim([5, max(plt.xlim())])\n",
    "#plt.ylim([0.690, 0.705])\n",
    "plt.xlabel(\"Epochs\")\n",
    "\n",
    "plt.subplot(212)\n",
    "plotter = tfdocs.plots.HistoryPlotter(metric = 'bob', smoothing_std=10).plot(histories)\n",
    "#plotter.plot(histories)\n",
    "a = plt.xscale('log')\n",
    "plt.xlim([5, max(plt.xlim())])\n",
    "#plt.ylim([0.5, 0.55])\n",
    "plt.xlabel(\"Epochs\")\n",
    "\n",
    "\n",
    "\n"
   ]
  },
  {
   "cell_type": "code",
   "execution_count": 194,
   "metadata": {},
   "outputs": [],
   "source": [
    "histories[\"64x4\"].validation_data"
   ]
  },
  {
   "cell_type": "code",
   "execution_count": 257,
   "metadata": {
    "scrolled": false
   },
   "outputs": [
    {
     "data": {
      "text/plain": [
       "<tf.Tensor: shape=(), dtype=float32, numpy=0.57>"
      ]
     },
     "execution_count": 257,
     "metadata": {},
     "output_type": "execute_result"
    }
   ],
   "source": [
    "tf.keras.metrics.Accuracy()(roundTan(val_x), val_y)"
   ]
  },
  {
   "cell_type": "code",
   "execution_count": 259,
   "metadata": {
    "scrolled": true
   },
   "outputs": [
    {
     "name": "stdout",
     "output_type": "stream",
     "text": [
      "Won : 1189.0\n",
      "Lost : 11.0\n",
      "Total : 1200.0\n",
      "Diff : 1178.0\n",
      "Edge : 98.16666666666667%\n",
      "Information Coefficient : 0.9816666841506958\n"
     ]
    },
    {
     "data": {
      "text/plain": [
       "0.99083334"
      ]
     },
     "execution_count": 259,
     "metadata": {},
     "output_type": "execute_result"
    }
   ],
   "source": [
    "mlutils.evaluate(ppl.onehot(toSigmoid(tf.nn.tanh(mlmodel(train_x))).numpy()), ppl.onehot(train_y.numpy()), threshold=0.5)"
   ]
  },
  {
   "cell_type": "code",
   "execution_count": 260,
   "metadata": {},
   "outputs": [
    {
     "name": "stdout",
     "output_type": "stream",
     "text": [
      "Won : 57.0\n",
      "Lost : 43.0\n",
      "Total : 100.0\n",
      "Diff : 14.0\n",
      "Edge : 14.0%\n",
      "Information Coefficient : 0.13999998569488525\n"
     ]
    },
    {
     "data": {
      "text/plain": [
       "0.57"
      ]
     },
     "execution_count": 260,
     "metadata": {},
     "output_type": "execute_result"
    }
   ],
   "source": [
    "mlutils.evaluate(ppl.onehot(toSigmoid(tf.nn.tanh(mlmodel(val_x))).numpy()), ppl.onehot(val_y.numpy()), threshold=0.5)"
   ]
  },
  {
   "cell_type": "code",
   "execution_count": 266,
   "metadata": {},
   "outputs": [
    {
     "name": "stdout",
     "output_type": "stream",
     "text": [
      "Won : 47.0\n",
      "Lost : 40.0\n",
      "Total : 87.0\n",
      "Diff : 7.0\n",
      "Edge : 8.045977011494253%\n",
      "Information Coefficient : 0.08045971393585205\n"
     ]
    },
    {
     "data": {
      "text/plain": [
       "0.54022986"
      ]
     },
     "execution_count": 266,
     "metadata": {},
     "output_type": "execute_result"
    }
   ],
   "source": [
    "mlutils.evaluate(ppl.onehot(toSigmoid(tf.nn.tanh(mlmodel(test_x))).numpy()), ppl.onehot(test_y.numpy()), threshold=.50)"
   ]
  },
  {
   "cell_type": "code",
   "execution_count": 32,
   "metadata": {},
   "outputs": [
    {
     "data": {
      "text/plain": [
       "<tf.Tensor: shape=(), dtype=float32, numpy=0.69821477>"
      ]
     },
     "execution_count": 32,
     "metadata": {},
     "output_type": "execute_result"
    }
   ],
   "source": [
    "tf.keras.losses.BinaryCrossentropy(from_logits=True)(y_pred=mlmodel(val_x), y_true=val_y)"
   ]
  },
  {
   "cell_type": "code",
   "execution_count": 258,
   "metadata": {},
   "outputs": [],
   "source": [
    "def toSigmoid(x):\n",
    "    return tf.where(x<0, 0., 1.)"
   ]
  },
  {
   "cell_type": "code",
   "execution_count": 263,
   "metadata": {},
   "outputs": [
    {
     "name": "stdout",
     "output_type": "stream",
     "text": [
      "WARNING:tensorflow:Compiled the loaded model, but the compiled metrics have yet to be built. `model.compile_metrics` will be empty until you train or evaluate the model.\n",
      "INFO:tensorflow:Assets written to: great_model/assets\n"
     ]
    }
   ],
   "source": [
    "mlmodel.save(\"great_model\")"
   ]
  },
  {
   "cell_type": "code",
   "execution_count": 264,
   "metadata": {},
   "outputs": [
    {
     "name": "stdout",
     "output_type": "stream",
     "text": [
      "WARNING:tensorflow:No training configuration found in save file, so the model was *not* compiled. Compile it manually.\n"
     ]
    }
   ],
   "source": [
    "mymodel = tf.keras.models.load_model('great_model')"
   ]
  },
  {
   "cell_type": "code",
   "execution_count": null,
   "metadata": {},
   "outputs": [],
   "source": []
  }
 ],
 "metadata": {
  "kernelspec": {
   "display_name": "dev3.9",
   "language": "python",
   "name": "dev3.9"
  },
  "language_info": {
   "codemirror_mode": {
    "name": "ipython",
    "version": 3
   },
   "file_extension": ".py",
   "mimetype": "text/x-python",
   "name": "python",
   "nbconvert_exporter": "python",
   "pygments_lexer": "ipython3",
   "version": "3.9.12"
  }
 },
 "nbformat": 4,
 "nbformat_minor": 2
}
