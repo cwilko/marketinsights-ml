{
 "cells": [
  {
   "cell_type": "code",
   "execution_count": 54,
   "metadata": {
    "collapsed": true
   },
   "outputs": [],
   "source": [
    "import tensorflow as tf\n",
    "import numpy as np\n",
    "import pandas\n",
    "import os\n",
    "import matplotlib.pyplot as plt\n",
    "\n",
    "%matplotlib inline\n",
    "\n",
    "def featureNormalise(X):\n",
    "    mu = np.mean(X,0)\n",
    "    sigma = np.std(X,0, ddof=1)\n",
    "    return ((X - mu) / sigma), mu, sigma\n",
    "\n",
    "def mapFeatures(x1, x2):\n",
    "    degree = 6;\n",
    "    out = np.ones([x1.shape[0],1]);\n",
    "    for i in range(1, degree+1):\n",
    "        for j in range(0, i+1):\n",
    "            out = np.hstack((out,np.array((x1**(i-j)) * (x2**j)).reshape(x1.shape[0],1)))\n",
    "    return out\n",
    "\n",
    "\n",
    "## Load Training data\n",
    "dataset = pandas.read_csv(\"data/ex4data1_X.csv\", header=None)\n",
    "labels = pandas.read_csv(\"data/ex4data1_y.csv\", header=None)\n",
    "\n",
    "m,n = dataset.shape\n",
    "X = dataset.values.reshape(m,n).astype(np.float32)\n",
    "y_raw = labels.values.ravel() - 1\n",
    "\n",
    "y = np.zeros([m, 10]).astype(np.float32)\n",
    "for i in range(0,m):\n",
    "    y[i,y_raw[i]] = 1.\n",
    "\n",
    "## Load Validation and Test data\n",
    "\n",
    "## Normalise\n",
    "x_norm = X#, mu, sigma = featureNormalise(X)\n",
    "\n",
    "# Add bias\n",
    "x_with_bias = np.hstack((np.ones((x_norm.shape[0],1)),x_norm)).astype(np.float32)\n",
    "#x_with_bias = mapFeatures(x_norm[:,0], x_norm[:,1]).astype(np.float32)\n",
    "#m,n = x_with_bias.shape"
   ]
  },
  {
   "cell_type": "code",
   "execution_count": 55,
   "metadata": {},
   "outputs": [
    {
     "name": "stdout",
     "output_type": "stream",
     "text": [
      "Done\n"
     ]
    }
   ],
   "source": [
    "\n",
    "# We'll bundle groups of examples during training for efficiency.\n",
    "# This defines the size of the batch.\n",
    "BATCH_SIZE = m\n",
    "HIDDEN_UNITS = 25\n",
    "NUM_FEATURES = n \n",
    "NUM_LABELS = 10\n",
    "# The random seed that defines initialization.\n",
    "SEED = 42\n",
    "\n",
    "# This is where training samples and labels are fed to the graph.\n",
    "# These placeholder nodes will be fed a batch of training data at each\n",
    "# training step, which we'll write once we define the graph structure.\n",
    "train_data_node = tf.placeholder(tf.float32, shape=(BATCH_SIZE, NUM_FEATURES+1))\n",
    "train_labels_node = tf.placeholder(tf.float32, shape=(BATCH_SIZE, NUM_LABELS))\n",
    "\n",
    "# The variables below hold all the trainable weights. For each, the\n",
    "# parameter defines how the variables will be initialized. \n",
    "# TODO : These should be pulled from a config file\n",
    "\n",
    "Theta1 = tf.Variable( tf.truncated_normal([HIDDEN_UNITS, (NUM_FEATURES+1)], stddev=0.1, seed=SEED))\n",
    "\n",
    "Theta2 = tf.Variable( tf.truncated_normal([NUM_LABELS, HIDDEN_UNITS],stddev=0.1, seed=SEED))\n",
    "bias2 = tf.Variable(tf.constant(0.1, shape=[NUM_LABELS]))\n",
    "    \n",
    "print('Done')"
   ]
  },
  {
   "cell_type": "code",
   "execution_count": 56,
   "metadata": {},
   "outputs": [
    {
     "name": "stdout",
     "output_type": "stream",
     "text": [
      "Done\n"
     ]
    }
   ],
   "source": [
    "def model(X, Theta1, Theta2, bias):\n",
    "    \"\"\"The Model definition.\"\"\"\n",
    "    # Perceptron\n",
    "    \n",
    "    layer1 = tf.nn.sigmoid(tf.matmul(X, tf.transpose(Theta1)))\n",
    "                        \n",
    "    output = tf.nn.bias_add(tf.matmul(layer1, tf.transpose(Theta2)),bias)\n",
    "\n",
    "    return output\n",
    "    \n",
    "print('Done')"
   ]
  },
  {
   "cell_type": "code",
   "execution_count": 57,
   "metadata": {},
   "outputs": [
    {
     "name": "stdout",
     "output_type": "stream",
     "text": [
      "Done\n"
     ]
    }
   ],
   "source": [
    "yhat = model(train_data_node, Theta1, Theta2, bias2)\n",
    "\n",
    "# Change the weights by subtracting derivative with respect to that weight\n",
    "loss = tf.reduce_mean(tf.nn.sigmoid_cross_entropy_with_logits(labels=y, logits=yhat))\n",
    "\n",
    "# Optimizer: \n",
    "\n",
    "# Gradient Descent\n",
    "# NOTE: With GD, the learning rate has to be cranked massively to get decent performance!\n",
    "update_weights = tf.train.GradientDescentOptimizer(20).minimize(loss)\n",
    "\n",
    "# Predictions\n",
    "train_prediction = yhat\n",
    "\n",
    "print('Done')"
   ]
  },
  {
   "cell_type": "code",
   "execution_count": 58,
   "metadata": {
    "collapsed": true
   },
   "outputs": [],
   "source": [
    "# Create a new interactive session that we'll use in\n",
    "# subsequent code cells.\n",
    "s = tf.InteractiveSession()\n",
    "\n",
    "# Use our newly created session as the default for \n",
    "# subsequent operations.\n",
    "s.as_default()\n",
    "\n",
    "# Initialize all the variables we defined above.\n",
    "tf.global_variables_initializer().run()"
   ]
  },
  {
   "cell_type": "code",
   "execution_count": 59,
   "metadata": {},
   "outputs": [
    {
     "name": "stdout",
     "output_type": "stream",
     "text": [
      "Done\n"
     ]
    }
   ],
   "source": [
    "#################\n",
    "##### Train #####\n",
    "#################\n",
    "\n",
    "# Keep track of the loss at each iteration so we can chart it later\n",
    "losses = []\n",
    "\n",
    "# How many iterations to run our training\n",
    "training_steps = 3000\n",
    "\n",
    "# Feed the entire batch\n",
    "# Grab the first BATCH_SIZE examples and labels.\n",
    "batch_data = x_with_bias[:BATCH_SIZE,:]\n",
    "batch_labels = y[:BATCH_SIZE,:]\n",
    "\n",
    "# This dictionary maps the batch data (as a numpy array) to the\n",
    "# node in the graph it should be fed to.\n",
    "feed_dict = {train_data_node: batch_data,\n",
    "             train_labels_node: batch_labels}\n",
    "\n",
    "for _ in range(training_steps):\n",
    "    \n",
    "    \n",
    "    # Run the graph and fetch some of the nodes.\n",
    "    betas, l, predictions = s.run(\n",
    "        [update_weights, loss, train_prediction],\n",
    "        feed_dict=feed_dict)\n",
    "    \n",
    "    # Print out the loss periodically.\n",
    "    losses.append(l)\n",
    "\n",
    "\n",
    "print('Done')"
   ]
  },
  {
   "cell_type": "code",
   "execution_count": 60,
   "metadata": {
    "collapsed": true
   },
   "outputs": [],
   "source": [
    "predictions = s.run(train_prediction, feed_dict=feed_dict)\n"
   ]
  },
  {
   "cell_type": "code",
   "execution_count": 61,
   "metadata": {},
   "outputs": [
    {
     "data": {
      "text/plain": [
       "0.996"
      ]
     },
     "execution_count": 61,
     "metadata": {},
     "output_type": "execute_result"
    }
   ],
   "source": [
    "a = np.argmax(predictions,axis=1) \n",
    "np.sum(a == y_raw) / np.float32(5000)"
   ]
  },
  {
   "cell_type": "code",
   "execution_count": 62,
   "metadata": {
    "scrolled": true
   },
   "outputs": [
    {
     "data": {
      "image/png": "[encoded data removed]",
      "text/plain": [
       "<matplotlib.figure.Figure at 0x7fdad8185790>"
      ]
     },
     "metadata": {},
     "output_type": "display_data"
    }
   ],
   "source": [
    "# Show the fit and the loss over time.\n",
    "fig, (ax1) = plt.subplots(1, 1)\n",
    "plt.subplots_adjust(wspace=.3)\n",
    "fig.set_size_inches(10, 4)\n",
    "\n",
    "ax1.plot(range(0, len(losses)), np.array(losses).ravel())\n",
    "ax1.set_ylabel(\"Loss\")\n",
    "ax1.set_xlabel(\"Training steps\")\n",
    "plt.show()"
   ]
  },
  {
   "cell_type": "code",
   "execution_count": null,
   "metadata": {
    "collapsed": true
   },
   "outputs": [],
   "source": []
  },
  {
   "cell_type": "code",
   "execution_count": null,
   "metadata": {
    "collapsed": true
   },
   "outputs": [],
   "source": []
  },
  {
   "cell_type": "code",
   "execution_count": null,
   "metadata": {
    "collapsed": true
   },
   "outputs": [],
   "source": []
  }
 ],
 "metadata": {
  "kernelspec": {
   "display_name": "Python 2",
   "language": "python",
   "name": "python2"
  },
  "language_info": {
   "codemirror_mode": {
    "name": "ipython",
    "version": 2
   },
   "file_extension": ".py",
   "mimetype": "text/x-python",
   "name": "python",
   "nbconvert_exporter": "python",
   "pygments_lexer": "ipython2",
   "version": "2.7.12"
  }
 },
 "nbformat": 4,
 "nbformat_minor": 2
}
