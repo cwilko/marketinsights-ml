{
 "cells": [
  {
   "cell_type": "code",
   "execution_count": 1,
   "metadata": {
    "collapsed": true
   },
   "outputs": [],
   "source": [
    "import tensorflow as tf\n",
    "import numpy as np\n",
    "import pandas\n",
    "import os\n",
    "import matplotlib.pyplot as plt\n",
    "\n",
    "%matplotlib inline\n",
    "\n",
    "def featureNormalise(X):\n",
    "    mu = np.mean(X,0)\n",
    "    sigma = np.std(X,0, ddof=1)\n",
    "    return ((X - mu) / sigma), mu, sigma\n",
    "\n",
    "def mapFeatures(x1, x2):\n",
    "    degree = 6;\n",
    "    out = np.ones([x1.shape[0],1]);\n",
    "    for i in range(1, degree+1):\n",
    "        for j in range(0, i+1):\n",
    "            out = np.hstack((out,np.array((x1**(i-j)) * (x2**j)).reshape(x1.shape[0],1)))\n",
    "    return out\n",
    "\n",
    "\n",
    "## Load Training data\n",
    "dataset = pandas.read_csv(\"data/ex4data1_X.csv\", header=None)\n",
    "labels = pandas.read_csv(\"data/ex4data1_y.csv\", header=None)\n",
    "\n",
    "m,n = dataset.shape\n",
    "X = dataset.values.reshape(m,n).astype(np.float32)\n",
    "y_raw = labels.values.ravel() - 1\n",
    "\n",
    "## Load Validation and Test data\n",
    "\n",
    "## Normalise - Already Normalised for this dataset\n",
    "x_norm = X#, mu, sigma = featureNormalise(X)\n",
    "\n",
    "# Add bias\n",
    "x_with_bias = np.hstack((np.ones((x_norm.shape[0],1)),x_norm)).astype(np.float32)\n",
    "#x_with_bias = mapFeatures(x_norm[:,0], x_norm[:,1]).astype(np.float32)\n",
    "#m,n = x_with_bias.shape"
   ]
  },
  {
   "cell_type": "code",
   "execution_count": 2,
   "metadata": {
    "collapsed": true
   },
   "outputs": [],
   "source": [
    "import pandas as pd\n",
    "##\n",
    "## Split (Train/Val/Test)\n",
    "##\n",
    "def split(data, train=.6, val=.2, test=.2):\n",
    "    idx = np.arange(0,len(data)) / float(len(data))\n",
    "    msk1 = data[idx<train]\n",
    "    msk2 = data[(idx>=train) & (idx<(train + val))]\n",
    "    msk3 = data[(idx>=(train+val))]\n",
    "    return [msk1.values, msk2.values, msk3.values]\n",
    "\n",
    "##\n",
    "## Shuffle data\n",
    "##\n",
    "def shuffle(data):\n",
    "    return data.sample(frac=1).reset_index(drop=True)\n",
    "\n",
    "def encode(data):\n",
    "    y = np.zeros([data.shape[0], 10]).astype(np.float32)\n",
    "    for i in range(0,data.shape[0]):\n",
    "        y[i,data[i]] = 1.\n",
    "    return y\n",
    "\n",
    "shuffled = shuffle(pd.DataFrame(np.hstack((x_with_bias,y_raw.reshape(m,1)))))\n",
    "train_X, val_X, test_X = split(shuffled)\n",
    "train_y = encode(train_X[:,-1].reshape(-1,1).astype(np.integer))\n",
    "val_y = encode(val_X[:,-1].reshape(-1,1).astype(np.integer))\n",
    "test_y = encode(test_X[:,-1].reshape(-1,1).astype(np.integer))\n"
   ]
  },
  {
   "cell_type": "code",
   "execution_count": 3,
   "metadata": {
    "collapsed": false
   },
   "outputs": [
    {
     "name": "stdout",
     "output_type": "stream",
     "text": [
      "Done\n"
     ]
    }
   ],
   "source": [
    "\n",
    "# We'll bundle groups of examples during training for efficiency.\n",
    "# This defines the size of the batch.\n",
    "HIDDEN_UNITS = 25\n",
    "NUM_FEATURES = 400\n",
    "NUM_LABELS = 10\n",
    "# The random seed that defines initialization.\n",
    "SEED = 42\n",
    "\n",
    "# This is where training samples and labels are fed to the graph.\n",
    "# These placeholder nodes will be fed a batch of training data at each\n",
    "# training step, which we'll write once we define the graph structure.\n",
    "train_data_node = tf.placeholder(tf.float32, shape=(None, NUM_FEATURES+1))\n",
    "train_labels_node = tf.placeholder(tf.float32, shape=(None, NUM_LABELS))\n",
    "lam = tf.placeholder(tf.float32)\n",
    "\n",
    "# The variables below hold all the trainable weights. For each, the\n",
    "# parameter defines how the variables will be initialized. \n",
    "# TODO : These should be pulled from a config file\n",
    "\n",
    "Theta1 = tf.Variable( tf.truncated_normal([HIDDEN_UNITS, (NUM_FEATURES+1)], stddev=0.1, seed=SEED))\n",
    "\n",
    "Theta2 = tf.Variable( tf.truncated_normal([NUM_LABELS, HIDDEN_UNITS],stddev=0.1, seed=SEED))\n",
    "bias2 = tf.Variable(tf.constant(0.1, shape=[NUM_LABELS]))\n",
    "    \n",
    "print('Done')"
   ]
  },
  {
   "cell_type": "code",
   "execution_count": 4,
   "metadata": {
    "collapsed": false
   },
   "outputs": [
    {
     "name": "stdout",
     "output_type": "stream",
     "text": [
      "Done\n"
     ]
    }
   ],
   "source": [
    "def model(X, Theta1, Theta2, bias):\n",
    "    \"\"\"The Model definition.\"\"\"\n",
    "    # Perceptron\n",
    "    \n",
    "    layer1 = tf.nn.sigmoid(tf.matmul(X, tf.transpose(Theta1)))\n",
    "                        \n",
    "    output = tf.nn.bias_add(tf.matmul(layer1, tf.transpose(Theta2)),bias)\n",
    "\n",
    "    return output\n",
    "    \n",
    "print('Done')"
   ]
  },
  {
   "cell_type": "code",
   "execution_count": 5,
   "metadata": {
    "collapsed": false
   },
   "outputs": [
    {
     "name": "stdout",
     "output_type": "stream",
     "text": [
      "Done\n"
     ]
    }
   ],
   "source": [
    "yhat = model(train_data_node, Theta1, Theta2, bias2)\n",
    "\n",
    "# Change the weights by subtracting derivative with respect to that weight\n",
    "loss = tf.reduce_mean(tf.nn.sigmoid_cross_entropy_with_logits(labels=train_labels_node, logits=yhat))\n",
    "# Regularization using L2 Loss function \n",
    "regularizer = tf.nn.l2_loss(Theta1) + tf.nn.l2_loss(Theta2)\n",
    "loss_reg = loss + (lam / tf.to_float(tf.shape(train_labels_node)[0])) * regularizer\n",
    "\n",
    "# Optimizer: \n",
    "\n",
    "# Gradient Descent\n",
    "optimizer = tf.contrib.opt.ScipyOptimizerInterface(loss_reg, options={'maxiter':500})\n",
    "#update_weights = tf.train.GradientDescentOptimizer(0.1).minimize(loss)\n",
    "\n",
    "# Predictions\n",
    "train_prediction = yhat\n",
    "\n",
    "print('Done')"
   ]
  },
  {
   "cell_type": "code",
   "execution_count": 6,
   "metadata": {
    "collapsed": true
   },
   "outputs": [],
   "source": [
    "def train(feed_dict, train=True):\n",
    "    \n",
    "    #optimizer.minimize(feed_dict=feed_dict, fetches=[loss_reg], loss_callback=loss_callback)\n",
    "    if (train):\n",
    "        optimizer.minimize(feed_dict=feed_dict)\n",
    "\n",
    "    return loss.eval(feed_dict)"
   ]
  },
  {
   "cell_type": "code",
   "execution_count": 7,
   "metadata": {
    "collapsed": false
   },
   "outputs": [
    {
     "name": "stdout",
     "output_type": "stream",
     "text": [
      "Training with 0 training examples\n",
      "Training with 500 training examples\n",
      "Training with 1000 training examples\n",
      "Training with 1500 training examples\n",
      "Training with 2000 training examples\n",
      "Training with 2500 training examples\n",
      "Training with 3000 training examples\n"
     ]
    },
    {
     "data": {
      "image/png": "[encoded data removed]",
      "text/plain": [
       "<matplotlib.figure.Figure at 0x7f75ca1d3690>"
      ]
     },
     "metadata": {},
     "output_type": "display_data"
    }
   ],
   "source": [
    "###\n",
    "### LEARNING CURVES FOR TRAINING SET AND CROSS-VALIDATION SET \n",
    "###\n",
    "train_losses = []\n",
    "val_losses = []\n",
    "tf.logging.set_verbosity(tf.logging.ERROR)\n",
    "\n",
    "for i in range(0,train_X.shape[0]+1,500):\n",
    "    # Create a new interactive session that we'll use in\n",
    "    # subsequent code cells.\n",
    "    s = tf.InteractiveSession()\n",
    "\n",
    "    # Initialize all the variables we defined above.\n",
    "    tf.global_variables_initializer().run()\n",
    "    \n",
    "    myLam = 0.1\n",
    "\n",
    "    print(\"Training with %s training examples\" % i)\n",
    "    train_losses.append(train({train_data_node: train_X[:i,:NUM_FEATURES+1], train_labels_node: train_y[:i,:], lam: myLam}))\n",
    "    val_losses.append(train({train_data_node: val_X[:i,:NUM_FEATURES+1], train_labels_node: val_y[:i,:], lam: myLam}, train=False))\n",
    "\n",
    "    \n",
    "# Show the loss as the amount of data increases\n",
    "fig, (ax1) = plt.subplots(1, 1)\n",
    "plt.subplots_adjust(wspace=.3)\n",
    "fig.set_size_inches(10, 4)\n",
    "\n",
    "x = np.array(range(0, len(val_losses))) *500\n",
    "ax1.plot(x, np.array(train_losses).ravel())\n",
    "ax1.plot(x, np.array(val_losses).ravel(),'r')\n",
    "ax1.set_ylabel(\"Loss\")\n",
    "ax1.set_xlabel(\"Training Examples\")\n",
    "plt.show()"
   ]
  },
  {
   "cell_type": "code",
   "execution_count": 8,
   "metadata": {
    "collapsed": false
   },
   "outputs": [
    {
     "name": "stdout",
     "output_type": "stream",
     "text": [
      "Training with lambda : 0.0\n",
      "Training with lambda : 0.001\n",
      "Training with lambda : 0.003\n",
      "Training with lambda : 0.01\n",
      "Training with lambda : 0.03\n",
      "Training with lambda : 0.1\n",
      "Training with lambda : 0.3\n",
      "Training with lambda : 1.0\n",
      "Training with lambda : 3.0\n",
      "Training with lambda : 10.0\n",
      "Optimal value for lambda is 0.1\n"
     ]
    },
    {
     "data": {
      "image/png": "[encoded data removed]",
      "text/plain": [
       "<matplotlib.figure.Figure at 0x7f75ca8296d0>"
      ]
     },
     "metadata": {},
     "output_type": "display_data"
    }
   ],
   "source": [
    "###\n",
    "### VALIDATION CURVES FOR OPTIMISING TO VALIDATION SET\n",
    "###\n",
    "train_losses = []\n",
    "val_losses = []\n",
    "tf.logging.set_verbosity(tf.logging.ERROR)\n",
    "\n",
    "lams = [0.0, 0.001, 0.003, 0.01, 0.03, 0.1, 0.3, 1.0, 3.0, 10.0]\n",
    "\n",
    "for i in lams:\n",
    "    # Create a new interactive session that we'll use in\n",
    "    # subsequent code cells.\n",
    "    s = tf.InteractiveSession()\n",
    "\n",
    "    # Initialize all the variables we defined above.\n",
    "    tf.global_variables_initializer().run()\n",
    "    \n",
    "    print(\"Training with lambda : %s\" % i)\n",
    "    \n",
    "    train_losses.append(train({train_data_node: train_X[:,:NUM_FEATURES+1], train_labels_node: train_y[:,:], lam: i}))\n",
    "    val_losses.append(train({train_data_node: val_X[:,:NUM_FEATURES+1], train_labels_node: val_y[:,:], lam: i}, train=False))\n",
    "\n",
    "lam_opt = lams[np.argmin(val_losses)]\n",
    "print(\"Optimal value for lambda is %s\" % lam_opt)\n",
    "    \n",
    "# Show the loss as the value of lambda changes\n",
    "fig, (ax1) = plt.subplots(1, 1)\n",
    "plt.subplots_adjust(wspace=.3)\n",
    "fig.set_size_inches(10, 4)\n",
    "\n",
    "ax1.plot(lams, np.array(train_losses).ravel())\n",
    "ax1.plot(lams, np.array(val_losses).ravel(),'r')\n",
    "ax1.plot(lams[np.argmin(val_losses)], val_losses[np.argmin(val_losses)], 'x', color='black')\n",
    "ax1.set_ylabel(\"Loss\")\n",
    "ax1.set_xlabel(\"Lambda\")\n",
    "plt.show()"
   ]
  },
  {
   "cell_type": "code",
   "execution_count": 9,
   "metadata": {
    "collapsed": false
   },
   "outputs": [
    {
     "name": "stdout",
     "output_type": "stream",
     "text": [
      "Training Set accuracy : 99.67%\n",
      "Validation Set accuracy : 93.10%\n",
      "Test Set accuracy : 91.80%\n"
     ]
    }
   ],
   "source": [
    "### \n",
    "### PREDICTIONS\n",
    "###\n",
    "tf.logging.set_verbosity(tf.logging.ERROR)\n",
    "\n",
    "# Create a new interactive session that we'll use in\n",
    "# subsequent code cells.\n",
    "s = tf.InteractiveSession()\n",
    "\n",
    "# Initialize all the variables we defined above.\n",
    "tf.global_variables_initializer().run()\n",
    "\n",
    "train({train_data_node: train_X[:,:NUM_FEATURES+1], train_labels_node: train_y[:,:], lam: lam_opt})\n",
    "\n",
    "def predict(data_X, data_y, lam1):    \n",
    "    predictions = train_prediction.eval({train_data_node: data_X, train_labels_node: data_y, lam: lam1})\n",
    "    a = np.argmax(predictions,axis=1) \n",
    "    return np.float32(np.sum(a == np.argmax(data_y, axis=1)) / np.float32(data_X.shape[0]))\n",
    "    \n",
    "print(\"Training Set accuracy : %.2f%%\" % (predict(train_X, train_y, lam_opt)*100))\n",
    "print(\"Validation Set accuracy : %.2f%%\" % (predict(val_X, val_y, lam_opt)*100))\n",
    "print(\"Test Set accuracy : %.2f%%\" % (predict(test_X, test_y, lam_opt)*100))"
   ]
  },
  {
   "cell_type": "code",
   "execution_count": null,
   "metadata": {
    "collapsed": true
   },
   "outputs": [],
   "source": []
  }
 ],
 "metadata": {
  "kernelspec": {
   "display_name": "Python 2",
   "language": "python",
   "name": "python2"
  },
  "language_info": {
   "codemirror_mode": {
    "name": "ipython",
    "version": 2
   },
   "file_extension": ".py",
   "mimetype": "text/x-python",
   "name": "python",
   "nbconvert_exporter": "python",
   "pygments_lexer": "ipython2",
   "version": "2.7.13"
  }
 },
 "nbformat": 4,
 "nbformat_minor": 2
}
