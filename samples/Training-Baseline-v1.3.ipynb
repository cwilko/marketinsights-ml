{
 "cells": [
  {
   "cell_type": "code",
   "execution_count": 1,
   "metadata": {},
   "outputs": [],
   "source": [
    "# LIST OF UPDATES\n",
    "#\n",
    "# Added bias (constant) to each linear layer\n",
    "# Switched to using equivalent keras optimizer - SGD \n",
    "# Moved loss calculation to an independent function\n",
    "# Switched to defining the network as Keras layers(!)\n",
    "# Add tf.function to training loop - 10x speed increase(!)\n",
    "# Switch to calculating gradients with keras 'trainable_weight' vs tf 'variables' \n",
    "# Tried using Keras Model.fit but order of magnitude slower than custom loop!\n",
    "# Switch to train/val/test -> Showed that validation accuracy peaks at about 55% Training accuracy :(\n",
    "# Switch to MeanSquaredError as loss function (But this is not a good error for classification)\n",
    "# Add callback support to custom training loop\n",
    "# Early completion based on validation changes\n",
    "# Switch to correct method of regularisation with L2 Loss\n",
    "# Addition of Dropout for regularisation\n",
    "# Batch support (improves regularisation)\n",
    "# Tried various train/test/val combinations - results are very sensitive to this.\n",
    "# Tried various activation functions - \"elu\" seems best (not sure why yet)\n",
    "# Switched to BinaryCrossEntropy loss function from keras\n",
    "# Switched to Adam optimiser with scheduled learning\n",
    "# Utilised log x-scale to compare model plot results\n",
    "# Add Accuracy as a metric\n",
    "# Add multiple plots to compare metrics\n",
    "# TODO : Represent data using windowing method\n"
   ]
  },
  {
   "cell_type": "code",
   "execution_count": 2,
   "metadata": {},
   "outputs": [],
   "source": [
    "import tensorflow as tf\n",
    "import tensorflow.compat.v1 as tf1\n",
    "\n",
    "import numpy as np\n",
    "import pandas as pd\n",
    "\n",
    "import quantutils.dataset.pipeline as ppl\n",
    "import quantutils.dataset.ml as mlutils\n",
    "from marketinsights.api.model import MarketInsightsModel\n",
    "from marketinsights.remote.ml import MIAssembly\n",
    "\n",
    "from tqdm import tqdm, trange\n",
    "from functools import partialmethod\n",
    "\n",
    "import tensorflow_docs as tfdocs\n",
    "import tensorflow_docs.modeling\n",
    "import tensorflow_docs.plots\n",
    "from  IPython import display\n",
    "from matplotlib import pyplot as plt\n",
    "\n",
    "\n",
    "tqdm.__init__ = partialmethod(tqdm.__init__, disable=False)"
   ]
  },
  {
   "cell_type": "code",
   "execution_count": 16,
   "metadata": {},
   "outputs": [
    {
     "name": "stdout",
     "output_type": "stream",
     "text": [
      "<class 'pandas.core.frame.DataFrame'>\n",
      "DatetimeIndex: 1387 entries, 2013-01-02 15:00:00-05:00 to 2018-08-01 15:00:00-04:00\n",
      "Data columns (total 10 columns):\n",
      " #   Column  Non-Null Count  Dtype  \n",
      "---  ------  --------------  -----  \n",
      " 0   0       1387 non-null   float64\n",
      " 1   1       1387 non-null   float64\n",
      " 2   2       1387 non-null   float64\n",
      " 3   3       1387 non-null   float64\n",
      " 4   4       1387 non-null   float64\n",
      " 5   5       1387 non-null   float64\n",
      " 6   6       1387 non-null   float64\n",
      " 7   7       1387 non-null   float64\n",
      " 8   8       1387 non-null   float64\n",
      " 9   9       1387 non-null   int64  \n",
      "dtypes: float64(9), int64(1)\n",
      "memory usage: 119.2 KB\n"
     ]
    }
   ],
   "source": [
    "#DATASET_ID1 = \"dbaab93d94795145539e595fab79f2d4\"  # DOW\n",
    "#DATASET_ID1 = \"4234f0f1b6fcc17f6458696a6cdf5101\"  # DOW\n",
    "DATASET_ID1 = \"09dcbc101dd03d999a479baa924901b3\" # 2023 - Corrected \n",
    "NUM_FEATURES = (2 * 4) + 1\n",
    "\n",
    "assembly = MIAssembly(secret=\"marketinsights-k8s-cred\")\n",
    "\n",
    "# Dataset\n",
    "dataset, descriptor = assembly.get_dataset_by_id(DATASET_ID1, debug=False)\n",
    "dataset.info()"
   ]
  },
  {
   "cell_type": "code",
   "execution_count": 17,
   "metadata": {},
   "outputs": [
    {
     "data": {
      "text/html": [
       "<div>\n",
       "<style scoped>\n",
       "    .dataframe tbody tr th:only-of-type {\n",
       "        vertical-align: middle;\n",
       "    }\n",
       "\n",
       "    .dataframe tbody tr th {\n",
       "        vertical-align: top;\n",
       "    }\n",
       "\n",
       "    .dataframe thead th {\n",
       "        text-align: right;\n",
       "    }\n",
       "</style>\n",
       "<table border=\"1\" class=\"dataframe\">\n",
       "  <thead>\n",
       "    <tr style=\"text-align: right;\">\n",
       "      <th></th>\n",
       "      <th>0</th>\n",
       "      <th>1</th>\n",
       "      <th>2</th>\n",
       "      <th>3</th>\n",
       "      <th>4</th>\n",
       "      <th>5</th>\n",
       "      <th>6</th>\n",
       "      <th>7</th>\n",
       "      <th>8</th>\n",
       "      <th>9</th>\n",
       "    </tr>\n",
       "    <tr>\n",
       "      <th>Date_Time</th>\n",
       "      <th></th>\n",
       "      <th></th>\n",
       "      <th></th>\n",
       "      <th></th>\n",
       "      <th></th>\n",
       "      <th></th>\n",
       "      <th></th>\n",
       "      <th></th>\n",
       "      <th></th>\n",
       "      <th></th>\n",
       "    </tr>\n",
       "  </thead>\n",
       "  <tbody>\n",
       "    <tr>\n",
       "      <th>2013-01-02 15:00:00-05:00</th>\n",
       "      <td>0.390854</td>\n",
       "      <td>0.826284</td>\n",
       "      <td>0.199852</td>\n",
       "      <td>0.508756</td>\n",
       "      <td>0.504133</td>\n",
       "      <td>1.000000</td>\n",
       "      <td>0.000000</td>\n",
       "      <td>0.629408</td>\n",
       "      <td>0.051259</td>\n",
       "      <td>1</td>\n",
       "    </tr>\n",
       "    <tr>\n",
       "      <th>2013-01-03 15:00:00-05:00</th>\n",
       "      <td>0.766445</td>\n",
       "      <td>1.000000</td>\n",
       "      <td>0.586159</td>\n",
       "      <td>0.943148</td>\n",
       "      <td>0.943148</td>\n",
       "      <td>0.944016</td>\n",
       "      <td>0.000000</td>\n",
       "      <td>0.487062</td>\n",
       "      <td>0.108321</td>\n",
       "      <td>0</td>\n",
       "    </tr>\n",
       "    <tr>\n",
       "      <th>2013-01-04 15:00:00-05:00</th>\n",
       "      <td>0.096991</td>\n",
       "      <td>1.000000</td>\n",
       "      <td>0.000000</td>\n",
       "      <td>0.631825</td>\n",
       "      <td>0.632902</td>\n",
       "      <td>0.905283</td>\n",
       "      <td>0.340489</td>\n",
       "      <td>0.847693</td>\n",
       "      <td>0.043706</td>\n",
       "      <td>1</td>\n",
       "    </tr>\n",
       "    <tr>\n",
       "      <th>2013-01-07 15:00:00-05:00</th>\n",
       "      <td>0.078908</td>\n",
       "      <td>0.468290</td>\n",
       "      <td>0.000000</td>\n",
       "      <td>0.337985</td>\n",
       "      <td>0.337655</td>\n",
       "      <td>1.000000</td>\n",
       "      <td>0.253843</td>\n",
       "      <td>0.984516</td>\n",
       "      <td>0.071635</td>\n",
       "      <td>1</td>\n",
       "    </tr>\n",
       "    <tr>\n",
       "      <th>2013-01-08 15:00:00-05:00</th>\n",
       "      <td>0.000000</td>\n",
       "      <td>0.748026</td>\n",
       "      <td>0.000000</td>\n",
       "      <td>0.685708</td>\n",
       "      <td>0.685012</td>\n",
       "      <td>1.000000</td>\n",
       "      <td>0.344723</td>\n",
       "      <td>0.518904</td>\n",
       "      <td>0.068146</td>\n",
       "      <td>1</td>\n",
       "    </tr>\n",
       "    <tr>\n",
       "      <th>...</th>\n",
       "      <td>...</td>\n",
       "      <td>...</td>\n",
       "      <td>...</td>\n",
       "      <td>...</td>\n",
       "      <td>...</td>\n",
       "      <td>...</td>\n",
       "      <td>...</td>\n",
       "      <td>...</td>\n",
       "      <td>...</td>\n",
       "      <td>...</td>\n",
       "    </tr>\n",
       "    <tr>\n",
       "      <th>2018-07-26 15:00:00-04:00</th>\n",
       "      <td>0.117785</td>\n",
       "      <td>0.779641</td>\n",
       "      <td>0.000000</td>\n",
       "      <td>0.500333</td>\n",
       "      <td>0.492980</td>\n",
       "      <td>1.000000</td>\n",
       "      <td>0.345889</td>\n",
       "      <td>0.654713</td>\n",
       "      <td>0.078719</td>\n",
       "      <td>0</td>\n",
       "    </tr>\n",
       "    <tr>\n",
       "      <th>2018-07-27 15:00:00-04:00</th>\n",
       "      <td>0.378094</td>\n",
       "      <td>0.888481</td>\n",
       "      <td>0.000000</td>\n",
       "      <td>0.861922</td>\n",
       "      <td>0.845986</td>\n",
       "      <td>1.000000</td>\n",
       "      <td>0.287613</td>\n",
       "      <td>0.489824</td>\n",
       "      <td>0.109395</td>\n",
       "      <td>1</td>\n",
       "    </tr>\n",
       "    <tr>\n",
       "      <th>2018-07-30 15:00:00-04:00</th>\n",
       "      <td>0.307187</td>\n",
       "      <td>0.954621</td>\n",
       "      <td>0.000000</td>\n",
       "      <td>0.892212</td>\n",
       "      <td>0.903560</td>\n",
       "      <td>1.000000</td>\n",
       "      <td>0.369722</td>\n",
       "      <td>0.483388</td>\n",
       "      <td>0.102674</td>\n",
       "      <td>0</td>\n",
       "    </tr>\n",
       "    <tr>\n",
       "      <th>2018-07-31 15:00:00-04:00</th>\n",
       "      <td>0.820354</td>\n",
       "      <td>1.000000</td>\n",
       "      <td>0.359752</td>\n",
       "      <td>0.719278</td>\n",
       "      <td>0.730509</td>\n",
       "      <td>0.786664</td>\n",
       "      <td>0.000000</td>\n",
       "      <td>0.157419</td>\n",
       "      <td>0.051675</td>\n",
       "      <td>0</td>\n",
       "    </tr>\n",
       "    <tr>\n",
       "      <th>2018-08-01 15:00:00-04:00</th>\n",
       "      <td>0.778085</td>\n",
       "      <td>0.944538</td>\n",
       "      <td>0.216968</td>\n",
       "      <td>0.489333</td>\n",
       "      <td>0.500444</td>\n",
       "      <td>1.000000</td>\n",
       "      <td>0.000000</td>\n",
       "      <td>0.988908</td>\n",
       "      <td>0.105143</td>\n",
       "      <td>0</td>\n",
       "    </tr>\n",
       "  </tbody>\n",
       "</table>\n",
       "<p>1387 rows × 10 columns</p>\n",
       "</div>"
      ],
      "text/plain": [
       "                                  0         1         2         3         4  \\\n",
       "Date_Time                                                                     \n",
       "2013-01-02 15:00:00-05:00  0.390854  0.826284  0.199852  0.508756  0.504133   \n",
       "2013-01-03 15:00:00-05:00  0.766445  1.000000  0.586159  0.943148  0.943148   \n",
       "2013-01-04 15:00:00-05:00  0.096991  1.000000  0.000000  0.631825  0.632902   \n",
       "2013-01-07 15:00:00-05:00  0.078908  0.468290  0.000000  0.337985  0.337655   \n",
       "2013-01-08 15:00:00-05:00  0.000000  0.748026  0.000000  0.685708  0.685012   \n",
       "...                             ...       ...       ...       ...       ...   \n",
       "2018-07-26 15:00:00-04:00  0.117785  0.779641  0.000000  0.500333  0.492980   \n",
       "2018-07-27 15:00:00-04:00  0.378094  0.888481  0.000000  0.861922  0.845986   \n",
       "2018-07-30 15:00:00-04:00  0.307187  0.954621  0.000000  0.892212  0.903560   \n",
       "2018-07-31 15:00:00-04:00  0.820354  1.000000  0.359752  0.719278  0.730509   \n",
       "2018-08-01 15:00:00-04:00  0.778085  0.944538  0.216968  0.489333  0.500444   \n",
       "\n",
       "                                  5         6         7         8  9  \n",
       "Date_Time                                                             \n",
       "2013-01-02 15:00:00-05:00  1.000000  0.000000  0.629408  0.051259  1  \n",
       "2013-01-03 15:00:00-05:00  0.944016  0.000000  0.487062  0.108321  0  \n",
       "2013-01-04 15:00:00-05:00  0.905283  0.340489  0.847693  0.043706  1  \n",
       "2013-01-07 15:00:00-05:00  1.000000  0.253843  0.984516  0.071635  1  \n",
       "2013-01-08 15:00:00-05:00  1.000000  0.344723  0.518904  0.068146  1  \n",
       "...                             ...       ...       ...       ... ..  \n",
       "2018-07-26 15:00:00-04:00  1.000000  0.345889  0.654713  0.078719  0  \n",
       "2018-07-27 15:00:00-04:00  1.000000  0.287613  0.489824  0.109395  1  \n",
       "2018-07-30 15:00:00-04:00  1.000000  0.369722  0.483388  0.102674  0  \n",
       "2018-07-31 15:00:00-04:00  0.786664  0.000000  0.157419  0.051675  0  \n",
       "2018-08-01 15:00:00-04:00  1.000000  0.000000  0.988908  0.105143  0  \n",
       "\n",
       "[1387 rows x 10 columns]"
      ]
     },
     "execution_count": 17,
     "metadata": {},
     "output_type": "execute_result"
    }
   ],
   "source": [
    "dataset"
   ]
  },
  {
   "cell_type": "code",
   "execution_count": 18,
   "metadata": {},
   "outputs": [],
   "source": [
    "dataset = tf.cast(dataset, tf.float32)\n",
    "\n",
    "# Split into Train/Val/Test\n",
    "n = len(dataset)\n",
    "train_df = dataset[:1200]\n",
    "val_df = dataset[1200:1300]\n",
    "test_df = dataset[1300:]\n",
    "\n",
    "# Split into features/labels\n",
    "train_x, train_y = train_df[:, :NUM_FEATURES], train_df[:,NUM_FEATURES:]\n",
    "val_x, val_y =  val_df[:, :NUM_FEATURES], val_df[:,NUM_FEATURES:]\n",
    "test_x, test_y =  test_df[:, :NUM_FEATURES], test_df[:,NUM_FEATURES:]"
   ]
  },
  {
   "cell_type": "code",
   "execution_count": 125,
   "metadata": {
    "scrolled": false
   },
   "outputs": [],
   "source": [
    "\n",
    "def batches(x, y, batch_size):\n",
    "    return [(batch, x[batch*batch_size:(batch+1)*batch_size], y[batch*batch_size:(batch+1)*batch_size]) for batch in range(int(len(x) / batch_size))]\n",
    "\n",
    "\n",
    "def train(mlmodel, epochs=100000, _callbacks=[]):\n",
    "    \n",
    "    callbacks = tf.keras.callbacks.CallbackList(_callbacks, add_history=True, model=mlmodel)\n",
    "    \n",
    "    lr_schedule = tf.keras.optimizers.schedules.InverseTimeDecay(\n",
    "      0.001,\n",
    "      decay_steps=1000,\n",
    "      decay_rate=1,\n",
    "      staircase=False)\n",
    "\n",
    "    optimizer = tf.keras.optimizers.Adam()\n",
    "    loss_fn = tf.keras.losses.BinaryCrossentropy(from_logits=True)\n",
    "    metric = tf.keras.losses.MeanSquaredError()\n",
    "    accuracyMetric = tf.keras.metrics.BinaryAccuracy()\n",
    "    \n",
    "    @tf.function  # Make it fast.\n",
    "    def train_on_batch(x, y):\n",
    "        with tf.GradientTape() as tape:\n",
    "            \n",
    "            y_pred = mlmodel(x)\n",
    "            val_y_pred = mlmodel(val_x)\n",
    "            \n",
    "            loss = loss_fn(y_pred=mlmodel(x, training=True), y_true=y) \n",
    "            regularization_loss=tf.add_n(mlmodel.losses)\n",
    "            loss = loss + regularization_loss\n",
    "            \n",
    "            binary_cross_entropy = metric(y_pred=y_pred, y_true=y) \n",
    "            \n",
    "            val_binary_cross_entropy = metric(y_pred=mlmodel(val_x), y_true=val_y)\n",
    "            val_loss = loss_fn(y_pred=val_y_pred, y_true=val_y) \n",
    "            \n",
    "            accuracy = accuracyMetric(y_pred=tf.nn.sigmoid(y_pred), y_true=y)\n",
    "            val_accuracy = accuracyMetric(y_pred=tf.nn.sigmoid(val_y_pred), y_true=val_y)\n",
    "            \n",
    "            gradients = tape.gradient(loss, mlmodel.trainable_weights)\n",
    "        optimizer.apply_gradients(zip(gradients, mlmodel.trainable_weights))\n",
    "        return {\n",
    "            \"loss\":loss, \n",
    "            \"val_loss\": val_loss, \n",
    "            \"metric\":binary_cross_entropy, \n",
    "            \"val_metric\":val_binary_cross_entropy, \n",
    "            \"accuracy\": accuracy,\n",
    "            \"val_accuracy\": val_accuracy,\n",
    "            \"regularization_loss\":regularization_loss}\n",
    "\n",
    "\n",
    "    logs = {}\n",
    "    mlmodel.stop_training = False\n",
    "\n",
    "    \n",
    "    callbacks.on_train_begin(logs=logs)\n",
    "\n",
    "    # Format training loop\n",
    "    for epoch in range(epochs):\n",
    "\n",
    "        callbacks.on_epoch_begin(epoch, logs=logs)\n",
    "        #mlmodel.reset_states() # Not needed?\n",
    "\n",
    "        for batch, batch_x, batch_y in batches(train_x, train_y, 400):\n",
    "\n",
    "            callbacks.on_batch_begin(batch, logs=logs)\n",
    "            callbacks.on_train_batch_begin(batch, logs=logs)\n",
    "\n",
    "            logs = train_on_batch(batch_x, batch_y)\n",
    "\n",
    "            callbacks.on_train_batch_end(batch, logs=logs)\n",
    "            callbacks.on_batch_end(batch, logs=logs)\n",
    "\n",
    "        callbacks.on_epoch_end(epoch, logs=logs)\n",
    "\n",
    "        if epoch % 100 == 0:\n",
    "            print(f'Step {epoch} - Training Loss: {logs[\"loss\"]}, Val Loss: {logs[\"val_loss\"]}, Val metric: {logs[\"val_metric\"]}')\n",
    "\n",
    "        if mlmodel.stop_training:\n",
    "            print(f'Step {epoch} - Training Loss: {logs[\"loss\"]}, Val Loss: {logs[\"val_loss\"]}, Val metric: {logs[\"val_metric\"]}')\n",
    "            break\n",
    "\n",
    "    callbacks.on_train_end(logs=logs)\n",
    "\n",
    "    # Fetch the history object we normally get from keras.fit\n",
    "    history_object = None\n",
    "    for cb in callbacks:\n",
    "        if isinstance(cb, tf.keras.callbacks.History):\n",
    "            history_object = cb\n",
    "    assert history_object is not None\n",
    "    \n",
    "    return history_object"
   ]
  },
  {
   "cell_type": "code",
   "execution_count": 126,
   "metadata": {},
   "outputs": [
    {
     "data": {
      "text/plain": [
       "<tf.Tensor: shape=(), dtype=float32, numpy=0.475>"
      ]
     },
     "execution_count": 126,
     "metadata": {},
     "output_type": "execute_result"
    }
   ],
   "source": [
    "tf.keras.metrics.BinaryAccuracy()(y_pred=tf.nn.sigmoid(mlmodel(train_x)), y_true=train_y)"
   ]
  },
  {
   "cell_type": "code",
   "execution_count": 127,
   "metadata": {},
   "outputs": [],
   "source": [
    "TOTAL_EPOCHS = 100000\n",
    "\n",
    "earlyStopping = tf.keras.callbacks.EarlyStopping(monitor='val_loss', mode='min', verbose=1, start_from_epoch=1000, patience=1000, restore_best_weights=True)\n",
    "# Set up callbacks\n",
    "callbacks = [earlyStopping]\n"
   ]
  },
  {
   "cell_type": "code",
   "execution_count": 128,
   "metadata": {},
   "outputs": [],
   "source": [
    "histories = {}"
   ]
  },
  {
   "cell_type": "code",
   "execution_count": 129,
   "metadata": {
    "scrolled": false
   },
   "outputs": [
    {
     "name": "stdout",
     "output_type": "stream",
     "text": [
      "Step 0 - Training Loss: 0.892074465751648, Val Loss: 0.6955140829086304, Val metric: 0.4341284930706024\n",
      "Step 100 - Training Loss: 0.6835540533065796, Val Loss: 0.695737898349762, Val metric: 0.5006059408187866\n",
      "Step 200 - Training Loss: 0.669403612613678, Val Loss: 0.7072936296463013, Val metric: 0.5935555100440979\n",
      "Step 300 - Training Loss: 0.6571946144104004, Val Loss: 0.7421435713768005, Val metric: 0.6784389615058899\n",
      "Step 400 - Training Loss: 0.6354712247848511, Val Loss: 0.7531271576881409, Val metric: 0.9472588896751404\n",
      "Step 500 - Training Loss: 0.6216592788696289, Val Loss: 0.7814728021621704, Val metric: 1.1661887168884277\n",
      "Step 600 - Training Loss: 0.6039050221443176, Val Loss: 0.8395958542823792, Val metric: 1.396732211112976\n",
      "Step 700 - Training Loss: 0.6065393090248108, Val Loss: 0.8372040390968323, Val metric: 1.6651421785354614\n",
      "Step 800 - Training Loss: 0.5943617820739746, Val Loss: 0.8856215476989746, Val metric: 1.7994939088821411\n",
      "Step 900 - Training Loss: 0.5894297957420349, Val Loss: 0.9061408042907715, Val metric: 1.9653373956680298\n",
      "Step 1000 - Training Loss: 0.5725482702255249, Val Loss: 0.9076372385025024, Val metric: 2.173996686935425\n",
      "Step 1100 - Training Loss: 0.5580110549926758, Val Loss: 0.9069985747337341, Val metric: 2.4883241653442383\n",
      "Step 1200 - Training Loss: 0.5673276782035828, Val Loss: 0.9795353412628174, Val metric: 2.913909912109375\n",
      "Step 1300 - Training Loss: 0.5496867299079895, Val Loss: 0.9905804991722107, Val metric: 3.2120277881622314\n",
      "Step 1400 - Training Loss: 0.5593470931053162, Val Loss: 1.0178279876708984, Val metric: 3.6396100521087646\n",
      "Step 1500 - Training Loss: 0.5290158987045288, Val Loss: 0.9964134693145752, Val metric: 3.969985246658325\n",
      "Step 1600 - Training Loss: 0.5447632074356079, Val Loss: 1.0691251754760742, Val metric: 4.517188549041748\n",
      "Step 1700 - Training Loss: 0.522311806678772, Val Loss: 1.0480468273162842, Val metric: 4.649991989135742\n",
      "Step 1800 - Training Loss: 0.5233139395713806, Val Loss: 1.0783371925354004, Val metric: 5.211489677429199\n",
      "Step 1900 - Training Loss: 0.5270959138870239, Val Loss: 1.1083613634109497, Val metric: 5.787662982940674\n",
      "Step 2000 - Training Loss: 0.5148223638534546, Val Loss: 1.122619867324829, Val metric: 6.287237167358398\n",
      "Restoring model weights from the end of the best epoch: 1011.\n",
      "Step 2010 - Training Loss: 0.5240302085876465, Val Loss: 1.108447551727295, Val metric: 6.512906074523926\n",
      "Epoch 2011: early stopping\n"
     ]
    }
   ],
   "source": [
    "NUM_LABELS = 1\n",
    "HIDDEN_UNITS = 64\n",
    "\n",
    "# Prepare our layer, loss, and optimizer.\n",
    "mlmodel = tf.keras.Sequential(\n",
    "    [\n",
    "        tf.keras.layers.Dense(HIDDEN_UNITS, kernel_regularizer=tf.keras.regularizers.l2(0.001), activation=\"relu\"),\n",
    "        tf.keras.layers.Dense(HIDDEN_UNITS, kernel_regularizer=tf.keras.regularizers.l2(0.001), activation=\"relu\"),\n",
    "        tf.keras.layers.Dense(HIDDEN_UNITS, kernel_regularizer=tf.keras.regularizers.l2(0.001), activation=\"relu\"),\n",
    "        tf.keras.layers.Dense(HIDDEN_UNITS, kernel_regularizer=tf.keras.regularizers.l2(0.001), activation=\"relu\"),\n",
    "        #tf.keras.layers.Dropout(0.5),\n",
    "        tf.keras.layers.Dense(NUM_LABELS),\n",
    "    ]\n",
    ")\n",
    "\n",
    "histories[\"64x4\"] = train(mlmodel, TOTAL_EPOCHS, callbacks)"
   ]
  },
  {
   "cell_type": "code",
   "execution_count": 130,
   "metadata": {},
   "outputs": [
    {
     "name": "stdout",
     "output_type": "stream",
     "text": [
      "Step 0 - Training Loss: 0.8924903273582458, Val Loss: 0.6957438588142395, Val metric: 0.4862228035926819\n",
      "Step 100 - Training Loss: 0.7108599543571472, Val Loss: 0.6942234039306641, Val metric: 0.42484229803085327\n",
      "Step 200 - Training Loss: 0.6945106387138367, Val Loss: 0.6942882537841797, Val metric: 0.41575849056243896\n",
      "Step 300 - Training Loss: 0.6926023364067078, Val Loss: 0.6941694021224976, Val metric: 0.41775038838386536\n",
      "Step 400 - Training Loss: 0.6924688220024109, Val Loss: 0.6941310167312622, Val metric: 0.4191392660140991\n",
      "Step 500 - Training Loss: 0.6920662522315979, Val Loss: 0.6941494941711426, Val metric: 0.4184595048427582\n",
      "Step 600 - Training Loss: 0.6921467185020447, Val Loss: 0.6941503882408142, Val metric: 0.4184246063232422\n",
      "Step 700 - Training Loss: 0.6921528577804565, Val Loss: 0.6941549777984619, Val metric: 0.41825759410858154\n",
      "Step 800 - Training Loss: 0.6921265721321106, Val Loss: 0.6941587924957275, Val metric: 0.4181230664253235\n",
      "Step 900 - Training Loss: 0.6920538544654846, Val Loss: 0.6941591501235962, Val metric: 0.4181051552295685\n",
      "Step 1000 - Training Loss: 0.6921690702438354, Val Loss: 0.694154679775238, Val metric: 0.41826915740966797\n",
      "Step 1100 - Training Loss: 0.6921463012695312, Val Loss: 0.694161057472229, Val metric: 0.41803836822509766\n",
      "Step 1200 - Training Loss: 0.692134439945221, Val Loss: 0.6941594481468201, Val metric: 0.41809535026550293\n",
      "Step 1300 - Training Loss: 0.6921343803405762, Val Loss: 0.6941607594490051, Val metric: 0.4180489778518677\n",
      "Step 1400 - Training Loss: 0.6921343803405762, Val Loss: 0.6941606998443604, Val metric: 0.4180489778518677\n",
      "Step 1500 - Training Loss: 0.6921342611312866, Val Loss: 0.6941607594490051, Val metric: 0.4180488884449005\n",
      "Step 1600 - Training Loss: 0.6921343803405762, Val Loss: 0.6941607594490051, Val metric: 0.4180489778518677\n",
      "Step 1700 - Training Loss: 0.6921343803405762, Val Loss: 0.6941607594490051, Val metric: 0.4180489778518677\n",
      "Step 1800 - Training Loss: 0.6921343803405762, Val Loss: 0.6941606998443604, Val metric: 0.4180489778518677\n",
      "Step 1900 - Training Loss: 0.6921343803405762, Val Loss: 0.6941607594490051, Val metric: 0.4180489778518677\n",
      "Step 2000 - Training Loss: 0.6921343803405762, Val Loss: 0.6941607594490051, Val metric: 0.4180489778518677\n",
      "Restoring model weights from the end of the best epoch: 1015.\n",
      "Step 2014 - Training Loss: 0.6921343803405762, Val Loss: 0.6941607594490051, Val metric: 0.4180489778518677\n",
      "Epoch 2015: early stopping\n"
     ]
    }
   ],
   "source": [
    "NUM_LABELS = 1\n",
    "HIDDEN_UNITS = 64\n",
    "\n",
    "# Prepare our layer, loss, and optimizer.\n",
    "mlmodel = tf.keras.Sequential(\n",
    "    [\n",
    "        tf.keras.layers.Dense(HIDDEN_UNITS, kernel_regularizer=tf.keras.regularizers.l2(0.001), activation=\"relu\"),\n",
    "        tf.keras.layers.Dropout(0.5),\n",
    "        tf.keras.layers.Dense(HIDDEN_UNITS, kernel_regularizer=tf.keras.regularizers.l2(0.001), activation=\"relu\"),\n",
    "        tf.keras.layers.Dropout(0.5),\n",
    "        tf.keras.layers.Dense(HIDDEN_UNITS, kernel_regularizer=tf.keras.regularizers.l2(0.001), activation=\"relu\"),\n",
    "        tf.keras.layers.Dropout(0.5),\n",
    "        tf.keras.layers.Dense(HIDDEN_UNITS, kernel_regularizer=tf.keras.regularizers.l2(0.001), activation=\"relu\"),\n",
    "        tf.keras.layers.Dropout(0.5),\n",
    "        tf.keras.layers.Dense(NUM_LABELS),\n",
    "    ]\n",
    ")\n",
    "\n",
    "histories[\"64x4+DO\"] = train(mlmodel, TOTAL_EPOCHS, callbacks)"
   ]
  },
  {
   "cell_type": "code",
   "execution_count": 137,
   "metadata": {},
   "outputs": [
    {
     "data": {
      "text/plain": [
       "Text(0.5, 0, 'Epochs')"
      ]
     },
     "execution_count": 137,
     "metadata": {},
     "output_type": "execute_result"
    },
    {
     "data": {
      "image/png": "[encoded data removed]",
      "text/plain": [
       "<Figure size 1000x1500 with 2 Axes>"
      ]
     },
     "metadata": {},
     "output_type": "display_data"
    }
   ],
   "source": [
    "plt.rcParams['figure.figsize'] = [10, 15]\n",
    "\n",
    "# PLOT histories\n",
    "plt.subplot(211)\n",
    "plotter = tfdocs.plots.HistoryPlotter(metric = 'loss', smoothing_std=10).plot(histories)\n",
    "#a = plt.xscale('log')\n",
    "#plt.xlim([5, max(plt.xlim())])\n",
    "plt.ylim([0.690, 0.705])\n",
    "plt.xlabel(\"Epochs\")\n",
    "\n",
    "plt.subplot(212)\n",
    "plotter = tfdocs.plots.HistoryPlotter(metric = 'accuracy', smoothing_std=10).plot(histories)\n",
    "#plotter.plot(histories)\n",
    "a = plt.xscale('log')\n",
    "plt.xlim([5, max(plt.xlim())])\n",
    "plt.ylim([0.5, 0.55])\n",
    "plt.xlabel(\"Epochs\")\n",
    "\n",
    "\n",
    "\n"
   ]
  },
  {
   "cell_type": "code",
   "execution_count": 38,
   "metadata": {
    "scrolled": false
   },
   "outputs": [
    {
     "data": {
      "text/plain": [
       "array([[0.53577995],\n",
       "       [0.5364054 ],\n",
       "       [0.5043879 ],\n",
       "       ...,\n",
       "       [0.5279035 ],\n",
       "       [0.52457076],\n",
       "       [0.54145813]], dtype=float32)"
      ]
     },
     "execution_count": 38,
     "metadata": {},
     "output_type": "execute_result"
    }
   ],
   "source": [
    "tf.nn.sigmoid(mlmodel(train_x)).numpy()"
   ]
  },
  {
   "cell_type": "code",
   "execution_count": 113,
   "metadata": {
    "scrolled": true
   },
   "outputs": [
    {
     "name": "stdout",
     "output_type": "stream",
     "text": [
      "Won : 741.0\n",
      "Lost : 459.0\n",
      "Total : 1200.0\n",
      "Diff : 282.0\n",
      "Edge : 23.5%\n",
      "Information Coefficient : 0.23500001430511475\n"
     ]
    },
    {
     "data": {
      "text/plain": [
       "0.6175"
      ]
     },
     "execution_count": 113,
     "metadata": {},
     "output_type": "execute_result"
    }
   ],
   "source": [
    "mlutils.evaluate(ppl.onehot(tf.nn.sigmoid(mlmodel(train_x)).numpy()), ppl.onehot(train_y.numpy()), threshold=0.5)"
   ]
  },
  {
   "cell_type": "code",
   "execution_count": 69,
   "metadata": {},
   "outputs": [
    {
     "name": "stdout",
     "output_type": "stream",
     "text": [
      "Won : 50.0\n",
      "Lost : 50.0\n",
      "Total : 100.0\n",
      "Diff : 0.0\n",
      "Edge : 0.0%\n",
      "Information Coefficient : 0.0\n"
     ]
    },
    {
     "data": {
      "text/plain": [
       "0.5"
      ]
     },
     "execution_count": 69,
     "metadata": {},
     "output_type": "execute_result"
    }
   ],
   "source": [
    "mlutils.evaluate(ppl.onehot(tf.nn.sigmoid(mlmodel(val_x)).numpy()), ppl.onehot(val_y.numpy()), threshold=0.5)"
   ]
  },
  {
   "cell_type": "code",
   "execution_count": 70,
   "metadata": {},
   "outputs": [
    {
     "name": "stdout",
     "output_type": "stream",
     "text": [
      "Won : 38.0\n",
      "Lost : 49.0\n",
      "Total : 87.0\n",
      "Diff : -11.0\n",
      "Edge : -12.64367816091954%\n",
      "Information Coefficient : -0.1264367699623108\n"
     ]
    },
    {
     "data": {
      "text/plain": [
       "0.43678162"
      ]
     },
     "execution_count": 70,
     "metadata": {},
     "output_type": "execute_result"
    }
   ],
   "source": [
    "mlutils.evaluate(ppl.onehot(tf.nn.sigmoid(mlmodel(test_x)).numpy()), ppl.onehot(test_y.numpy()), threshold=.50)"
   ]
  },
  {
   "cell_type": "code",
   "execution_count": 32,
   "metadata": {},
   "outputs": [
    {
     "data": {
      "text/plain": [
       "<tf.Tensor: shape=(), dtype=float32, numpy=0.69821477>"
      ]
     },
     "execution_count": 32,
     "metadata": {},
     "output_type": "execute_result"
    }
   ],
   "source": [
    "tf.keras.losses.BinaryCrossentropy(from_logits=True)(y_pred=mlmodel(val_x), y_true=val_y)"
   ]
  },
  {
   "cell_type": "code",
   "execution_count": null,
   "metadata": {},
   "outputs": [],
   "source": []
  }
 ],
 "metadata": {
  "kernelspec": {
   "display_name": "dev3.9",
   "language": "python",
   "name": "dev3.9"
  },
  "language_info": {
   "codemirror_mode": {
    "name": "ipython",
    "version": 3
   },
   "file_extension": ".py",
   "mimetype": "text/x-python",
   "name": "python",
   "nbconvert_exporter": "python",
   "pygments_lexer": "ipython3",
   "version": "3.9.12"
  }
 },
 "nbformat": 4,
 "nbformat_minor": 2
}
