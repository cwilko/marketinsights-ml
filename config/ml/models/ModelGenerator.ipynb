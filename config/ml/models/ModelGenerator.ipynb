{
 "cells": [
  {
   "cell_type": "markdown",
   "metadata": {},
   "source": [
    "### Model Generator\n",
    "For adding model json to the models datastore via the marketinsights models API"
   ]
  },
  {
   "cell_type": "code",
   "execution_count": 1,
   "metadata": {},
   "outputs": [],
   "source": [
    "#!pip install ../../../quantutils\n",
    "from quantutils.api.auth import CredentialsStore\n",
    "from quantutils.api.marketinsights import MarketInsights\n",
    "import json\n",
    "import os\n",
    "\n",
    "mi = MarketInsights(CredentialsStore())"
   ]
  },
  {
   "cell_type": "code",
   "execution_count": 2,
   "metadata": {},
   "outputs": [
    {
     "name": "stdout",
     "output_type": "stream",
     "text": [
      "{\"model_id\":\"0aaf64aa-95bc-476b-9ac0-28891e40892a\",\"model_desc\":\"Basic Bootstrap\",\"runtime\":\"MktDirection (TF-NN-Bootstrap).ipynb\",\"network\":{\"bias\":0.1,\"hidden_units\":32,\"weights\":{\"stdev\":0.1,\"seed\":null}},\"optimizer\":{\"maxIter\":4000,\"minimize_iterations\":50,\"training_loss_error_case\":0.65},\"training\":{\"lamda\":0.01,\"iterations\":20,\"threshold\":0,\"training_window_size\":1716,\"training_start_date\":\"2013-01-01\",\"training_end_date\":\"2017-05-18\"},\"debug\":false,\"cos_bucket\":\"marketinsights-weights\",\"_rev\":\"10-075dd34325c8229b8a651fbe7b0077c8\"}\n",
      "{\"model_id\":\"3a491b1a-8af6-416d-aa14-f812cbd660bb\",\"model_desc\":\"Basic Bootstrap with Fixed Seed (For unittest)\",\"runtime\":\"test\",\"network\":{\"bias\":0.1,\"hidden_units\":32,\"weights\":{\"stdev\":0.1,\"seed\":42}},\"optimizer\":{\"maxIter\":4000,\"minimize_iterations\":50,\"training_loss_error_case\":0.65},\"training\":{\"lamda\":0.001,\"iterations\":1,\"threshold\":0,\"training_retries\":5,\"training_window_size\":1718,\"training_start_date\":\"2013-01-01\",\"training_end_date\":\"2017-05-18\"},\"debug\":false,\"cos_bucket\":\"marketinsights-weights\",\"_rev\":\"7-8c7804dc962131dccc6325249001b668\"}\n",
      "{\"model_id\":\"6682f56b-a2e4-4e6d-92c5-9c11913f8b35\",\"model_desc\":\"Bootstrap+Online+NoWindow\",\"runtime\":\"MktDirection (TF-NN-Bootstrap-Online).ipynb\",\"network\":{\"bias\":0.1,\"hidden_units\":32,\"weights\":{\"stdev\":0.1,\"seed\":null}},\"optimizer\":{\"maxIter\":4000,\"minimize_iterations\":50,\"training_loss_error_case\":0.65},\"training\":{\"lamda\":0.01,\"iterations\":20,\"threshold\":0,\"training_window_size\":1716,\"training_start_date\":\"2013-01-01\",\"training_end_date\":\"2017-05-18\",\"training_retries\":5},\"debug\":false,\"cos_bucket\":\"marketinsights-weights\",\"_rev\":\"5-4666b575f9659803014db40e5c576c6d\"}\n",
      "{\"model_id\":\"53ca0624-21e4-48d4-b2b8-cee5b381ff2b\",\"model_desc\":\"Boosting+Online+NoWindow\",\"runtime\":\"MktDirection (TF-NN-Boosting-Online).ipynb\",\"network\":{\"bias\":0.1,\"hidden_units\":32,\"weights\":{\"stdev\":0.1,\"seed\":null}},\"optimizer\":{\"maxIter\":4000,\"minimize_iterations\":50,\"training_loss_error_case\":0.65},\"training\":{\"lamda\":0.01,\"iterations\":20,\"threshold\":0,\"training_window_size\":1700,\"training_retries\":5},\"debug\":false,\"cos_bucket\":\"marketinsights-weights\",\"_rev\":\"7-fecce018934c838ecebefd60442fd46d\"}\n",
      "{\"model_id\":\"28da8212-32f3-4680-bacd-0cd1c51bfe02\",\"model_desc\":\"Basic Boosting\",\"runtime\":\"MktDirection (TF-NN-Boosting).ipynb\",\"network\":{\"bias\":0.1,\"hidden_units\":32,\"weights\":{\"stdev\":0.1,\"seed\":null}},\"optimizer\":{\"maxIter\":4000,\"minimize_iterations\":50,\"training_loss_error_case\":0.65},\"training\":{\"lamda\":0.01,\"iterations\":20,\"threshold\":0,\"training_window_size\":1700},\"debug\":false,\"cos_bucket\":\"marketinsights-weights\",\"_rev\":\"5-d57b58c19311799cc37cc2f81540501f\"}\n",
      "{\"model_id\":\"a80a294f-12f8-4b27-8eac-9aad9a53ec8b\",\"model_desc\":\"Boosting+Online+FixedWindow\",\"runtime\":\"MktDirection (TF-NN-Boosting-Online).ipynb\",\"network\":{\"bias\":0.1,\"hidden_units\":32,\"weights\":{\"stdev\":0.1,\"seed\":null}},\"optimizer\":{\"maxIter\":4000,\"minimize_iterations\":50,\"training_loss_error_case\":0.65},\"training\":{\"lamda\":0.01,\"iterations\":20,\"threshold\":0,\"training_window_size\":1716,\"training_start_date\":\"2013-01-01\",\"training_end_date\":\"2017-05-18\",\"training_retries\":5},\"debug\":false,\"cos_bucket\":\"marketinsights-weights\",\"_rev\":\"8-a7db40a26109a62c4685a14948ffa3ec\"}\n",
      "{\"model_id\":\"fdbe5895-0327-49d9-83e9-2246dbe1858b\",\"model_desc\":\"Bootstrap+Online+FixedWindow\",\"runtime\":\"MktDirection (TF-NN-Bootstrap-Online).ipynb\",\"network\":{\"bias\":0.1,\"hidden_units\":32,\"weights\":{\"stdev\":0.1,\"seed\":null}},\"optimizer\":{\"maxIter\":4000,\"minimize_iterations\":50,\"training_loss_error_case\":0.65},\"training\":{\"lamda\":0.01,\"iterations\":20,\"threshold\":0,\"training_window_size\":1716,\"training_start_date\":\"2013-01-01\",\"training_end_date\":\"2017-05-18\",\"training_retries\":5},\"debug\":false,\"cos_bucket\":\"marketinsights-weights\",\"_rev\":\"6-aa744f4f17b40adafb92d9a7cb324688\"}\n"
     ]
    }
   ],
   "source": [
    "# GENERATE MODELS FROM ALL LOCAL FILES\n",
    "\n",
    "## Process files\n",
    "model_ids = [f.replace(\".json\",\"\") for f in os.listdir() if f.endswith(\".json\")]\n",
    "\n",
    "for model_id in model_ids:\n",
    "    data = json.load(open(\"\".join([model_id, \".json\"])))\n",
    "    mi.put_model(data, True)"
   ]
  },
  {
   "cell_type": "code",
   "execution_count": 4,
   "metadata": {},
   "outputs": [
    {
     "name": "stdout",
     "output_type": "stream",
     "text": [
      "{\"model_id\":\"53ca0624-21e4-48d4-b2b8-cee5b381ff2b\",\"model_desc\":\"Boosting+Online+NoWindow\",\"runtime\":\"MktDirection (TF-NN-Boosting-Online).ipynb\",\"network\":{\"bias\":0.1,\"hidden_units\":32,\"weights\":{\"stdev\":0.1,\"seed\":null}},\"optimizer\":{\"maxIter\":4000,\"minimize_iterations\":50,\"training_loss_error_case\":0.65},\"training\":{\"lamda\":0.01,\"iterations\":20,\"threshold\":0,\"training_window_size\":1700,\"training_retries\":5},\"debug\":false,\"cos_bucket\":\"marketinsights-weights\",\"_rev\":\"5-f07680eac1688747d793af786fe103dc\"}\n"
     ]
    },
    {
     "data": {
      "text/plain": [
       "{'model_id': '53ca0624-21e4-48d4-b2b8-cee5b381ff2b',\n",
       " 'model_desc': 'Boosting+Online+NoWindow',\n",
       " 'runtime': 'MktDirection (TF-NN-Boosting-Online).ipynb',\n",
       " 'network': {'bias': 0.1,\n",
       "  'hidden_units': 32,\n",
       "  'weights': {'stdev': 0.1, 'seed': None}},\n",
       " 'optimizer': {'maxIter': 4000,\n",
       "  'minimize_iterations': 50,\n",
       "  'training_loss_error_case': 0.65},\n",
       " 'training': {'lamda': 0.01,\n",
       "  'iterations': 20,\n",
       "  'threshold': 0,\n",
       "  'training_window_size': 1700,\n",
       "  'training_retries': 5},\n",
       " 'debug': False,\n",
       " 'cos_bucket': 'marketinsights-weights',\n",
       " '_rev': '5-f07680eac1688747d793af786fe103dc'}"
      ]
     },
     "execution_count": 4,
     "metadata": {},
     "output_type": "execute_result"
    }
   ],
   "source": [
    "# GENERATE A SPECIFIC MODEL \n",
    "MODEL_ID = \"53ca0624-21e4-48d4-b2b8-cee5b381ff2b\"\n",
    "\n",
    "## Load JSON file\n",
    "data = json.load(open(\"\".join([MODEL_ID, \".json\"])))\n",
    "\n",
    "mi.put_model(data, True)"
   ]
  },
  {
   "cell_type": "code",
   "execution_count": 3,
   "metadata": {},
   "outputs": [
    {
     "data": {
      "text/plain": [
       "{'model_id': '53ca0624-21e4-48d4-b2b8-cee5b381ff2b',\n",
       " 'model_desc': 'Boosting+Online+NoWindow',\n",
       " 'runtime': 'MktDirection (TF-NN-Boosting-Online).ipynb',\n",
       " 'network': {'bias': 0.1,\n",
       "  'hidden_units': 32,\n",
       "  'weights': {'stdev': 0.1, 'seed': None}},\n",
       " 'optimizer': {'maxIter': 4000,\n",
       "  'minimize_iterations': 50,\n",
       "  'training_loss_error_case': 0.65},\n",
       " 'training': {'lamda': 0.01,\n",
       "  'iterations': 20,\n",
       "  'threshold': 0,\n",
       "  'training_window_size': 1716,\n",
       "  'training_start_date': '2013-01-01',\n",
       "  'training_end_date': '2017-05-18',\n",
       "  'training_retries': 5},\n",
       " 'debug': False,\n",
       " '_rev': '4-4cf8f0dfdfa5df5af1edd56b22449afe',\n",
       " 'cos_bucket': 'marketinsights-weights'}"
      ]
     },
     "execution_count": 3,
     "metadata": {},
     "output_type": "execute_result"
    }
   ],
   "source": [
    "mi.get_model(\"53ca0624-21e4-48d4-b2b8-cee5b381ff2b\")"
   ]
  },
  {
   "cell_type": "code",
   "execution_count": null,
   "metadata": {
    "collapsed": true
   },
   "outputs": [],
   "source": []
  }
 ],
 "metadata": {
  "kernelspec": {
   "display_name": "Python 3",
   "language": "python",
   "name": "python3"
  },
  "language_info": {
   "codemirror_mode": {
    "name": "ipython",
    "version": 3
   },
   "file_extension": ".py",
   "mimetype": "text/x-python",
   "name": "python",
   "nbconvert_exporter": "python",
   "pygments_lexer": "ipython3",
   "version": "3.6.10"
  }
 },
 "nbformat": 4,
 "nbformat_minor": 1
}
