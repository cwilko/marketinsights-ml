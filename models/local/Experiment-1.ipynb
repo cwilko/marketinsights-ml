{
 "cells": [
  {
   "cell_type": "code",
   "execution_count": 3,
   "metadata": {},
   "outputs": [],
   "source": [
    "MODEL_ID = \"fdbe5895-0327-49d9-83e9-2246dbe1858b\"\n",
    "\n",
    "DATASET_ID1 = \"4234f0f1b6fcc17f6458696a6cdf5101\" # DOW\n",
    "DATASET_ID2 = \"3231bbe5eb2ab84eb54c9b64a8dcea55\" # SPY\n",
    "\n",
    "TRAINING_RUN = {\n",
    "        \"model_id\": MODEL_ID,\n",
    "        \"datasets\": [\n",
    "            DATASET_ID1,\n",
    "            DATASET_ID2\n",
    "        ]\n",
    "    }"
   ]
  },
  {
   "cell_type": "code",
   "execution_count": 4,
   "metadata": {},
   "outputs": [
    {
     "name": "stdout",
     "output_type": "stream",
     "text": [
      "Done - Training ID: 078df5a1afbaa2290ee93b4a562e3898\n"
     ]
    }
   ],
   "source": [
    "#\n",
    "# Get dataset from MI API #\n",
    "#\n",
    "\n",
    "import pandas\n",
    "import sys\n",
    "import gc\n",
    "import uuid\n",
    "import numpy as np\n",
    "\n",
    "#!pip install --upgrade ../../../quantutils\n",
    "\n",
    "import quantutils.dataset.pipeline as ppl\n",
    "from quantutils.api.auth import CredentialsStore\n",
    "from quantutils.api.bluemix import CloudObjectStore, ObjectStore, Metrics, Logger\n",
    "from quantutils.api.marketinsights import MarketInsights, Dataset\n",
    "from quantutils.api.assembly import MIAssembly\n",
    "from quantutils.api.functions import Functions\n",
    "import quantutils.model.utils as mlutils\n",
    "from quantutils.model.ml import Model\n",
    "\n",
    "cred = CredentialsStore()\n",
    "metrics = Metrics(cred)\n",
    "mi = MarketInsights(cred)\n",
    "objStore = ObjectStore(cred)\n",
    "cos = CloudObjectStore(cred)\n",
    "log = Logger('MarketInsights-ML', cred)\n",
    "fun = Functions(cred)\n",
    "miassembly = MIAssembly(mi, fun)\n",
    "\n",
    "# Logging helper function\n",
    "tag = lambda x,y : \"\".join([\"(\", x, \":\", str(y+1), \") \"])\n",
    "\n",
    "CONFIG = mi.get_model(MODEL_ID)\n",
    "TRN_CNF = CONFIG['training']\n",
    "TRAINING_RUN[\"id\"] = cos.generateKey([str(TRAINING_RUN[\"datasets\"]), str(TRAINING_RUN[\"model_id\"])])\n",
    "COS_BUCKET = \"marketinsights-weights\"\n",
    "\n",
    "mkt1, mkt1_desc = mi.get_dataset_by_id(DATASET_ID1)\n",
    "mkt2, mkt2_desc = mi.get_dataset_by_id(DATASET_ID2)\n",
    "\n",
    "# Interleave (part of the \"added insight\" for this model)\n",
    "MK1, MK2, isect = ppl.intersect(mkt1,mkt2)\n",
    "dataset = ppl.interleave(MK1,MK2)\n",
    "\n",
    "# TODO : This should be config, probably as a proportion\n",
    "TEST_SET_SIZE = 430\n",
    "TRAINING_SET_SIZE = len(dataset) - TEST_SET_SIZE\n",
    "WINDOW_SIZE = TRAINING_SET_SIZE\n",
    "\n",
    "_, test_y = ppl.splitCol(dataset[TRAINING_SET_SIZE:], mkt1_desc[\"features\"])\n",
    "\n",
    "# Create ML model\n",
    "ffnn = Model(mkt1_desc[\"features\"], mkt1_desc[\"labels\"], CONFIG)\n",
    "\n",
    "print(\"Done - Training ID: \" + TRAINING_RUN[\"id\"])"
   ]
  },
  {
   "cell_type": "code",
   "execution_count": 4,
   "metadata": {},
   "outputs": [
    {
     "name": "stdout",
     "output_type": "stream",
     "text": [
      "Training\n",
      "."
     ]
    },
    {
     "ename": "ValueError",
     "evalue": "The truth value of an array with more than one element is ambiguous. Use a.any() or a.all()",
     "output_type": "error",
     "traceback": [
      "\u001b[1;31m---------------------------------------------------------------------------\u001b[0m",
      "\u001b[1;31mValueError\u001b[0m                                Traceback (most recent call last)",
      "\u001b[1;32m<ipython-input-4-eb87cdad92dd>\u001b[0m in \u001b[0;36m<module>\u001b[1;34m()\u001b[0m\n\u001b[0;32m      4\u001b[0m \u001b[1;33m\u001b[0m\u001b[0m\n\u001b[0;32m      5\u001b[0m \u001b[1;32mprint\u001b[0m\u001b[1;33m(\u001b[0m\u001b[1;34m\"Training\"\u001b[0m\u001b[1;33m)\u001b[0m\u001b[1;33m\u001b[0m\u001b[0m\n\u001b[1;32m----> 6\u001b[1;33m \u001b[0mresults\u001b[0m \u001b[1;33m=\u001b[0m \u001b[0mmlutils\u001b[0m\u001b[1;33m.\u001b[0m\u001b[0mbootstrapTrain\u001b[0m\u001b[1;33m(\u001b[0m\u001b[0mffnn\u001b[0m\u001b[1;33m,\u001b[0m \u001b[0mdataset\u001b[0m\u001b[1;33m[\u001b[0m\u001b[1;33m:\u001b[0m\u001b[0mTRAINING_SET_SIZE\u001b[0m\u001b[1;33m]\u001b[0m\u001b[1;33m,\u001b[0m \u001b[0mdataset\u001b[0m\u001b[1;33m[\u001b[0m\u001b[0mTRAINING_SET_SIZE\u001b[0m\u001b[1;33m:\u001b[0m\u001b[1;33m]\u001b[0m\u001b[1;33m,\u001b[0m \u001b[0mTRN_CNF\u001b[0m\u001b[1;33m[\u001b[0m\u001b[1;34m'lamda'\u001b[0m\u001b[1;33m]\u001b[0m\u001b[1;33m,\u001b[0m \u001b[0mTRN_CNF\u001b[0m\u001b[1;33m[\u001b[0m\u001b[1;34m'iterations'\u001b[0m\u001b[1;33m]\u001b[0m\u001b[1;33m,\u001b[0m \u001b[0mTRN_CNF\u001b[0m\u001b[1;33m[\u001b[0m\u001b[1;34m'threshold'\u001b[0m\u001b[1;33m]\u001b[0m\u001b[1;33m,\u001b[0m \u001b[0mCONFIG\u001b[0m\u001b[1;33m[\u001b[0m\u001b[1;34m'debug'\u001b[0m\u001b[1;33m]\u001b[0m\u001b[1;33m)\u001b[0m\u001b[1;33m\u001b[0m\u001b[0m\n\u001b[0m\u001b[0;32m      7\u001b[0m \u001b[0mpredictions\u001b[0m \u001b[1;33m=\u001b[0m  \u001b[0mnp\u001b[0m\u001b[1;33m.\u001b[0m\u001b[0mnanmean\u001b[0m\u001b[1;33m(\u001b[0m\u001b[0mresults\u001b[0m\u001b[1;33m[\u001b[0m\u001b[1;34m\"test_predictions\"\u001b[0m\u001b[1;33m]\u001b[0m\u001b[1;33m,\u001b[0m \u001b[0maxis\u001b[0m\u001b[1;33m=\u001b[0m\u001b[1;36m0\u001b[0m\u001b[1;33m)\u001b[0m\u001b[1;33m\u001b[0m\u001b[0m\n\u001b[0;32m      8\u001b[0m \u001b[1;32mprint\u001b[0m\u001b[1;33m(\u001b[0m\u001b[0mmlutils\u001b[0m\u001b[1;33m.\u001b[0m\u001b[0mevaluate\u001b[0m\u001b[1;33m(\u001b[0m\u001b[0mppl\u001b[0m\u001b[1;33m.\u001b[0m\u001b[0monehot\u001b[0m\u001b[1;33m(\u001b[0m\u001b[0mpredictions\u001b[0m\u001b[1;33m)\u001b[0m\u001b[1;33m,\u001b[0m \u001b[0mppl\u001b[0m\u001b[1;33m.\u001b[0m\u001b[0monehot\u001b[0m\u001b[1;33m(\u001b[0m\u001b[0mtest_y\u001b[0m\u001b[1;33m)\u001b[0m\u001b[1;33m,\u001b[0m \u001b[1;36m.0\u001b[0m\u001b[1;33m)\u001b[0m\u001b[1;33m)\u001b[0m\u001b[1;33m\u001b[0m\u001b[0m\n",
      "\u001b[1;32m/home/cwilkin/Development/anaconda/envs/datascience/lib/python2.7/site-packages/quantutils/model/utils.pyc\u001b[0m in \u001b[0;36mbootstrapTrain\u001b[1;34m(model, training_set, test_set, lamda, iterations, threshold, debug)\u001b[0m\n\u001b[0;32m     94\u001b[0m             \u001b[1;33m{\u001b[0m\u001b[1;34m'features'\u001b[0m\u001b[1;33m:\u001b[0m \u001b[0mval_sample_X\u001b[0m\u001b[1;33m,\u001b[0m \u001b[1;34m'labels'\u001b[0m\u001b[1;33m:\u001b[0m \u001b[0mval_sample_y\u001b[0m\u001b[1;33m,\u001b[0m \u001b[1;34m'lamda'\u001b[0m\u001b[1;33m:\u001b[0m \u001b[0mlamda\u001b[0m\u001b[1;33m}\u001b[0m\u001b[1;33m,\u001b[0m\u001b[0;31m \u001b[0m\u001b[0;31m\\\u001b[0m\u001b[1;33m\u001b[0m\u001b[0m\n\u001b[0;32m     95\u001b[0m             \u001b[1;33m{\u001b[0m\u001b[1;34m'features'\u001b[0m\u001b[1;33m:\u001b[0m \u001b[0mtest_X\u001b[0m\u001b[1;33m,\u001b[0m \u001b[1;34m'labels'\u001b[0m\u001b[1;33m:\u001b[0m \u001b[0mtest_y\u001b[0m\u001b[1;33m,\u001b[0m \u001b[1;34m'lamda'\u001b[0m\u001b[1;33m:\u001b[0m \u001b[0mlamda\u001b[0m\u001b[1;33m}\u001b[0m\u001b[1;33m,\u001b[0m\u001b[0;31m \u001b[0m\u001b[0;31m\\\u001b[0m\u001b[1;33m\u001b[0m\u001b[0m\n\u001b[1;32m---> 96\u001b[1;33m             threshold, 1, debug)\n\u001b[0m\u001b[0;32m     97\u001b[0m \u001b[1;33m\u001b[0m\u001b[0m\n\u001b[0;32m     98\u001b[0m         \u001b[0mmetrics\u001b[0m\u001b[1;33m[\u001b[0m\u001b[1;34m\"train_loss\"\u001b[0m\u001b[1;33m]\u001b[0m\u001b[1;33m.\u001b[0m\u001b[0mappend\u001b[0m\u001b[1;33m(\u001b[0m\u001b[0mresults\u001b[0m\u001b[1;33m[\u001b[0m\u001b[1;34m\"train_loss\"\u001b[0m\u001b[1;33m]\u001b[0m\u001b[1;33m[\u001b[0m\u001b[1;34m\"mean\"\u001b[0m\u001b[1;33m]\u001b[0m\u001b[1;33m)\u001b[0m\u001b[1;33m\u001b[0m\u001b[0m\n",
      "\u001b[1;32m/home/cwilkin/Development/anaconda/envs/datascience/lib/python2.7/site-packages/quantutils/model/ml.pyc\u001b[0m in \u001b[0;36mtrain\u001b[1;34m(self, train_dict, val_dict, test_dict, threshold, iterations, debug)\u001b[0m\n\u001b[0;32m    167\u001b[0m                 \u001b[0mtrain_loss\u001b[0m\u001b[1;33m,\u001b[0m \u001b[0mtrain_precision\u001b[0m\u001b[1;33m,\u001b[0m \u001b[0mtrain_recall\u001b[0m\u001b[1;33m,\u001b[0m \u001b[0mtrain_f\u001b[0m\u001b[1;33m,\u001b[0m \u001b[0m_\u001b[0m \u001b[1;33m=\u001b[0m \u001b[0mself\u001b[0m\u001b[1;33m.\u001b[0m\u001b[0mevaluate\u001b[0m\u001b[1;33m(\u001b[0m\u001b[0mself\u001b[0m\u001b[1;33m.\u001b[0m\u001b[0mto_feed_dict\u001b[0m\u001b[1;33m(\u001b[0m\u001b[0mtrain_dict\u001b[0m\u001b[1;33m)\u001b[0m\u001b[1;33m,\u001b[0m \u001b[0mthreshold\u001b[0m\u001b[1;33m)\u001b[0m\u001b[1;33m\u001b[0m\u001b[0m\n\u001b[0;32m    168\u001b[0m \u001b[1;33m\u001b[0m\u001b[0m\n\u001b[1;32m--> 169\u001b[1;33m                 \u001b[1;32mif\u001b[0m \u001b[1;33m(\u001b[0m\u001b[0mtrain_loss\u001b[0m \u001b[1;33m<\u001b[0m \u001b[0mself\u001b[0m\u001b[1;33m.\u001b[0m\u001b[0mOPT_CNF\u001b[0m\u001b[1;33m[\u001b[0m\u001b[1;34m'training_loss_error_case'\u001b[0m\u001b[1;33m]\u001b[0m\u001b[1;33m)\u001b[0m\u001b[1;33m:\u001b[0m\u001b[1;33m\u001b[0m\u001b[0m\n\u001b[0m\u001b[0;32m    170\u001b[0m                     \u001b[1;32mprint\u001b[0m\u001b[1;33m(\u001b[0m\u001b[1;34m'.'\u001b[0m\u001b[1;33m,\u001b[0m \u001b[0mend\u001b[0m\u001b[1;33m=\u001b[0m\u001b[1;34m''\u001b[0m\u001b[1;33m)\u001b[0m\u001b[1;33m\u001b[0m\u001b[0m\n\u001b[0;32m    171\u001b[0m                     \u001b[0mmetrics\u001b[0m\u001b[1;33m[\u001b[0m\u001b[1;34m\"train_loss\"\u001b[0m\u001b[1;33m]\u001b[0m\u001b[1;33m.\u001b[0m\u001b[0mappend\u001b[0m\u001b[1;33m(\u001b[0m\u001b[0mtrain_loss\u001b[0m\u001b[1;33m)\u001b[0m\u001b[1;33m\u001b[0m\u001b[0m\n",
      "\u001b[1;31mValueError\u001b[0m: The truth value of an array with more than one element is ambiguous. Use a.any() or a.all()"
     ]
    }
   ],
   "source": [
    "##\n",
    "## BOOTSTRAP TRAINING\n",
    "##\n",
    "\n",
    "print(\"Training\")\n",
    "results = mlutils.bootstrapTrain(ffnn, dataset[:TRAINING_SET_SIZE], dataset[TRAINING_SET_SIZE:], TRN_CNF['lamda'], TRN_CNF['iterations'], TRN_CNF['threshold'], CONFIG['debug'])\n",
    "predictions =  np.nanmean(results[\"test_predictions\"], axis=0)\n",
    "print(mlutils.evaluate(ppl.onehot(predictions), ppl.onehot(test_y), .0))\n",
    "\n",
    "# Save weights to Cloud Object Store\n",
    "newWeights = pandas.DataFrame(results[\"weights\"])\n",
    "newWeights.insert(0,'timestamp', [isect[TRAINING_SET_SIZE//2].value // 10**9] * len(newWeights))\n",
    "#cos.put_csv(COS_BUCKET, TRAINING_RUN[\"id\"], newWeights)"
   ]
  },
  {
   "cell_type": "code",
   "execution_count": 3,
   "metadata": {
    "scrolled": false
   },
   "outputs": [
    {
     "ename": "NameError",
     "evalue": "name 'tf' is not defined",
     "output_type": "error",
     "traceback": [
      "\u001b[1;31m---------------------------------------------------------------------------\u001b[0m",
      "\u001b[1;31mNameError\u001b[0m                                 Traceback (most recent call last)",
      "\u001b[1;32m<ipython-input-3-c2c67c8b5d4a>\u001b[0m in \u001b[0;36m<module>\u001b[1;34m()\u001b[0m\n\u001b[0;32m      2\u001b[0m \u001b[1;31m### PREDICTIONS\u001b[0m\u001b[1;33m\u001b[0m\u001b[1;33m\u001b[0m\u001b[0m\n\u001b[0;32m      3\u001b[0m \u001b[1;31m###\u001b[0m\u001b[1;33m\u001b[0m\u001b[1;33m\u001b[0m\u001b[0m\n\u001b[1;32m----> 4\u001b[1;33m \u001b[0mtf\u001b[0m\u001b[1;33m.\u001b[0m\u001b[0mlogging\u001b[0m\u001b[1;33m.\u001b[0m\u001b[0mset_verbosity\u001b[0m\u001b[1;33m(\u001b[0m\u001b[0mtf\u001b[0m\u001b[1;33m.\u001b[0m\u001b[0mlogging\u001b[0m\u001b[1;33m.\u001b[0m\u001b[0mERROR\u001b[0m\u001b[1;33m)\u001b[0m\u001b[1;33m\u001b[0m\u001b[0m\n\u001b[0m\u001b[0;32m      5\u001b[0m \u001b[1;33m\u001b[0m\u001b[0m\n\u001b[0;32m      6\u001b[0m \u001b[0mJ\u001b[0m \u001b[1;33m=\u001b[0m \u001b[1;33m[\u001b[0m\u001b[1;33m]\u001b[0m\u001b[1;33m\u001b[0m\u001b[0m\n",
      "\u001b[1;31mNameError\u001b[0m: name 'tf' is not defined"
     ]
    }
   ],
   "source": [
    "### \n",
    "### PREDICTIONS\n",
    "###\n",
    "tf.logging.set_verbosity(tf.logging.ERROR)\n",
    "\n",
    "J = []\n",
    "lam_opt = 0.01\n",
    "THRESHOLD = 0.8\n",
    "\n",
    "\n",
    "train({train_data_node: train_X, train_labels_node: train_y, lam: lam_opt},\n",
    "      {train_data_node: val_X, train_labels_node: val_y, lam: lam_opt}, \n",
    "      THRESHOLD, \n",
    "      50)\n",
    "\n",
    "# Show the fit and the loss over time.\n",
    "fig, (ax1) = plt.subplots(1, 1)\n",
    "plt.subplots_adjust(wspace=.3)\n",
    "fig.set_size_inches(10, 4)\n",
    "\n",
    "x = np.array(range(0, len(J)))\n",
    "ax1.plot(x, np.array(J).ravel())\n",
    "ax1.set_ylabel(\"Loss\")\n",
    "ax1.set_xlabel(\"Iterations\")\n",
    "plt.show()"
   ]
  },
  {
   "cell_type": "code",
   "execution_count": null,
   "metadata": {
    "scrolled": true
   },
   "outputs": [],
   "source": [
    "###\n",
    "### LEARNING CURVES FOR TRAINING SET AND CROSS-VALIDATION SET \n",
    "###\n",
    "train_losses = []\n",
    "val_losses = [0]\n",
    "perc_losses = [0]\n",
    "tf.logging.set_verbosity(tf.logging.ERROR)\n",
    "\n",
    "metrics = {\n",
    "        \"train_loss\":[],\n",
    "        \"train_precision\":[],\n",
    "        \"train_recall\":[],\n",
    "        \"train_f\":[],\n",
    "        \"val_loss\":[],\n",
    "        \"val_precision\":[],\n",
    "        \"val_recall\":[],\n",
    "        \"val_f\":[]\n",
    "    }\n",
    "\n",
    "myLam = 0.0\n",
    "THRESHOLD = 0\n",
    "\n",
    "for i in range(10,train_X.shape[0]+1,10):\n",
    "    \n",
    "    results = train({train_data_node: train_X[:i,:], train_labels_node: train_y[:i,:], lam: myLam},\n",
    "            {train_data_node: val_X, train_labels_node: val_y, lam: myLam},\n",
    "             THRESHOLD,\n",
    "              1\n",
    "            )\n",
    "    \n",
    "    metrics[\"train_loss\"].append(results[\"train_loss\"][\"mean\"])\n",
    "    metrics[\"val_loss\"].append(results[\"val_loss\"][\"mean\"])\n",
    "    metrics[\"val_precision\"].append(results[\"val_precision\"][\"mean\"])\n",
    "    metrics[\"val_recall\"].append(results[\"val_recall\"][\"mean\"])\n",
    "    metrics[\"val_f\"].append(results[\"val_f\"][\"mean\"])\n",
    "        \n",
    "# Show the loss as the amount of data increases\n",
    "fig, (ax1) = plt.subplots(1, 1)\n",
    "plt.subplots_adjust(wspace=.3)\n",
    "fig.set_size_inches(10, 4)\n",
    "\n",
    "x = np.array(range(0, len(metrics[\"val_loss\"]))) * 10\n",
    "ax1.plot(x, np.array(metrics[\"train_loss\"]).ravel())\n",
    "ax1.plot(x, np.array(metrics[\"val_loss\"]).ravel(),'r')\n",
    "ax1.set_ylabel(\"Loss\")\n",
    "ax1.set_xlabel(\"Training Examples\")\n",
    "plt.show()"
   ]
  },
  {
   "cell_type": "code",
   "execution_count": 68,
   "metadata": {},
   "outputs": [
    {
     "data": {
      "image/png": "[encoded data removed]",
      "text/plain": [
       "<matplotlib.figure.Figure at 0x7fb52f6672d0>"
      ]
     },
     "metadata": {},
     "output_type": "display_data"
    }
   ],
   "source": [
    "# Show the loss as the amount of data increases\n",
    "fig, (ax1) = plt.subplots(1, 1)\n",
    "plt.subplots_adjust(wspace=.3)\n",
    "fig.set_size_inches(10, 4)\n",
    "\n",
    "x = np.array(range(0, len(metrics[\"val_loss\"]))) * 10\n",
    "#ax1.plot(x, np.array(train_losses).ravel())\n",
    "#ax1.plot(x, np.array(val_losses).ravel(),'r')\n",
    "ax1.plot(x[2:], (np.array(((np.array(metrics[\"val_loss\"])) ))[2:]).ravel(),'g')\n",
    "ax1.set_ylabel(\"Loss\")\n",
    "ax1.set_xlabel(\"Training Examples\")\n",
    "plt.show()"
   ]
  },
  {
   "cell_type": "code",
   "execution_count": 47,
   "metadata": {},
   "outputs": [
    {
     "name": "stdout",
     "output_type": "stream",
     "text": [
      "Training...\n"
     ]
    },
    {
     "name": "stderr",
     "output_type": "stream",
     "text": [
      "/usr/local/lib/python2.7/dist-packages/ipykernel_launcher.py:24: RuntimeWarning: invalid value encountered in divide\n"
     ]
    },
    {
     "name": "stdout",
     "output_type": "stream",
     "text": [
      "Iterations : 10 Lambda : 0.00, Threshold : 0.90\n",
      "Mean Validation loss : 2.04, precision : 0.62, recall : 0.67, F : 0.64\n",
      "Sigma Validation loss : 0.38, precision : 0.03, recall : 0.08, F : 0.04\n",
      "Training...\n",
      "Iterations : 10 Lambda : 0.01, Threshold : 0.90\n",
      "Mean Validation loss : 0.90, precision : 0.65, recall : 0.27, F : 0.38\n",
      "Sigma Validation loss : 0.06, precision : 0.04, recall : 0.04, F : 0.03\n",
      "Optimal value for lambda is 0.01\n"
     ]
    },
    {
     "data": {
      "image/png": "[encoded data removed]",
      "text/plain": [
       "<matplotlib.figure.Figure at 0x7fb523476310>"
      ]
     },
     "metadata": {},
     "output_type": "display_data"
    }
   ],
   "source": [
    "###\n",
    "### LAMBDA OPTIMIZATION\n",
    "###\n",
    "\n",
    "tf.logging.set_verbosity(tf.logging.ERROR)\n",
    "\n",
    "#lams = [0.0, 0.001, 0.003, 0.006, 0.01, 0.03, 0.06, 0.1]#, 0.3, 1.0, 3.0, 10.0]\n",
    "#lams = np.arange(0.02,.04, .001)\n",
    "lams = [0.0, 0.01]\n",
    "\n",
    "metrics = {\n",
    "        \"train_loss\":[],\n",
    "        \"train_precision\":[],\n",
    "        \"train_recall\":[],\n",
    "        \"train_f\":[],\n",
    "        \"val_loss\":[],\n",
    "        \"val_precision\":[],\n",
    "        \"val_recall\":[],\n",
    "        \"val_f\":[]\n",
    "    }\n",
    "\n",
    "for i in lams:\n",
    "    \n",
    "    results = train({train_data_node: train_X, train_labels_node: train_y, lam: i},\n",
    "            {train_data_node: val_X, train_labels_node: val_y, lam: i},\n",
    "             THRESHOLD,\n",
    "              10\n",
    "            )\n",
    "    \n",
    "    metrics[\"train_loss\"].append(results[\"train_loss\"][\"mean\"])\n",
    "    metrics[\"val_loss\"].append(results[\"val_loss\"][\"mean\"])\n",
    "     \n",
    "\n",
    "lam_opt = lams[np.argmin(metrics[\"val_loss\"])]\n",
    "print(\"Optimal value for lambda is %s\" % lam_opt)\n",
    "    \n",
    "# Show the loss as the value of lambda changes\n",
    "fig, (ax1) = plt.subplots(1, 1)\n",
    "plt.subplots_adjust(wspace=.3)\n",
    "fig.set_size_inches(10, 4)\n",
    "\n",
    "ax1.plot(lams, np.array(metrics[\"train_loss\"]).ravel())\n",
    "ax1.plot(lams, np.array(metrics[\"val_loss\"]).ravel(),'r')\n",
    "ax1.plot(lams[np.argmin(metrics[\"val_loss\"])], metrics[\"val_loss\"][np.argmin(metrics[\"val_loss\"])], 'x', color='black')\n",
    "ax1.set_ylabel(\"Loss\")\n",
    "ax1.set_xlabel(\"Lambda\")\n",
    "plt.show()"
   ]
  },
  {
   "cell_type": "code",
   "execution_count": null,
   "metadata": {
    "scrolled": false
   },
   "outputs": [],
   "source": [
    "###\n",
    "### THRESHOLD OPTIMIZATION\n",
    "###\n",
    "\n",
    "tf.logging.set_verbosity(tf.logging.ERROR)\n",
    "\n",
    "mylam = 0.0\n",
    "threshold = 0\n",
    "thresholds = [.5, .8, .9, .99, .999]\n",
    "lams = [0.0, 0.001, 0.003, 0.006, 0.01, 0.03, 0.06, 0.1, 0.3, 1.0]\n",
    "\n",
    "for i in thresholds:\n",
    "    \n",
    "    results = train({train_data_node: train_X, train_labels_node: train_y, lam: mylam},\n",
    "            {train_data_node: val_X, train_labels_node: val_y, lam: mylam},\n",
    "             i\n",
    "            ) \n",
    "    \n",
    "print(\"Done\")\n"
   ]
  },
  {
   "cell_type": "code",
   "execution_count": 35,
   "metadata": {},
   "outputs": [],
   "source": [
    "\n",
    "predictions = miassembly.get_predictions_with_dataset_id(DATASET_ID1, \"5404d26bccc568c4bddfc45f37d8fbfb\", start=\"2016-07-06\", end=\"2016-11-09\")\n",
    "\n",
    "\n"
   ]
  },
  {
   "cell_type": "code",
   "execution_count": 7,
   "metadata": {},
   "outputs": [],
   "source": [
    "ds,_ = mi.get_dataset_by_id(DATASET_ID1)"
   ]
  },
  {
   "cell_type": "code",
   "execution_count": 8,
   "metadata": {},
   "outputs": [],
   "source": [
    "_, test_y = ppl.splitCol(ds[\"2016-07-06\":\"2016-11-09\"], 9)"
   ]
  },
  {
   "cell_type": "code",
   "execution_count": 9,
   "metadata": {},
   "outputs": [
    {
     "data": {
      "text/plain": [
       "(90, 1)"
      ]
     },
     "execution_count": 9,
     "metadata": {},
     "output_type": "execute_result"
    }
   ],
   "source": [
    "test_y.shape"
   ]
  },
  {
   "cell_type": "code",
   "execution_count": 44,
   "metadata": {},
   "outputs": [
    {
     "data": {
      "text/plain": [
       "(90, 1)"
      ]
     },
     "execution_count": 44,
     "metadata": {},
     "output_type": "execute_result"
    }
   ],
   "source": [
    "predictions.shape"
   ]
  },
  {
   "cell_type": "code",
   "execution_count": 45,
   "metadata": {},
   "outputs": [
    {
     "data": {
      "text/plain": [
       "(0.5888889, 1.0, 0.7412587370614363)"
      ]
     },
     "execution_count": 45,
     "metadata": {},
     "output_type": "execute_result"
    }
   ],
   "source": [
    "a = ppl.onehot(np.vstack(getPredictionSignals(predictions.values, 0)))\n",
    "b = ppl.onehot(np.vstack(getPredictionSignals(test_y, 0)))\n",
    "mlutils.evaluate(a, b, .0)"
   ]
  },
  {
   "cell_type": "code",
   "execution_count": 46,
   "metadata": {},
   "outputs": [
    {
     "data": {
      "text/plain": [
       "(0.5888889, 1.0, 0.7412587370614363)"
      ]
     },
     "execution_count": 46,
     "metadata": {},
     "output_type": "execute_result"
    }
   ],
   "source": [
    "mlutils.evaluate(ppl.onehot(predictions.values), ppl.onehot(test_y), .0)"
   ]
  },
  {
   "cell_type": "code",
   "execution_count": 12,
   "metadata": {},
   "outputs": [
    {
     "ename": "NameError",
     "evalue": "name 'predictions' is not defined",
     "output_type": "error",
     "traceback": [
      "\u001b[1;31m---------------------------------------------------------------------------\u001b[0m",
      "\u001b[1;31mNameError\u001b[0m                                 Traceback (most recent call last)",
      "\u001b[1;32m<ipython-input-12-63d183f1bd46>\u001b[0m in \u001b[0;36m<module>\u001b[1;34m()\u001b[0m\n\u001b[1;32m----> 1\u001b[1;33m \u001b[0msum\u001b[0m\u001b[1;33m(\u001b[0m\u001b[0mgetPredictionSignals\u001b[0m\u001b[1;33m(\u001b[0m\u001b[0mppl\u001b[0m\u001b[1;33m.\u001b[0m\u001b[0monehot\u001b[0m\u001b[1;33m(\u001b[0m\u001b[0mpredictions\u001b[0m\u001b[1;33m.\u001b[0m\u001b[0mvalues\u001b[0m\u001b[1;33m)\u001b[0m\u001b[1;33m,\u001b[0m \u001b[1;36m0\u001b[0m\u001b[1;33m)\u001b[0m\u001b[1;33m)\u001b[0m\u001b[1;33m\u001b[0m\u001b[0m\n\u001b[0m",
      "\u001b[1;31mNameError\u001b[0m: name 'predictions' is not defined"
     ]
    }
   ],
   "source": [
    "getPredictionSignals(ppl.onehot(predictions.values), 0)\n"
   ]
  },
  {
   "cell_type": "code",
   "execution_count": 13,
   "metadata": {},
   "outputs": [
    {
     "data": {
      "text/plain": [
       "array([ 1.,  1., -1., -1., -1., -1., -1.,  1., -1.,  1., -1.,  1.,  1.,\n",
       "        1.,  1., -1.,  1., -1.,  1.,  1.,  1.,  1.,  1.,  1.,  1.,  1.,\n",
       "       -1.,  1., -1., -1.,  1.,  1., -1.,  1., -1., -1.,  1.,  1., -1.,\n",
       "        1.,  1.,  1.,  1.,  1.,  1., -1., -1.,  1.,  1., -1., -1.,  1.,\n",
       "       -1., -1.,  1., -1., -1., -1.,  1.,  1., -1., -1.,  1.,  1., -1.,\n",
       "        1., -1., -1.,  1., -1., -1., -1., -1., -1., -1., -1., -1., -1.,\n",
       "        1., -1., -1., -1.,  1.,  1., -1., -1., -1.,  1.,  1., -1.])"
      ]
     },
     "execution_count": 13,
     "metadata": {},
     "output_type": "execute_result"
    }
   ],
   "source": [
    "getPredictionSignals(test_y,0)"
   ]
  },
  {
   "cell_type": "code",
   "execution_count": 49,
   "metadata": {},
   "outputs": [
    {
     "data": {
      "text/plain": [
       "array([-1.,  1.,  1., -1.,  1.,  1.,  1.,  1.,  1., -1.,  1., -1., -1.,\n",
       "        1.,  1.,  1.,  1.,  1., -1., -1.,  1.,  1.,  1.,  1.,  1.,  1.,\n",
       "       -1., -1., -1., -1.,  1.,  1., -1., -1.,  1., -1., -1., -1., -1.,\n",
       "        1.,  1.,  1., -1., -1.,  1.,  1.,  1., -1., -1.,  1., -1.,  1.,\n",
       "        1.,  1., -1., -1.,  1.,  1.,  1., -1., -1., -1.,  1., -1.,  1.,\n",
       "        1., -1.,  1.,  1., -1., -1.,  1.,  1.,  1., -1.,  1.,  1.,  1.,\n",
       "        1.,  1., -1., -1.,  1., -1., -1.,  1., -1.,  1.,  1.,  1.])"
      ]
     },
     "execution_count": 49,
     "metadata": {},
     "output_type": "execute_result"
    }
   ],
   "source": [
    "mlutils.getSignals(ppl.onehot(predictions.values), ppl.onehot(test_y), 0)"
   ]
  },
  {
   "cell_type": "code",
   "execution_count": 3,
   "metadata": {
    "collapsed": true
   },
   "outputs": [],
   "source": [
    "def getPredictionSignals(predictions, threshold):\n",
    "    signals = np.ones(len(predictions))\n",
    "    a = np.argmax(ppl.onehot(predictions),axis=1)\n",
    "    signals[(a==1)] = -1 # Set any DOWN signals to -1 (UP signals will pick up the default of 1)\n",
    "    signals[(predictions < threshold).all(axis=1)] = 0\n",
    "    return signals"
   ]
  },
  {
   "cell_type": "code",
   "execution_count": null,
   "metadata": {
    "collapsed": true
   },
   "outputs": [],
   "source": []
  },
  {
   "cell_type": "code",
   "execution_count": null,
   "metadata": {
    "collapsed": true
   },
   "outputs": [],
   "source": []
  }
 ],
 "metadata": {
  "kernelspec": {
   "display_name": "Python 3",
   "language": "python",
   "name": "python3"
  },
  "language_info": {
   "codemirror_mode": {
    "name": "ipython",
    "version": 3
   },
   "file_extension": ".py",
   "mimetype": "text/x-python",
   "name": "python",
   "nbconvert_exporter": "python",
   "pygments_lexer": "ipython3",
   "version": "3.6.6"
  }
 },
 "nbformat": 4,
 "nbformat_minor": 2
}
