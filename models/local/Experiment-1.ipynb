{
 "cells": [
  {
   "cell_type": "code",
   "execution_count": 3,
   "metadata": {
    "collapsed": true
   },
   "outputs": [],
   "source": [
    "import tensorflow as tf\n",
    "import numpy as np\n",
    "import pandas\n",
    "import os\n",
    "import matplotlib.pyplot as plt\n",
    "\n",
    "%matplotlib inline\n",
    "\n",
    "NUM_FEATURES = (2 * 4) + 1\n",
    "NUM_LABELS = 2\n",
    "\n",
    "## Load Training data\n",
    "train = pandas.read_csv(\"../datasets/output/WallSt-FinalTradingHour/WallSt-FinalTradingHour_train.csv\", header=None)\n",
    "val = pandas.read_csv(\"../datasets/output/WallSt-FinalTradingHour/WallSt-FinalTradingHour_val.csv\", header=None)\n",
    "test = pandas.read_csv(\"../datasets/output/WallSt-FinalTradingHour/WallSt-FinalTradingHour_test.csv\", header=None)\n",
    "\n",
    "train = pandas.concat([train, val])\n",
    "train = pandas.concat([train, test[250:]])\n",
    "test = test[:250]\n",
    "          \n",
    "def split(data, num_features):    \n",
    "    return data.values[:,:num_features], data.values[:,num_features:]\n",
    "\n",
    "train_X, train_y = split(train, NUM_FEATURES)\n",
    "val_X, val_y = split(test, NUM_FEATURES)\n",
    "test_X, test_y = split(test, NUM_FEATURES)\n"
   ]
  },
  {
   "cell_type": "code",
   "execution_count": 5,
   "metadata": {},
   "outputs": [
    {
     "data": {
      "text/plain": [
       "1294"
      ]
     },
     "execution_count": 5,
     "metadata": {},
     "output_type": "execute_result"
    }
   ],
   "source": [
    "train.shape[0]"
   ]
  },
  {
   "cell_type": "code",
   "execution_count": 3,
   "metadata": {},
   "outputs": [
    {
     "name": "stdout",
     "output_type": "stream",
     "text": [
      "Done\n"
     ]
    }
   ],
   "source": [
    "##### #Define the architecture\n",
    "HIDDEN_UNITS = 32\n",
    "\n",
    "# The random seed that defines initialization.\n",
    "SEED = 42\n",
    "\n",
    "# This is where training samples and labels are fed to the graph.\n",
    "# These placeholder nodes will be fed a batch of training data at each\n",
    "# training step, which we'll write once we define the graph structure.\n",
    "train_data_node = tf.placeholder(tf.float32, shape=(None, NUM_FEATURES))\n",
    "train_labels_node = tf.placeholder(tf.float32, shape=(None, NUM_LABELS))\n",
    "lam = tf.placeholder(tf.float32)\n",
    "\n",
    "# The variables below hold all the trainable weights. For each, the\n",
    "# parameter defines how the variables will be initialized. \n",
    "# TODO : These should be pulled from a config file\n",
    "\n",
    "Theta1 = tf.Variable( tf.truncated_normal([HIDDEN_UNITS, (NUM_FEATURES)], stddev=0.1))\n",
    "\n",
    "Theta2 = tf.Variable( tf.truncated_normal([NUM_LABELS, HIDDEN_UNITS],stddev=0.1))\n",
    "bias2 = tf.Variable(tf.constant(0.1, shape=[NUM_LABELS]))\n",
    "    \n",
    "print('Done')"
   ]
  },
  {
   "cell_type": "code",
   "execution_count": 4,
   "metadata": {},
   "outputs": [
    {
     "name": "stdout",
     "output_type": "stream",
     "text": [
      "Done\n"
     ]
    }
   ],
   "source": [
    "def model(X, Theta1, Theta2, bias):\n",
    "    \"\"\"The Model definition.\"\"\"\n",
    "    # Perceptron\n",
    "    \n",
    "    layer1 = tf.nn.sigmoid(tf.matmul(X, tf.transpose(Theta1)))\n",
    "                        \n",
    "    output = tf.nn.bias_add(tf.matmul(layer1, tf.transpose(Theta2)),bias)\n",
    "\n",
    "    return output\n",
    "    \n",
    "print('Done')"
   ]
  },
  {
   "cell_type": "code",
   "execution_count": 5,
   "metadata": {},
   "outputs": [
    {
     "name": "stdout",
     "output_type": "stream",
     "text": [
      "Done\n"
     ]
    }
   ],
   "source": [
    "yhat = model(train_data_node, Theta1, Theta2, bias2)\n",
    "\n",
    "# Change the weights by subtracting derivative with respect to that weight\n",
    "loss =  tf.reduce_mean(tf.nn.sigmoid_cross_entropy_with_logits(labels=train_labels_node, logits=yhat))\n",
    "# Regularization using L2 Loss function \n",
    "regularizer = tf.nn.l2_loss(Theta1) + tf.nn.l2_loss(Theta2)\n",
    "reg = (lam / tf.to_float(tf.shape(train_labels_node)[0])) * regularizer\n",
    "loss_reg = loss + reg\n",
    "\n",
    "# Optimizer: \n",
    "\n",
    "# Gradient Descent\n",
    "optimizer = tf.contrib.opt.ScipyOptimizerInterface(loss_reg, options={'maxiter':4000})\n",
    "#update_weights = tf.train.GradientDescentOptimizer(0.1).minimize(loss)\n",
    "\n",
    "# Predictions\n",
    "train_prediction = tf.sigmoid(yhat)\n",
    "\n",
    "print('Done')"
   ]
  },
  {
   "cell_type": "code",
   "execution_count": 6,
   "metadata": {
    "collapsed": true
   },
   "outputs": [],
   "source": [
    "# Keep track of the loss at each iteration so we can chart it later\n",
    "J = []\n",
    "\n",
    "def loss_callback():\n",
    "    print \"Recalc...\"\n",
    "    \n",
    "def step_callback(params):\n",
    "    J.append(params)\n",
    "    \n",
    "def minimize(feed_dict, train=True):\n",
    "    \n",
    "    #optimizer.minimize(feed_dict=feed_dict, fetches=[loss_reg], loss_callback=loss_callback)\n",
    "    if (train):\n",
    "        optimizer.minimize(feed_dict=feed_dict)\n",
    "\n",
    "    return loss.eval(feed_dict), train_prediction.eval(feed_dict)\n",
    "\n",
    "def predict(data_X, data_y, lam1, threshold):    \n",
    "    loss, predictions = minimize({train_data_node: data_X, train_labels_node: data_y, lam: lam1}, train=False)\n",
    "    a = np.argmax(predictions,axis=1) \n",
    "    b = np.argmax(data_y,axis=1) \n",
    "    a = a[(predictions > threshold).any(axis=1)]\n",
    "    b = b[(predictions > threshold).any(axis=1)]\n",
    "    precision = np.float32(np.sum(a == b) / np.float32(b.shape[0]))\n",
    "    recall = np.float32(np.sum(a == b) / np.float32(data_y.shape[0])) # Correct Recall\n",
    "    recall = np.float32(b.shape[0]) / data_y.shape[0] # Number of Days traded\n",
    "    F_score = (2.0 * precision * recall) / (precision + recall)\n",
    "    return loss, precision, recall, F_score\n",
    "\n",
    "def train(train_dict, val_dict, threshold, iterations=50):\n",
    "    \n",
    "    metrics = {\n",
    "        \"train_loss\":[],\n",
    "        \"train_precision\":[],\n",
    "        \"train_recall\":[],\n",
    "        \"train_f\":[],\n",
    "        \"val_loss\":[],\n",
    "        \"val_precision\":[],\n",
    "        \"val_recall\":[],\n",
    "        \"val_f\":[]\n",
    "    }\n",
    "    \n",
    "    print \"Training\",\n",
    "    \n",
    "    for i in range(0,iterations):\n",
    "        \n",
    "        while True:\n",
    "            \n",
    "            # Create a new interactive session that we'll use in\n",
    "            # subsequent code cells.\n",
    "            s = tf.InteractiveSession()\n",
    "            s.as_default()\n",
    "\n",
    "            # Initialize all the variables we defined above.\n",
    "            tf.global_variables_initializer().run()\n",
    "\n",
    "            minimize(train_dict)\n",
    "            train_loss, train_precision, train_recall, train_f = predict(train_dict[train_data_node], train_dict[train_labels_node], train_dict[lam], threshold)\n",
    "\n",
    "            if (train_loss < .65):\n",
    "                print \".\",\n",
    "                metrics[\"train_loss\"].append(train_loss)\n",
    "                metrics[\"train_precision\"].append(train_precision)\n",
    "                metrics[\"train_recall\"].append(train_recall)\n",
    "                metrics[\"train_f\"].append(train_f)\n",
    "\n",
    "                val_loss, val_precision, val_recall, val_f = predict(val_dict[train_data_node], val_dict[train_labels_node], val_dict[lam], threshold)\n",
    "\n",
    "                metrics[\"val_loss\"].append(val_loss)\n",
    "                metrics[\"val_precision\"].append(val_precision)\n",
    "                metrics[\"val_recall\"].append(val_recall)\n",
    "                metrics[\"val_f\"].append(val_f)\n",
    "                break;\n",
    "    \n",
    "    results = {\n",
    "        \"train_loss\": {\"mean\":np.nanmean(metrics[\"train_loss\"]), \"std\":np.nanstd(metrics[\"train_loss\"]), \"values\":metrics[\"train_loss\"]},\n",
    "        \"train_precision\": {\"mean\":np.nanmean(metrics[\"train_precision\"]), \"std\":np.nanstd(metrics[\"train_precision\"]), \"values\":metrics[\"train_precision\"]},\n",
    "        \"train_recall\": {\"mean\":np.nanmean(metrics[\"train_recall\"]), \"std\":np.nanstd(metrics[\"train_recall\"]), \"values\":metrics[\"train_recall\"]},\n",
    "        \"train_f\": {\"mean\":np.nanmean(metrics[\"train_f\"]), \"std\":np.nanstd(metrics[\"train_f\"]), \"values\":metrics[\"train_f\"]},\n",
    "        \"val_loss\": {\"mean\":np.nanmean(metrics[\"val_loss\"]), \"std\":np.nanstd(metrics[\"val_loss\"]), \"values\":metrics[\"val_loss\"]},\n",
    "        \"val_precision\":{\"mean\":np.nanmean(metrics[\"val_precision\"]), \"std\":np.nanstd(metrics[\"val_precision\"]), \"values\":metrics[\"val_precision\"]},\n",
    "        \"val_recall\": {\"mean\":np.nanmean(metrics[\"val_recall\"]), \"std\":np.nanstd(metrics[\"val_recall\"]), \"values\":metrics[\"val_recall\"]},\n",
    "        \"val_f\": {\"mean\":np.nanmean(metrics[\"val_f\"]), \"std\":np.nanstd(metrics[\"val_f\"]), \"values\":metrics[\"val_f\"]},\n",
    "    }\n",
    "    \n",
    "    print \".\"\n",
    "    print(\"Iterations : %d Lambda : %.2f, Threshold : %.2f\" % (iterations, val_dict[lam], threshold))\n",
    "    print(\"Training loss : %.2f+/-%.2f, precision : %.2f+/-%.2f, recall : %.2f+/-%.2f, F : %.2f+/-%.2f\" % \n",
    "          (results[\"train_loss\"][\"mean\"], results[\"train_loss\"][\"std\"],\n",
    "           results[\"train_precision\"][\"mean\"], results[\"train_precision\"][\"std\"],\n",
    "           results[\"train_recall\"][\"mean\"], results[\"train_recall\"][\"std\"],\n",
    "           results[\"train_f\"][\"mean\"], results[\"train_f\"][\"std\"]))\n",
    "    print(\"Validation loss : %.2f+/-%.2f, precision : %.2f+/-%.2f, recall : %.2f+/-%.2f, F : %.2f+/-%.2f\" % \n",
    "          (results[\"val_loss\"][\"mean\"], results[\"val_loss\"][\"std\"],\n",
    "           results[\"val_precision\"][\"mean\"], results[\"val_precision\"][\"std\"],\n",
    "           results[\"val_recall\"][\"mean\"], results[\"val_recall\"][\"std\"],\n",
    "           results[\"val_f\"][\"mean\"], results[\"val_f\"][\"std\"]))\n",
    "\n",
    "    return results"
   ]
  },
  {
   "cell_type": "code",
   "execution_count": 7,
   "metadata": {
    "scrolled": false
   },
   "outputs": [
    {
     "name": "stdout",
     "output_type": "stream",
     "text": [
      "Training . . . . . . . ."
     ]
    },
    {
     "name": "stderr",
     "output_type": "stream",
     "text": [
      "/usr/local/lib/python2.7/dist-packages/ipykernel_launcher.py:24: RuntimeWarning: invalid value encountered in divide\n"
     ]
    },
    {
     "name": "stdout",
     "output_type": "stream",
     "text": [
      " . . . . . . . . . . . . . . . . . . . . . . . . . . . . . . . . . . . . . . . . . . .\n",
      "Iterations : 50 Lambda : 0.01, Threshold : 0.80\n",
      "Training loss : 0.48+/-0.01, precision : 0.92+/-0.01, recall : 0.37+/-0.02, F : 0.53+/-0.02\n",
      "Validation loss : 0.82+/-0.05, precision : 0.64+/-0.04, recall : 0.38+/-0.03, F : 0.47+/-0.03\n"
     ]
    },
    {
     "data": {
      "image/png": "[encoded data removed]",
      "text/plain": [
       "<matplotlib.figure.Figure at 0x7f415d42c5d0>"
      ]
     },
     "metadata": {},
     "output_type": "display_data"
    }
   ],
   "source": [
    "### \n",
    "### PREDICTIONS\n",
    "###\n",
    "tf.logging.set_verbosity(tf.logging.ERROR)\n",
    "\n",
    "J = []\n",
    "lam_opt = 0.01\n",
    "THRESHOLD = 0.8\n",
    "\n",
    "\n",
    "train({train_data_node: train_X, train_labels_node: train_y, lam: lam_opt},\n",
    "      {train_data_node: val_X, train_labels_node: val_y, lam: lam_opt}, \n",
    "      THRESHOLD, \n",
    "      50)\n",
    "\n",
    "# Show the fit and the loss over time.\n",
    "fig, (ax1) = plt.subplots(1, 1)\n",
    "plt.subplots_adjust(wspace=.3)\n",
    "fig.set_size_inches(10, 4)\n",
    "\n",
    "x = np.array(range(0, len(J)))\n",
    "ax1.plot(x, np.array(J).ravel())\n",
    "ax1.set_ylabel(\"Loss\")\n",
    "ax1.set_xlabel(\"Iterations\")\n",
    "plt.show()"
   ]
  },
  {
   "cell_type": "code",
   "execution_count": null,
   "metadata": {
    "collapsed": true
   },
   "outputs": [],
   "source": []
  },
  {
   "cell_type": "code",
   "execution_count": 31,
   "metadata": {
    "scrolled": true
   },
   "outputs": [
    {
     "name": "stdout",
     "output_type": "stream",
     "text": [
      " Training . .\n",
      "Iterations : 1 Lambda : 0.00, Threshold : 0.00\n",
      "Training loss : 0.00+/-0.00, precision : 1.00+/-0.00, recall : 1.00+/-0.00, F : 1.00+/-0.00\n",
      "Validation loss : 89.01+/-0.00, precision : 0.53+/-0.00, recall : 1.00+/-0.00, F : 0.69+/-0.00\n",
      "Training . .\n",
      "Iterations : 1 Lambda : 0.00, Threshold : 0.00\n",
      "Training loss : 0.00+/-0.00, precision : 1.00+/-0.00, recall : 1.00+/-0.00, F : 1.00+/-0.00\n",
      "Validation loss : 45.88+/-0.00, precision : 0.54+/-0.00, recall : 1.00+/-0.00, F : 0.70+/-0.00\n",
      "Training . .\n",
      "Iterations : 1 Lambda : 0.00, Threshold : 0.00\n",
      "Training loss : 0.00+/-0.00, precision : 1.00+/-0.00, recall : 1.00+/-0.00, F : 1.00+/-0.00\n",
      "Validation loss : 54.66+/-0.00, precision : 0.53+/-0.00, recall : 1.00+/-0.00, F : 0.69+/-0.00\n",
      "Training . .\n",
      "Iterations : 1 Lambda : 0.00, Threshold : 0.00\n",
      "Training loss : 0.00+/-0.00, precision : 1.00+/-0.00, recall : 1.00+/-0.00, F : 1.00+/-0.00\n",
      "Validation loss : 81.07+/-0.00, precision : 0.58+/-0.00, recall : 1.00+/-0.00, F : 0.74+/-0.00\n",
      "Training . .\n",
      "Iterations : 1 Lambda : 0.00, Threshold : 0.00\n",
      "Training loss : 0.00+/-0.00, precision : 1.00+/-0.00, recall : 1.00+/-0.00, F : 1.00+/-0.00\n",
      "Validation loss : 26.83+/-0.00, precision : 0.53+/-0.00, recall : 1.00+/-0.00, F : 0.69+/-0.00\n",
      "Training . .\n",
      "Iterations : 1 Lambda : 0.00, Threshold : 0.00\n",
      "Training loss : 0.00+/-0.00, precision : 1.00+/-0.00, recall : 1.00+/-0.00, F : 1.00+/-0.00\n",
      "Validation loss : 56.92+/-0.00, precision : 0.49+/-0.00, recall : 1.00+/-0.00, F : 0.66+/-0.00\n",
      "Training . .\n",
      "Iterations : 1 Lambda : 0.00, Threshold : 0.00\n",
      "Training loss : 0.00+/-0.00, precision : 1.00+/-0.00, recall : 1.00+/-0.00, F : 1.00+/-0.00\n",
      "Validation loss : 40.53+/-0.00, precision : 0.50+/-0.00, recall : 1.00+/-0.00, F : 0.67+/-0.00\n",
      "Training . .\n",
      "Iterations : 1 Lambda : 0.00, Threshold : 0.00\n",
      "Training loss : 0.00+/-0.00, precision : 1.00+/-0.00, recall : 1.00+/-0.00, F : 1.00+/-0.00\n",
      "Validation loss : 24.54+/-0.00, precision : 0.51+/-0.00, recall : 1.00+/-0.00, F : 0.67+/-0.00\n",
      "Training . .\n",
      "Iterations : 1 Lambda : 0.00, Threshold : 0.00\n",
      "Training loss : 0.00+/-0.00, precision : 1.00+/-0.00, recall : 1.00+/-0.00, F : 1.00+/-0.00\n",
      "Validation loss : 18.75+/-0.00, precision : 0.50+/-0.00, recall : 1.00+/-0.00, F : 0.66+/-0.00\n",
      "Training . .\n",
      "Iterations : 1 Lambda : 0.00, Threshold : 0.00\n",
      "Training loss : 0.00+/-0.00, precision : 1.00+/-0.00, recall : 1.00+/-0.00, F : 1.00+/-0.00\n",
      "Validation loss : 158.39+/-0.00, precision : 0.51+/-0.00, recall : 1.00+/-0.00, F : 0.68+/-0.00\n",
      "Training . .\n",
      "Iterations : 1 Lambda : 0.00, Threshold : 0.00\n",
      "Training loss : 0.00+/-0.00, precision : 1.00+/-0.00, recall : 1.00+/-0.00, F : 1.00+/-0.00\n",
      "Validation loss : 47.93+/-0.00, precision : 0.57+/-0.00, recall : 1.00+/-0.00, F : 0.72+/-0.00\n",
      "Training . .\n",
      "Iterations : 1 Lambda : 0.00, Threshold : 0.00\n",
      "Training loss : 0.00+/-0.00, precision : 1.00+/-0.00, recall : 1.00+/-0.00, F : 1.00+/-0.00\n",
      "Validation loss : 70.41+/-0.00, precision : 0.48+/-0.00, recall : 1.00+/-0.00, F : 0.65+/-0.00\n",
      "Training . .\n",
      "Iterations : 1 Lambda : 0.00, Threshold : 0.00\n",
      "Training loss : 0.00+/-0.00, precision : 1.00+/-0.00, recall : 1.00+/-0.00, F : 1.00+/-0.00\n",
      "Validation loss : 17.67+/-0.00, precision : 0.52+/-0.00, recall : 1.00+/-0.00, F : 0.68+/-0.00\n",
      "Training . .\n",
      "Iterations : 1 Lambda : 0.00, Threshold : 0.00\n",
      "Training loss : 0.00+/-0.00, precision : 1.00+/-0.00, recall : 1.00+/-0.00, F : 1.00+/-0.00\n",
      "Validation loss : 54.08+/-0.00, precision : 0.51+/-0.00, recall : 1.00+/-0.00, F : 0.67+/-0.00\n",
      "Training . .\n",
      "Iterations : 1 Lambda : 0.00, Threshold : 0.00\n",
      "Training loss : 0.01+/-0.00, precision : 0.99+/-0.00, recall : 1.00+/-0.00, F : 1.00+/-0.00\n",
      "Validation loss : 472.02+/-0.00, precision : 0.52+/-0.00, recall : 1.00+/-0.00, F : 0.69+/-0.00\n",
      "Training . .\n",
      "Iterations : 1 Lambda : 0.00, Threshold : 0.00\n",
      "Training loss : 0.00+/-0.00, precision : 1.00+/-0.00, recall : 1.00+/-0.00, F : 1.00+/-0.00\n",
      "Validation loss : 20.19+/-0.00, precision : 0.52+/-0.00, recall : 1.00+/-0.00, F : 0.69+/-0.00\n",
      "Training . .\n",
      "Iterations : 1 Lambda : 0.00, Threshold : 0.00\n",
      "Training loss : 0.00+/-0.00, precision : 1.00+/-0.00, recall : 1.00+/-0.00, F : 1.00+/-0.00\n",
      "Validation loss : 20.14+/-0.00, precision : 0.56+/-0.00, recall : 1.00+/-0.00, F : 0.72+/-0.00\n",
      "Training . .\n",
      "Iterations : 1 Lambda : 0.00, Threshold : 0.00\n",
      "Training loss : 0.00+/-0.00, precision : 1.00+/-0.00, recall : 1.00+/-0.00, F : 1.00+/-0.00\n",
      "Validation loss : 25.63+/-0.00, precision : 0.54+/-0.00, recall : 1.00+/-0.00, F : 0.70+/-0.00\n",
      "Training . .\n",
      "Iterations : 1 Lambda : 0.00, Threshold : 0.00\n",
      "Training loss : 0.00+/-0.00, precision : 1.00+/-0.00, recall : 1.00+/-0.00, F : 1.00+/-0.00\n",
      "Validation loss : 34.55+/-0.00, precision : 0.54+/-0.00, recall : 1.00+/-0.00, F : 0.70+/-0.00\n",
      "Training . .\n",
      "Iterations : 1 Lambda : 0.00, Threshold : 0.00\n",
      "Training loss : 0.00+/-0.00, precision : 1.00+/-0.00, recall : 1.00+/-0.00, F : 1.00+/-0.00\n",
      "Validation loss : 14.94+/-0.00, precision : 0.48+/-0.00, recall : 1.00+/-0.00, F : 0.65+/-0.00\n",
      "Training . .\n",
      "Iterations : 1 Lambda : 0.00, Threshold : 0.00\n",
      "Training loss : 0.00+/-0.00, precision : 1.00+/-0.00, recall : 1.00+/-0.00, F : 1.00+/-0.00\n",
      "Validation loss : 23.76+/-0.00, precision : 0.58+/-0.00, recall : 1.00+/-0.00, F : 0.73+/-0.00\n",
      "Training"
     ]
    },
    {
     "ename": "KeyboardInterrupt",
     "evalue": "",
     "output_type": "error",
     "traceback": [
      "\u001b[0;31m---------------------------------------------------------------------------\u001b[0m",
      "\u001b[0;31mKeyboardInterrupt\u001b[0m                         Traceback (most recent call last)",
      "\u001b[0;32m<ipython-input-31-ca3af26a60f6>\u001b[0m in \u001b[0;36m<module>\u001b[0;34m()\u001b[0m\n\u001b[1;32m     26\u001b[0m             \u001b[0;34m{\u001b[0m\u001b[0mtrain_data_node\u001b[0m\u001b[0;34m:\u001b[0m \u001b[0mval_X\u001b[0m\u001b[0;34m,\u001b[0m \u001b[0mtrain_labels_node\u001b[0m\u001b[0;34m:\u001b[0m \u001b[0mval_y\u001b[0m\u001b[0;34m,\u001b[0m \u001b[0mlam\u001b[0m\u001b[0;34m:\u001b[0m \u001b[0mmyLam\u001b[0m\u001b[0;34m}\u001b[0m\u001b[0;34m,\u001b[0m\u001b[0;34m\u001b[0m\u001b[0m\n\u001b[1;32m     27\u001b[0m              \u001b[0mTHRESHOLD\u001b[0m\u001b[0;34m,\u001b[0m\u001b[0;34m\u001b[0m\u001b[0m\n\u001b[0;32m---> 28\u001b[0;31m               \u001b[0;36m1\u001b[0m\u001b[0;34m\u001b[0m\u001b[0m\n\u001b[0m\u001b[1;32m     29\u001b[0m             )\n\u001b[1;32m     30\u001b[0m \u001b[0;34m\u001b[0m\u001b[0m\n",
      "\u001b[0;32m<ipython-input-29-e6209aea64d4>\u001b[0m in \u001b[0;36mtrain\u001b[0;34m(train_dict, val_dict, threshold, iterations)\u001b[0m\n\u001b[1;32m     55\u001b[0m             \u001b[0mtf\u001b[0m\u001b[0;34m.\u001b[0m\u001b[0mglobal_variables_initializer\u001b[0m\u001b[0;34m(\u001b[0m\u001b[0;34m)\u001b[0m\u001b[0;34m.\u001b[0m\u001b[0mrun\u001b[0m\u001b[0;34m(\u001b[0m\u001b[0;34m)\u001b[0m\u001b[0;34m\u001b[0m\u001b[0m\n\u001b[1;32m     56\u001b[0m \u001b[0;34m\u001b[0m\u001b[0m\n\u001b[0;32m---> 57\u001b[0;31m             \u001b[0mminimize\u001b[0m\u001b[0;34m(\u001b[0m\u001b[0mtrain_dict\u001b[0m\u001b[0;34m)\u001b[0m\u001b[0;34m\u001b[0m\u001b[0m\n\u001b[0m\u001b[1;32m     58\u001b[0m             \u001b[0mtrain_loss\u001b[0m\u001b[0;34m,\u001b[0m \u001b[0mtrain_precision\u001b[0m\u001b[0;34m,\u001b[0m \u001b[0mtrain_recall\u001b[0m\u001b[0;34m,\u001b[0m \u001b[0mtrain_f\u001b[0m \u001b[0;34m=\u001b[0m \u001b[0mpredict\u001b[0m\u001b[0;34m(\u001b[0m\u001b[0mtrain_dict\u001b[0m\u001b[0;34m[\u001b[0m\u001b[0mtrain_data_node\u001b[0m\u001b[0;34m]\u001b[0m\u001b[0;34m,\u001b[0m \u001b[0mtrain_dict\u001b[0m\u001b[0;34m[\u001b[0m\u001b[0mtrain_labels_node\u001b[0m\u001b[0;34m]\u001b[0m\u001b[0;34m,\u001b[0m \u001b[0mtrain_dict\u001b[0m\u001b[0;34m[\u001b[0m\u001b[0mlam\u001b[0m\u001b[0;34m]\u001b[0m\u001b[0;34m,\u001b[0m \u001b[0mthreshold\u001b[0m\u001b[0;34m)\u001b[0m\u001b[0;34m\u001b[0m\u001b[0m\n\u001b[1;32m     59\u001b[0m \u001b[0;34m\u001b[0m\u001b[0m\n",
      "\u001b[0;32m<ipython-input-29-e6209aea64d4>\u001b[0m in \u001b[0;36mminimize\u001b[0;34m(feed_dict, train)\u001b[0m\n\u001b[1;32m     12\u001b[0m     \u001b[0;31m#optimizer.minimize(feed_dict=feed_dict, fetches=[loss_reg], loss_callback=loss_callback)\u001b[0m\u001b[0;34m\u001b[0m\u001b[0;34m\u001b[0m\u001b[0m\n\u001b[1;32m     13\u001b[0m     \u001b[0;32mif\u001b[0m \u001b[0;34m(\u001b[0m\u001b[0mtrain\u001b[0m\u001b[0;34m)\u001b[0m\u001b[0;34m:\u001b[0m\u001b[0;34m\u001b[0m\u001b[0m\n\u001b[0;32m---> 14\u001b[0;31m         \u001b[0moptimizer\u001b[0m\u001b[0;34m.\u001b[0m\u001b[0mminimize\u001b[0m\u001b[0;34m(\u001b[0m\u001b[0mfeed_dict\u001b[0m\u001b[0;34m=\u001b[0m\u001b[0mfeed_dict\u001b[0m\u001b[0;34m)\u001b[0m\u001b[0;34m\u001b[0m\u001b[0m\n\u001b[0m\u001b[1;32m     15\u001b[0m \u001b[0;34m\u001b[0m\u001b[0m\n\u001b[1;32m     16\u001b[0m     \u001b[0;32mreturn\u001b[0m \u001b[0mloss\u001b[0m\u001b[0;34m.\u001b[0m\u001b[0meval\u001b[0m\u001b[0;34m(\u001b[0m\u001b[0mfeed_dict\u001b[0m\u001b[0;34m)\u001b[0m\u001b[0;34m,\u001b[0m \u001b[0mtrain_prediction\u001b[0m\u001b[0;34m.\u001b[0m\u001b[0meval\u001b[0m\u001b[0;34m(\u001b[0m\u001b[0mfeed_dict\u001b[0m\u001b[0;34m)\u001b[0m\u001b[0;34m\u001b[0m\u001b[0m\n",
      "\u001b[0;32m/usr/local/lib/python2.7/dist-packages/tensorflow/contrib/opt/python/training/external_optimizer.pyc\u001b[0m in \u001b[0;36mminimize\u001b[0;34m(self, session, feed_dict, fetches, step_callback, loss_callback)\u001b[0m\n\u001b[1;32m    156\u001b[0m         \u001b[0minequality_funcs\u001b[0m\u001b[0;34m=\u001b[0m\u001b[0minequality_funcs\u001b[0m\u001b[0;34m,\u001b[0m\u001b[0;34m\u001b[0m\u001b[0m\n\u001b[1;32m    157\u001b[0m         \u001b[0minequality_grad_funcs\u001b[0m\u001b[0;34m=\u001b[0m\u001b[0minequality_grad_funcs\u001b[0m\u001b[0;34m,\u001b[0m\u001b[0;34m\u001b[0m\u001b[0m\n\u001b[0;32m--> 158\u001b[0;31m         step_callback=step_callback, optimizer_kwargs=self.optimizer_kwargs)\n\u001b[0m\u001b[1;32m    159\u001b[0m     var_vals = [packed_var_val[packing_slice]\n\u001b[1;32m    160\u001b[0m                 for packing_slice in self._packing_slices]\n",
      "\u001b[0;32m/usr/local/lib/python2.7/dist-packages/tensorflow/contrib/opt/python/training/external_optimizer.pyc\u001b[0m in \u001b[0;36m_minimize\u001b[0;34m(self, initial_val, loss_grad_func, equality_funcs, equality_grad_funcs, inequality_funcs, inequality_grad_funcs, step_callback, optimizer_kwargs)\u001b[0m\n\u001b[1;32m    315\u001b[0m \u001b[0;34m\u001b[0m\u001b[0m\n\u001b[1;32m    316\u001b[0m     \u001b[0;32mimport\u001b[0m \u001b[0mscipy\u001b[0m\u001b[0;34m.\u001b[0m\u001b[0moptimize\u001b[0m  \u001b[0;31m# pylint: disable=g-import-not-at-top\u001b[0m\u001b[0;34m\u001b[0m\u001b[0m\n\u001b[0;32m--> 317\u001b[0;31m     \u001b[0mresult\u001b[0m \u001b[0;34m=\u001b[0m \u001b[0mscipy\u001b[0m\u001b[0;34m.\u001b[0m\u001b[0moptimize\u001b[0m\u001b[0;34m.\u001b[0m\u001b[0mminimize\u001b[0m\u001b[0;34m(\u001b[0m\u001b[0;34m*\u001b[0m\u001b[0mminimize_args\u001b[0m\u001b[0;34m,\u001b[0m \u001b[0;34m**\u001b[0m\u001b[0mminimize_kwargs\u001b[0m\u001b[0;34m)\u001b[0m\u001b[0;34m\u001b[0m\u001b[0m\n\u001b[0m\u001b[1;32m    318\u001b[0m     logging.info('Optimization terminated with:\\n'\n\u001b[1;32m    319\u001b[0m                  \u001b[0;34m'  Message: %s\\n'\u001b[0m\u001b[0;34m\u001b[0m\u001b[0m\n",
      "\u001b[0;32m/usr/local/lib/python2.7/dist-packages/scipy/optimize/_minimize.pyc\u001b[0m in \u001b[0;36mminimize\u001b[0;34m(fun, x0, args, method, jac, hess, hessp, bounds, constraints, tol, callback, options)\u001b[0m\n\u001b[1;32m    448\u001b[0m     \u001b[0;32melif\u001b[0m \u001b[0mmeth\u001b[0m \u001b[0;34m==\u001b[0m \u001b[0;34m'l-bfgs-b'\u001b[0m\u001b[0;34m:\u001b[0m\u001b[0;34m\u001b[0m\u001b[0m\n\u001b[1;32m    449\u001b[0m         return _minimize_lbfgsb(fun, x0, args, jac, bounds,\n\u001b[0;32m--> 450\u001b[0;31m                                 callback=callback, **options)\n\u001b[0m\u001b[1;32m    451\u001b[0m     \u001b[0;32melif\u001b[0m \u001b[0mmeth\u001b[0m \u001b[0;34m==\u001b[0m \u001b[0;34m'tnc'\u001b[0m\u001b[0;34m:\u001b[0m\u001b[0;34m\u001b[0m\u001b[0m\n\u001b[1;32m    452\u001b[0m         return _minimize_tnc(fun, x0, args, jac, bounds, callback=callback,\n",
      "\u001b[0;32m/usr/local/lib/python2.7/dist-packages/scipy/optimize/lbfgsb.pyc\u001b[0m in \u001b[0;36m_minimize_lbfgsb\u001b[0;34m(fun, x0, args, jac, bounds, disp, maxcor, ftol, gtol, eps, maxfun, maxiter, iprint, callback, maxls, **unknown_options)\u001b[0m\n\u001b[1;32m    326\u001b[0m             \u001b[0;31m# until the completion of the current minimization iteration.\u001b[0m\u001b[0;34m\u001b[0m\u001b[0;34m\u001b[0m\u001b[0m\n\u001b[1;32m    327\u001b[0m             \u001b[0;31m# Overwrite f and g:\u001b[0m\u001b[0;34m\u001b[0m\u001b[0;34m\u001b[0m\u001b[0m\n\u001b[0;32m--> 328\u001b[0;31m             \u001b[0mf\u001b[0m\u001b[0;34m,\u001b[0m \u001b[0mg\u001b[0m \u001b[0;34m=\u001b[0m \u001b[0mfunc_and_grad\u001b[0m\u001b[0;34m(\u001b[0m\u001b[0mx\u001b[0m\u001b[0;34m)\u001b[0m\u001b[0;34m\u001b[0m\u001b[0m\n\u001b[0m\u001b[1;32m    329\u001b[0m         \u001b[0;32melif\u001b[0m \u001b[0mtask_str\u001b[0m\u001b[0;34m.\u001b[0m\u001b[0mstartswith\u001b[0m\u001b[0;34m(\u001b[0m\u001b[0;34mb'NEW_X'\u001b[0m\u001b[0;34m)\u001b[0m\u001b[0;34m:\u001b[0m\u001b[0;34m\u001b[0m\u001b[0m\n\u001b[1;32m    330\u001b[0m             \u001b[0;31m# new iteration\u001b[0m\u001b[0;34m\u001b[0m\u001b[0;34m\u001b[0m\u001b[0m\n",
      "\u001b[0;32m/usr/local/lib/python2.7/dist-packages/scipy/optimize/lbfgsb.pyc\u001b[0m in \u001b[0;36mfunc_and_grad\u001b[0;34m(x)\u001b[0m\n\u001b[1;32m    276\u001b[0m     \u001b[0;32melse\u001b[0m\u001b[0;34m:\u001b[0m\u001b[0;34m\u001b[0m\u001b[0m\n\u001b[1;32m    277\u001b[0m         \u001b[0;32mdef\u001b[0m \u001b[0mfunc_and_grad\u001b[0m\u001b[0;34m(\u001b[0m\u001b[0mx\u001b[0m\u001b[0;34m)\u001b[0m\u001b[0;34m:\u001b[0m\u001b[0;34m\u001b[0m\u001b[0m\n\u001b[0;32m--> 278\u001b[0;31m             \u001b[0mf\u001b[0m \u001b[0;34m=\u001b[0m \u001b[0mfun\u001b[0m\u001b[0;34m(\u001b[0m\u001b[0mx\u001b[0m\u001b[0;34m,\u001b[0m \u001b[0;34m*\u001b[0m\u001b[0margs\u001b[0m\u001b[0;34m)\u001b[0m\u001b[0;34m\u001b[0m\u001b[0m\n\u001b[0m\u001b[1;32m    279\u001b[0m             \u001b[0mg\u001b[0m \u001b[0;34m=\u001b[0m \u001b[0mjac\u001b[0m\u001b[0;34m(\u001b[0m\u001b[0mx\u001b[0m\u001b[0;34m,\u001b[0m \u001b[0;34m*\u001b[0m\u001b[0margs\u001b[0m\u001b[0;34m)\u001b[0m\u001b[0;34m\u001b[0m\u001b[0m\n\u001b[1;32m    280\u001b[0m             \u001b[0;32mreturn\u001b[0m \u001b[0mf\u001b[0m\u001b[0;34m,\u001b[0m \u001b[0mg\u001b[0m\u001b[0;34m\u001b[0m\u001b[0m\n",
      "\u001b[0;32m/usr/local/lib/python2.7/dist-packages/scipy/optimize/optimize.pyc\u001b[0m in \u001b[0;36mfunction_wrapper\u001b[0;34m(*wrapper_args)\u001b[0m\n\u001b[1;32m    290\u001b[0m     \u001b[0;32mdef\u001b[0m \u001b[0mfunction_wrapper\u001b[0m\u001b[0;34m(\u001b[0m\u001b[0;34m*\u001b[0m\u001b[0mwrapper_args\u001b[0m\u001b[0;34m)\u001b[0m\u001b[0;34m:\u001b[0m\u001b[0;34m\u001b[0m\u001b[0m\n\u001b[1;32m    291\u001b[0m         \u001b[0mncalls\u001b[0m\u001b[0;34m[\u001b[0m\u001b[0;36m0\u001b[0m\u001b[0;34m]\u001b[0m \u001b[0;34m+=\u001b[0m \u001b[0;36m1\u001b[0m\u001b[0;34m\u001b[0m\u001b[0m\n\u001b[0;32m--> 292\u001b[0;31m         \u001b[0;32mreturn\u001b[0m \u001b[0mfunction\u001b[0m\u001b[0;34m(\u001b[0m\u001b[0;34m*\u001b[0m\u001b[0;34m(\u001b[0m\u001b[0mwrapper_args\u001b[0m \u001b[0;34m+\u001b[0m \u001b[0margs\u001b[0m\u001b[0;34m)\u001b[0m\u001b[0;34m)\u001b[0m\u001b[0;34m\u001b[0m\u001b[0m\n\u001b[0m\u001b[1;32m    293\u001b[0m \u001b[0;34m\u001b[0m\u001b[0m\n\u001b[1;32m    294\u001b[0m     \u001b[0;32mreturn\u001b[0m \u001b[0mncalls\u001b[0m\u001b[0;34m,\u001b[0m \u001b[0mfunction_wrapper\u001b[0m\u001b[0;34m\u001b[0m\u001b[0m\n",
      "\u001b[0;32m/usr/local/lib/python2.7/dist-packages/scipy/optimize/optimize.pyc\u001b[0m in \u001b[0;36m__call__\u001b[0;34m(self, x, *args)\u001b[0m\n\u001b[1;32m     61\u001b[0m     \u001b[0;32mdef\u001b[0m \u001b[0m__call__\u001b[0m\u001b[0;34m(\u001b[0m\u001b[0mself\u001b[0m\u001b[0;34m,\u001b[0m \u001b[0mx\u001b[0m\u001b[0;34m,\u001b[0m \u001b[0;34m*\u001b[0m\u001b[0margs\u001b[0m\u001b[0;34m)\u001b[0m\u001b[0;34m:\u001b[0m\u001b[0;34m\u001b[0m\u001b[0m\n\u001b[1;32m     62\u001b[0m         \u001b[0mself\u001b[0m\u001b[0;34m.\u001b[0m\u001b[0mx\u001b[0m \u001b[0;34m=\u001b[0m \u001b[0mnumpy\u001b[0m\u001b[0;34m.\u001b[0m\u001b[0masarray\u001b[0m\u001b[0;34m(\u001b[0m\u001b[0mx\u001b[0m\u001b[0;34m)\u001b[0m\u001b[0;34m.\u001b[0m\u001b[0mcopy\u001b[0m\u001b[0;34m(\u001b[0m\u001b[0;34m)\u001b[0m\u001b[0;34m\u001b[0m\u001b[0m\n\u001b[0;32m---> 63\u001b[0;31m         \u001b[0mfg\u001b[0m \u001b[0;34m=\u001b[0m \u001b[0mself\u001b[0m\u001b[0;34m.\u001b[0m\u001b[0mfun\u001b[0m\u001b[0;34m(\u001b[0m\u001b[0mx\u001b[0m\u001b[0;34m,\u001b[0m \u001b[0;34m*\u001b[0m\u001b[0margs\u001b[0m\u001b[0;34m)\u001b[0m\u001b[0;34m\u001b[0m\u001b[0m\n\u001b[0m\u001b[1;32m     64\u001b[0m         \u001b[0mself\u001b[0m\u001b[0;34m.\u001b[0m\u001b[0mjac\u001b[0m \u001b[0;34m=\u001b[0m \u001b[0mfg\u001b[0m\u001b[0;34m[\u001b[0m\u001b[0;36m1\u001b[0m\u001b[0;34m]\u001b[0m\u001b[0;34m\u001b[0m\u001b[0m\n\u001b[1;32m     65\u001b[0m         \u001b[0;32mreturn\u001b[0m \u001b[0mfg\u001b[0m\u001b[0;34m[\u001b[0m\u001b[0;36m0\u001b[0m\u001b[0;34m]\u001b[0m\u001b[0;34m\u001b[0m\u001b[0m\n",
      "\u001b[0;32m/usr/local/lib/python2.7/dist-packages/tensorflow/contrib/opt/python/training/external_optimizer.pyc\u001b[0m in \u001b[0;36mloss_grad_func_wrapper\u001b[0;34m(x)\u001b[0m\n\u001b[1;32m    290\u001b[0m     \u001b[0;32mdef\u001b[0m \u001b[0mloss_grad_func_wrapper\u001b[0m\u001b[0;34m(\u001b[0m\u001b[0mx\u001b[0m\u001b[0;34m)\u001b[0m\u001b[0;34m:\u001b[0m\u001b[0;34m\u001b[0m\u001b[0m\n\u001b[1;32m    291\u001b[0m       \u001b[0;31m# SciPy's L-BFGS-B Fortran implementation requires gradients as doubles.\u001b[0m\u001b[0;34m\u001b[0m\u001b[0;34m\u001b[0m\u001b[0m\n\u001b[0;32m--> 292\u001b[0;31m       \u001b[0mloss\u001b[0m\u001b[0;34m,\u001b[0m \u001b[0mgradient\u001b[0m \u001b[0;34m=\u001b[0m \u001b[0mloss_grad_func\u001b[0m\u001b[0;34m(\u001b[0m\u001b[0mx\u001b[0m\u001b[0;34m)\u001b[0m\u001b[0;34m\u001b[0m\u001b[0m\n\u001b[0m\u001b[1;32m    293\u001b[0m       \u001b[0;32mreturn\u001b[0m \u001b[0mloss\u001b[0m\u001b[0;34m,\u001b[0m \u001b[0mgradient\u001b[0m\u001b[0;34m.\u001b[0m\u001b[0mastype\u001b[0m\u001b[0;34m(\u001b[0m\u001b[0;34m'float64'\u001b[0m\u001b[0;34m)\u001b[0m\u001b[0;34m\u001b[0m\u001b[0m\n\u001b[1;32m    294\u001b[0m \u001b[0;34m\u001b[0m\u001b[0m\n",
      "\u001b[0;32m/usr/local/lib/python2.7/dist-packages/tensorflow/contrib/opt/python/training/external_optimizer.pyc\u001b[0m in \u001b[0;36meval_func\u001b[0;34m(x)\u001b[0m\n\u001b[1;32m    223\u001b[0m \u001b[0;34m\u001b[0m\u001b[0m\n\u001b[1;32m    224\u001b[0m       augmented_fetch_vals = session.run(\n\u001b[0;32m--> 225\u001b[0;31m           augmented_fetches, feed_dict=augmented_feed_dict)\n\u001b[0m\u001b[1;32m    226\u001b[0m \u001b[0;34m\u001b[0m\u001b[0m\n\u001b[1;32m    227\u001b[0m       \u001b[0;32mif\u001b[0m \u001b[0mcallable\u001b[0m\u001b[0;34m(\u001b[0m\u001b[0mcallback\u001b[0m\u001b[0;34m)\u001b[0m\u001b[0;34m:\u001b[0m\u001b[0;34m\u001b[0m\u001b[0m\n",
      "\u001b[0;32m/usr/local/lib/python2.7/dist-packages/tensorflow/python/client/session.pyc\u001b[0m in \u001b[0;36mrun\u001b[0;34m(self, fetches, feed_dict, options, run_metadata)\u001b[0m\n\u001b[1;32m    776\u001b[0m     \u001b[0;32mtry\u001b[0m\u001b[0;34m:\u001b[0m\u001b[0;34m\u001b[0m\u001b[0m\n\u001b[1;32m    777\u001b[0m       result = self._run(None, fetches, feed_dict, options_ptr,\n\u001b[0;32m--> 778\u001b[0;31m                          run_metadata_ptr)\n\u001b[0m\u001b[1;32m    779\u001b[0m       \u001b[0;32mif\u001b[0m \u001b[0mrun_metadata\u001b[0m\u001b[0;34m:\u001b[0m\u001b[0;34m\u001b[0m\u001b[0m\n\u001b[1;32m    780\u001b[0m         \u001b[0mproto_data\u001b[0m \u001b[0;34m=\u001b[0m \u001b[0mtf_session\u001b[0m\u001b[0;34m.\u001b[0m\u001b[0mTF_GetBuffer\u001b[0m\u001b[0;34m(\u001b[0m\u001b[0mrun_metadata_ptr\u001b[0m\u001b[0;34m)\u001b[0m\u001b[0;34m\u001b[0m\u001b[0m\n",
      "\u001b[0;32m/usr/local/lib/python2.7/dist-packages/tensorflow/python/client/session.pyc\u001b[0m in \u001b[0;36m_run\u001b[0;34m(self, handle, fetches, feed_dict, options, run_metadata)\u001b[0m\n\u001b[1;32m    980\u001b[0m     \u001b[0;32mif\u001b[0m \u001b[0mfinal_fetches\u001b[0m \u001b[0;32mor\u001b[0m \u001b[0mfinal_targets\u001b[0m\u001b[0;34m:\u001b[0m\u001b[0;34m\u001b[0m\u001b[0m\n\u001b[1;32m    981\u001b[0m       results = self._do_run(handle, final_targets, final_fetches,\n\u001b[0;32m--> 982\u001b[0;31m                              feed_dict_string, options, run_metadata)\n\u001b[0m\u001b[1;32m    983\u001b[0m     \u001b[0;32melse\u001b[0m\u001b[0;34m:\u001b[0m\u001b[0;34m\u001b[0m\u001b[0m\n\u001b[1;32m    984\u001b[0m       \u001b[0mresults\u001b[0m \u001b[0;34m=\u001b[0m \u001b[0;34m[\u001b[0m\u001b[0;34m]\u001b[0m\u001b[0;34m\u001b[0m\u001b[0m\n",
      "\u001b[0;32m/usr/local/lib/python2.7/dist-packages/tensorflow/python/client/session.pyc\u001b[0m in \u001b[0;36m_do_run\u001b[0;34m(self, handle, target_list, fetch_list, feed_dict, options, run_metadata)\u001b[0m\n\u001b[1;32m   1030\u001b[0m     \u001b[0;32mif\u001b[0m \u001b[0mhandle\u001b[0m \u001b[0;32mis\u001b[0m \u001b[0mNone\u001b[0m\u001b[0;34m:\u001b[0m\u001b[0;34m\u001b[0m\u001b[0m\n\u001b[1;32m   1031\u001b[0m       return self._do_call(_run_fn, self._session, feed_dict, fetch_list,\n\u001b[0;32m-> 1032\u001b[0;31m                            target_list, options, run_metadata)\n\u001b[0m\u001b[1;32m   1033\u001b[0m     \u001b[0;32melse\u001b[0m\u001b[0;34m:\u001b[0m\u001b[0;34m\u001b[0m\u001b[0m\n\u001b[1;32m   1034\u001b[0m       return self._do_call(_prun_fn, self._session, handle, feed_dict,\n",
      "\u001b[0;32m/usr/local/lib/python2.7/dist-packages/tensorflow/python/client/session.pyc\u001b[0m in \u001b[0;36m_do_call\u001b[0;34m(self, fn, *args)\u001b[0m\n\u001b[1;32m   1037\u001b[0m   \u001b[0;32mdef\u001b[0m \u001b[0m_do_call\u001b[0m\u001b[0;34m(\u001b[0m\u001b[0mself\u001b[0m\u001b[0;34m,\u001b[0m \u001b[0mfn\u001b[0m\u001b[0;34m,\u001b[0m \u001b[0;34m*\u001b[0m\u001b[0margs\u001b[0m\u001b[0;34m)\u001b[0m\u001b[0;34m:\u001b[0m\u001b[0;34m\u001b[0m\u001b[0m\n\u001b[1;32m   1038\u001b[0m     \u001b[0;32mtry\u001b[0m\u001b[0;34m:\u001b[0m\u001b[0;34m\u001b[0m\u001b[0m\n\u001b[0;32m-> 1039\u001b[0;31m       \u001b[0;32mreturn\u001b[0m \u001b[0mfn\u001b[0m\u001b[0;34m(\u001b[0m\u001b[0;34m*\u001b[0m\u001b[0margs\u001b[0m\u001b[0;34m)\u001b[0m\u001b[0;34m\u001b[0m\u001b[0m\n\u001b[0m\u001b[1;32m   1040\u001b[0m     \u001b[0;32mexcept\u001b[0m \u001b[0merrors\u001b[0m\u001b[0;34m.\u001b[0m\u001b[0mOpError\u001b[0m \u001b[0;32mas\u001b[0m \u001b[0me\u001b[0m\u001b[0;34m:\u001b[0m\u001b[0;34m\u001b[0m\u001b[0m\n\u001b[1;32m   1041\u001b[0m       \u001b[0mmessage\u001b[0m \u001b[0;34m=\u001b[0m \u001b[0mcompat\u001b[0m\u001b[0;34m.\u001b[0m\u001b[0mas_text\u001b[0m\u001b[0;34m(\u001b[0m\u001b[0me\u001b[0m\u001b[0;34m.\u001b[0m\u001b[0mmessage\u001b[0m\u001b[0;34m)\u001b[0m\u001b[0;34m\u001b[0m\u001b[0m\n",
      "\u001b[0;32m/usr/local/lib/python2.7/dist-packages/tensorflow/python/client/session.pyc\u001b[0m in \u001b[0;36m_run_fn\u001b[0;34m(session, feed_dict, fetch_list, target_list, options, run_metadata)\u001b[0m\n\u001b[1;32m   1019\u001b[0m         return tf_session.TF_Run(session, options,\n\u001b[1;32m   1020\u001b[0m                                  \u001b[0mfeed_dict\u001b[0m\u001b[0;34m,\u001b[0m \u001b[0mfetch_list\u001b[0m\u001b[0;34m,\u001b[0m \u001b[0mtarget_list\u001b[0m\u001b[0;34m,\u001b[0m\u001b[0;34m\u001b[0m\u001b[0m\n\u001b[0;32m-> 1021\u001b[0;31m                                  status, run_metadata)\n\u001b[0m\u001b[1;32m   1022\u001b[0m \u001b[0;34m\u001b[0m\u001b[0m\n\u001b[1;32m   1023\u001b[0m     \u001b[0;32mdef\u001b[0m \u001b[0m_prun_fn\u001b[0m\u001b[0;34m(\u001b[0m\u001b[0msession\u001b[0m\u001b[0;34m,\u001b[0m \u001b[0mhandle\u001b[0m\u001b[0;34m,\u001b[0m \u001b[0mfeed_dict\u001b[0m\u001b[0;34m,\u001b[0m \u001b[0mfetch_list\u001b[0m\u001b[0;34m)\u001b[0m\u001b[0;34m:\u001b[0m\u001b[0;34m\u001b[0m\u001b[0m\n",
      "\u001b[0;31mKeyboardInterrupt\u001b[0m: "
     ]
    }
   ],
   "source": [
    "###\n",
    "### LEARNING CURVES FOR TRAINING SET AND CROSS-VALIDATION SET \n",
    "###\n",
    "train_losses = []\n",
    "val_losses = [0]\n",
    "perc_losses = [0]\n",
    "tf.logging.set_verbosity(tf.logging.ERROR)\n",
    "\n",
    "metrics = {\n",
    "        \"train_loss\":[],\n",
    "        \"train_precision\":[],\n",
    "        \"train_recall\":[],\n",
    "        \"train_f\":[],\n",
    "        \"val_loss\":[],\n",
    "        \"val_precision\":[],\n",
    "        \"val_recall\":[],\n",
    "        \"val_f\":[]\n",
    "    }\n",
    "\n",
    "myLam = 0.0\n",
    "THRESHOLD = 0\n",
    "\n",
    "for i in range(10,train_X.shape[0]+1,10):\n",
    "    \n",
    "    results = train({train_data_node: train_X[:i,:], train_labels_node: train_y[:i,:], lam: myLam},\n",
    "            {train_data_node: val_X, train_labels_node: val_y, lam: myLam},\n",
    "             THRESHOLD,\n",
    "              1\n",
    "            )\n",
    "    \n",
    "    metrics[\"train_loss\"].append(results[\"train_loss\"][\"mean\"])\n",
    "    metrics[\"val_loss\"].append(results[\"val_loss\"][\"mean\"])\n",
    "    metrics[\"val_precision\"].append(results[\"val_precision\"][\"mean\"])\n",
    "    metrics[\"val_recall\"].append(results[\"val_recall\"][\"mean\"])\n",
    "    metrics[\"val_f\"].append(results[\"val_f\"][\"mean\"])\n",
    "        \n",
    "# Show the loss as the amount of data increases\n",
    "fig, (ax1) = plt.subplots(1, 1)\n",
    "plt.subplots_adjust(wspace=.3)\n",
    "fig.set_size_inches(10, 4)\n",
    "\n",
    "x = np.array(range(0, len(metrics[\"val_loss\"]))) * 10\n",
    "ax1.plot(x, np.array(metrics[\"train_loss\"]).ravel())\n",
    "ax1.plot(x, np.array(metrics[\"val_loss\"]).ravel(),'r')\n",
    "ax1.set_ylabel(\"Loss\")\n",
    "ax1.set_xlabel(\"Training Examples\")\n",
    "plt.show()"
   ]
  },
  {
   "cell_type": "code",
   "execution_count": 68,
   "metadata": {},
   "outputs": [
    {
     "data": {
      "image/png": "[encoded data removed]",
      "text/plain": [
       "<matplotlib.figure.Figure at 0x7fb52f6672d0>"
      ]
     },
     "metadata": {},
     "output_type": "display_data"
    }
   ],
   "source": [
    "# Show the loss as the amount of data increases\n",
    "fig, (ax1) = plt.subplots(1, 1)\n",
    "plt.subplots_adjust(wspace=.3)\n",
    "fig.set_size_inches(10, 4)\n",
    "\n",
    "x = np.array(range(0, len(metrics[\"val_loss\"]))) * 10\n",
    "#ax1.plot(x, np.array(train_losses).ravel())\n",
    "#ax1.plot(x, np.array(val_losses).ravel(),'r')\n",
    "ax1.plot(x[2:], (np.array(((np.array(metrics[\"val_loss\"])) ))[2:]).ravel(),'g')\n",
    "ax1.set_ylabel(\"Loss\")\n",
    "ax1.set_xlabel(\"Training Examples\")\n",
    "plt.show()"
   ]
  },
  {
   "cell_type": "code",
   "execution_count": 47,
   "metadata": {},
   "outputs": [
    {
     "name": "stdout",
     "output_type": "stream",
     "text": [
      "Training...\n"
     ]
    },
    {
     "name": "stderr",
     "output_type": "stream",
     "text": [
      "/usr/local/lib/python2.7/dist-packages/ipykernel_launcher.py:24: RuntimeWarning: invalid value encountered in divide\n"
     ]
    },
    {
     "name": "stdout",
     "output_type": "stream",
     "text": [
      "Iterations : 10 Lambda : 0.00, Threshold : 0.90\n",
      "Mean Validation loss : 2.04, precision : 0.62, recall : 0.67, F : 0.64\n",
      "Sigma Validation loss : 0.38, precision : 0.03, recall : 0.08, F : 0.04\n",
      "Training...\n",
      "Iterations : 10 Lambda : 0.01, Threshold : 0.90\n",
      "Mean Validation loss : 0.90, precision : 0.65, recall : 0.27, F : 0.38\n",
      "Sigma Validation loss : 0.06, precision : 0.04, recall : 0.04, F : 0.03\n",
      "Optimal value for lambda is 0.01\n"
     ]
    },
    {
     "data": {
      "image/png": "[encoded data removed]",
      "text/plain": [
       "<matplotlib.figure.Figure at 0x7fb523476310>"
      ]
     },
     "metadata": {},
     "output_type": "display_data"
    }
   ],
   "source": [
    "###\n",
    "### LAMBDA OPTIMIZATION\n",
    "###\n",
    "\n",
    "tf.logging.set_verbosity(tf.logging.ERROR)\n",
    "\n",
    "#lams = [0.0, 0.001, 0.003, 0.006, 0.01, 0.03, 0.06, 0.1]#, 0.3, 1.0, 3.0, 10.0]\n",
    "#lams = np.arange(0.02,.04, .001)\n",
    "lams = [0.0, 0.01]\n",
    "\n",
    "metrics = {\n",
    "        \"train_loss\":[],\n",
    "        \"train_precision\":[],\n",
    "        \"train_recall\":[],\n",
    "        \"train_f\":[],\n",
    "        \"val_loss\":[],\n",
    "        \"val_precision\":[],\n",
    "        \"val_recall\":[],\n",
    "        \"val_f\":[]\n",
    "    }\n",
    "\n",
    "for i in lams:\n",
    "    \n",
    "    results = train({train_data_node: train_X, train_labels_node: train_y, lam: i},\n",
    "            {train_data_node: val_X, train_labels_node: val_y, lam: i},\n",
    "             THRESHOLD,\n",
    "              10\n",
    "            )\n",
    "    \n",
    "    metrics[\"train_loss\"].append(results[\"train_loss\"][\"mean\"])\n",
    "    metrics[\"val_loss\"].append(results[\"val_loss\"][\"mean\"])\n",
    "     \n",
    "\n",
    "lam_opt = lams[np.argmin(metrics[\"val_loss\"])]\n",
    "print(\"Optimal value for lambda is %s\" % lam_opt)\n",
    "    \n",
    "# Show the loss as the value of lambda changes\n",
    "fig, (ax1) = plt.subplots(1, 1)\n",
    "plt.subplots_adjust(wspace=.3)\n",
    "fig.set_size_inches(10, 4)\n",
    "\n",
    "ax1.plot(lams, np.array(metrics[\"train_loss\"]).ravel())\n",
    "ax1.plot(lams, np.array(metrics[\"val_loss\"]).ravel(),'r')\n",
    "ax1.plot(lams[np.argmin(metrics[\"val_loss\"])], metrics[\"val_loss\"][np.argmin(metrics[\"val_loss\"])], 'x', color='black')\n",
    "ax1.set_ylabel(\"Loss\")\n",
    "ax1.set_xlabel(\"Lambda\")\n",
    "plt.show()"
   ]
  },
  {
   "cell_type": "code",
   "execution_count": 37,
   "metadata": {
    "scrolled": false
   },
   "outputs": [
    {
     "ename": "KeyboardInterrupt",
     "evalue": "",
     "output_type": "error",
     "traceback": [
      "\u001b[0;31m---------------------------------------------------------------------------\u001b[0m",
      "\u001b[0;31mKeyboardInterrupt\u001b[0m                         Traceback (most recent call last)",
      "\u001b[0;32m<ipython-input-37-80fba718532b>\u001b[0m in \u001b[0;36m<module>\u001b[0;34m()\u001b[0m\n\u001b[1;32m     35\u001b[0m             \u001b[0mtf\u001b[0m\u001b[0;34m.\u001b[0m\u001b[0mglobal_variables_initializer\u001b[0m\u001b[0;34m(\u001b[0m\u001b[0;34m)\u001b[0m\u001b[0;34m.\u001b[0m\u001b[0mrun\u001b[0m\u001b[0;34m(\u001b[0m\u001b[0;34m)\u001b[0m\u001b[0;34m\u001b[0m\u001b[0m\n\u001b[1;32m     36\u001b[0m \u001b[0;34m\u001b[0m\u001b[0m\n\u001b[0;32m---> 37\u001b[0;31m             \u001b[0mtrain\u001b[0m\u001b[0;34m(\u001b[0m\u001b[0;34m{\u001b[0m\u001b[0mtrain_data_node\u001b[0m\u001b[0;34m:\u001b[0m \u001b[0mtrain_X\u001b[0m\u001b[0;34m,\u001b[0m \u001b[0mtrain_labels_node\u001b[0m\u001b[0;34m:\u001b[0m \u001b[0mtrain_y\u001b[0m\u001b[0;34m,\u001b[0m \u001b[0mlam\u001b[0m\u001b[0;34m:\u001b[0m \u001b[0mmylam\u001b[0m\u001b[0;34m}\u001b[0m\u001b[0;34m)\u001b[0m\u001b[0;34m\u001b[0m\u001b[0m\n\u001b[0m\u001b[1;32m     38\u001b[0m             \u001b[0mtrain_loss\u001b[0m\u001b[0;34m,\u001b[0m \u001b[0mtrain_precision\u001b[0m\u001b[0;34m,\u001b[0m \u001b[0mtrain_recall\u001b[0m\u001b[0;34m,\u001b[0m \u001b[0mtrain_f\u001b[0m \u001b[0;34m=\u001b[0m  \u001b[0mpredict\u001b[0m\u001b[0;34m(\u001b[0m\u001b[0mtrain_X\u001b[0m\u001b[0;34m,\u001b[0m \u001b[0mtrain_y\u001b[0m\u001b[0;34m,\u001b[0m \u001b[0mmylam\u001b[0m\u001b[0;34m,\u001b[0m \u001b[0mi\u001b[0m\u001b[0;34m)\u001b[0m\u001b[0;34m\u001b[0m\u001b[0m\n\u001b[1;32m     39\u001b[0m \u001b[0;34m\u001b[0m\u001b[0m\n",
      "\u001b[0;32m<ipython-input-12-cbd3367dbdae>\u001b[0m in \u001b[0;36mtrain\u001b[0;34m(feed_dict, train)\u001b[0m\n\u001b[1;32m     12\u001b[0m     \u001b[0;31m#optimizer.minimize(feed_dict=feed_dict, fetches=[loss_reg], loss_callback=loss_callback)\u001b[0m\u001b[0;34m\u001b[0m\u001b[0;34m\u001b[0m\u001b[0m\n\u001b[1;32m     13\u001b[0m     \u001b[0;32mif\u001b[0m \u001b[0;34m(\u001b[0m\u001b[0mtrain\u001b[0m\u001b[0;34m)\u001b[0m\u001b[0;34m:\u001b[0m\u001b[0;34m\u001b[0m\u001b[0m\n\u001b[0;32m---> 14\u001b[0;31m         \u001b[0moptimizer\u001b[0m\u001b[0;34m.\u001b[0m\u001b[0mminimize\u001b[0m\u001b[0;34m(\u001b[0m\u001b[0mfeed_dict\u001b[0m\u001b[0;34m=\u001b[0m\u001b[0mfeed_dict\u001b[0m\u001b[0;34m)\u001b[0m\u001b[0;34m\u001b[0m\u001b[0m\n\u001b[0m\u001b[1;32m     15\u001b[0m \u001b[0;34m\u001b[0m\u001b[0m\n\u001b[1;32m     16\u001b[0m     \u001b[0;32mreturn\u001b[0m \u001b[0mloss\u001b[0m\u001b[0;34m.\u001b[0m\u001b[0meval\u001b[0m\u001b[0;34m(\u001b[0m\u001b[0mfeed_dict\u001b[0m\u001b[0;34m)\u001b[0m\u001b[0;34m,\u001b[0m \u001b[0mtrain_prediction\u001b[0m\u001b[0;34m.\u001b[0m\u001b[0meval\u001b[0m\u001b[0;34m(\u001b[0m\u001b[0mfeed_dict\u001b[0m\u001b[0;34m)\u001b[0m\u001b[0;34m\u001b[0m\u001b[0m\n",
      "\u001b[0;32m/usr/local/lib/python2.7/dist-packages/tensorflow/contrib/opt/python/training/external_optimizer.pyc\u001b[0m in \u001b[0;36mminimize\u001b[0;34m(self, session, feed_dict, fetches, step_callback, loss_callback)\u001b[0m\n\u001b[1;32m    156\u001b[0m         \u001b[0minequality_funcs\u001b[0m\u001b[0;34m=\u001b[0m\u001b[0minequality_funcs\u001b[0m\u001b[0;34m,\u001b[0m\u001b[0;34m\u001b[0m\u001b[0m\n\u001b[1;32m    157\u001b[0m         \u001b[0minequality_grad_funcs\u001b[0m\u001b[0;34m=\u001b[0m\u001b[0minequality_grad_funcs\u001b[0m\u001b[0;34m,\u001b[0m\u001b[0;34m\u001b[0m\u001b[0m\n\u001b[0;32m--> 158\u001b[0;31m         step_callback=step_callback, optimizer_kwargs=self.optimizer_kwargs)\n\u001b[0m\u001b[1;32m    159\u001b[0m     var_vals = [packed_var_val[packing_slice]\n\u001b[1;32m    160\u001b[0m                 for packing_slice in self._packing_slices]\n",
      "\u001b[0;32m/usr/local/lib/python2.7/dist-packages/tensorflow/contrib/opt/python/training/external_optimizer.pyc\u001b[0m in \u001b[0;36m_minimize\u001b[0;34m(self, initial_val, loss_grad_func, equality_funcs, equality_grad_funcs, inequality_funcs, inequality_grad_funcs, step_callback, optimizer_kwargs)\u001b[0m\n\u001b[1;32m    315\u001b[0m \u001b[0;34m\u001b[0m\u001b[0m\n\u001b[1;32m    316\u001b[0m     \u001b[0;32mimport\u001b[0m \u001b[0mscipy\u001b[0m\u001b[0;34m.\u001b[0m\u001b[0moptimize\u001b[0m  \u001b[0;31m# pylint: disable=g-import-not-at-top\u001b[0m\u001b[0;34m\u001b[0m\u001b[0m\n\u001b[0;32m--> 317\u001b[0;31m     \u001b[0mresult\u001b[0m \u001b[0;34m=\u001b[0m \u001b[0mscipy\u001b[0m\u001b[0;34m.\u001b[0m\u001b[0moptimize\u001b[0m\u001b[0;34m.\u001b[0m\u001b[0mminimize\u001b[0m\u001b[0;34m(\u001b[0m\u001b[0;34m*\u001b[0m\u001b[0mminimize_args\u001b[0m\u001b[0;34m,\u001b[0m \u001b[0;34m**\u001b[0m\u001b[0mminimize_kwargs\u001b[0m\u001b[0;34m)\u001b[0m\u001b[0;34m\u001b[0m\u001b[0m\n\u001b[0m\u001b[1;32m    318\u001b[0m     logging.info('Optimization terminated with:\\n'\n\u001b[1;32m    319\u001b[0m                  \u001b[0;34m'  Message: %s\\n'\u001b[0m\u001b[0;34m\u001b[0m\u001b[0m\n",
      "\u001b[0;32m/usr/local/lib/python2.7/dist-packages/scipy/optimize/_minimize.pyc\u001b[0m in \u001b[0;36mminimize\u001b[0;34m(fun, x0, args, method, jac, hess, hessp, bounds, constraints, tol, callback, options)\u001b[0m\n\u001b[1;32m    448\u001b[0m     \u001b[0;32melif\u001b[0m \u001b[0mmeth\u001b[0m \u001b[0;34m==\u001b[0m \u001b[0;34m'l-bfgs-b'\u001b[0m\u001b[0;34m:\u001b[0m\u001b[0;34m\u001b[0m\u001b[0m\n\u001b[1;32m    449\u001b[0m         return _minimize_lbfgsb(fun, x0, args, jac, bounds,\n\u001b[0;32m--> 450\u001b[0;31m                                 callback=callback, **options)\n\u001b[0m\u001b[1;32m    451\u001b[0m     \u001b[0;32melif\u001b[0m \u001b[0mmeth\u001b[0m \u001b[0;34m==\u001b[0m \u001b[0;34m'tnc'\u001b[0m\u001b[0;34m:\u001b[0m\u001b[0;34m\u001b[0m\u001b[0m\n\u001b[1;32m    452\u001b[0m         return _minimize_tnc(fun, x0, args, jac, bounds, callback=callback,\n",
      "\u001b[0;32m/usr/local/lib/python2.7/dist-packages/scipy/optimize/lbfgsb.pyc\u001b[0m in \u001b[0;36m_minimize_lbfgsb\u001b[0;34m(fun, x0, args, jac, bounds, disp, maxcor, ftol, gtol, eps, maxfun, maxiter, iprint, callback, maxls, **unknown_options)\u001b[0m\n\u001b[1;32m    326\u001b[0m             \u001b[0;31m# until the completion of the current minimization iteration.\u001b[0m\u001b[0;34m\u001b[0m\u001b[0;34m\u001b[0m\u001b[0m\n\u001b[1;32m    327\u001b[0m             \u001b[0;31m# Overwrite f and g:\u001b[0m\u001b[0;34m\u001b[0m\u001b[0;34m\u001b[0m\u001b[0m\n\u001b[0;32m--> 328\u001b[0;31m             \u001b[0mf\u001b[0m\u001b[0;34m,\u001b[0m \u001b[0mg\u001b[0m \u001b[0;34m=\u001b[0m \u001b[0mfunc_and_grad\u001b[0m\u001b[0;34m(\u001b[0m\u001b[0mx\u001b[0m\u001b[0;34m)\u001b[0m\u001b[0;34m\u001b[0m\u001b[0m\n\u001b[0m\u001b[1;32m    329\u001b[0m         \u001b[0;32melif\u001b[0m \u001b[0mtask_str\u001b[0m\u001b[0;34m.\u001b[0m\u001b[0mstartswith\u001b[0m\u001b[0;34m(\u001b[0m\u001b[0;34mb'NEW_X'\u001b[0m\u001b[0;34m)\u001b[0m\u001b[0;34m:\u001b[0m\u001b[0;34m\u001b[0m\u001b[0m\n\u001b[1;32m    330\u001b[0m             \u001b[0;31m# new iteration\u001b[0m\u001b[0;34m\u001b[0m\u001b[0;34m\u001b[0m\u001b[0m\n",
      "\u001b[0;32m/usr/local/lib/python2.7/dist-packages/scipy/optimize/lbfgsb.pyc\u001b[0m in \u001b[0;36mfunc_and_grad\u001b[0;34m(x)\u001b[0m\n\u001b[1;32m    276\u001b[0m     \u001b[0;32melse\u001b[0m\u001b[0;34m:\u001b[0m\u001b[0;34m\u001b[0m\u001b[0m\n\u001b[1;32m    277\u001b[0m         \u001b[0;32mdef\u001b[0m \u001b[0mfunc_and_grad\u001b[0m\u001b[0;34m(\u001b[0m\u001b[0mx\u001b[0m\u001b[0;34m)\u001b[0m\u001b[0;34m:\u001b[0m\u001b[0;34m\u001b[0m\u001b[0m\n\u001b[0;32m--> 278\u001b[0;31m             \u001b[0mf\u001b[0m \u001b[0;34m=\u001b[0m \u001b[0mfun\u001b[0m\u001b[0;34m(\u001b[0m\u001b[0mx\u001b[0m\u001b[0;34m,\u001b[0m \u001b[0;34m*\u001b[0m\u001b[0margs\u001b[0m\u001b[0;34m)\u001b[0m\u001b[0;34m\u001b[0m\u001b[0m\n\u001b[0m\u001b[1;32m    279\u001b[0m             \u001b[0mg\u001b[0m \u001b[0;34m=\u001b[0m \u001b[0mjac\u001b[0m\u001b[0;34m(\u001b[0m\u001b[0mx\u001b[0m\u001b[0;34m,\u001b[0m \u001b[0;34m*\u001b[0m\u001b[0margs\u001b[0m\u001b[0;34m)\u001b[0m\u001b[0;34m\u001b[0m\u001b[0m\n\u001b[1;32m    280\u001b[0m             \u001b[0;32mreturn\u001b[0m \u001b[0mf\u001b[0m\u001b[0;34m,\u001b[0m \u001b[0mg\u001b[0m\u001b[0;34m\u001b[0m\u001b[0m\n",
      "\u001b[0;32m/usr/local/lib/python2.7/dist-packages/scipy/optimize/optimize.pyc\u001b[0m in \u001b[0;36mfunction_wrapper\u001b[0;34m(*wrapper_args)\u001b[0m\n\u001b[1;32m    290\u001b[0m     \u001b[0;32mdef\u001b[0m \u001b[0mfunction_wrapper\u001b[0m\u001b[0;34m(\u001b[0m\u001b[0;34m*\u001b[0m\u001b[0mwrapper_args\u001b[0m\u001b[0;34m)\u001b[0m\u001b[0;34m:\u001b[0m\u001b[0;34m\u001b[0m\u001b[0m\n\u001b[1;32m    291\u001b[0m         \u001b[0mncalls\u001b[0m\u001b[0;34m[\u001b[0m\u001b[0;36m0\u001b[0m\u001b[0;34m]\u001b[0m \u001b[0;34m+=\u001b[0m \u001b[0;36m1\u001b[0m\u001b[0;34m\u001b[0m\u001b[0m\n\u001b[0;32m--> 292\u001b[0;31m         \u001b[0;32mreturn\u001b[0m \u001b[0mfunction\u001b[0m\u001b[0;34m(\u001b[0m\u001b[0;34m*\u001b[0m\u001b[0;34m(\u001b[0m\u001b[0mwrapper_args\u001b[0m \u001b[0;34m+\u001b[0m \u001b[0margs\u001b[0m\u001b[0;34m)\u001b[0m\u001b[0;34m)\u001b[0m\u001b[0;34m\u001b[0m\u001b[0m\n\u001b[0m\u001b[1;32m    293\u001b[0m \u001b[0;34m\u001b[0m\u001b[0m\n\u001b[1;32m    294\u001b[0m     \u001b[0;32mreturn\u001b[0m \u001b[0mncalls\u001b[0m\u001b[0;34m,\u001b[0m \u001b[0mfunction_wrapper\u001b[0m\u001b[0;34m\u001b[0m\u001b[0m\n",
      "\u001b[0;32m/usr/local/lib/python2.7/dist-packages/scipy/optimize/optimize.pyc\u001b[0m in \u001b[0;36m__call__\u001b[0;34m(self, x, *args)\u001b[0m\n\u001b[1;32m     61\u001b[0m     \u001b[0;32mdef\u001b[0m \u001b[0m__call__\u001b[0m\u001b[0;34m(\u001b[0m\u001b[0mself\u001b[0m\u001b[0;34m,\u001b[0m \u001b[0mx\u001b[0m\u001b[0;34m,\u001b[0m \u001b[0;34m*\u001b[0m\u001b[0margs\u001b[0m\u001b[0;34m)\u001b[0m\u001b[0;34m:\u001b[0m\u001b[0;34m\u001b[0m\u001b[0m\n\u001b[1;32m     62\u001b[0m         \u001b[0mself\u001b[0m\u001b[0;34m.\u001b[0m\u001b[0mx\u001b[0m \u001b[0;34m=\u001b[0m \u001b[0mnumpy\u001b[0m\u001b[0;34m.\u001b[0m\u001b[0masarray\u001b[0m\u001b[0;34m(\u001b[0m\u001b[0mx\u001b[0m\u001b[0;34m)\u001b[0m\u001b[0;34m.\u001b[0m\u001b[0mcopy\u001b[0m\u001b[0;34m(\u001b[0m\u001b[0;34m)\u001b[0m\u001b[0;34m\u001b[0m\u001b[0m\n\u001b[0;32m---> 63\u001b[0;31m         \u001b[0mfg\u001b[0m \u001b[0;34m=\u001b[0m \u001b[0mself\u001b[0m\u001b[0;34m.\u001b[0m\u001b[0mfun\u001b[0m\u001b[0;34m(\u001b[0m\u001b[0mx\u001b[0m\u001b[0;34m,\u001b[0m \u001b[0;34m*\u001b[0m\u001b[0margs\u001b[0m\u001b[0;34m)\u001b[0m\u001b[0;34m\u001b[0m\u001b[0m\n\u001b[0m\u001b[1;32m     64\u001b[0m         \u001b[0mself\u001b[0m\u001b[0;34m.\u001b[0m\u001b[0mjac\u001b[0m \u001b[0;34m=\u001b[0m \u001b[0mfg\u001b[0m\u001b[0;34m[\u001b[0m\u001b[0;36m1\u001b[0m\u001b[0;34m]\u001b[0m\u001b[0;34m\u001b[0m\u001b[0m\n\u001b[1;32m     65\u001b[0m         \u001b[0;32mreturn\u001b[0m \u001b[0mfg\u001b[0m\u001b[0;34m[\u001b[0m\u001b[0;36m0\u001b[0m\u001b[0;34m]\u001b[0m\u001b[0;34m\u001b[0m\u001b[0m\n",
      "\u001b[0;32m/usr/local/lib/python2.7/dist-packages/tensorflow/contrib/opt/python/training/external_optimizer.pyc\u001b[0m in \u001b[0;36mloss_grad_func_wrapper\u001b[0;34m(x)\u001b[0m\n\u001b[1;32m    290\u001b[0m     \u001b[0;32mdef\u001b[0m \u001b[0mloss_grad_func_wrapper\u001b[0m\u001b[0;34m(\u001b[0m\u001b[0mx\u001b[0m\u001b[0;34m)\u001b[0m\u001b[0;34m:\u001b[0m\u001b[0;34m\u001b[0m\u001b[0m\n\u001b[1;32m    291\u001b[0m       \u001b[0;31m# SciPy's L-BFGS-B Fortran implementation requires gradients as doubles.\u001b[0m\u001b[0;34m\u001b[0m\u001b[0;34m\u001b[0m\u001b[0m\n\u001b[0;32m--> 292\u001b[0;31m       \u001b[0mloss\u001b[0m\u001b[0;34m,\u001b[0m \u001b[0mgradient\u001b[0m \u001b[0;34m=\u001b[0m \u001b[0mloss_grad_func\u001b[0m\u001b[0;34m(\u001b[0m\u001b[0mx\u001b[0m\u001b[0;34m)\u001b[0m\u001b[0;34m\u001b[0m\u001b[0m\n\u001b[0m\u001b[1;32m    293\u001b[0m       \u001b[0;32mreturn\u001b[0m \u001b[0mloss\u001b[0m\u001b[0;34m,\u001b[0m \u001b[0mgradient\u001b[0m\u001b[0;34m.\u001b[0m\u001b[0mastype\u001b[0m\u001b[0;34m(\u001b[0m\u001b[0;34m'float64'\u001b[0m\u001b[0;34m)\u001b[0m\u001b[0;34m\u001b[0m\u001b[0m\n\u001b[1;32m    294\u001b[0m \u001b[0;34m\u001b[0m\u001b[0m\n",
      "\u001b[0;32m/usr/local/lib/python2.7/dist-packages/tensorflow/contrib/opt/python/training/external_optimizer.pyc\u001b[0m in \u001b[0;36meval_func\u001b[0;34m(x)\u001b[0m\n\u001b[1;32m    217\u001b[0m       augmented_feed_dict = {\n\u001b[1;32m    218\u001b[0m           \u001b[0mvar\u001b[0m\u001b[0;34m:\u001b[0m \u001b[0mx\u001b[0m\u001b[0;34m[\u001b[0m\u001b[0mpacking_slice\u001b[0m\u001b[0;34m]\u001b[0m\u001b[0;34m.\u001b[0m\u001b[0mreshape\u001b[0m\u001b[0;34m(\u001b[0m\u001b[0m_get_shape_tuple\u001b[0m\u001b[0;34m(\u001b[0m\u001b[0mvar\u001b[0m\u001b[0;34m)\u001b[0m\u001b[0;34m)\u001b[0m\u001b[0;34m\u001b[0m\u001b[0m\n\u001b[0;32m--> 219\u001b[0;31m           \u001b[0;32mfor\u001b[0m \u001b[0mvar\u001b[0m\u001b[0;34m,\u001b[0m \u001b[0mpacking_slice\u001b[0m \u001b[0;32min\u001b[0m \u001b[0mzip\u001b[0m\u001b[0;34m(\u001b[0m\u001b[0mself\u001b[0m\u001b[0;34m.\u001b[0m\u001b[0m_vars\u001b[0m\u001b[0;34m,\u001b[0m \u001b[0mself\u001b[0m\u001b[0;34m.\u001b[0m\u001b[0m_packing_slices\u001b[0m\u001b[0;34m)\u001b[0m\u001b[0;34m\u001b[0m\u001b[0m\n\u001b[0m\u001b[1;32m    220\u001b[0m       }\n\u001b[1;32m    221\u001b[0m       \u001b[0maugmented_feed_dict\u001b[0m\u001b[0;34m.\u001b[0m\u001b[0mupdate\u001b[0m\u001b[0;34m(\u001b[0m\u001b[0mfeed_dict\u001b[0m\u001b[0;34m)\u001b[0m\u001b[0;34m\u001b[0m\u001b[0m\n",
      "\u001b[0;31mKeyboardInterrupt\u001b[0m: "
     ]
    }
   ],
   "source": [
    "###\n",
    "### THRESHOLD OPTIMIZATION\n",
    "###\n",
    "\n",
    "tf.logging.set_verbosity(tf.logging.ERROR)\n",
    "\n",
    "mylam = 0.0\n",
    "threshold = 0\n",
    "thresholds = [.5, .8, .9, .99, .999]\n",
    "lams = [0.0, 0.001, 0.003, 0.006, 0.01, 0.03, 0.06, 0.1, 0.3, 1.0]\n",
    "\n",
    "for i in thresholds:\n",
    "    \n",
    "    results = train({train_data_node: train_X, train_labels_node: train_y, lam: mylam},\n",
    "            {train_data_node: val_X, train_labels_node: val_y, lam: mylam},\n",
    "             i\n",
    "            ) \n",
    "    \n",
    "print(\"Done\")\n"
   ]
  },
  {
   "cell_type": "code",
   "execution_count": null,
   "metadata": {
    "collapsed": true
   },
   "outputs": [],
   "source": []
  },
  {
   "cell_type": "code",
   "execution_count": null,
   "metadata": {
    "collapsed": true
   },
   "outputs": [],
   "source": [
    "train_prediction.eval({train_data_node: val_X, train_labels_node: val_y, lam: 0})"
   ]
  },
  {
   "cell_type": "code",
   "execution_count": null,
   "metadata": {
    "collapsed": true
   },
   "outputs": [],
   "source": [
    "predictions = train_prediction.eval({train_data_node: val_X, train_labels_node: val_y, lam: 0})\n",
    "np.argmax(predictions,axis=1)"
   ]
  },
  {
   "cell_type": "code",
   "execution_count": null,
   "metadata": {
    "collapsed": true
   },
   "outputs": [],
   "source": [
    "predictions = train_prediction.eval({train_data_node: test_X, train_labels_node: test_y, lam: 0})\n",
    "np.argmax(predictions,axis=1)"
   ]
  },
  {
   "cell_type": "code",
   "execution_count": null,
   "metadata": {
    "collapsed": true
   },
   "outputs": [],
   "source": [
    "np.argmax(val_y,axis=1)"
   ]
  }
 ],
 "metadata": {
  "kernelspec": {
   "display_name": "Python 2",
   "language": "python",
   "name": "python2"
  },
  "language_info": {
   "codemirror_mode": {
    "name": "ipython",
    "version": 2
   },
   "file_extension": ".py",
   "mimetype": "text/x-python",
   "name": "python",
   "nbconvert_exporter": "python",
   "pygments_lexer": "ipython2",
   "version": "2.7.12"
  }
 },
 "nbformat": 4,
 "nbformat_minor": 2
}
