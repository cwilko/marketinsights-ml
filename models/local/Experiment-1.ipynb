{
 "cells": [
  {
   "cell_type": "code",
   "execution_count": 1,
   "metadata": {
    "collapsed": true
   },
   "outputs": [],
   "source": [
    "MODEL_ID = \"28da8212-32f3-4680-bacd-0cd1c51bfe02\"\n",
    "\n",
    "MARKET1 = \"DOW\"\n",
    "MARKET2 = \"SPY\"\n",
    "\n",
    "PIPELINE_ID = \"marketdirection\"\n",
    "\n",
    "# TODO : Pull out of pipeline config?\n",
    "##### Specific to the data ##\n",
    "NUM_FEATURES = (2 * 4) + 1\n",
    "NUM_LABELS = 1\n",
    "#############################"
   ]
  },
  {
   "cell_type": "code",
   "execution_count": 2,
   "metadata": {
    "collapsed": false
   },
   "outputs": [
    {
     "name": "stdout",
     "output_type": "stream",
     "text": [
      "Processing /home/cwilkin/Development/repos/quantutils\n",
      "Building wheels for collected packages: quantutils\n",
      "  Running setup.py bdist_wheel for quantutils ... \u001b[?25l-\b \b\\\b \b|\b \b/\b \b-\b \b\\\b \bdone\n",
      "\u001b[?25h  Stored in directory: /tmp/pip-ephem-wheel-cache-d2BN5c/wheels/2c/43/cd/2f55d0d246bef9749697646ecfc497d5893f0ca22cabe7befd\n",
      "Successfully built quantutils\n",
      "Installing collected packages: quantutils\n",
      "  Found existing installation: quantutils 1.0.0\n",
      "    Uninstalling quantutils-1.0.0:\n",
      "      Successfully uninstalled quantutils-1.0.0\n",
      "Successfully installed quantutils-1.0.0\n",
      "Done\n"
     ]
    }
   ],
   "source": [
    "#\n",
    "# Get dataset from MI API #\n",
    "#\n",
    "\n",
    "import pandas\n",
    "import sys\n",
    "import gc\n",
    "import uuid\n",
    "import numpy as np\n",
    "\n",
    "!pip install --upgrade ../../../quantutils\n",
    "\n",
    "import quantutils.dataset.pipeline as ppl\n",
    "from quantutils.api.bluemix import CloudObjectStore, ObjectStore, Metrics, Logger\n",
    "from quantutils.api.marketinsights import MarketInsights, Dataset\n",
    "import quantutils.model.utils as mlutils\n",
    "from quantutils.model.ml import Model\n",
    "\n",
    "metrics = Metrics('cred/metrics_cred.json')\n",
    "mi = MarketInsights('cred/MIOapi_cred.json')\n",
    "objStore = ObjectStore('cred/object_storage_cred.json')\n",
    "cos = CloudObjectStore('cred/ibm_cos_cred.json')\n",
    "#log = Logger('MarketInsights-ML','cred/logging_cred.json')\n",
    "\n",
    "# Logging helper function\n",
    "tag = lambda x,y : \"\".join([\"(\", x, \":\", str(y+1), \") \"])\n",
    "\n",
    "CONFIG = mi.get_model(MODEL_ID)\n",
    "TRN_CNF = CONFIG['training']\n",
    "\n",
    "MODEL_KEY = CloudObjectStore.generateKey([MODEL_ID, PIPELINE_ID, MARKET1, MARKET2])\n",
    "COS_BUCKET = \"marketinsights-weights\"\n",
    "\n",
    "mkt1 = mi.get_dataset(MARKET1, PIPELINE_ID)\n",
    "mkt2 = mi.get_dataset(MARKET2, PIPELINE_ID)\n",
    "\n",
    "# Interleave (part of the \"added insight\" for this model)\n",
    "mkt1, mkt2, isect = ppl.intersect(mkt1,mkt2)\n",
    "dataset = ppl.interleave(mkt1,mkt2)\n",
    "\n",
    "# TODO : This should be config, probably as a proportion\n",
    "TEST_SET_SIZE = 430\n",
    "TRAINING_SET_SIZE = len(dataset) - TEST_SET_SIZE\n",
    "WINDOW_SIZE = TRAINING_SET_SIZE\n",
    "\n",
    "data_y, test_y = ppl.splitCol(dataset[TRAINING_SET_SIZE:], NUM_FEATURES)\n",
    "\n",
    "# Create ML model\n",
    "ffnn = Model(NUM_FEATURES, NUM_LABELS, CONFIG)\n",
    "\n",
    "print(\"Done\")"
   ]
  },
  {
   "cell_type": "code",
   "execution_count": 3,
   "metadata": {
    "collapsed": false,
    "scrolled": false
   },
   "outputs": [
    {
     "ename": "NameError",
     "evalue": "name 'tf' is not defined",
     "output_type": "error",
     "traceback": [
      "\u001b[1;31m---------------------------------------------------------------------------\u001b[0m",
      "\u001b[1;31mNameError\u001b[0m                                 Traceback (most recent call last)",
      "\u001b[1;32m<ipython-input-3-c2c67c8b5d4a>\u001b[0m in \u001b[0;36m<module>\u001b[1;34m()\u001b[0m\n\u001b[0;32m      2\u001b[0m \u001b[1;31m### PREDICTIONS\u001b[0m\u001b[1;33m\u001b[0m\u001b[1;33m\u001b[0m\u001b[0m\n\u001b[0;32m      3\u001b[0m \u001b[1;31m###\u001b[0m\u001b[1;33m\u001b[0m\u001b[1;33m\u001b[0m\u001b[0m\n\u001b[1;32m----> 4\u001b[1;33m \u001b[0mtf\u001b[0m\u001b[1;33m.\u001b[0m\u001b[0mlogging\u001b[0m\u001b[1;33m.\u001b[0m\u001b[0mset_verbosity\u001b[0m\u001b[1;33m(\u001b[0m\u001b[0mtf\u001b[0m\u001b[1;33m.\u001b[0m\u001b[0mlogging\u001b[0m\u001b[1;33m.\u001b[0m\u001b[0mERROR\u001b[0m\u001b[1;33m)\u001b[0m\u001b[1;33m\u001b[0m\u001b[0m\n\u001b[0m\u001b[0;32m      5\u001b[0m \u001b[1;33m\u001b[0m\u001b[0m\n\u001b[0;32m      6\u001b[0m \u001b[0mJ\u001b[0m \u001b[1;33m=\u001b[0m \u001b[1;33m[\u001b[0m\u001b[1;33m]\u001b[0m\u001b[1;33m\u001b[0m\u001b[0m\n",
      "\u001b[1;31mNameError\u001b[0m: name 'tf' is not defined"
     ]
    }
   ],
   "source": [
    "### \n",
    "### PREDICTIONS\n",
    "###\n",
    "tf.logging.set_verbosity(tf.logging.ERROR)\n",
    "\n",
    "J = []\n",
    "lam_opt = 0.01\n",
    "THRESHOLD = 0.8\n",
    "\n",
    "\n",
    "train({train_data_node: train_X, train_labels_node: train_y, lam: lam_opt},\n",
    "      {train_data_node: val_X, train_labels_node: val_y, lam: lam_opt}, \n",
    "      THRESHOLD, \n",
    "      50)\n",
    "\n",
    "# Show the fit and the loss over time.\n",
    "fig, (ax1) = plt.subplots(1, 1)\n",
    "plt.subplots_adjust(wspace=.3)\n",
    "fig.set_size_inches(10, 4)\n",
    "\n",
    "x = np.array(range(0, len(J)))\n",
    "ax1.plot(x, np.array(J).ravel())\n",
    "ax1.set_ylabel(\"Loss\")\n",
    "ax1.set_xlabel(\"Iterations\")\n",
    "plt.show()"
   ]
  },
  {
   "cell_type": "code",
   "execution_count": null,
   "metadata": {
    "collapsed": false,
    "scrolled": true
   },
   "outputs": [],
   "source": [
    "###\n",
    "### LEARNING CURVES FOR TRAINING SET AND CROSS-VALIDATION SET \n",
    "###\n",
    "train_losses = []\n",
    "val_losses = [0]\n",
    "perc_losses = [0]\n",
    "tf.logging.set_verbosity(tf.logging.ERROR)\n",
    "\n",
    "metrics = {\n",
    "        \"train_loss\":[],\n",
    "        \"train_precision\":[],\n",
    "        \"train_recall\":[],\n",
    "        \"train_f\":[],\n",
    "        \"val_loss\":[],\n",
    "        \"val_precision\":[],\n",
    "        \"val_recall\":[],\n",
    "        \"val_f\":[]\n",
    "    }\n",
    "\n",
    "myLam = 0.0\n",
    "THRESHOLD = 0\n",
    "\n",
    "for i in range(10,train_X.shape[0]+1,10):\n",
    "    \n",
    "    results = train({train_data_node: train_X[:i,:], train_labels_node: train_y[:i,:], lam: myLam},\n",
    "            {train_data_node: val_X, train_labels_node: val_y, lam: myLam},\n",
    "             THRESHOLD,\n",
    "              1\n",
    "            )\n",
    "    \n",
    "    metrics[\"train_loss\"].append(results[\"train_loss\"][\"mean\"])\n",
    "    metrics[\"val_loss\"].append(results[\"val_loss\"][\"mean\"])\n",
    "    metrics[\"val_precision\"].append(results[\"val_precision\"][\"mean\"])\n",
    "    metrics[\"val_recall\"].append(results[\"val_recall\"][\"mean\"])\n",
    "    metrics[\"val_f\"].append(results[\"val_f\"][\"mean\"])\n",
    "        \n",
    "# Show the loss as the amount of data increases\n",
    "fig, (ax1) = plt.subplots(1, 1)\n",
    "plt.subplots_adjust(wspace=.3)\n",
    "fig.set_size_inches(10, 4)\n",
    "\n",
    "x = np.array(range(0, len(metrics[\"val_loss\"]))) * 10\n",
    "ax1.plot(x, np.array(metrics[\"train_loss\"]).ravel())\n",
    "ax1.plot(x, np.array(metrics[\"val_loss\"]).ravel(),'r')\n",
    "ax1.set_ylabel(\"Loss\")\n",
    "ax1.set_xlabel(\"Training Examples\")\n",
    "plt.show()"
   ]
  },
  {
   "cell_type": "code",
   "execution_count": 68,
   "metadata": {
    "collapsed": false
   },
   "outputs": [
    {
     "data": {
      "image/png": "[encoded data removed]",
      "text/plain": [
       "<matplotlib.figure.Figure at 0x7fb52f6672d0>"
      ]
     },
     "metadata": {},
     "output_type": "display_data"
    }
   ],
   "source": [
    "# Show the loss as the amount of data increases\n",
    "fig, (ax1) = plt.subplots(1, 1)\n",
    "plt.subplots_adjust(wspace=.3)\n",
    "fig.set_size_inches(10, 4)\n",
    "\n",
    "x = np.array(range(0, len(metrics[\"val_loss\"]))) * 10\n",
    "#ax1.plot(x, np.array(train_losses).ravel())\n",
    "#ax1.plot(x, np.array(val_losses).ravel(),'r')\n",
    "ax1.plot(x[2:], (np.array(((np.array(metrics[\"val_loss\"])) ))[2:]).ravel(),'g')\n",
    "ax1.set_ylabel(\"Loss\")\n",
    "ax1.set_xlabel(\"Training Examples\")\n",
    "plt.show()"
   ]
  },
  {
   "cell_type": "code",
   "execution_count": 47,
   "metadata": {
    "collapsed": false
   },
   "outputs": [
    {
     "name": "stdout",
     "output_type": "stream",
     "text": [
      "Training...\n"
     ]
    },
    {
     "name": "stderr",
     "output_type": "stream",
     "text": [
      "/usr/local/lib/python2.7/dist-packages/ipykernel_launcher.py:24: RuntimeWarning: invalid value encountered in divide\n"
     ]
    },
    {
     "name": "stdout",
     "output_type": "stream",
     "text": [
      "Iterations : 10 Lambda : 0.00, Threshold : 0.90\n",
      "Mean Validation loss : 2.04, precision : 0.62, recall : 0.67, F : 0.64\n",
      "Sigma Validation loss : 0.38, precision : 0.03, recall : 0.08, F : 0.04\n",
      "Training...\n",
      "Iterations : 10 Lambda : 0.01, Threshold : 0.90\n",
      "Mean Validation loss : 0.90, precision : 0.65, recall : 0.27, F : 0.38\n",
      "Sigma Validation loss : 0.06, precision : 0.04, recall : 0.04, F : 0.03\n",
      "Optimal value for lambda is 0.01\n"
     ]
    },
    {
     "data": {
      "image/png": "[encoded data removed]",
      "text/plain": [
       "<matplotlib.figure.Figure at 0x7fb523476310>"
      ]
     },
     "metadata": {},
     "output_type": "display_data"
    }
   ],
   "source": [
    "###\n",
    "### LAMBDA OPTIMIZATION\n",
    "###\n",
    "\n",
    "tf.logging.set_verbosity(tf.logging.ERROR)\n",
    "\n",
    "#lams = [0.0, 0.001, 0.003, 0.006, 0.01, 0.03, 0.06, 0.1]#, 0.3, 1.0, 3.0, 10.0]\n",
    "#lams = np.arange(0.02,.04, .001)\n",
    "lams = [0.0, 0.01]\n",
    "\n",
    "metrics = {\n",
    "        \"train_loss\":[],\n",
    "        \"train_precision\":[],\n",
    "        \"train_recall\":[],\n",
    "        \"train_f\":[],\n",
    "        \"val_loss\":[],\n",
    "        \"val_precision\":[],\n",
    "        \"val_recall\":[],\n",
    "        \"val_f\":[]\n",
    "    }\n",
    "\n",
    "for i in lams:\n",
    "    \n",
    "    results = train({train_data_node: train_X, train_labels_node: train_y, lam: i},\n",
    "            {train_data_node: val_X, train_labels_node: val_y, lam: i},\n",
    "             THRESHOLD,\n",
    "              10\n",
    "            )\n",
    "    \n",
    "    metrics[\"train_loss\"].append(results[\"train_loss\"][\"mean\"])\n",
    "    metrics[\"val_loss\"].append(results[\"val_loss\"][\"mean\"])\n",
    "     \n",
    "\n",
    "lam_opt = lams[np.argmin(metrics[\"val_loss\"])]\n",
    "print(\"Optimal value for lambda is %s\" % lam_opt)\n",
    "    \n",
    "# Show the loss as the value of lambda changes\n",
    "fig, (ax1) = plt.subplots(1, 1)\n",
    "plt.subplots_adjust(wspace=.3)\n",
    "fig.set_size_inches(10, 4)\n",
    "\n",
    "ax1.plot(lams, np.array(metrics[\"train_loss\"]).ravel())\n",
    "ax1.plot(lams, np.array(metrics[\"val_loss\"]).ravel(),'r')\n",
    "ax1.plot(lams[np.argmin(metrics[\"val_loss\"])], metrics[\"val_loss\"][np.argmin(metrics[\"val_loss\"])], 'x', color='black')\n",
    "ax1.set_ylabel(\"Loss\")\n",
    "ax1.set_xlabel(\"Lambda\")\n",
    "plt.show()"
   ]
  },
  {
   "cell_type": "code",
   "execution_count": null,
   "metadata": {
    "collapsed": false,
    "scrolled": false
   },
   "outputs": [],
   "source": [
    "###\n",
    "### THRESHOLD OPTIMIZATION\n",
    "###\n",
    "\n",
    "tf.logging.set_verbosity(tf.logging.ERROR)\n",
    "\n",
    "mylam = 0.0\n",
    "threshold = 0\n",
    "thresholds = [.5, .8, .9, .99, .999]\n",
    "lams = [0.0, 0.001, 0.003, 0.006, 0.01, 0.03, 0.06, 0.1, 0.3, 1.0]\n",
    "\n",
    "for i in thresholds:\n",
    "    \n",
    "    results = train({train_data_node: train_X, train_labels_node: train_y, lam: mylam},\n",
    "            {train_data_node: val_X, train_labels_node: val_y, lam: mylam},\n",
    "             i\n",
    "            ) \n",
    "    \n",
    "print(\"Done\")\n"
   ]
  },
  {
   "cell_type": "code",
   "execution_count": 7,
   "metadata": {
    "collapsed": false
   },
   "outputs": [],
   "source": [
    "# Function to take dates, dataset info for those dates\n",
    "def predict(model, timestamps, dataset, weights):\n",
    "\n",
    "    # Load timestamps from weights db (or load all weights data)\n",
    "    wPeriods = weights[\"timestamp\"].values\n",
    "\n",
    "    # x = for each dataset timestamp, match latest available weight timestamp\n",
    "    latestPeriods = np.zeros(len(timestamps)) \n",
    "    uniqueWPeriods = np.unique(wPeriods)  # q\n",
    "    mask = timestamps>=np.min(uniqueWPeriods)\n",
    "    latestPeriods[mask] = [uniqueWPeriods[uniqueWPeriods<=s][-1] for s in timestamps[mask]]\n",
    "\n",
    "    # for each non-duplicate timestamp in x, load weights into model for that timestamp\n",
    "    results = np.empty((len(dataset), NUM_LABELS))\n",
    "    for x in np.unique(latestPeriods):\n",
    "        # run dataset entries matching that timestamp through model, save results against original timestamps\n",
    "        mask = latestPeriods==x\n",
    "        results[mask] = np.nanmean(model.predict(weights[wPeriods==x].values[:,1:], dataset[mask]), axis=0)\n",
    "    \n",
    "    return results   "
   ]
  },
  {
   "cell_type": "code",
   "execution_count": 4,
   "metadata": {
    "collapsed": false
   },
   "outputs": [],
   "source": [
    "loadedData = mi.get_dataset(MARKET1, PIPELINE_ID).iloc[:,:-1][-219:]\n",
    "timestamps = loadedData.index.astype(np.int64) // 10**9\n",
    "dataset = loadedData.reset_index(drop=True)\n",
    "\n",
    "import time\n",
    "weights = cos.get_csv(COS_BUCKET, MODEL_KEY) "
   ]
  },
  {
   "cell_type": "code",
   "execution_count": 8,
   "metadata": {
    "collapsed": false,
    "scrolled": false
   },
   "outputs": [
    {
     "name": "stdout",
     "output_type": "stream",
     "text": [
      "CPU times: user 24.7 ms, sys: 928 µs, total: 25.6 ms\n",
      "Wall time: 22.3 ms\n"
     ]
    },
    {
     "data": {
      "text/plain": [
       "array([[0.51830869],\n",
       "       [0.64817482],\n",
       "       [0.36570716],\n",
       "       [0.45089174],\n",
       "       [0.37488978]])"
      ]
     },
     "execution_count": 8,
     "metadata": {},
     "output_type": "execute_result"
    }
   ],
   "source": [
    "%time predict(ffnn, timestamps[:5], dataset[:5], weights)"
   ]
  },
  {
   "cell_type": "code",
   "execution_count": 61,
   "metadata": {
    "collapsed": false
   },
   "outputs": [],
   "source": [
    "from quantutils.api.marketinsights import MarketInsights, Dataset"
   ]
  },
  {
   "cell_type": "code",
   "execution_count": 9,
   "metadata": {
    "collapsed": false
   },
   "outputs": [
    {
     "data": {
      "text/plain": [
       "'{\"index\": [\"2016-07-06T15:00:00\", \"2016-07-07T15:00:00\", \"2016-07-08T15:00:00\", \"2016-07-11T15:00:00\", \"2016-07-12T15:00:00\", \"2016-07-13T15:00:00\", \"2016-07-14T15:00:00\", \"2016-07-15T15:00:00\", \"2016-07-18T15:00:00\", \"2016-07-19T15:00:00\", \"2016-07-20T15:00:00\", \"2016-07-21T15:00:00\", \"2016-07-22T15:00:00\", \"2016-07-25T15:00:00\", \"2016-07-26T15:00:00\", \"2016-07-27T15:00:00\", \"2016-07-28T15:00:00\", \"2016-07-29T15:00:00\", \"2016-08-01T15:00:00\", \"2016-08-02T15:00:00\", \"2016-08-03T15:00:00\", \"2016-08-04T15:00:00\", \"2016-08-05T15:00:00\", \"2016-08-08T15:00:00\", \"2016-08-09T15:00:00\", \"2016-08-10T15:00:00\", \"2016-08-11T15:00:00\", \"2016-08-12T15:00:00\", \"2016-08-15T15:00:00\", \"2016-08-16T15:00:00\", \"2016-08-17T15:00:00\", \"2016-08-18T15:00:00\", \"2016-08-19T15:00:00\", \"2016-08-22T15:00:00\", \"2016-08-23T15:00:00\", \"2016-08-24T15:00:00\", \"2016-08-25T15:00:00\", \"2016-08-26T15:00:00\", \"2016-08-29T15:00:00\", \"2016-08-30T15:00:00\", \"2016-08-31T15:00:00\", \"2016-09-01T15:00:00\", \"2016-09-02T15:00:00\", \"2016-09-06T15:00:00\", \"2016-09-07T15:00:00\", \"2016-09-08T15:00:00\", \"2016-09-09T15:00:00\", \"2016-09-12T15:00:00\", \"2016-09-13T15:00:00\", \"2016-09-14T15:00:00\", \"2016-09-15T15:00:00\", \"2016-09-16T15:00:00\", \"2016-09-19T15:00:00\", \"2016-09-20T15:00:00\", \"2016-09-21T15:00:00\", \"2016-09-22T15:00:00\", \"2016-09-23T15:00:00\", \"2016-09-26T15:00:00\", \"2016-09-27T15:00:00\", \"2016-09-28T15:00:00\", \"2016-09-29T15:00:00\", \"2016-09-30T15:00:00\", \"2016-10-03T15:00:00\", \"2016-10-04T15:00:00\", \"2016-10-05T15:00:00\", \"2016-10-06T15:00:00\", \"2016-10-07T15:00:00\", \"2016-10-10T15:00:00\", \"2016-10-11T15:00:00\", \"2016-10-12T15:00:00\", \"2016-10-13T15:00:00\", \"2016-10-14T15:00:00\", \"2016-10-17T15:00:00\", \"2016-10-18T15:00:00\", \"2016-10-19T15:00:00\", \"2016-10-20T15:00:00\", \"2016-10-21T15:00:00\", \"2016-10-24T15:00:00\", \"2016-10-25T15:00:00\", \"2016-10-26T15:00:00\", \"2016-10-27T15:00:00\", \"2016-10-28T15:00:00\", \"2016-10-31T15:00:00\", \"2016-11-01T15:00:00\", \"2016-11-02T15:00:00\", \"2016-11-03T15:00:00\", \"2016-11-04T15:00:00\", \"2016-11-07T15:00:00\", \"2016-11-08T15:00:00\", \"2016-11-09T15:00:00\", \"2016-11-10T15:00:00\", \"2016-11-11T15:00:00\", \"2016-11-14T15:00:00\", \"2016-11-15T15:00:00\", \"2016-11-16T15:00:00\", \"2016-11-17T15:00:00\", \"2016-11-18T15:00:00\", \"2016-11-21T15:00:00\", \"2016-11-22T15:00:00\", \"2016-11-23T15:00:00\", \"2016-11-28T15:00:00\", \"2016-11-29T15:00:00\", \"2016-11-30T15:00:00\", \"2016-12-01T15:00:00\", \"2016-12-02T15:00:00\", \"2016-12-05T15:00:00\", \"2016-12-06T15:00:00\", \"2016-12-07T15:00:00\", \"2016-12-08T15:00:00\", \"2016-12-09T15:00:00\", \"2016-12-12T15:00:00\", \"2016-12-13T15:00:00\", \"2016-12-14T15:00:00\", \"2016-12-15T15:00:00\", \"2016-12-16T15:00:00\", \"2016-12-19T15:00:00\", \"2016-12-20T15:00:00\", \"2016-12-21T15:00:00\", \"2016-12-22T15:00:00\", \"2016-12-23T15:00:00\", \"2016-12-27T15:00:00\", \"2016-12-28T15:00:00\", \"2016-12-29T15:00:00\", \"2016-12-30T15:00:00\", \"2017-01-03T15:00:00\", \"2017-01-04T15:00:00\", \"2017-01-05T15:00:00\", \"2017-01-06T15:00:00\", \"2017-01-09T15:00:00\", \"2017-01-10T15:00:00\", \"2017-01-11T15:00:00\", \"2017-01-12T15:00:00\", \"2017-01-13T15:00:00\", \"2017-01-17T15:00:00\", \"2017-01-18T15:00:00\", \"2017-01-19T15:00:00\", \"2017-01-20T15:00:00\", \"2017-01-23T15:00:00\", \"2017-01-24T15:00:00\", \"2017-01-25T15:00:00\", \"2017-01-26T15:00:00\", \"2017-01-27T15:00:00\", \"2017-01-30T15:00:00\", \"2017-01-31T15:00:00\", \"2017-02-01T15:00:00\", \"2017-02-02T15:00:00\", \"2017-02-03T15:00:00\", \"2017-02-06T15:00:00\", \"2017-02-07T15:00:00\", \"2017-02-08T15:00:00\", \"2017-02-09T15:00:00\", \"2017-02-10T15:00:00\", \"2017-02-13T15:00:00\", \"2017-02-14T15:00:00\", \"2017-02-15T15:00:00\", \"2017-02-16T15:00:00\", \"2017-02-17T15:00:00\", \"2017-02-21T15:00:00\", \"2017-02-22T15:00:00\", \"2017-02-23T15:00:00\", \"2017-02-24T15:00:00\", \"2017-02-27T15:00:00\", \"2017-02-28T15:00:00\", \"2017-03-01T15:00:00\", \"2017-03-02T15:00:00\", \"2017-03-03T15:00:00\", \"2017-03-06T15:00:00\", \"2017-03-07T15:00:00\", \"2017-03-08T15:00:00\", \"2017-03-09T15:00:00\", \"2017-03-10T15:00:00\", \"2017-03-13T15:00:00\", \"2017-03-14T15:00:00\", \"2017-03-15T15:00:00\", \"2017-03-16T15:00:00\", \"2017-03-17T15:00:00\", \"2017-03-20T15:00:00\", \"2017-03-21T15:00:00\", \"2017-03-22T15:00:00\", \"2017-03-23T15:00:00\", \"2017-03-24T15:00:00\", \"2017-03-27T15:00:00\", \"2017-03-28T15:00:00\", \"2017-03-29T15:00:00\", \"2017-03-30T15:00:00\", \"2017-03-31T15:00:00\", \"2017-04-03T15:00:00\", \"2017-04-04T15:00:00\", \"2017-04-05T15:00:00\", \"2017-04-06T15:00:00\", \"2017-04-07T15:00:00\", \"2017-04-10T15:00:00\", \"2017-04-11T15:00:00\", \"2017-04-12T15:00:00\", \"2017-04-13T15:00:00\", \"2017-04-17T15:00:00\", \"2017-04-18T15:00:00\", \"2017-04-19T15:00:00\", \"2017-04-20T15:00:00\", \"2017-04-21T15:00:00\", \"2017-04-24T15:00:00\", \"2017-04-25T15:00:00\", \"2017-04-26T15:00:00\", \"2017-04-27T15:00:00\", \"2017-04-28T15:00:00\", \"2017-05-01T15:00:00\", \"2017-05-02T15:00:00\", \"2017-05-03T15:00:00\", \"2017-05-04T15:00:00\", \"2017-05-05T15:00:00\", \"2017-05-08T15:00:00\", \"2017-05-09T15:00:00\", \"2017-05-10T15:00:00\", \"2017-05-11T15:00:00\", \"2017-05-12T15:00:00\", \"2017-05-15T15:00:00\", \"2017-05-16T15:00:00\", \"2017-05-17T15:00:00\", \"2017-05-18T15:00:00\"], \"tz\": \"US/Eastern\", \"pipelineID\": \"marketdirection\", \"data\": [[0.5424156413, 0.7207505516, 0.1933144109, 0.3461053288, 0.3483128339, 1.0, 0.0, 0.9410280666, 0.1179793169], [0.7061439627, 1.0, 0.42068851970000004, 0.6982375224, 0.6982375224, 0.8641080541, 0.0, 0.1433042323, 0.11293794280000001], [0.0, 0.3533211859, 0.0, 0.30395892020000004, 0.29932085410000003, 1.0, 0.22627132630000002, 0.7097896300000001, 0.1123054456], [0.9886437384000001, 1.0, 0.3124594437, 0.3124594437, 0.30694354300000004, 0.562297212, 0.0, 0.07105775660000001, 0.0573340041], [0.2708933731, 0.714697408, 0.0, 0.010886968300000001, 0.0172910652, 1.0, 0.0172910652, 0.3057957105, 0.0580967214], [0.2706712062, 0.5882782085, 0.0, 0.1889591427, 0.18725680960000002, 1.0, 0.08025291770000001, 0.7718871598, 0.07649494650000001], [0.6739971508, 0.6748116479, 0.0, 0.2044390144, 0.2030136441, 1.0, 0.17511708450000002, 0.7385461218, 0.09135862900000001], [0.0, 0.8364618872, 0.0, 0.6544368587, 0.6564277585, 1.0, 0.3489761091, 0.8432878256, 0.065407644], [0.4695009264, 0.8088724575, 0.0, 0.7408502775, 0.7408502775, 1.0, 0.39112754320000004, 1.0, 0.0503207273], [0.5862179493, 0.7541666662000001, 0.0, 0.0878205122, 0.08685897420000001, 1.0, 0.0506410272, 0.6945512817, 0.058040912800000004], [0.1182217873, 0.806057643, 0.0415241817, 0.44308744200000005, 0.44455300070000003, 1.0, 0.0, 0.4211040514, 0.0380800476], [0.6637040603000001, 1.0, 0.1693490283, 0.3437424934, 0.3437424934, 0.42109055900000003, 0.0, 0.1635839551, 0.0774436924], [0.2039165625, 0.5129842487, 0.0, 0.3895274596, 0.3895274596, 1.0, 0.14985100210000002, 0.8322690525, 0.043698110400000004], [0.46051032880000003, 0.8250303789000001, 0.0789793424, 0.5500202512, 0.5402997167, 1.0, 0.0, 0.1458080176, 0.045930453], [0.9414150516, 1.0, 0.0162235239, 0.3844073899, 0.3844073899, 0.8580441645, 0.0, 0.5232086519, 0.0825594778], [0.3071864727, 0.5585955849, 0.1599342417, 0.5010568337, 0.44633630820000003, 1.0, 0.0, 0.8468764677, 0.1584219272], [0.0467847526, 0.7060069312, 0.0, 0.7060069312, 0.7316134, 1.0, 0.5200231033, 0.8232576044000001, 0.0966232375], [0.4054735336, 0.8815268268, 0.1109110554, 0.7385667994, 0.7410875065, 1.0, 0.0, 0.4364422035, 0.0516601328], [0.2194364851, 0.8106494761, 0.0, 0.7846227332, 0.7812798470000001, 1.0, 0.2576408804, 0.6981852912000001, 0.07790876370000001], [0.3373320536, 0.3728406915, 0.0, 0.18442098510000002, 0.18666026970000002, 1.0, 0.0919705702, 0.7469609735, 0.1163050598], [0.8511530401, 1.0, 0.3887391445, 0.5639413002, 0.561844866, 0.6070679842000001, 0.0, 0.222521714, 0.062114938300000005], [0.8934953544, 1.0, 0.3927805554, 0.5886347397, 0.5911365244, 0.8934953544, 0.0, 0.5214438882, 0.0520507928], [0.2841037216, 0.6234498283000001, 0.0, 0.5541149935, 0.5597519734, 1.0, 0.1702367547, 0.4825253646, 0.0330014677], [0.6449853118000001, 0.9467058324000001, 0.4385228712, 0.9395719650000001, 0.9169114545, 1.0, 0.0, 0.3378094866, 0.0443306075], [0.8336673347, 1.0, 0.39203406760000004, 0.5706412834, 0.5706412834, 0.6174849697, 0.0, 0.4013026048, 0.07426260380000001], [0.9609665433000001, 1.0, 0.5202137552, 0.6707713763, 0.6540427497, 0.9244888483, 0.0, 0.1512546468, 0.0800666949], [0.5359477129, 0.8376332982, 0.4595803225, 0.47609219020000004, 0.4785001721, 1.0, 0.0, 0.2841417264, 0.054078504400000005], [0.4195415116, 0.7002613941, 0.0, 0.3588501418, 0.3588501418, 1.0, 0.2862279908, 0.8796547185, 0.0717246695], [0.4206460712, 0.8391853946000001, 0.0, 0.42766854470000004, 0.40870786470000003, 1.0, 0.125, 0.5308988795, 0.0264904678], [0.9854535830000001, 1.0, 0.0, 0.35678391940000004, 0.3615445654, 0.7971436125, 0.0227453071, 0.7172705623000001, 0.0703374011], [0.2500367271, 0.7696488914, 0.1091523435, 0.40487733260000003, 0.4119288971, 1.0, 0.0, 0.7188188639, 0.1266296453], [0.0011454749000000001, 0.8594883526, 0.0, 0.6132111507, 0.6158839242, 1.0, 0.35815196590000004, 0.7006491033000001, 0.0487208816], [0.1588385995, 0.6219755188, 0.0, 0.3469968695, 0.34215769900000004, 1.0, 0.3401651019, 0.851978368, 0.06535183530000001], [0.8046923244, 0.990738835, 0.0, 0.7709405231, 0.7694998967000001, 1.0, 0.3261988065, 0.5482609584, 0.0903912806], [0.0415973351, 1.0, 0.0, 0.7466722141000001, 0.7350249576, 0.8119800339000001, 0.1239600658, 0.5486688829, 0.0447212674], [0.9956170684000001, 1.0, 0.5568627433000001, 0.6025374848, 0.6009227204, 0.6325259509000001, 0.0, 0.357785465, 0.08064338360000001], [0.888066203, 1.0, 0.1141114979, 0.3667247393, 0.3667247393, 0.5002177692, 0.0, 0.199041812, 0.08542431760000001], [0.8515208111, 1.0, 0.28601921010000003, 0.4370330839, 0.38780682980000003, 0.6696905018, 0.0, 0.3951440767, 0.13944701340000001], [0.7169468440000001, 1.0, 0.4511585617, 0.8700590667, 0.8696047250000001, 0.9627442065, 0.0, 0.357564743, 0.040944887400000005], [0.8590407559000001, 1.0, 0.5311866693, 0.6552578235000001, 0.6536816033, 0.6536816033, 0.0, 0.4965097947, 0.0826152864], [0.2676565006, 0.6825842706, 0.0, 0.5054173351, 0.5082263254, 1.0, 0.4827447841, 0.6420545757, 0.0927166375], [0.5547749738000001, 1.0, 0.5495060386, 0.6059275518, 0.6059275518, 0.9743139408, 0.0, 0.7231613607, 0.08473601210000001], [0.7195446842000001, 0.8176313867, 0.0, 0.2385565513, 0.2371034156, 1.0, 0.2121579077, 0.9767498187, 0.0768111952], [0.47266666630000004, 0.8493333342, 0.0, 0.5706666705, 0.5553333349, 1.0, 0.055333338200000005, 0.8906666652, 0.027904285], [0.0953079168, 0.5964809388, 0.0, 0.3595307929, 0.3554252189, 1.0, 0.3202346036, 0.7360703809, 0.0634357412], [0.7863838184, 0.8251110012, 0.0, 0.4780463727, 0.4763196846, 1.0, 0.2676369008, 0.9679329056, 0.0754159808], [0.9966145582, 1.0, 0.2935377876, 0.41770387400000003, 0.4098376983, 0.504928806, 0.0, 0.33993826520000003, 0.1868284893], [0.2791120416, 0.5543130992, 0.0, 0.5083177265000001, 0.5094194118, 1.0, 0.49625426910000003, 0.8589291617, 0.3377162596], [0.23120651550000001, 1.0, 0.0281690141, 0.42847446110000004, 0.42126251470000003, 0.5569319531, 0.0, 0.2524181232, 0.2192532684], [0.9070690195000001, 1.0, 0.4025268872, 0.49556228410000003, 0.4962932023, 0.6035292892, 0.0, 0.3946956251, 0.17815955800000002], [0.048539896400000004, 0.6598300609000001, 0.0, 0.6565094249, 0.6565094249, 1.0, 0.6327766380000001, 0.8915909756, 0.19047464930000002], [0.6142814467000001, 0.7959366589, 0.0, 0.31356438680000004, 0.3043023601, 1.0, 0.1380340604, 0.6174185845, 0.12452752260000001], [0.5713049122, 0.7243020996, 0.0, 0.3571737719, 0.3571737719, 1.0, 0.31789656, 0.9906946553, 0.1719276012], [0.1247184103, 0.7558877733, 0.0, 0.7257833299, 0.7208683187, 1.0, 0.4403030918, 0.8849068207, 0.0908377489], [0.2007676726, 0.3286064609, 0.0, 0.22230514980000002, 0.22891566230000002, 1.0, 0.0843373496, 0.9152361662, 0.17447619250000002], [0.8321775312, 1.0, 0.7324703353, 0.8859608578, 0.8828787180000001, 0.961010942, 0.0, 0.740946218, 0.1207139368], [0.9921722107000001, 1.0, 0.0, 0.06954689160000001, 0.0654824631, 0.6298359172, 0.0344723766, 0.6144814093000001, 0.1235787767], [0.9332586768000001, 1.0, 0.0698768187, 0.3428891368, 0.3413213869, 0.6058230674, 0.0, 0.1664053735, 0.0830617549], [0.6172043025, 1.0, 0.1311827961, 0.4283870956, 0.4283870956, 0.8675268819, 0.0, 0.2795698929, 0.043251641800000004], [0.075910424, 0.3924304214, 0.0, 0.32582099130000003, 0.3241038846, 1.0, 0.2876153678, 0.9421907421000001, 0.2600121274], [0.6973094172000001, 0.8064541961, 0.0, 0.1472613714, 0.1461402946, 1.0, 0.0891255605, 0.748318386, 0.2323124739], [0.2434138311, 0.7554884727000001, 0.0, 0.7368276594000001, 0.7351811178000001, 1.0, 0.6015367719, 0.9426454437, 0.0677888096], [0.4153315252, 0.7451318713, 0.0, 0.5045600186, 0.5139265473, 1.0, 0.0345082556, 0.4902637426, 0.07547178930000001], [0.9304631903, 1.0, 0.0859876333, 0.30451522610000004, 0.29413137300000003, 0.5557111197, 0.0, 0.029168124900000002, 0.1594450844], [0.4731951384, 0.7991422463000001, 0.0, 0.6786990719, 0.6833452482, 1.0, 0.403859899, 0.9596140119000001, 0.0520507928], [0.4637043558, 0.7954245496, 0.0, 0.2754069523, 0.2696876381, 1.0, 0.2138143422, 0.42014958360000004, 0.0422842932], [0.1734959208, 0.9149107866, 0.0, 0.7441943873, 0.7441943873, 1.0, 0.6775755410000001, 0.8618308977, 0.2074776602], [0.30179445120000004, 1.0, 0.2304241408, 0.3784665566, 0.389885804, 0.7569331132, 0.0, 0.2667210433, 0.0456142045], [1.0, 1.0, 0.2808930424, 0.34224645200000003, 0.34224645200000003, 0.4432329521, 0.0, 0.2577881614, 0.2149746115], [0.4492001718, 0.5077821, 0.1954172062, 0.5002161687, 0.4989191524, 1.0, 0.0, 0.2204928662, 0.0860568149], [0.2189487775, 0.6480303540000001, 0.0, 0.6365361008, 0.6376520480000001, 1.0, 0.5479299183, 0.9189822567, 0.16670019830000002], [0.35340442980000003, 1.0, 0.0782608702, 0.35159967200000003, 0.3511074655, 0.6986054154, 0.0, 0.0881050054, 0.1133844113], [0.7724402964, 0.9860005495, 0.0, 0.0656052705, 0.0656052705, 1.0, 0.0573702974, 0.9332967347000001, 0.0677702067], [0.2533702042, 0.7538886969, 0.0, 0.668510197, 0.668510197, 1.0, 0.35499481650000003, 0.7715174553, 0.0538180643], [0.2000000015, 1.0, 0.1988394605, 0.4108317225, 0.4147001953, 0.7802707961, 0.0, 0.10986460390000001, 0.0480883844], [0.8706372080000001, 1.0, 0.0, 0.2023695153, 0.1951649058, 0.6567403138, 0.17659301930000001, 0.5235350627, 0.11619344250000001], [0.1778561129, 0.792340971, 0.0, 0.699567377, 0.7038936066, 1.0, 0.5782727128, 0.9996795381, 0.11610042840000001], [0.0947126457, 0.780229885, 0.0, 0.5103448277, 0.5103448277, 1.0, 0.3857471268, 0.8151724155000001, 0.0404612132], [0.6152204854000001, 0.9452347084, 0.2876955915, 0.6945234726, 0.6970128018, 1.0, 0.0, 0.0711237578, 0.052311233000000006], [0.8694560672, 1.0, 0.0760310825, 0.2205618652, 0.20047818350000002, 0.8231918708, 0.0, 0.7732217577, 0.155612896], [0.4979491395, 0.931637955, 0.194695105, 0.5758818704, 0.5824446267, 1.0, 0.0, 0.2882143837, 0.0680306468], [0.9671908367000001, 1.0, 0.009059729, 0.0130718954, 0.0134601693, 0.7163657543, 0.0, 0.6968873355, 0.2874699438], [0.9484019219000001, 1.0, 0.5847085853, 0.5957802377, 0.5957802377, 0.7399206182, 0.0, 0.23626488410000002, 0.08905187490000001], [0.9385113268, 1.0, 0.4319143635, 0.5186291594, 0.5186291594, 0.6689071448, 0.0, 0.4056094928, 0.22418302550000002], [0.948574562, 1.0, 0.40120614, 0.7004385969, 0.6996710527000001, 0.9601973691000001, 0.0, 0.6050438595000001, 0.16965805250000002], [0.4075738123, 0.8735558418, 0.020860075500000002, 0.28883183630000003, 0.283376122, 1.0, 0.0, 0.6591784332, 0.0579665013], [0.7302873974, 1.0, 0.6987840820000001, 0.8625644803, 0.8594325706, 0.8935151062000001, 0.0, 0.1206705975, 0.100976306], [0.8482100248000001, 1.0, 0.5902147977000001, 0.9217183782, 0.9233890234000001, 0.9723150374, 0.0, 0.1723150364, 0.0779459693], [0.9193030721000001, 1.0, 0.5364511689, 0.6298716184, 0.6298716184, 0.6515359923, 0.0, 0.1875286565, 0.1622913215], [0.2682755538, 0.5131200914, 0.0, 0.3775777306, 0.3795569174, 1.0, 0.3394624269, 0.8178509858, 0.2913765437], [0.12141869220000001, 1.0, 0.0, 0.8047816637, 0.7996443396, 0.962062834, 0.4924916026, 0.8343212808, 0.18829811500000002], [0.1487822516, 1.0, 0.1171931518, 0.2329394752, 0.22546419110000002, 0.910778877, 0.0, 0.025560646500000003, 0.07714604650000001], [0.2066468625, 1.0, 0.0, 0.4780913478, 0.4780913478, 0.9942443384, 0.1607872263, 0.9942443384, 0.1001949858], [0.0163302047, 0.29484376970000004, 0.0, 0.236852256, 0.23775234650000002, 1.0, 0.1603446053, 0.8814452876000001, 0.14467441620000002], [0.3453822862, 0.61960636, 0.0, 0.5995457996, 0.5968962903, 1.0, 0.5463663896000001, 0.9059424680000001, 0.0982974945], [0.500194174, 1.0, 0.3658252433, 0.3658252433, 0.3631067953, 0.6621359213, 0.0, 0.6621359213, 0.047902356], [0.3172067563, 1.0, 0.1424007281, 0.4030123209, 0.4016430837, 0.7001369255000001, 0.0, 0.3190324044, 0.0407588589], [0.5121107226, 0.9716262937000001, 0.0, 0.35363321540000003, 0.3487889222, 1.0, 0.012456742000000002, 0.3107266434, 0.0268811279], [0.0214797133, 0.8242840088000001, 0.0, 0.556682576, 0.5629474927, 1.0, 0.3412887807, 0.7568615747, 0.0623567755], [0.3527426175, 0.8135021112, 0.3151898728, 0.4793248922, 0.4793248922, 1.0, 0.0, 0.46118143300000003, 0.0440887702], [0.7582168495, 0.7907064589, 0.0, 0.7075935003, 0.7049489995, 1.0, 0.31205137850000003, 0.45523233900000004, 0.0492417616], [0.6817215710000001, 1.0, 0.0, 0.6546227411000001, 0.6578108375, 0.9984059518, 0.3134962791, 0.4883103071, 0.0350105763], [0.8672953852, 1.0, 0.7318962622, 0.8344560461, 0.8332771974000001, 0.8459077140000001, 0.0, 0.1840687107, 0.1104637629], [0.5988455974, 0.6334776344, 0.0, 0.1165945161, 0.1165945161, 1.0, 0.1165945161, 0.896392497, 0.0644588984], [0.9867266574, 1.0, 0.048593925, 0.1795275601, 0.1826771658, 0.49651293550000003, 0.0, 0.2499437561, 0.0826896979], [0.8263460297, 1.0, 0.5960842731, 0.6499255153, 0.6463077251, 0.6820600122, 0.0, 0.3939135982, 0.0874148236], [0.6064204085, 0.9388742319000001, 0.0, 0.5017590171, 0.505277047, 1.0, 0.31926121690000003, 0.7669305211, 0.042302896], [0.0087604846, 1.0, 0.0, 0.9576887235, 0.959366263, 0.9727244488000001, 0.7354457907, 0.8716992852000001, 0.29941297780000004], [0.5116209776, 1.0, 0.41016090660000004, 0.9235697261, 0.9302741362, 0.9342967819, 0.0, 0.4216328971, 0.12486237380000001], [0.28643068, 0.5846607669, 0.0, 0.4342182889, 0.44336283270000004, 1.0, 0.4292035408, 0.9893805326, 0.06306368400000001], [0.2119039064, 0.7866618860000001, 0.0, 0.2291143759, 0.2248117603, 1.0, 0.1376837556, 0.47185370940000004, 0.0518833672], [0.0432006018, 1.0, 0.0, 0.6083771604, 0.6087528164, 0.6406836954, 0.0999248697, 0.2618332082, 0.09904160890000001], [0.6277508872, 0.758309132, 0.6082607295, 0.717715392, 0.7179735401, 1.0, 0.0, 0.0081316557, 0.2882512638], [0.7979352742, 1.0, 0.0, 0.151606542, 0.1545064383, 0.5307968914, 0.0561419786, 0.3171325839, 0.1603752272], [0.6650955737, 0.7541241151, 0.0, 0.4315265762, 0.43335951780000004, 1.0, 0.135899449, 0.8017805709, 0.07104430960000001], [0.3435632803, 0.7395437262, 0.0, 0.7395437262, 0.7417164584, 1.0, 0.21727322070000002, 0.2797392702, 0.0684957181], [0.5771905416, 1.0, 0.5412610106, 0.8817802503000001, 0.88711173, 0.8933704223000001, 0.0, 0.1611033829, 0.0802527236], [0.4912959395, 0.7113152799, 0.0, 0.2630560932, 0.2485493249, 1.0, 0.16392650050000002, 0.8675048366, 0.0384707076], [0.3240870772, 0.9887640451, 0.0, 0.6997893252, 0.7025983140000001, 1.0, 0.35042134950000003, 0.5944522463, 0.0529809357], [0.2089642655, 0.9848576645, 0.0, 0.7116898852, 0.6989703207, 1.0, 0.5160508815, 0.8316172051, 0.0307133162], [0.2733284334, 1.0, 0.1498897877, 0.5922116105, 0.5738427599, 0.9853049195, 0.0, 0.0536370352, 0.025318488], [0.8866693051000001, 1.0, 0.49663765800000004, 0.5486550631, 0.548259493, 0.7213212032, 0.0, 0.4032832289, 0.0940560431], [0.3195187169, 0.4711229964, 0.0, 0.4427807502, 0.4459893049, 1.0, 0.3085561512, 0.6403743325, 0.0695746839], [0.8736752339, 1.0, 0.7229869658, 0.7451577533, 0.7443050303000001, 0.7693994394, 0.0, 0.16189548010000002, 0.1527108503], [0.4939341419, 0.7914500287, 0.0, 0.23194685310000002, 0.2426343172, 1.0, 0.2394569635, 0.9179664933, 0.06440308980000001], [0.310833058, 0.3625288101, 0.0220612439, 0.1251234771, 0.12742838110000002, 1.0, 0.0, 0.5521896603, 0.0564968756], [0.0871724138, 0.6011034469000001, 0.0, 0.18951723950000002, 0.1828965499, 1.0, 0.17268965320000002, 0.49158620690000004, 0.06743535540000001], [0.7498141243, 1.0, 0.0, 0.4836431229, 0.48178438640000004, 0.964684014, 0.026394053, 0.2613382909, 0.0500416844], [0.8090510958, 1.0, 0.25255474510000003, 0.5795620449000001, 0.5786861328, 0.6823357658, 0.0, 0.2668613131, 0.0637147841], [0.9508404337, 1.0, 0.2676721157, 0.2771125948, 0.27342850550000003, 0.4087036617, 0.0, 0.3000230255, 0.1615844128], [0.5252351574, 0.7579650044, 0.0, 0.6696672393, 0.6782643871, 1.0, 0.6172752094, 0.8414079097, 0.18392644360000002], [0.0325114155, 0.6255707757, 0.0, 0.4297716881, 0.4310502276, 1.0, 0.4310502276, 0.9806392692, 0.1018506401], [0.7862318847, 1.0, 0.5528985508, 0.6263285013000001, 0.6263285013000001, 0.8224637676000001, 0.0, 0.7751207719000001, 0.0770158266], [0.7116022094000001, 1.0, 0.6800491102, 0.8861878454000001, 0.8865561693, 0.9323511350000001, 0.0, 0.1529772865, 0.1515202675], [0.1014256627, 0.9702647638, 0.0, 0.2101833018, 0.22321792470000001, 1.0, 0.1454175173, 0.8688391011000001, 0.045670013200000005], [0.9589866055, 1.0, 0.6835219602, 0.7027307654, 0.7008618004, 0.7587997091, 0.0, 0.3292492989, 0.1791641126], [0.33916612620000003, 1.0, 0.2082523224, 0.4644631658, 0.4623028736, 0.6441996115, 0.0, 0.5785266788, 0.0861126235], [0.048618546900000004, 1.0, 0.0, 0.5673591767, 0.5662882833, 0.6875133848, 0.1869779402, 0.6356821578, 0.0868567377], [0.018194069, 1.0, 0.0, 0.6729559751, 0.6722821210000001, 0.8728661278000001, 0.4768643301, 0.7922282125000001, 0.0828199178], [0.3594566368, 0.8836642311, 0.3166144226, 0.8014629071, 0.8039010797, 1.0, 0.0, 0.0463253254, 0.0534088015], [0.6674429430000001, 0.6867722415, 0.0, 0.4382859811, 0.4429436417, 1.0, 0.3004191901, 0.7293898476, 0.0798806665], [0.5492807654, 0.723494936, 0.0, 0.25093233670000004, 0.25572722540000004, 1.0, 0.032498668200000004, 0.6116142759000001, 0.034917562], [0.46144914070000004, 0.7173711104, 0.0, 0.22851834780000002, 0.22921504980000001, 1.0, 0.2248026024, 0.930097539, 0.08010390070000001], [0.9251388095, 0.9446678150000001, 0.0333141863, 0.1030059343, 0.10664369010000001, 1.0, 0.0, 0.9483055708, 0.0971627202], [0.4941877355, 0.7029933152000001, 0.21548968270000002, 0.35440278950000004, 0.3481546061, 1.0, 0.0, 0.3378378373, 0.1280248595], [0.8928505457, 1.0, 0.2846850172, 0.8935895065, 0.8946979505, 0.9028265288, 0.0, 0.23609828160000002, 0.1006972631], [0.5329670315, 0.8685545223000001, 0.0, 0.0621301763, 0.0642434481, 1.0, 0.0604395571, 0.6779374499, 0.0440143587], [0.6265015038, 1.0, 0.0, 0.8701201211, 0.8765015048, 0.9102852852000001, 0.2856606625, 0.6786786797000001, 0.0495580101], [0.3594824113, 1.0, 0.0, 0.6558835438, 0.6627577840000001, 0.9927213942, 0.3263243032, 0.7820461016, 0.0460048645], [0.013656384700000001, 1.0, 0.0, 0.7951541848, 0.7889867850000001, 0.8634361261, 0.1977973572, 0.5599118935, 0.0422284845], [0.1195833329, 0.5104166649, 0.0, 0.5020833338, 0.5074999968, 1.0, 0.09916666810000001, 0.5954166656000001, 0.044646856000000006], [0.044339094100000004, 1.0, 0.0, 0.5323480182, 0.5373675392, 0.7707752355, 0.0800334633, 0.10931399730000001, 0.0667098439], [0.2127769189, 1.0, 0.0, 0.6684698601, 0.6731066458, 0.8650180303, 0.36450283380000004, 0.3869139627, 0.0722162896], [0.062182360900000004, 0.6439461892, 0.0, 0.5207772805, 0.5192825119, 1.0, 0.262481314, 0.4134529162, 0.0622265554], [0.3397817466, 0.9801587305, 0.0, 0.6376488096, 0.6393849217, 1.0, 0.396329366, 0.8623511904000001, 0.075006718], [0.9411764704000001, 1.0, 0.0, 0.5339954164, 0.5244461437, 0.9950343770000001, 0.0080213908, 0.8953399545, 0.0487022786], [0.28615298710000003, 0.42238972700000005, 0.0, 0.1761585716, 0.1697375768, 1.0, 0.1256281394, 0.7250139586000001, 0.0666354326], [0.359375, 0.6875, 0.0, 0.34375000000000006, 0.8753096344, 1.0, 0.15625, 0.932811575, 0.0595271314], [0.7141943734, 1.0, 0.6734867859, 0.8940750217000001, 0.8962063095, 0.9087809041, 0.0, 0.4345694802, 0.0872846035], [0.5268791626, 0.6013320649, 0.0, 0.4859657486, 0.4816841115, 1.0, 0.3917697451, 0.8882017126, 0.0782064094], [0.8813628891, 1.0, 0.0611658453, 0.7294745487000001, 0.7331691325, 0.7766830861, 0.0, 0.1756978649, 0.045316558800000004], [0.0197305104, 0.6701154955, 0.0, 0.593358999, 0.5955245443, 1.0, 0.4278152067, 0.8435996165, 0.0773134721], [0.2967251086, 1.0, 0.18987760480000002, 0.8759510426, 0.884882567, 0.9960304351, 0.0, 0.6037049288, 0.0562364356], [0.2126297583, 0.4989619382, 0.0, 0.222664359, 0.22041522560000001, 1.0, 0.0735294118, 0.9288927331, 0.10752451140000001], [0.5536809818, 0.6984662555000001, 0.1208588944, 0.5349693253, 0.5315950926, 1.0, 0.0, 0.6730061336000001, 0.060645312800000004], [0.4453431941, 0.8550959075000001, 0.0, 0.6556505669, 0.6514906403, 1.0, 0.4132193216, 0.9114860164, 0.0804945609], [0.044232732500000004, 1.0, 0.0, 0.6202790064, 0.6233412711, 0.8002722011000001, 0.3671316773, 0.5814903024, 0.054673795600000005], [0.4883616844, 0.9650850509000001, 0.0, 0.124888093, 0.1257833492, 1.0, 0.0165622206, 0.8339301731000001, 0.0415587817], [0.6814918592, 1.0, 0.6254596398000001, 0.7604622658, 0.7623883731000001, 0.7895289801, 0.0, 0.4720714412, 0.1062409143], [0.9115182652, 1.0, 0.5485420617, 0.5809406762, 0.5806055182000001, 0.6464082221, 0.0, 0.4855323425, 0.1665141699], [0.43509212750000004, 0.6948632053, 0.0, 0.6330262425000001, 0.6362367399000001, 1.0, 0.4905080955, 0.9190396419, 0.1332708652], [0.3538518235, 0.6398820519, 0.0, 0.5654257306, 0.5617397732, 1.0, 0.35606340010000004, 0.9026907495000001, 0.05046955], [0.1870579907, 0.9858557287, 0.0, 0.33062234760000003, 0.32107496480000003, 1.0, 0.22100424200000002, 0.6294200837, 0.0526088787], [0.4449923296, 0.4774271319, 0.0, 0.027832566700000002, 0.0880999346, 1.0, 0.0607056765, 0.7827087449, 0.1697696698], [0.8263621978, 0.9703820943, 0.4985304091, 0.7610219306, 0.7594392935000001, 1.0, 0.0, 0.0603662661, 0.0822804349], [0.008940252000000001, 0.5004361104, 0.0, 0.4472307023, 0.44526820640000003, 1.0, 0.3741822943, 0.4034016566, 0.0853127005], [0.9966273196000001, 1.0, 0.18718381150000002, 0.3182124785, 0.32613828, 0.5984822937000001, 0.0, 0.2258010118, 0.1103149398], [0.8528106518, 1.0, 0.0, 0.1483727816, 0.14674556290000002, 0.885946746, 0.025147929000000003, 0.5100591714, 0.1257553109], [0.5998018829, 0.9225689294, 0.0, 0.26894502200000003, 0.2643222723, 1.0, 0.2540861808, 0.9311540366000001, 0.1126775027], [0.9959498798, 1.0, 0.0, 0.4661435257, 0.4656372614, 0.7329451971000001, 0.3400835332, 0.3832426278, 0.14698117030000002], [0.9190978461, 1.0, 0.3954219035, 0.4161804317, 0.4184245963, 0.6426166966, 0.0, 0.0453321363, 0.1657886584], [0.6591962909, 1.0, 0.2836166926, 0.35239567320000004, 0.35285935150000003, 0.6217928907, 0.0, 0.5034003087, 0.1203604825], [0.0, 0.7179142748, 0.0, 0.6811576505, 0.6837220663, 1.0, 0.5873733058, 0.6744413234000001, 0.1523387931], [0.0474444688, 0.6944144912, 0.0, 0.6758680180000001, 0.6769463016, 1.0, 0.4530946731, 0.8069872763, 0.0862614463], [0.055100818700000005, 0.9189458971000001, 0.0, 0.7119185473, 0.712317827, 1.0, 0.4034737474, 0.5859452983, 0.093181709], [0.6314004187000001, 1.0, 0.5448231304, 0.5994185103, 0.5952188654, 0.6178323370000001, 0.0, 0.1437570666, 0.11517028550000001], [0.26110949780000003, 0.47720011630000003, 0.0502468774, 0.33647981390000004, 0.33996514640000003, 1.0, 0.0, 0.8825152491, 0.1280992708], [0.15270505980000001, 0.6407068066, 0.0, 0.5935863863, 0.6012216389, 1.0, 0.4709860386, 0.4755671906, 0.0852754949], [0.8094703190000001, 1.0, 0.8069644864000001, 0.8960511535000001, 0.8980385382, 0.8980385382, 0.0, 0.047610817900000005, 0.21529086], [0.4611050713, 1.0, 0.4357022837, 0.6899278443, 0.6893347834, 0.7571414451, 0.0, 0.0789759812, 0.18820510070000002], [0.2152790322, 0.9855517412, 0.0, 0.6725663711000001, 0.6705797360000001, 1.0, 0.0944554814, 0.1202817414, 0.1030040173], [0.5934262238, 1.0, 0.5, 0.7493747773, 0.7459807065, 0.7633083243000001, 0.0, 0.5246516614, 0.1041387916], [0.4771100387, 1.0, 0.2859996676, 0.507574497, 0.507574497, 0.9359081071, 0.0, 0.6440819040000001, 0.1117473598], [0.0430177604, 0.9123350164, 0.0, 0.8799087494000001, 0.8831676715000001, 1.0, 0.1220466025, 0.39367769300000005, 0.1141657313], [0.8663916779, 0.9173242461000001, 0.0, 0.2478479188, 0.2485652798, 1.0, 0.2026542332, 0.8990315639, 0.1037295288], [0.0746510886, 0.9668938669, 0.0, 0.6471924708, 0.6488153209, 1.0, 0.3193768274, 0.5946121397, 0.0573154013], [0.1693035996, 0.6498069021, 0.0, 0.605954902, 0.6148000499, 1.0, 0.49794443780000003, 0.6684938331, 0.1493251303], [0.999413403, 1.0, 0.45167913120000003, 0.8241677656, 0.8256342566, 0.9259422204000001, 0.0, 0.1064672235, 0.1268528794], [0.051611852300000004, 1.0, 0.0, 0.8651904928, 0.8673070658, 0.8953109737, 0.45734288440000004, 0.523607946, 0.11425874550000001], [0.6326530612, 0.8249914490000001, 0.0, 0.7667312738000001, 0.7642230071, 1.0, 0.691825333, 0.8656937629, 0.16316565560000001], [0.0351437713, 0.5988963109000001, 0.0, 0.5088585551, 0.5088585551, 1.0, 0.1937264012, 0.3894859141, 0.0640496354], [0.0413880932, 0.9573384286000001, 0.0, 0.572110792, 0.5644699134, 1.0, 0.053167781500000004, 0.20184654700000002, 0.0584315726], [0.8703534143, 1.0, 0.0247207474, 0.3314411272, 0.3129463461, 0.5575901842000001, 0.0, 0.2100347925, 0.10159020020000001], [1.0, 1.0, 0.1886080753, 0.3270463999, 0.2881931361, 0.7566955897000001, 0.0, 0.5224443629000001, 0.049316173000000005], [0.9704258685, 1.0, 0.28075709730000004, 0.6025236577, 0.6029179819, 0.8115141956, 0.0, 0.3083596235, 0.0471768445], [0.10839552100000001, 0.6839552235, 0.0, 0.6839552235, 0.6977611939, 1.0, 0.3311567159, 0.5, 0.0997113116], [0.8250963898, 1.0, 0.4626708715, 0.6554504009000001, 0.648790745, 0.9982474584000001, 0.0, 0.21696459780000002, 0.053073950200000004], [0.5354826754, 0.6588845658, 0.0, 0.5579025391, 0.5586436925, 1.0, 0.3896609231, 0.8899388561, 0.1003996174], [0.4293622153, 0.8428399514, 0.2267148025, 0.5872442853000001, 0.5930204585000001, 1.0, 0.0, 0.5788206973000001, 0.0772948693], [0.0968464259, 0.5549542819000001, 0.0, 0.5370404922, 0.5437581643, 1.0, 0.4991602915, 0.7370778136, 0.09969270870000001], [0.6597197255, 1.0, 0.5091627718, 0.7782967997, 0.7757815307, 0.7768595036, 0.0, 0.4211282776, 0.0517717501], [0.6990192763, 1.0, 0.0, 0.4677037553, 0.4710855586, 0.8038552598, 0.1782211689, 0.508961784, 0.0550086471], [0.935316455, 1.0, 0.6802531649, 0.7360759496, 0.7360759496, 0.7441772153, 0.0, 0.4379746836, 0.14696256770000002], [0.0621080324, 0.5759660128, 0.0, 0.5207363947, 0.5207363947, 1.0, 0.1620473405, 0.5575561408, 0.0919539204], [0.7084309103, 0.9244730654000001, 0.0, 0.7669789217, 0.7658079601000001, 1.0, 0.0439110057, 0.5848946131, 0.0317736791], [0.39175563420000004, 1.0, 0.2998220627, 0.7612692762000001, 0.7612692762000001, 0.7612692762000001, 0.0, 0.09845788870000001, 0.0627288325], [0.9987878793, 1.0, 0.128484846, 0.2525252521, 0.2496969678, 0.7018181843, 0.0, 0.12444444500000001, 0.0460420701], [1.0, 1.0, 0.5027224778, 0.5737621236, 0.5770801433, 0.7366003067, 0.0, 0.3137655271, 0.218657977], [0.1901612236, 0.3801846491, 0.0, 0.28620642150000003, 0.2869643103, 1.0, 0.2869643103, 0.6756924349, 0.27000186130000003]], \"id\": \"marketdirection_DOW\", \"market\": \"DOW\"}'"
      ]
     },
     "execution_count": 9,
     "metadata": {},
     "output_type": "execute_result"
    }
   ],
   "source": [
    "Dataset.csvtojson(loadedData, MARKET1, PIPELINE_ID)"
   ]
  },
  {
   "cell_type": "code",
   "execution_count": 6,
   "metadata": {
    "collapsed": false
   },
   "outputs": [
    {
     "data": {
      "text/plain": [
       "1"
      ]
     },
     "execution_count": 6,
     "metadata": {},
     "output_type": "execute_result"
    }
   ],
   "source": [
    "ffnn.NUM_LABELS"
   ]
  },
  {
   "cell_type": "code",
   "execution_count": null,
   "metadata": {
    "collapsed": true
   },
   "outputs": [],
   "source": []
  }
 ],
 "metadata": {
  "kernelspec": {
   "display_name": "Python 2",
   "language": "python",
   "name": "python2"
  },
  "language_info": {
   "codemirror_mode": {
    "name": "ipython",
    "version": 2
   },
   "file_extension": ".py",
   "mimetype": "text/x-python",
   "name": "python",
   "nbconvert_exporter": "python",
   "pygments_lexer": "ipython2",
   "version": "2.7.12"
  }
 },
 "nbformat": 4,
 "nbformat_minor": 2
}
