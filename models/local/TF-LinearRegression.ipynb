{
 "cells": [
  {
   "cell_type": "code",
   "execution_count": 52,
   "metadata": {},
   "outputs": [],
   "source": [
    "import tensorflow as tf\n",
    "import numpy as np\n",
    "import pandas\n",
    "import os\n",
    "import matplotlib.pyplot as plt\n",
    "\n",
    "%matplotlib inline\n",
    "\n",
    "## Load Training data\n",
    "dataset = pandas.read_csv(\"data/ex1data1.txt\", header=None)\n",
    "m,n = dataset.shape\n",
    "x = dataset.values[:,0].reshape(m,1)\n",
    "y = dataset.values[:,-1].reshape(m,1)\n",
    "\n",
    "## Load Validation and Test data\n",
    "\n",
    "## Normalise\n",
    "x_norm, mu, sigma = featureNormalise(x)\n",
    "\n",
    "# Add bias\n",
    "x_with_bias = np.array([(1., a) for a in x_norm]).astype(np.float32)"
   ]
  },
  {
   "cell_type": "code",
   "execution_count": 53,
   "metadata": {
    "collapsed": true
   },
   "outputs": [],
   "source": [
    "def featureNormalise(X):\n",
    "    mu = np.mean(X)\n",
    "    sigma = np.std(X, ddof=1)\n",
    "    return ((X - mu) / sigma), mu, sigma"
   ]
  },
  {
   "cell_type": "code",
   "execution_count": 54,
   "metadata": {
    "scrolled": true
   },
   "outputs": [
    {
     "data": {
      "text/plain": [
       "<matplotlib.collections.PathCollection at 0x7fa1e5b1e110>"
      ]
     },
     "execution_count": 54,
     "metadata": {},
     "output_type": "execute_result"
    },
    {
     "data": {
      "image/png": "[encoded data removed]",
      "text/plain": [
       "<matplotlib.figure.Figure at 0x7fa1eac954d0>"
      ]
     },
     "metadata": {},
     "output_type": "display_data"
    }
   ],
   "source": [
    "plt.scatter(x,y)"
   ]
  },
  {
   "cell_type": "code",
   "execution_count": 55,
   "metadata": {},
   "outputs": [
    {
     "name": "stdout",
     "output_type": "stream",
     "text": [
      "Done\n"
     ]
    }
   ],
   "source": [
    "import tensorflow as tf\n",
    "\n",
    "# We'll bundle groups of examples during training for efficiency.\n",
    "# This defines the size of the batch.\n",
    "BATCH_SIZE = m\n",
    "\n",
    "NUM_FEATURES = 2\n",
    "NUM_LABELS = 1\n",
    "# The random seed that defines initialization.\n",
    "#SEED = 42\n",
    "\n",
    "# This is where training samples and labels are fed to the graph.\n",
    "# These placeholder nodes will be fed a batch of training data at each\n",
    "# training step, which we'll write once we define the graph structure.\n",
    "train_data_node = tf.placeholder(tf.float32, shape=(BATCH_SIZE, NUM_FEATURES))\n",
    "train_labels_node = tf.placeholder(tf.float32, shape=(BATCH_SIZE, NUM_LABELS))\n",
    "\n",
    "# The variables below hold all the trainable weights. For each, the\n",
    "# parameter defines how the variables will be initialized. \n",
    "# TODO : These should be pulled from a config file\n",
    "\n",
    "weights = tf.Variable(tf.random_normal([2, 1],0,0.01))\n",
    "    \n",
    "print('Done')"
   ]
  },
  {
   "cell_type": "code",
   "execution_count": 63,
   "metadata": {},
   "outputs": [
    {
     "name": "stdout",
     "output_type": "stream",
     "text": [
      "Done\n"
     ]
    }
   ],
   "source": [
    "def model(data, train=False):\n",
    "    \"\"\"The Model definition.\"\"\"\n",
    "    # Linear Regression\n",
    "\n",
    "    # learning_rate is the step size, so how much we jump from the current spot\n",
    "    #learning_rate = 0.01\n",
    "\n",
    "    # The operations in the operation graph.\n",
    "    # Compute the predicted y values given our current weights\n",
    "    yhat = tf.matmul(data, weights)\n",
    "    \n",
    "    return yhat\n",
    "    \n",
    "print('Done')"
   ]
  },
  {
   "cell_type": "code",
   "execution_count": 64,
   "metadata": {},
   "outputs": [
    {
     "name": "stdout",
     "output_type": "stream",
     "text": [
      "Done\n"
     ]
    }
   ],
   "source": [
    "yhat = model(train_data_node, True)\n",
    "\n",
    "# How much does this differ from the actual y?\n",
    "yerror = tf.subtract(yhat, train_labels_node)\n",
    "# Change the weights by subtracting derivative with respect to that weight\n",
    "loss = (1.0 / (2 * m)) * tf.reduce_sum(tf.multiply(yerror, yerror))\n",
    "\n",
    "# Optimizer: \n",
    "\n",
    "# Decay \n",
    "learning_rate = 0.01\n",
    "# Gradient Descent\n",
    "gradient = tf.reduce_sum(tf.transpose(tf.multiply(train_data_node, yerror)), 1, keep_dims=True)\n",
    "update_weights = tf.assign_sub(weights, (learning_rate / m) * gradient)\n",
    "\n",
    "# Predictions\n",
    "train_prediction = yhat\n",
    "\n",
    "print('Done')"
   ]
  },
  {
   "cell_type": "code",
   "execution_count": 66,
   "metadata": {},
   "outputs": [],
   "source": [
    "#################\n",
    "##### Train #####\n",
    "#################\n",
    "\n",
    "# Create a new interactive session that we'll use in\n",
    "# subsequent code cells.\n",
    "s = tf.InteractiveSession()\n",
    "\n",
    "# Use our newly created session as the default for \n",
    "# subsequent operations.\n",
    "s.as_default()\n",
    "\n",
    "# Initialize all the variables we defined above.\n",
    "tf.global_variables_initializer().run()\n",
    "\n",
    "\n",
    "\n",
    "# Keep track of the loss at each iteration so we can chart it later\n",
    "losses = []\n",
    "# How many iterations to run our training\n",
    "training_steps = 1500\n",
    "# The learning rate. Also known has the step size. This changes how far\n",
    "# we move down the gradient toward lower error at each step. Too large\n",
    "# jumps risk inaccuracy, too small slow the learning.\n",
    "learning_rate = 0.01\n",
    "\n",
    "for _ in range(training_steps):\n",
    "    # Feed the entire batch\n",
    "    # Grab the first BATCH_SIZE examples and labels.\n",
    "    batch_data = x_with_bias[:BATCH_SIZE,:]\n",
    "    batch_labels = y[:BATCH_SIZE,:]\n",
    "    \n",
    "    # This dictionary maps the batch data (as a numpy array) to the\n",
    "    # node in the graph it should be fed to.\n",
    "    feed_dict = {train_data_node: batch_data,\n",
    "                 train_labels_node: batch_labels}\n",
    "    \n",
    "    # Run the graph and fetch some of the nodes.\n",
    "    betas, l, predictions = s.run(\n",
    "        [update_weights, loss, train_prediction],\n",
    "        feed_dict=feed_dict)\n",
    "    \n",
    "    # Print out the loss periodically.\n",
    "    losses.append(l)\n"
   ]
  },
  {
   "cell_type": "code",
   "execution_count": 67,
   "metadata": {
    "scrolled": true
   },
   "outputs": [
    {
     "data": {
      "image/png": "[encoded data removed]",
      "text/plain": [
       "<matplotlib.figure.Figure at 0x7fa1e58961d0>"
      ]
     },
     "metadata": {},
     "output_type": "display_data"
    }
   ],
   "source": [
    "# Show the fit and the loss over time.\n",
    "fig, (ax1, ax2) = plt.subplots(1, 2)\n",
    "plt.subplots_adjust(wspace=.3)\n",
    "fig.set_size_inches(10, 4)\n",
    "ax1.scatter(x, y, alpha=.7)\n",
    "ax1.scatter(x, np.transpose(predictions)[0], c=\"g\", alpha=.6)\n",
    "line_x_range = np.array([min(x), max(x)])\n",
    "ax1.plot(line_x_range, [betas[0] + a * betas[1] for a in ((line_x_range - mu)/sigma)], \"g\", alpha=0.6)\n",
    "ax2.plot(range(0, training_steps), losses)\n",
    "ax2.set_ylabel(\"Loss\")\n",
    "ax2.set_xlabel(\"Training steps\")\n",
    "plt.show()"
   ]
  },
  {
   "cell_type": "code",
   "execution_count": 68,
   "metadata": {},
   "outputs": [
    {
     "data": {
      "text/plain": [
       "array([[ 5.83911133],\n",
       "       [ 4.61687756]], dtype=float32)"
      ]
     },
     "execution_count": 68,
     "metadata": {},
     "output_type": "execute_result"
    }
   ],
   "source": [
    "betas"
   ]
  },
  {
   "cell_type": "code",
   "execution_count": null,
   "metadata": {
    "collapsed": true
   },
   "outputs": [],
   "source": []
  }
 ],
 "metadata": {
  "kernelspec": {
   "display_name": "Python 2",
   "language": "python",
   "name": "python2"
  },
  "language_info": {
   "codemirror_mode": {
    "name": "ipython",
    "version": 2
   },
   "file_extension": ".py",
   "mimetype": "text/x-python",
   "name": "python",
   "nbconvert_exporter": "python",
   "pygments_lexer": "ipython2",
   "version": "2.7.12"
  }
 },
 "nbformat": 4,
 "nbformat_minor": 2
}
