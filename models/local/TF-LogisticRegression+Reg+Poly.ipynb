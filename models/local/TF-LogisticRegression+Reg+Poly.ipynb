{
 "cells": [
  {
   "cell_type": "code",
   "execution_count": 112,
   "metadata": {},
   "outputs": [],
   "source": [
    "import tensorflow as tf\n",
    "import numpy as np\n",
    "import pandas\n",
    "import os\n",
    "import matplotlib.pyplot as plt\n",
    "\n",
    "%matplotlib inline\n",
    "\n",
    "def featureNormalise(X):\n",
    "    mu = np.mean(X,0)\n",
    "    sigma = np.std(X,0, ddof=1)\n",
    "    return ((X - mu) / sigma), mu, sigma\n",
    "\n",
    "def mapFeatures(x1, x2):\n",
    "    degree = 6;\n",
    "    out = np.ones([x1.shape[0],1]);\n",
    "    for i in range(1, degree+1):\n",
    "        for j in range(0, i+1):\n",
    "            out = np.hstack((out,np.array((x1**(i-j)) * (x2**j)).reshape(x1.shape[0],1)))\n",
    "    return out\n",
    "\n",
    "\n",
    "## Load Training data\n",
    "dataset = pandas.read_csv(\"data/ex2data2.txt\", header=None)\n",
    "m,n = dataset.shape\n",
    "X = dataset.values[:,0:n-1].reshape(m,n-1).astype(np.float32)\n",
    "y = dataset.values[:,-1].reshape(m,1).astype(np.float32)\n",
    "\n",
    "## Load Validation and Test data\n",
    "\n",
    "## Normalise\n",
    "x_norm = X#, mu, sigma = featureNormalise(X)\n",
    "\n",
    "# Add bias\n",
    "#x_with_bias = np.hstack((np.ones((x_norm.shape[0],1)),x_norm)).astype(np.float32)\n",
    "x_with_bias = mapFeatures(x_norm[:,0], x_norm[:,1]).astype(np.float32)\n",
    "m,n = x_with_bias.shape"
   ]
  },
  {
   "cell_type": "code",
   "execution_count": 113,
   "metadata": {},
   "outputs": [
    {
     "data": {
      "image/png": "[encoded data removed]",
      "text/plain": [
       "<matplotlib.figure.Figure at 0x7f3106277250>"
      ]
     },
     "metadata": {},
     "output_type": "display_data"
    }
   ],
   "source": [
    "pos = (y==1).ravel()\n",
    "neg = (y == 0).ravel()\n",
    "\n",
    "# Plot Examples\n",
    "plt.plot(X[pos,0], X[pos, 1], '+',color=\"green\")\n",
    "plt.plot(X[neg,0], X[neg, 1], 'o', color=\"blue\");\n"
   ]
  },
  {
   "cell_type": "code",
   "execution_count": 114,
   "metadata": {},
   "outputs": [
    {
     "name": "stdout",
     "output_type": "stream",
     "text": [
      "Done\n"
     ]
    }
   ],
   "source": [
    "import tensorflow as tf\n",
    "\n",
    "# We'll bundle groups of examples during training for efficiency.\n",
    "# This defines the size of the batch.\n",
    "BATCH_SIZE = m\n",
    "\n",
    "NUM_FEATURES = n \n",
    "NUM_LABELS = 1\n",
    "# The random seed that defines initialization.\n",
    "#SEED = 42\n",
    "\n",
    "# This is where training samples and labels are fed to the graph.\n",
    "# These placeholder nodes will be fed a batch of training data at each\n",
    "# training step, which we'll write once we define the graph structure.\n",
    "train_data_node = tf.placeholder(tf.float32, shape=(BATCH_SIZE, NUM_FEATURES))\n",
    "train_labels_node = tf.placeholder(tf.float32, shape=(BATCH_SIZE, NUM_LABELS))\n",
    "\n",
    "# The variables below hold all the trainable weights. For each, the\n",
    "# parameter defines how the variables will be initialized. \n",
    "# TODO : These should be pulled from a config file\n",
    "\n",
    "weights = tf.Variable(tf.ones([n, 1]))\n",
    "    \n",
    "print('Done')"
   ]
  },
  {
   "cell_type": "code",
   "execution_count": 115,
   "metadata": {},
   "outputs": [
    {
     "name": "stdout",
     "output_type": "stream",
     "text": [
      "Done\n"
     ]
    }
   ],
   "source": [
    "def model(data, train=False):\n",
    "    \"\"\"The Model definition.\"\"\"\n",
    "    # Linear Regression\n",
    "\n",
    "    # learning_rate is the step size, so how much we jump from the current spot\n",
    "    #learning_rate = 0.01\n",
    "\n",
    "    # The operations in the operation graph.\n",
    "    # Compute the predicted y values given our current weights\n",
    "    yhat = tf.sigmoid(tf.matmul(data, weights))\n",
    "    \n",
    "    return yhat\n",
    "    \n",
    "print('Done')"
   ]
  },
  {
   "cell_type": "code",
   "execution_count": 116,
   "metadata": {},
   "outputs": [
    {
     "name": "stdout",
     "output_type": "stream",
     "text": [
      "Done\n"
     ]
    }
   ],
   "source": [
    "yhat = model(train_data_node, True)\n",
    "\n",
    "lam = 1.0\n",
    "\n",
    "# Change the weights by subtracting derivative with respect to that weight\n",
    "loss = (1.0 /  m) * tf.add(tf.add(tf.matmul(tf.negative(y.T), tf.log(yhat)), tf.matmul(tf.negative((1-y).T), tf.log(1-yhat))) , (lam / 2.0) * tf.matmul(tf.transpose(weights[1:,:]), weights[1:,:]))\n",
    "\n",
    "# Optimizer: \n",
    "\n",
    "# Gradient Descent\n",
    "yerror = tf.subtract(yhat, train_labels_node)\n",
    "zero = tf.constant(np.zeros([1,1]).astype(np.float32))\n",
    "gradient = (1.0 / m) * tf.add(tf.transpose(tf.matmul(tf.transpose(yerror), train_data_node)), lam * tf.concat([zero, weights[1:,:]],0))\n",
    "update_weights = tf.assign_sub(weights, gradient)\n",
    "\n",
    "# Predictions\n",
    "train_prediction = yhat\n",
    "\n",
    "print('Done')"
   ]
  },
  {
   "cell_type": "code",
   "execution_count": 117,
   "metadata": {
    "collapsed": true
   },
   "outputs": [],
   "source": [
    "# Create a new interactive session that we'll use in\n",
    "# subsequent code cells.\n",
    "s = tf.InteractiveSession()\n",
    "\n",
    "# Use our newly created session as the default for \n",
    "# subsequent operations.\n",
    "s.as_default()\n",
    "\n",
    "# Initialize all the variables we defined above.\n",
    "tf.global_variables_initializer().run()"
   ]
  },
  {
   "cell_type": "code",
   "execution_count": 118,
   "metadata": {
    "collapsed": true
   },
   "outputs": [],
   "source": [
    "#################\n",
    "##### Train #####\n",
    "#################\n",
    "\n",
    "# Keep track of the loss at each iteration so we can chart it later\n",
    "losses = []\n",
    "# How many iterations to run our training\n",
    "training_steps = 1500\n",
    "\n",
    "\n",
    "for _ in range(training_steps):\n",
    "    # Feed the entire batch\n",
    "    # Grab the first BATCH_SIZE examples and labels.\n",
    "    batch_data = x_with_bias[:BATCH_SIZE,:]\n",
    "    batch_labels = y[:BATCH_SIZE,:]\n",
    "    \n",
    "    # This dictionary maps the batch data (as a numpy array) to the\n",
    "    # node in the graph it should be fed to.\n",
    "    feed_dict = {train_data_node: batch_data,\n",
    "                 train_labels_node: batch_labels}\n",
    "    \n",
    "    # Run the graph and fetch some of the nodes.\n",
    "    betas, g, l, predictions = s.run(\n",
    "        [update_weights, gradient, loss, train_prediction],\n",
    "        feed_dict=feed_dict)\n",
    "    \n",
    "    # Print out the loss periodically.\n",
    "    losses.append(l)"
   ]
  },
  {
   "cell_type": "code",
   "execution_count": 119,
   "metadata": {
    "scrolled": true
   },
   "outputs": [
    {
     "data": {
      "image/png": "[encoded data removed]",
      "text/plain": [
       "<matplotlib.figure.Figure at 0x7f310d358d50>"
      ]
     },
     "metadata": {},
     "output_type": "display_data"
    }
   ],
   "source": [
    "# Show the fit and the loss over time.\n",
    "fig, (ax1) = plt.subplots(1, 1)\n",
    "plt.subplots_adjust(wspace=.3)\n",
    "fig.set_size_inches(10, 4)\n",
    "\n",
    "ax1.plot(range(0, training_steps), np.array(losses).ravel())\n",
    "ax1.set_ylabel(\"Loss\")\n",
    "ax1.set_xlabel(\"Training steps\")\n",
    "plt.show()"
   ]
  },
  {
   "cell_type": "code",
   "execution_count": 120,
   "metadata": {},
   "outputs": [
    {
     "name": "stdout",
     "output_type": "stream",
     "text": [
      "(118, 1)\n"
     ]
    },
    {
     "data": {
      "text/plain": [
       "83.050847457627114"
      ]
     },
     "execution_count": 120,
     "metadata": {},
     "output_type": "execute_result"
    }
   ],
   "source": [
    "prediction = model(tf.constant(x_with_bias), False)\n",
    "\n",
    "predictions = prediction.eval()\n",
    "print prediction.shape\n",
    "p = np.zeros([m,1])\n",
    "p[predictions > .5] = 1.0\n",
    "np.mean(p == y) * 100 # Accuracy on training set\n"
   ]
  },
  {
   "cell_type": "code",
   "execution_count": null,
   "metadata": {
    "collapsed": true
   },
   "outputs": [],
   "source": []
  }
 ],
 "metadata": {
  "kernelspec": {
   "display_name": "Python 2",
   "language": "python",
   "name": "python2"
  },
  "language_info": {
   "codemirror_mode": {
    "name": "ipython",
    "version": 2
   },
   "file_extension": ".py",
   "mimetype": "text/x-python",
   "name": "python",
   "nbconvert_exporter": "python",
   "pygments_lexer": "ipython2",
   "version": "2.7.12"
  }
 },
 "nbformat": 4,
 "nbformat_minor": 2
}
