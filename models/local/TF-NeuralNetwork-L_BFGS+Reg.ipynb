{
 "cells": [
  {
   "cell_type": "code",
   "execution_count": 432,
   "metadata": {
    "collapsed": true
   },
   "outputs": [],
   "source": [
    "import tensorflow as tf\n",
    "import numpy as np\n",
    "import pandas\n",
    "import os\n",
    "import matplotlib.pyplot as plt\n",
    "\n",
    "%matplotlib inline\n",
    "\n",
    "def featureNormalise(X):\n",
    "    mu = np.mean(X,0)\n",
    "    sigma = np.std(X,0, ddof=1)\n",
    "    return ((X - mu) / sigma), mu, sigma\n",
    "\n",
    "def mapFeatures(x1, x2):\n",
    "    degree = 6;\n",
    "    out = np.ones([x1.shape[0],1]);\n",
    "    for i in range(1, degree+1):\n",
    "        for j in range(0, i+1):\n",
    "            out = np.hstack((out,np.array((x1**(i-j)) * (x2**j)).reshape(x1.shape[0],1)))\n",
    "    return out\n",
    "\n",
    "\n",
    "## Load Training data\n",
    "dataset = pandas.read_csv(\"data/ex4data1_X.csv\", header=None)\n",
    "labels = pandas.read_csv(\"data/ex4data1_y.csv\", header=None)\n",
    "\n",
    "m,n = dataset.shape\n",
    "X = dataset.values.reshape(m,n).astype(np.float32)\n",
    "y_raw = labels.values.ravel() - 1\n",
    "\n",
    "\n",
    "## Load Validation and Test data\n",
    "\n",
    "## Normalise\n",
    "x_norm = X#, mu, sigma = featureNormalise(X)\n",
    "\n",
    "# Add bias\n",
    "x_with_bias = np.hstack((np.ones((x_norm.shape[0],1)),x_norm)).astype(np.float32)\n",
    "#x_with_bias = mapFeatures(x_norm[:,0], x_norm[:,1]).astype(np.float32)\n",
    "#m,n = x_with_bias.shape"
   ]
  },
  {
   "cell_type": "code",
   "execution_count": 456,
   "metadata": {},
   "outputs": [],
   "source": [
    "import pandas as pd\n",
    "##\n",
    "## Split (Train/Val/Test)\n",
    "##\n",
    "def split(data, train=.6, val=.2, test=.2):\n",
    "    idx = np.arange(0,len(data)) / float(len(data))\n",
    "    msk1 = data[idx<train]\n",
    "    msk2 = data[(idx>=train) & (idx<(train + val))]\n",
    "    msk3 = data[(idx>=(train+val))]\n",
    "    return [msk1.values, msk2.values, msk3.values]\n",
    "\n",
    "##\n",
    "## Shuffle data\n",
    "##\n",
    "def shuffle(data):\n",
    "    return data.sample(frac=1).reset_index(drop=True)\n",
    "\n",
    "def encode(data):\n",
    "    y = np.zeros([data.shape[0], 10]).astype(np.float32)\n",
    "    for i in range(0,data.shape[0]):\n",
    "        y[i,data[i]] = 1.\n",
    "    return y\n",
    "\n",
    "shuffled = shuffle(pd.DataFrame(np.hstack((x_with_bias,y_raw.reshape(m,1)))))\n",
    "train_X, val_X, test_X = split(shuffled)\n",
    "train_y = encode(train_X[:,-1].reshape(-1,1).astype(np.integer))\n",
    "val_y = encode(val_X[:,-1].reshape(-1,1).astype(np.integer))\n",
    "test_y = encode(test_X[:,-1].reshape(-1,1).astype(np.integer))\n",
    "\n",
    "m = train_X.shape[0]\n",
    "n = train_X.shape[1] - 2"
   ]
  },
  {
   "cell_type": "code",
   "execution_count": 457,
   "metadata": {},
   "outputs": [
    {
     "name": "stdout",
     "output_type": "stream",
     "text": [
      "Done\n"
     ]
    }
   ],
   "source": [
    "\n",
    "# We'll bundle groups of examples during training for efficiency.\n",
    "# This defines the size of the batch.\n",
    "BATCH_SIZE = m\n",
    "HIDDEN_UNITS = 25\n",
    "NUM_FEATURES = n \n",
    "NUM_LABELS = 10\n",
    "# The random seed that defines initialization.\n",
    "SEED = 42\n",
    "\n",
    "# This is where training samples and labels are fed to the graph.\n",
    "# These placeholder nodes will be fed a batch of training data at each\n",
    "# training step, which we'll write once we define the graph structure.\n",
    "train_data_node = tf.placeholder(tf.float32, shape=(None, NUM_FEATURES+1))\n",
    "train_labels_node = tf.placeholder(tf.float32, shape=(None, NUM_LABELS))\n",
    "\n",
    "length = tf.Variable(tf.constant(m, dtype=tf.float32))\n",
    "\n",
    "# The variables below hold all the trainable weights. For each, the\n",
    "# parameter defines how the variables will be initialized. \n",
    "# TODO : These should be pulled from a config file\n",
    "\n",
    "Theta1 = tf.Variable( tf.truncated_normal([HIDDEN_UNITS, (NUM_FEATURES+1)], stddev=0.1, seed=SEED))\n",
    "\n",
    "Theta2 = tf.Variable( tf.truncated_normal([NUM_LABELS, HIDDEN_UNITS],stddev=0.1, seed=SEED))\n",
    "bias2 = tf.Variable(tf.constant(0.1, shape=[NUM_LABELS]))\n",
    "    \n",
    "print('Done')"
   ]
  },
  {
   "cell_type": "code",
   "execution_count": 458,
   "metadata": {},
   "outputs": [
    {
     "name": "stdout",
     "output_type": "stream",
     "text": [
      "Done\n"
     ]
    }
   ],
   "source": [
    "def model(X, Theta1, Theta2, bias):\n",
    "    \"\"\"The Model definition.\"\"\"\n",
    "    # Perceptron\n",
    "    \n",
    "    layer1 = tf.nn.sigmoid(tf.matmul(X, tf.transpose(Theta1)))\n",
    "                        \n",
    "    output = tf.nn.bias_add(tf.matmul(layer1, tf.transpose(Theta2)),bias)\n",
    "\n",
    "    return output\n",
    "    \n",
    "print('Done')"
   ]
  },
  {
   "cell_type": "code",
   "execution_count": 459,
   "metadata": {},
   "outputs": [
    {
     "name": "stdout",
     "output_type": "stream",
     "text": [
      "Done\n"
     ]
    }
   ],
   "source": [
    "yhat = model(train_data_node, Theta1, Theta2, bias2)\n",
    "\n",
    "lam = .06\n",
    "\n",
    "# Change the weights by subtracting derivative with respect to that weight\n",
    "loss = tf.reduce_mean(tf.nn.sigmoid_cross_entropy_with_logits(labels=train_labels_node, logits=yhat))\n",
    "# Regularization using L2 Loss function \n",
    "regularizer = tf.nn.l2_loss(Theta1) + tf.nn.l2_loss(Theta2)\n",
    "loss_reg = loss + (lam / tf.to_float(tf.shape(train_data_node)[0])) * regularizer\n",
    "\n",
    "# Optimizer: \n",
    "\n",
    "# Gradient Descent\n",
    "optimizer = tf.contrib.opt.ScipyOptimizerInterface(loss_reg, options={'maxiter':500})\n",
    "#update_weights = tf.train.GradientDescentOptimizer(0.1).minimize(loss)\n",
    "\n",
    "# Predictions\n",
    "train_prediction = yhat\n",
    "\n",
    "print('Done')"
   ]
  },
  {
   "cell_type": "code",
   "execution_count": 460,
   "metadata": {},
   "outputs": [],
   "source": [
    "# Keep track of the loss at each iteration so we can chart it later\n",
    "J = []\n",
    "\n",
    "def loss_callback(loss):\n",
    "    J.append(loss)\n",
    "        \n",
    "def train(feed_dict, train=True):\n",
    "\n",
    "    #optimizer.minimize(feed_dict=feed_dict, fetches=[loss_reg], loss_callback=loss_callback)\n",
    "    if (train):\n",
    "        optimizer.minimize(feed_dict=feed_dict, fetches=[loss_reg], loss_callback=loss_callback )\n",
    "\n",
    "    return loss.eval(feed_dict)"
   ]
  },
  {
   "cell_type": "code",
   "execution_count": 461,
   "metadata": {},
   "outputs": [
    {
     "name": "stdout",
     "output_type": "stream",
     "text": [
      "INFO:tensorflow:Optimization terminated with:\n",
      "  Message: CONVERGENCE: NORM_OF_PROJECTED_GRADIENT_<=_PGTOL\n",
      "  Objective function value: 0.026939\n",
      "  Number of iterations: 372\n",
      "  Number of functions evaluations: 388\n"
     ]
    }
   ],
   "source": [
    "## Train \n",
    "J = []\n",
    "\n",
    "# Create a new interactive session that we'll use in\n",
    "# subsequent code cells.\n",
    "s = tf.InteractiveSession()\n",
    "\n",
    "# Initialize all the variables we defined above.\n",
    "tf.global_variables_initializer().run()\n",
    "\n",
    "final_loss = train({train_data_node: train_X[:,:NUM_FEATURES+1], train_labels_node: train_y[:,:]})\n"
   ]
  },
  {
   "cell_type": "code",
   "execution_count": 462,
   "metadata": {},
   "outputs": [
    {
     "data": {
      "text/plain": [
       "0.9996666666666667"
      ]
     },
     "execution_count": 462,
     "metadata": {},
     "output_type": "execute_result"
    }
   ],
   "source": [
    "predictions = train_prediction.eval({train_data_node: train_X[:,:NUM_FEATURES+1], train_labels_node: train_y[:,:]})\n",
    "a = np.argmax(predictions,axis=1) \n",
    "np.sum(a == train_X[:,-1]) / np.float32(train_X.shape[0])"
   ]
  },
  {
   "cell_type": "code",
   "execution_count": 463,
   "metadata": {
    "scrolled": true
   },
   "outputs": [
    {
     "data": {
      "image/png": "[encoded data removed]",
      "text/plain": [
       "<matplotlib.figure.Figure at 0x7f510415dd50>"
      ]
     },
     "metadata": {},
     "output_type": "display_data"
    }
   ],
   "source": [
    "# Show the fit and the loss over time.\n",
    "fig, (ax1) = plt.subplots(1, 1)\n",
    "plt.subplots_adjust(wspace=.3)\n",
    "fig.set_size_inches(10, 4)\n",
    "\n",
    "x = np.array(range(0, len(J)))\n",
    "ax1.plot(x, np.array(J).ravel())\n",
    "ax1.set_ylabel(\"Loss\")\n",
    "ax1.set_xlabel(\"Training Examples\")\n",
    "plt.show()"
   ]
  },
  {
   "cell_type": "code",
   "execution_count": 455,
   "metadata": {},
   "outputs": [
    {
     "data": {
      "text/plain": [
       "0.0078394506"
      ]
     },
     "execution_count": 455,
     "metadata": {},
     "output_type": "execute_result"
    }
   ],
   "source": [
    "final_loss"
   ]
  },
  {
   "cell_type": "code",
   "execution_count": null,
   "metadata": {
    "collapsed": true
   },
   "outputs": [],
   "source": []
  }
 ],
 "metadata": {
  "kernelspec": {
   "display_name": "Python 2",
   "language": "python",
   "name": "python2"
  },
  "language_info": {
   "codemirror_mode": {
    "name": "ipython",
    "version": 2
   },
   "file_extension": ".py",
   "mimetype": "text/x-python",
   "name": "python",
   "nbconvert_exporter": "python",
   "pygments_lexer": "ipython2",
   "version": "2.7.12"
  }
 },
 "nbformat": 4,
 "nbformat_minor": 2
}
