{
 "cells": [
  {
   "cell_type": "code",
   "execution_count": 5,
   "metadata": {},
   "outputs": [],
   "source": [
    "MODEL_ID = \"a80a294f-12f8-4b27-8eac-9aad9a53ec8b\"\n",
    "\n",
    "MARKET1 = \"DOW\"\n",
    "MARKET2 = \"SPY\"\n",
    "\n",
    "PIPELINE_ID = \"marketdirection\""
   ]
  },
  {
   "cell_type": "code",
   "execution_count": 6,
   "metadata": {},
   "outputs": [
    {
     "name": "stdout",
     "output_type": "stream",
     "text": [
      "Processing /notebooks/quantutils\n",
      "Installing collected packages: quantutils\n",
      "  Found existing installation: quantutils 1.0.0\n",
      "    Uninstalling quantutils-1.0.0:\n",
      "      Successfully uninstalled quantutils-1.0.0\n",
      "  Running setup.py install for quantutils ... \u001b[?25ldone\n",
      "\u001b[?25hSuccessfully installed quantutils-1.0.0\n",
      "Processing /notebooks/quantutils/pylogmet\n",
      "  Requirement already satisfied (use --upgrade to upgrade): pylogmet==0.3.0 from file:///notebooks/quantutils/pylogmet in /usr/local/lib/python2.7/dist-packages\n"
     ]
    }
   ],
   "source": [
    "#\n",
    "# Get dataset from MI API #\n",
    "#\n",
    "\n",
    "import pandas\n",
    "\n",
    "!pip install --upgrade '../../../../quantutils'\n",
    "!pip install '../../../../quantutils/pylogmet'\n",
    "#!pip install plotly\n",
    "import quantutils.dataset.pipeline as ppl\n",
    "from quantutils.api.bluemix import ObjectStore\n",
    "from quantutils.api.marketinsights import MarketInsights\n",
    "\n",
    "mi = MarketInsights('cred/MIOapi_cred.json')\n",
    "objStore = ObjectStore('cred/object_storage_cred.json')\n",
    "\n",
    "mkt1 = mi.get_dataset(MARKET1, PIPELINE_ID)\n",
    "mkt2 = mi.get_dataset(MARKET1, PIPELINE_ID)\n",
    "\n",
    "# Interleave (part of the \"added insight\" for this model)\n",
    "mkt1, mkt2, isect = ppl.intersect(mkt1,mkt2)\n",
    "dataset = ppl.interleave(mkt1,mkt2)"
   ]
  },
  {
   "cell_type": "code",
   "execution_count": 2,
   "metadata": {},
   "outputs": [],
   "source": [
    "testSetLength = 430\n",
    "training_set = dataset[:-(testSetLength)]\n",
    "test_set = dataset[-(testSetLength):]          "
   ]
  },
  {
   "cell_type": "code",
   "execution_count": 7,
   "metadata": {},
   "outputs": [
    {
     "name": "stderr",
     "output_type": "stream",
     "text": [
      "/usr/local/lib/python2.7/dist-packages/h5py/__init__.py:36: FutureWarning:\n",
      "\n",
      "Conversion of the second argument of issubdtype from `float` to `np.floating` is deprecated. In future, it will be treated as `np.float64 == np.dtype(float).type`.\n",
      "\n"
     ]
    },
    {
     "name": "stdout",
     "output_type": "stream",
     "text": [
      "Done\n"
     ]
    }
   ],
   "source": [
    "import tensorflow as tf\n",
    "import numpy as np\n",
    "import os\n",
    "import matplotlib.pyplot as plt\n",
    "\n",
    "%matplotlib inline\n",
    "\n",
    "##### Specific to the data ##\n",
    "NUM_FEATURES = (2 * 4) + 1\n",
    "NUM_LABELS = 2\n",
    "#############################\n",
    "\n",
    "\n",
    "##### #Define the architecture\n",
    "HIDDEN_UNITS = 32\n",
    "\n",
    "# The random seed that defines initialization.\n",
    "SEED = 42\n",
    "\n",
    "# This is where training samples and labels are fed to the graph.\n",
    "# These placeholder nodes will be fed a batch of training data at each\n",
    "# training step, which we'll write once we define the graph structure.\n",
    "train_data_node = tf.placeholder(tf.float32, shape=(None, NUM_FEATURES))\n",
    "train_labels_node = tf.placeholder(tf.float32, shape=(None, NUM_LABELS))\n",
    "lam = tf.placeholder(tf.float32)\n",
    "\n",
    "# The variables below hold all the trainable weights. For each, the\n",
    "# parameter defines how the variables will be initialized. \n",
    "# TODO : These should be pulled from a config file\n",
    "\n",
    "Theta1 = tf.Variable( tf.truncated_normal([HIDDEN_UNITS, (NUM_FEATURES)], stddev=0.1))\n",
    "\n",
    "Theta2 = tf.Variable( tf.truncated_normal([NUM_LABELS, HIDDEN_UNITS],stddev=0.1))\n",
    "bias2 = tf.Variable(tf.constant(0.1, shape=[NUM_LABELS]))\n",
    "    \n",
    "print('Done')"
   ]
  },
  {
   "cell_type": "code",
   "execution_count": 8,
   "metadata": {},
   "outputs": [
    {
     "name": "stdout",
     "output_type": "stream",
     "text": [
      "Done\n"
     ]
    }
   ],
   "source": [
    "def model(X, Theta1, Theta2, bias):\n",
    "    \"\"\"The Model definition.\"\"\"\n",
    "    # Perceptron\n",
    "    \n",
    "    layer1 = tf.nn.sigmoid(tf.matmul(X, tf.transpose(Theta1)))\n",
    "                        \n",
    "    output = tf.nn.bias_add(tf.matmul(layer1, tf.transpose(Theta2)),bias)\n",
    "\n",
    "    return output\n",
    "    \n",
    "print('Done')"
   ]
  },
  {
   "cell_type": "code",
   "execution_count": 9,
   "metadata": {},
   "outputs": [
    {
     "name": "stdout",
     "output_type": "stream",
     "text": [
      "Done\n"
     ]
    }
   ],
   "source": [
    "yhat = model(train_data_node, Theta1, Theta2, bias2)\n",
    "\n",
    "# Change the weights by subtracting derivative with respect to that weight\n",
    "loss =  tf.reduce_mean(tf.nn.sigmoid_cross_entropy_with_logits(labels=train_labels_node, logits=yhat))\n",
    "# Regularization using L2 Loss function \n",
    "regularizer = tf.nn.l2_loss(Theta1) + tf.nn.l2_loss(Theta2)\n",
    "reg = (lam / tf.to_float(tf.shape(train_labels_node)[0])) * regularizer\n",
    "loss_reg = loss + reg\n",
    "\n",
    "# Optimizer: \n",
    "\n",
    "# Gradient Descent\n",
    "optimizer = tf.contrib.opt.ScipyOptimizerInterface(loss_reg, options={'maxiter':4000})\n",
    "#update_weights = tf.train.GradientDescentOptimizer(0.1).minimize(loss)\n",
    "\n",
    "# Predictions\n",
    "train_prediction = tf.sigmoid(yhat)\n",
    "\n",
    "print('Done')"
   ]
  },
  {
   "cell_type": "code",
   "execution_count": 6,
   "metadata": {},
   "outputs": [],
   "source": [
    "# Keep track of the loss at each iteration so we can chart it later\n",
    "J = []\n",
    "\n",
    "def loss_callback():\n",
    "    print \"Recalc...\"\n",
    "    \n",
    "def step_callback(params):\n",
    "    J.append(params)\n",
    "    \n",
    "def sample(training_set, method=\"RANDOM\", prop=.9, loo=0, boost = []): \n",
    "    if (method == \"RANDOM\"):\n",
    "        training_set = training_set.sample(frac=1).reset_index(drop=True)\n",
    "        idx = np.arange(0,len(training_set)) / float(len(training_set))\n",
    "        return [training_set[idx<prop], training_set[idx>=prop]]\n",
    "    elif (method == \"LOO\"):\n",
    "        idx = np.array(range(0,len(training_set)))\n",
    "        return [training_set[idx!=loo], training_set[idx==loo]]\n",
    "    elif (method == \"BOOTSTRAP\"):\n",
    "        idx = np.array(range(0,len(training_set)))\n",
    "        sample = np.random.choice(idx, len(training_set), replace=True)\n",
    "        return pandas.DataFrame(training_set.values[sample,:]), training_set[~np.in1d(idx, sample)]\n",
    "    elif (method == \"BOOSTING\"):\n",
    "        idx = np.array(range(0,len(training_set)))\n",
    "        sample = np.random.choice(idx, len(training_set), replace=True, p=boost)\n",
    "        return pandas.DataFrame(training_set.values[sample,:]), training_set[~np.in1d(idx, sample)]\n",
    "    \n",
    "def minimize(feed_dict, train=True):\n",
    "    \n",
    "    #optimizer.minimize(feed_dict=feed_dict, fetches=[loss_reg], loss_callback=loss_callback)\n",
    "    if (train):\n",
    "        optimizer.minimize(feed_dict=feed_dict)\n",
    "\n",
    "    return loss.eval(feed_dict), train_prediction.eval(feed_dict)\n",
    "\n",
    "def getSignals(predictions, data_y, threshold):\n",
    "    signals = np.ones(len(data_y))\n",
    "    a = np.argmax(predictions,axis=1) \n",
    "    b = np.argmax(data_y,axis=1)\n",
    "    signals[a != b] = -1\n",
    "    signals[(predictions < threshold).all(axis=1)] = 0\n",
    "    return signals\n",
    "    \n",
    "\n",
    "def evaluate(predictions, data_y, threshold, majorityVote=False):\n",
    "    \n",
    "    a = np.argmax(predictions,axis=1)\n",
    "    b = np.argmax(data_y,axis=1) \n",
    "    \n",
    "    if (majorityVote):\n",
    "        msk = a[1::2] == a[::2]\n",
    "        msk = np.dstack([msk,msk]).flatten()\n",
    "        a = a[msk]\n",
    "        b = b[msk]\n",
    "        predictions = predictions[msk]\n",
    "    \n",
    "    a = a[(predictions > threshold).any(axis=1)]\n",
    "    b = b[(predictions > threshold).any(axis=1)]\n",
    "        \n",
    "    precision = np.float32(np.sum(a == b) / np.float32(b.shape[0]))\n",
    "    recall = np.float32(np.sum(a == b) / np.float32(data_y.shape[0])) # Correct Recall\n",
    "    recall = np.float32(b.shape[0]) / data_y.shape[0] # Number of Days traded\n",
    "    F_score = (2.0 * precision * recall) / (precision + recall)\n",
    "    return precision, recall, F_score\n",
    "\n",
    "def predict(data_X, data_y, lam1, threshold):    \n",
    "    loss, predictions = minimize({train_data_node: data_X, train_labels_node: data_y, lam: lam1}, train=False)\n",
    "    precision, recall, F_score = evaluate(predictions, data_y, threshold)\n",
    "    return loss, precision, recall, F_score, predictions\n",
    "    \n",
    "\n",
    "def train(train_dict, val_dict, test_dict, threshold, iterations=50, debug=True):\n",
    "    \n",
    "    tf.logging.set_verbosity(tf.logging.ERROR)\n",
    "    \n",
    "    metrics = {\n",
    "        \"train_loss\":[],\n",
    "        \"train_precision\":[],\n",
    "        \"train_recall\":[],\n",
    "        \"train_f\":[],\n",
    "        \"val_loss\":[],\n",
    "        \"val_precision\":[],\n",
    "        \"val_recall\":[],\n",
    "        \"val_f\":[],\n",
    "        \"test_loss\":[],\n",
    "        \"test_precision\":[],\n",
    "        \"test_recall\":[],\n",
    "        \"test_f\":[],\n",
    "        \"test_predictions\":[]\n",
    "    }\n",
    "    \n",
    "    for i in range(0,iterations):\n",
    "        \n",
    "        for j in range(0, 50):\n",
    "            \n",
    "            # Create a new interactive session that we'll use in\n",
    "            # subsequent code cells.\n",
    "            s = tf.InteractiveSession()\n",
    "            s.as_default()\n",
    "\n",
    "            # Initialize all the variables we defined above.\n",
    "            tf.global_variables_initializer().run()\n",
    "\n",
    "            minimize(train_dict)\n",
    "            train_loss, train_precision, train_recall, train_f, _ = predict(train_dict[train_data_node], train_dict[train_labels_node], train_dict[lam], threshold)\n",
    "\n",
    "            if (train_loss < .65):\n",
    "                print \".\",\n",
    "                metrics[\"train_loss\"].append(train_loss)\n",
    "                metrics[\"train_precision\"].append(train_precision)\n",
    "                metrics[\"train_recall\"].append(train_recall)\n",
    "                metrics[\"train_f\"].append(train_f)\n",
    "\n",
    "                val_loss, val_precision, val_recall, val_f, _= predict(val_dict[train_data_node], val_dict[train_labels_node], val_dict[lam], threshold)\n",
    "\n",
    "                metrics[\"val_loss\"].append(val_loss)\n",
    "                metrics[\"val_precision\"].append(val_precision)\n",
    "                metrics[\"val_recall\"].append(val_recall)\n",
    "                metrics[\"val_f\"].append(val_f)\n",
    "                \n",
    "                test_loss, test_precision, test_recall, test_f, test_predictions = predict(test_dict[train_data_node], test_dict[train_labels_node], test_dict[lam], threshold)\n",
    "\n",
    "                metrics[\"test_loss\"].append(test_loss)\n",
    "                metrics[\"test_precision\"].append(test_precision)\n",
    "                metrics[\"test_recall\"].append(test_recall)\n",
    "                metrics[\"test_f\"].append(test_f)\n",
    "                metrics[\"test_predictions\"] = test_predictions # Return the last set of predictions (could return the one with the best val score)\n",
    "                break;\n",
    "        \n",
    "        if (j >= 50):\n",
    "            print(\"ERROR : Failed to minimise function\")\n",
    "            \n",
    "    results = {\n",
    "        \"train_loss\": {\"mean\":np.nanmean(metrics[\"train_loss\"]), \"std\":np.nanstd(metrics[\"train_loss\"]), \"values\":metrics[\"train_loss\"]},\n",
    "        \"train_precision\": {\"mean\":np.nanmean(metrics[\"train_precision\"]), \"std\":np.nanstd(metrics[\"train_precision\"]), \"values\":metrics[\"train_precision\"]},\n",
    "        \"train_recall\": {\"mean\":np.nanmean(metrics[\"train_recall\"]), \"std\":np.nanstd(metrics[\"train_recall\"]), \"values\":metrics[\"train_recall\"]},\n",
    "        \"train_f\": {\"mean\":np.nanmean(metrics[\"train_f\"]), \"std\":np.nanstd(metrics[\"train_f\"]), \"values\":metrics[\"train_f\"]},\n",
    "        \"val_loss\": {\"mean\":np.nanmean(metrics[\"val_loss\"]), \"std\":np.nanstd(metrics[\"val_loss\"]), \"values\":metrics[\"val_loss\"]},\n",
    "        \"val_precision\":{\"mean\":np.nanmean(metrics[\"val_precision\"]), \"std\":np.nanstd(metrics[\"val_precision\"]), \"values\":metrics[\"val_precision\"]},\n",
    "        \"val_recall\": {\"mean\":np.nanmean(metrics[\"val_recall\"]), \"std\":np.nanstd(metrics[\"val_recall\"]), \"values\":metrics[\"val_recall\"]},\n",
    "        \"val_f\": {\"mean\":np.nanmean(metrics[\"val_f\"]), \"std\":np.nanstd(metrics[\"val_f\"]), \"values\":metrics[\"val_f\"]},\n",
    "        \"test_loss\": {\"mean\":np.nanmean(metrics[\"test_loss\"]), \"std\":np.nanstd(metrics[\"test_loss\"]), \"values\":metrics[\"test_loss\"]},\n",
    "        \"test_precision\":{\"mean\":np.nanmean(metrics[\"test_precision\"]), \"std\":np.nanstd(metrics[\"test_precision\"]), \"values\":metrics[\"test_precision\"]},\n",
    "        \"test_recall\": {\"mean\":np.nanmean(metrics[\"test_recall\"]), \"std\":np.nanstd(metrics[\"test_recall\"]), \"values\":metrics[\"test_recall\"]},\n",
    "        \"test_f\": {\"mean\":np.nanmean(metrics[\"test_f\"]), \"std\":np.nanstd(metrics[\"test_f\"]), \"values\":metrics[\"test_f\"]},\n",
    "        \"test_predictions\": metrics[\"test_predictions\"],\n",
    "    }\n",
    "    \n",
    "    print \".\",\n",
    "    if debug:\n",
    "        print(\"Iterations : %d Lambda : %.2f, Threshold : %.2f\" % (iterations, val_dict[lam], threshold))\n",
    "        print(\"Training loss : %.2f+/-%.2f, precision : %.2f+/-%.2f, recall : %.2f+/-%.2f, F : %.2f+/-%.2f\" % \n",
    "              (results[\"train_loss\"][\"mean\"], results[\"train_loss\"][\"std\"],\n",
    "               results[\"train_precision\"][\"mean\"], results[\"train_precision\"][\"std\"],\n",
    "               results[\"train_recall\"][\"mean\"], results[\"train_recall\"][\"std\"],\n",
    "               results[\"train_f\"][\"mean\"], results[\"train_f\"][\"std\"]))\n",
    "        print(\"Validation loss : %.2f+/-%.2f, precision : %.2f+/-%.2f, recall : %.2f+/-%.2f, F : %.2f+/-%.2f\" % \n",
    "              (results[\"val_loss\"][\"mean\"], results[\"val_loss\"][\"std\"],\n",
    "               results[\"val_precision\"][\"mean\"], results[\"val_precision\"][\"std\"],\n",
    "               results[\"val_recall\"][\"mean\"], results[\"val_recall\"][\"std\"],\n",
    "               results[\"val_f\"][\"mean\"], results[\"val_f\"][\"std\"]))\n",
    "        print(\"Test loss : %.2f+/-%.2f, precision : %.2f+/-%.2f, recall : %.2f+/-%.2f, F : %.2f+/-%.2f\" % \n",
    "              (results[\"test_loss\"][\"mean\"], results[\"test_loss\"][\"std\"],\n",
    "               results[\"test_precision\"][\"mean\"], results[\"test_precision\"][\"std\"],\n",
    "               results[\"test_recall\"][\"mean\"], results[\"test_recall\"][\"std\"],\n",
    "               results[\"test_f\"][\"mean\"], results[\"test_f\"][\"std\"]))\n",
    "\n",
    "    return results"
   ]
  },
  {
   "cell_type": "code",
   "execution_count": 12,
   "metadata": {
    "scrolled": false
   },
   "outputs": [],
   "source": [
    "### \n",
    "### CROSS-VAL RANDOM SAMPLING\n",
    "###\n",
    "\n",
    "def bootstrapTrain(training_set, test_set, lamda, iterations, threshold, debug=False):\n",
    "\n",
    "    metrics = {\n",
    "        \"train_loss\":[],\n",
    "        \"train_precision\":[],\n",
    "        \"train_recall\":[],\n",
    "        \"train_f\":[],\n",
    "        \"val_loss\":[],\n",
    "        \"val_precision\":[],\n",
    "        \"val_recall\":[],\n",
    "        \"val_f\":[],\n",
    "        \"test_loss\":[],\n",
    "        \"test_precision\":[],\n",
    "        \"test_recall\":[],\n",
    "        \"test_f\":[],\n",
    "        \"test_predictions\":[]\n",
    "    }\n",
    "    \n",
    "    test_X, test_y = ppl.splitCol(test_set, NUM_FEATURES)\n",
    "\n",
    "    for i in range(0, iterations):\n",
    "        \n",
    "        print \".\",\n",
    "\n",
    "        train_sample, val_sample = sample(training_set, method=\"BOOTSTRAP\", loo=i)\n",
    "\n",
    "        train_sample_X, train_sample_y = ppl.splitCol(train_sample, NUM_FEATURES)\n",
    "        val_sample_X, val_sample_y = ppl.splitCol(val_sample, NUM_FEATURES)        \n",
    "\n",
    "        results = train({train_data_node: train_sample_X, train_labels_node: train_sample_y, lam: lamda}, {train_data_node: val_sample_X, train_labels_node: val_sample_y, lam: lamda}, {train_data_node: test_X, train_labels_node: test_y, lam: lamda}, threshold, 1, True)\n",
    "\n",
    "        metrics[\"train_loss\"].append(results[\"train_loss\"][\"mean\"])\n",
    "        metrics[\"train_precision\"].append(results[\"train_precision\"][\"mean\"])\n",
    "        metrics[\"train_recall\"].append(results[\"train_recall\"][\"mean\"])\n",
    "        metrics[\"train_f\"].append(results[\"train_f\"][\"mean\"])\n",
    "        metrics[\"val_loss\"].append(results[\"val_loss\"][\"mean\"])\n",
    "        metrics[\"val_precision\"].append(results[\"val_precision\"][\"mean\"])\n",
    "        metrics[\"val_recall\"].append(results[\"val_recall\"][\"mean\"])\n",
    "        metrics[\"val_f\"].append(results[\"val_f\"][\"mean\"])\n",
    "        metrics[\"test_loss\"].append(results[\"test_loss\"][\"mean\"])\n",
    "        metrics[\"test_precision\"].append(results[\"test_precision\"][\"mean\"])\n",
    "        metrics[\"test_recall\"].append(results[\"test_recall\"][\"mean\"])\n",
    "        metrics[\"test_f\"].append(results[\"test_f\"][\"mean\"])\n",
    "        metrics[\"test_predictions\"].append(results[\"test_predictions\"])  \n",
    "\n",
    "\n",
    "    results = {\n",
    "        \"train_loss\": {\"mean\":np.nanmean(metrics[\"train_loss\"]), \"std\":np.nanstd(metrics[\"train_loss\"]), \"values\":metrics[\"train_loss\"]},\n",
    "        \"train_precision\": {\"mean\":np.nanmean(metrics[\"train_precision\"]), \"std\":np.nanstd(metrics[\"train_precision\"]), \"values\":metrics[\"train_precision\"]},\n",
    "        \"train_recall\": {\"mean\":np.nanmean(metrics[\"train_recall\"]), \"std\":np.nanstd(metrics[\"train_recall\"]), \"values\":metrics[\"train_recall\"]},\n",
    "        \"train_f\": {\"mean\":np.nanmean(metrics[\"train_f\"]), \"std\":np.nanstd(metrics[\"train_f\"]), \"values\":metrics[\"train_f\"]},\n",
    "        \"val_loss\": {\"mean\":np.nanmean(metrics[\"val_loss\"]), \"std\":np.nanstd(metrics[\"val_loss\"]), \"values\":metrics[\"val_loss\"]},\n",
    "        \"val_precision\":{\"mean\":np.nanmean(metrics[\"val_precision\"]), \"std\":np.nanstd(metrics[\"val_precision\"]), \"values\":metrics[\"val_precision\"]},\n",
    "        \"val_recall\": {\"mean\":np.nanmean(metrics[\"val_recall\"]), \"std\":np.nanstd(metrics[\"val_recall\"]), \"values\":metrics[\"val_recall\"]},\n",
    "        \"val_f\": {\"mean\":np.nanmean(metrics[\"val_f\"]), \"std\":np.nanstd(metrics[\"val_f\"]), \"values\":metrics[\"val_f\"]},\n",
    "        \"test_loss\": {\"mean\":np.nanmean(metrics[\"test_loss\"]), \"std\":np.nanstd(metrics[\"test_loss\"]), \"values\":metrics[\"test_loss\"]},\n",
    "        \"test_precision\":{\"mean\":np.nanmean(metrics[\"test_precision\"]), \"std\":np.nanstd(metrics[\"test_precision\"]), \"values\":metrics[\"test_precision\"]},\n",
    "        \"test_recall\": {\"mean\":np.nanmean(metrics[\"test_recall\"]), \"std\":np.nanstd(metrics[\"test_recall\"]), \"values\":metrics[\"test_recall\"]},\n",
    "        \"test_f\": {\"mean\":np.nanmean(metrics[\"test_f\"]), \"std\":np.nanstd(metrics[\"test_f\"]), \"values\":metrics[\"test_f\"]},\n",
    "        \"test_predictions\": metrics[\"test_predictions\"],\n",
    "    }\n",
    "\n",
    "    if debug:\n",
    "        print(\"Iteration : %d Lambda : %.2f, Threshold : %.2f\" % (i, lamda, threshold))\n",
    "        print(\"Training loss : %.2f+/-%.2f, precision : %.2f+/-%.2f, recall : %.2f+/-%.2f, F : %.2f+/-%.2f\" % \n",
    "              (results[\"train_loss\"][\"mean\"], results[\"train_loss\"][\"std\"],\n",
    "               results[\"train_precision\"][\"mean\"], results[\"train_precision\"][\"std\"],\n",
    "               results[\"train_recall\"][\"mean\"], results[\"train_recall\"][\"std\"],\n",
    "               results[\"train_f\"][\"mean\"], results[\"train_f\"][\"std\"]))\n",
    "        print(\"Validation loss : %.2f+/-%.2f, precision : %.2f+/-%.2f, recall : %.2f+/-%.2f, F : %.2f+/-%.2f\" % \n",
    "              (results[\"val_loss\"][\"mean\"], results[\"val_loss\"][\"std\"],\n",
    "               results[\"val_precision\"][\"mean\"], results[\"val_precision\"][\"std\"],\n",
    "               results[\"val_recall\"][\"mean\"], results[\"val_recall\"][\"std\"],\n",
    "               results[\"val_f\"][\"mean\"], results[\"val_f\"][\"std\"]))\n",
    "        print(\"Test loss : %.2f+/-%.2f, precision : %.2f+/-%.2f, recall : %.2f+/-%.2f, F : %.2f+/-%.2f\" % \n",
    "              (results[\"test_loss\"][\"mean\"], results[\"test_loss\"][\"std\"],\n",
    "               results[\"test_precision\"][\"mean\"], results[\"test_precision\"][\"std\"],\n",
    "               results[\"test_recall\"][\"mean\"], results[\"test_recall\"][\"std\"],\n",
    "               results[\"test_f\"][\"mean\"], results[\"test_f\"][\"std\"]))\n",
    "\n",
    "    return results\n"
   ]
  },
  {
   "cell_type": "code",
   "execution_count": 13,
   "metadata": {},
   "outputs": [],
   "source": [
    "### \n",
    "### BOOSTING\n",
    "###\n",
    "\n",
    "def boostingTrain(training_set, test_set, lamda, iterations, debug=False):\n",
    "\n",
    "    metrics = {\n",
    "        \"train_loss\":[],\n",
    "        \"train_precision\":[],\n",
    "        \"train_recall\":[],\n",
    "        \"train_f\":[],\n",
    "        \"val_loss\":[],\n",
    "        \"val_precision\":[],\n",
    "        \"val_recall\":[],\n",
    "        \"val_f\":[],\n",
    "        \"test_loss\":[],\n",
    "        \"test_precision\":[],\n",
    "        \"test_recall\":[],\n",
    "        \"test_f\":[],\n",
    "        \"test_predictions\":[]\n",
    "    }\n",
    "    \n",
    "    test_X, test_y = ppl.splitCol(test_set, NUM_FEATURES)\n",
    "    train_X, train_y = ppl.splitCol(training_set, NUM_FEATURES)\n",
    "    threshold = 0 # For boosting to work this must be 0\n",
    "    boost = np.array([1.0/len(training_set)] * len(training_set))\n",
    "\n",
    "    for i in range(0, iterations):\n",
    "        \n",
    "        print \".\",\n",
    "\n",
    "        train_sample, val_sample = sample(training_set, method=\"BOOSTING\", boost=boost)\n",
    "\n",
    "        train_sample_X, train_sample_y = ppl.splitCol(train_sample, NUM_FEATURES)\n",
    "        val_sample_X, val_sample_y = ppl.splitCol(val_sample, NUM_FEATURES)        \n",
    "\n",
    "        results = train({train_data_node: train_sample_X, train_labels_node: train_sample_y, lam: lamda}, {train_data_node: val_sample_X, train_labels_node: val_sample_y, lam: lamda}, {train_data_node: test_X, train_labels_node: test_y, lam: lamda}, threshold, 1, False)\n",
    "\n",
    "        #Evaluate the results and calculate the odds of misclassification\n",
    "        _, _, _, _, train_predictions = predict(train_X, train_y, lamda, threshold)\n",
    "        precision = np.argmax(train_predictions,axis=1) == np.argmax(train_y,axis=1)\n",
    "        epsilon = sum(boost[~precision]) \n",
    "        delta = epsilon / (1.0 - epsilon)\n",
    "        boost[precision] = boost[precision] * delta\n",
    "        boost = boost / sum(boost)\n",
    "        \n",
    "        \n",
    "        metrics[\"train_loss\"].append(results[\"train_loss\"][\"mean\"])\n",
    "        metrics[\"train_precision\"].append(results[\"train_precision\"][\"mean\"])\n",
    "        metrics[\"train_recall\"].append(results[\"train_recall\"][\"mean\"])\n",
    "        metrics[\"train_f\"].append(results[\"train_f\"][\"mean\"])\n",
    "        metrics[\"val_loss\"].append(results[\"val_loss\"][\"mean\"])\n",
    "        metrics[\"val_precision\"].append(results[\"val_precision\"][\"mean\"])\n",
    "        metrics[\"val_recall\"].append(results[\"val_recall\"][\"mean\"])\n",
    "        metrics[\"val_f\"].append(results[\"val_f\"][\"mean\"])\n",
    "        metrics[\"test_loss\"].append(results[\"test_loss\"][\"mean\"])\n",
    "        metrics[\"test_precision\"].append(results[\"test_precision\"][\"mean\"])\n",
    "        metrics[\"test_recall\"].append(results[\"test_recall\"][\"mean\"])\n",
    "        metrics[\"test_f\"].append(results[\"test_f\"][\"mean\"])\n",
    "        metrics[\"test_predictions\"].append(results[\"test_predictions\"])\n",
    "        \n",
    "\n",
    "\n",
    "    results = {\n",
    "        \"train_loss\": {\"mean\":np.nanmean(metrics[\"train_loss\"]), \"std\":np.nanstd(metrics[\"train_loss\"]), \"values\":metrics[\"train_loss\"]},\n",
    "        \"train_precision\": {\"mean\":np.nanmean(metrics[\"train_precision\"]), \"std\":np.nanstd(metrics[\"train_precision\"]), \"values\":metrics[\"train_precision\"]},\n",
    "        \"train_recall\": {\"mean\":np.nanmean(metrics[\"train_recall\"]), \"std\":np.nanstd(metrics[\"train_recall\"]), \"values\":metrics[\"train_recall\"]},\n",
    "        \"train_f\": {\"mean\":np.nanmean(metrics[\"train_f\"]), \"std\":np.nanstd(metrics[\"train_f\"]), \"values\":metrics[\"train_f\"]},\n",
    "        \"val_loss\": {\"mean\":np.nanmean(metrics[\"val_loss\"]), \"std\":np.nanstd(metrics[\"val_loss\"]), \"values\":metrics[\"val_loss\"]},\n",
    "        \"val_precision\":{\"mean\":np.nanmean(metrics[\"val_precision\"]), \"std\":np.nanstd(metrics[\"val_precision\"]), \"values\":metrics[\"val_precision\"]},\n",
    "        \"val_recall\": {\"mean\":np.nanmean(metrics[\"val_recall\"]), \"std\":np.nanstd(metrics[\"val_recall\"]), \"values\":metrics[\"val_recall\"]},\n",
    "        \"val_f\": {\"mean\":np.nanmean(metrics[\"val_f\"]), \"std\":np.nanstd(metrics[\"val_f\"]), \"values\":metrics[\"val_f\"]},\n",
    "        \"test_loss\": {\"mean\":np.nanmean(metrics[\"test_loss\"]), \"std\":np.nanstd(metrics[\"test_loss\"]), \"values\":metrics[\"test_loss\"]},\n",
    "        \"test_precision\":{\"mean\":np.nanmean(metrics[\"test_precision\"]), \"std\":np.nanstd(metrics[\"test_precision\"]), \"values\":metrics[\"test_precision\"]},\n",
    "        \"test_recall\": {\"mean\":np.nanmean(metrics[\"test_recall\"]), \"std\":np.nanstd(metrics[\"test_recall\"]), \"values\":metrics[\"test_recall\"]},\n",
    "        \"test_f\": {\"mean\":np.nanmean(metrics[\"test_f\"]), \"std\":np.nanstd(metrics[\"test_f\"]), \"values\":metrics[\"test_f\"]},\n",
    "        \"test_predictions\": metrics[\"test_predictions\"],\n",
    "        \"weights\":boost\n",
    "    }\n",
    "\n",
    "    if debug:\n",
    "        print(\"Iteration : %d Lambda : %.2f, Threshold : %.2f\" % (i, lamda, threshold))\n",
    "        print(\"Training loss : %.2f+/-%.2f, precision : %.2f+/-%.2f, recall : %.2f+/-%.2f, F : %.2f+/-%.2f\" % \n",
    "              (results[\"train_loss\"][\"mean\"], results[\"train_loss\"][\"std\"],\n",
    "               results[\"train_precision\"][\"mean\"], results[\"train_precision\"][\"std\"],\n",
    "               results[\"train_recall\"][\"mean\"], results[\"train_recall\"][\"std\"],\n",
    "               results[\"train_f\"][\"mean\"], results[\"train_f\"][\"std\"]))\n",
    "        print(\"Validation loss : %.2f+/-%.2f, precision : %.2f+/-%.2f, recall : %.2f+/-%.2f, F : %.2f+/-%.2f\" % \n",
    "              (results[\"val_loss\"][\"mean\"], results[\"val_loss\"][\"std\"],\n",
    "               results[\"val_precision\"][\"mean\"], results[\"val_precision\"][\"std\"],\n",
    "               results[\"val_recall\"][\"mean\"], results[\"val_recall\"][\"std\"],\n",
    "               results[\"val_f\"][\"mean\"], results[\"val_f\"][\"std\"]))\n",
    "        print(\"Test loss : %.2f+/-%.2f, precision : %.2f+/-%.2f, recall : %.2f+/-%.2f, F : %.2f+/-%.2f\" % \n",
    "              (results[\"test_loss\"][\"mean\"], results[\"test_loss\"][\"std\"],\n",
    "               results[\"test_precision\"][\"mean\"], results[\"test_precision\"][\"std\"],\n",
    "               results[\"test_recall\"][\"mean\"], results[\"test_recall\"][\"std\"],\n",
    "               results[\"test_f\"][\"mean\"], results[\"test_f\"][\"std\"]))\n",
    "\n",
    "    return results\n"
   ]
  },
  {
   "cell_type": "code",
   "execution_count": 84,
   "metadata": {},
   "outputs": [
    {
     "name": "stdout",
     "output_type": "stream",
     "text": [
      "Training . . . . . . . . . . . . . . . . . . . . . . . . . . . . . . . . . . . . . . . . . . . . . . . . . . . . . . . . . . . . Iteration : 19 Lambda : 0.01, Threshold : 0.00\n",
      "Training loss : 0.24+/-0.04, precision : 0.75+/-0.12, recall : 1.00+/-0.00, F : 0.85+/-0.08\n",
      "Validation loss : 1.90+/-0.24, precision : 0.54+/-0.02, recall : 1.00+/-0.00, F : 0.70+/-0.02\n",
      "Test loss : 1.88+/-0.25, precision : 0.52+/-0.03, recall : 1.00+/-0.00, F : 0.68+/-0.02\n"
     ]
    },
    {
     "data": {
      "text/plain": [
       "(0.52093023, 1.0, 0.68501528884203555)"
      ]
     },
     "execution_count": 84,
     "metadata": {},
     "output_type": "execute_result"
    }
   ],
   "source": [
    "##\n",
    "## BOOSTING \n",
    "##\n",
    "\n",
    "print \"Training\",\n",
    "_, test_y = ppl.splitCol(test_set, NUM_FEATURES)\n",
    "results = boostingTrain(training_set, test_set, .01, 20, True)\n",
    "predictions =  np.nanmean(results[\"test_predictions\"], axis=0)\n",
    "#print results[\"weights\"]\n",
    "evaluate(predictions, test_y, .0)\n"
   ]
  },
  {
   "cell_type": "code",
   "execution_count": 13,
   "metadata": {},
   "outputs": [
    {
     "name": "stdout",
     "output_type": "stream",
     "text": [
      "Training . . . Iterations : 1 Lambda : 0.01, Threshold : 0.00\n",
      "Training loss : 0.30+/-0.00, precision : 0.89+/-0.00, recall : 1.00+/-0.00, F : 0.94+/-0.00\n",
      "Validation loss : 1.31+/-0.00, precision : 0.58+/-0.00, recall : 1.00+/-0.00, F : 0.73+/-0.00\n",
      "Test loss : 1.87+/-0.00, precision : 0.52+/-0.00, recall : 1.00+/-0.00, F : 0.68+/-0.00\n",
      ". . . Iterations : 1 Lambda : 0.01, Threshold : 0.00\n",
      "Training loss : 0.31+/-0.00, precision : 0.88+/-0.00, recall : 1.00+/-0.00, F : 0.94+/-0.00\n",
      "Validation loss : 1.23+/-0.00, precision : 0.61+/-0.00, recall : 1.00+/-0.00, F : 0.76+/-0.00\n",
      "Test loss : 1.53+/-0.00, precision : 0.51+/-0.00, recall : 1.00+/-0.00, F : 0.67+/-0.00\n",
      ". . . Iterations : 1 Lambda : 0.01, Threshold : 0.00\n",
      "Training loss : 0.32+/-0.00, precision : 0.87+/-0.00, recall : 1.00+/-0.00, F : 0.93+/-0.00\n",
      "Validation loss : 1.39+/-0.00, precision : 0.56+/-0.00, recall : 1.00+/-0.00, F : 0.72+/-0.00\n",
      "Test loss : 1.42+/-0.00, precision : 0.55+/-0.00, recall : 1.00+/-0.00, F : 0.71+/-0.00\n",
      ". . . Iterations : 1 Lambda : 0.01, Threshold : 0.00\n",
      "Training loss : 0.27+/-0.00, precision : 0.90+/-0.00, recall : 1.00+/-0.00, F : 0.95+/-0.00\n",
      "Validation loss : 1.49+/-0.00, precision : 0.58+/-0.00, recall : 1.00+/-0.00, F : 0.73+/-0.00\n",
      "Test loss : 1.86+/-0.00, precision : 0.51+/-0.00, recall : 1.00+/-0.00, F : 0.68+/-0.00\n",
      ". . . Iterations : 1 Lambda : 0.01, Threshold : 0.00\n",
      "Training loss : 0.29+/-0.00, precision : 0.89+/-0.00, recall : 1.00+/-0.00, F : 0.94+/-0.00\n",
      "Validation loss : 1.44+/-0.00, precision : 0.60+/-0.00, recall : 1.00+/-0.00, F : 0.75+/-0.00\n",
      "Test loss : 1.61+/-0.00, precision : 0.52+/-0.00, recall : 1.00+/-0.00, F : 0.69+/-0.00\n",
      ". . . Iterations : 1 Lambda : 0.01, Threshold : 0.00\n",
      "Training loss : 0.31+/-0.00, precision : 0.87+/-0.00, recall : 1.00+/-0.00, F : 0.93+/-0.00\n",
      "Validation loss : 1.09+/-0.00, precision : 0.61+/-0.00, recall : 1.00+/-0.00, F : 0.76+/-0.00\n",
      "Test loss : 1.61+/-0.00, precision : 0.48+/-0.00, recall : 1.00+/-0.00, F : 0.65+/-0.00\n",
      ". . . Iterations : 1 Lambda : 0.01, Threshold : 0.00\n",
      "Training loss : 0.28+/-0.00, precision : 0.89+/-0.00, recall : 1.00+/-0.00, F : 0.94+/-0.00\n",
      "Validation loss : 1.43+/-0.00, precision : 0.57+/-0.00, recall : 1.00+/-0.00, F : 0.73+/-0.00\n",
      "Test loss : 1.51+/-0.00, precision : 0.56+/-0.00, recall : 1.00+/-0.00, F : 0.71+/-0.00\n",
      ". . . Iterations : 1 Lambda : 0.01, Threshold : 0.00\n",
      "Training loss : 0.27+/-0.00, precision : 0.91+/-0.00, recall : 1.00+/-0.00, F : 0.95+/-0.00\n",
      "Validation loss : 1.47+/-0.00, precision : 0.60+/-0.00, recall : 1.00+/-0.00, F : 0.75+/-0.00\n",
      "Test loss : 1.56+/-0.00, precision : 0.56+/-0.00, recall : 1.00+/-0.00, F : 0.72+/-0.00\n",
      ". . . Iterations : 1 Lambda : 0.01, Threshold : 0.00\n",
      "Training loss : 0.29+/-0.00, precision : 0.87+/-0.00, recall : 1.00+/-0.00, F : 0.93+/-0.00\n",
      "Validation loss : 1.34+/-0.00, precision : 0.60+/-0.00, recall : 1.00+/-0.00, F : 0.75+/-0.00\n",
      "Test loss : 1.63+/-0.00, precision : 0.51+/-0.00, recall : 1.00+/-0.00, F : 0.68+/-0.00\n",
      ". . . Iterations : 1 Lambda : 0.01, Threshold : 0.00\n",
      "Training loss : 0.30+/-0.00, precision : 0.87+/-0.00, recall : 1.00+/-0.00, F : 0.93+/-0.00\n",
      "Validation loss : 1.20+/-0.00, precision : 0.58+/-0.00, recall : 1.00+/-0.00, F : 0.73+/-0.00\n",
      "Test loss : 1.59+/-0.00, precision : 0.53+/-0.00, recall : 1.00+/-0.00, F : 0.69+/-0.00\n",
      ". . . Iterations : 1 Lambda : 0.01, Threshold : 0.00\n",
      "Training loss : 0.27+/-0.00, precision : 0.91+/-0.00, recall : 1.00+/-0.00, F : 0.95+/-0.00\n",
      "Validation loss : 1.57+/-0.00, precision : 0.60+/-0.00, recall : 1.00+/-0.00, F : 0.75+/-0.00\n",
      "Test loss : 1.69+/-0.00, precision : 0.52+/-0.00, recall : 1.00+/-0.00, F : 0.69+/-0.00\n",
      ". . . Iterations : 1 Lambda : 0.01, Threshold : 0.00\n",
      "Training loss : 0.30+/-0.00, precision : 0.88+/-0.00, recall : 1.00+/-0.00, F : 0.94+/-0.00\n",
      "Validation loss : 1.27+/-0.00, precision : 0.57+/-0.00, recall : 1.00+/-0.00, F : 0.73+/-0.00\n",
      "Test loss : 1.34+/-0.00, precision : 0.55+/-0.00, recall : 1.00+/-0.00, F : 0.71+/-0.00\n",
      ". . . Iterations : 1 Lambda : 0.01, Threshold : 0.00\n",
      "Training loss : 0.27+/-0.00, precision : 0.90+/-0.00, recall : 1.00+/-0.00, F : 0.95+/-0.00\n",
      "Validation loss : 1.76+/-0.00, precision : 0.55+/-0.00, recall : 1.00+/-0.00, F : 0.71+/-0.00\n",
      "Test loss : 1.69+/-0.00, precision : 0.53+/-0.00, recall : 1.00+/-0.00, F : 0.69+/-0.00\n",
      ". . . Iterations : 1 Lambda : 0.01, Threshold : 0.00\n",
      "Training loss : 0.29+/-0.00, precision : 0.89+/-0.00, recall : 1.00+/-0.00, F : 0.94+/-0.00\n",
      "Validation loss : 1.29+/-0.00, precision : 0.57+/-0.00, recall : 1.00+/-0.00, F : 0.73+/-0.00\n",
      "Test loss : 1.52+/-0.00, precision : 0.56+/-0.00, recall : 1.00+/-0.00, F : 0.72+/-0.00\n",
      ". . . Iterations : 1 Lambda : 0.01, Threshold : 0.00\n",
      "Training loss : 0.31+/-0.00, precision : 0.87+/-0.00, recall : 1.00+/-0.00, F : 0.93+/-0.00\n",
      "Validation loss : 1.35+/-0.00, precision : 0.60+/-0.00, recall : 1.00+/-0.00, F : 0.75+/-0.00\n",
      "Test loss : 1.52+/-0.00, precision : 0.53+/-0.00, recall : 1.00+/-0.00, F : 0.69+/-0.00\n",
      ". . . Iterations : 1 Lambda : 0.01, Threshold : 0.00\n",
      "Training loss : 0.29+/-0.00, precision : 0.88+/-0.00, recall : 1.00+/-0.00, F : 0.94+/-0.00\n",
      "Validation loss : 1.29+/-0.00, precision : 0.58+/-0.00, recall : 1.00+/-0.00, F : 0.73+/-0.00\n",
      "Test loss : 1.58+/-0.00, precision : 0.56+/-0.00, recall : 1.00+/-0.00, F : 0.72+/-0.00\n",
      ". . . Iterations : 1 Lambda : 0.01, Threshold : 0.00\n",
      "Training loss : 0.32+/-0.00, precision : 0.88+/-0.00, recall : 1.00+/-0.00, F : 0.93+/-0.00\n",
      "Validation loss : 1.28+/-0.00, precision : 0.58+/-0.00, recall : 1.00+/-0.00, F : 0.74+/-0.00\n",
      "Test loss : 1.41+/-0.00, precision : 0.55+/-0.00, recall : 1.00+/-0.00, F : 0.71+/-0.00\n",
      ". . . Iterations : 1 Lambda : 0.01, Threshold : 0.00\n",
      "Training loss : 0.30+/-0.00, precision : 0.89+/-0.00, recall : 1.00+/-0.00, F : 0.94+/-0.00\n",
      "Validation loss : 1.32+/-0.00, precision : 0.58+/-0.00, recall : 1.00+/-0.00, F : 0.74+/-0.00\n",
      "Test loss : 1.66+/-0.00, precision : 0.47+/-0.00, recall : 1.00+/-0.00, F : 0.63+/-0.00\n",
      ". . . Iterations : 1 Lambda : 0.01, Threshold : 0.00\n",
      "Training loss : 0.32+/-0.00, precision : 0.88+/-0.00, recall : 1.00+/-0.00, F : 0.94+/-0.00\n",
      "Validation loss : 1.14+/-0.00, precision : 0.59+/-0.00, recall : 1.00+/-0.00, F : 0.74+/-0.00\n",
      "Test loss : 1.51+/-0.00, precision : 0.55+/-0.00, recall : 1.00+/-0.00, F : 0.71+/-0.00\n",
      ". . . Iterations : 1 Lambda : 0.01, Threshold : 0.00\n",
      "Training loss : 0.28+/-0.00, precision : 0.89+/-0.00, recall : 1.00+/-0.00, F : 0.94+/-0.00\n",
      "Validation loss : 1.29+/-0.00, precision : 0.58+/-0.00, recall : 1.00+/-0.00, F : 0.73+/-0.00\n",
      "Test loss : 1.68+/-0.00, precision : 0.51+/-0.00, recall : 1.00+/-0.00, F : 0.68+/-0.00\n",
      "Iteration : 19 Lambda : 0.01, Threshold : 0.00\n",
      "Training loss : 0.29+/-0.02, precision : 0.89+/-0.01, recall : 1.00+/-0.00, F : 0.94+/-0.01\n",
      "Validation loss : 1.35+/-0.15, precision : 0.58+/-0.02, recall : 1.00+/-0.00, F : 0.74+/-0.01\n",
      "Test loss : 1.59+/-0.13, precision : 0.53+/-0.03, recall : 1.00+/-0.00, F : 0.69+/-0.02\n"
     ]
    },
    {
     "data": {
      "text/plain": [
       "(0.5674419, 1.0, 0.7240356247830815)"
      ]
     },
     "execution_count": 13,
     "metadata": {},
     "output_type": "execute_result"
    }
   ],
   "source": [
    "##\n",
    "## BOOTSTRAP TRAINING\n",
    "##\n",
    "\n",
    "print \"Training\",\n",
    "_, test_y = ppl.splitCol(test_set, NUM_FEATURES)\n",
    "results = bootstrapTrain(training_set, test_set, .01, 20, .0, True)\n",
    "predictions2 =  np.nanmean(results[\"test_predictions\"], axis=0)\n",
    "evaluate(predictions2, test_y, .0)\n"
   ]
  },
  {
   "cell_type": "code",
   "execution_count": 14,
   "metadata": {},
   "outputs": [
    {
     "name": "stderr",
     "output_type": "stream",
     "text": [
      "/usr/local/lib/python2.7/dist-packages/ipykernel_launcher.py:62: RuntimeWarning: invalid value encountered in divide\n"
     ]
    },
    {
     "data": {
      "image/png": "[encoded data removed]",
      "text/plain": [
       "<matplotlib.figure.Figure at 0x7fafeb116910>"
      ]
     },
     "metadata": {},
     "output_type": "display_data"
    }
   ],
   "source": [
    "#####\n",
    "# THRESHOLD PROFILE\n",
    "# PLOTS PRECISION AND RECALL ACROSS VARYING THRESHOLD VALUES\n",
    "# (Look for increasing recall to the point where precision causes recall to be non-significant for the sample size)\n",
    "#####\n",
    "p = []\n",
    "r = [] \n",
    "p2 = [] \n",
    "r2 = [] \n",
    "b1 = []\n",
    "b2 = []\n",
    "x = np.arange(0.45, .99, 0.01)\n",
    "for i in x:\n",
    "    ##p.append(evaluate(predictions, test_y, i)[0])\n",
    "    #r.append(evaluate(predictions, test_y, i)[1])\n",
    "    p.append(evaluate(predictions, test_y[:len(predictions)], i)[0])\n",
    "    r.append(evaluate(predictions, test_y[:len(predictions)], i)[1])\n",
    "    b1.append(evaluate(np.column_stack((np.zeros(len(predictions)),np.ones(len(predictions)))), test_y[:len(predictions)], 0)[0])\n",
    "    b2.append(evaluate(np.column_stack((np.ones(len(predictions)),np.zeros(len(predictions)))), test_y[:len(predictions)], 0)[0])\n",
    "\n",
    "    \n",
    "# Show the loss as the value of lambda changes\n",
    "fig, (ax1) = plt.subplots(1, 1)\n",
    "plt.subplots_adjust(wspace=.3)\n",
    "fig.set_size_inches(10, 4)\n",
    "\n",
    "#ax1.plot(x, p, color=\"blue\")\n",
    "#ax1.plot(x, r, color=\"blue\")\n",
    "ax1.plot(x, p, color=\"green\")\n",
    "ax1.plot(x, r, color=\"green\")\n",
    "ax1.plot(x, b1, color=\"red\")\n",
    "ax1.plot(x, b2, color=\"red\")\n",
    "plt.grid()\n",
    "plt.show()\n"
   ]
  },
  {
   "cell_type": "code",
   "execution_count": 23,
   "metadata": {
    "scrolled": false
   },
   "outputs": [
    {
     "data": {
      "image/png": "[encoded data removed]",
      "text/plain": [
       "<matplotlib.figure.Figure at 0x7f8bcdaf99d0>"
      ]
     },
     "metadata": {},
     "output_type": "display_data"
    },
    {
     "data": {
      "text/plain": [
       "(0.6, 1.0, 0.7500000186264513)"
      ]
     },
     "execution_count": 23,
     "metadata": {},
     "output_type": "execute_result"
    }
   ],
   "source": [
    "threshold = .0\n",
    "signals1 = getSignals(predictions1, test_y[:len(predictions1)], threshold)\n",
    "signals2 = getSignals(predictions2, test_y[:len(predictions2)], threshold)\n",
    "signals3 = getSignals(predictions3, test_y[:len(predictions3)], threshold)\n",
    "signals4 = getSignals(predictions4, test_y[:len(predictions4)], threshold)\n",
    "signals5 = getSignals(predictions5, test_y[:len(predictions5)], threshold)\n",
    "signals6 = getSignals(predictions6, test_y[:len(predictions6)], threshold)\n",
    "signals7 = getSignals(predictions, test_y[:len(predictions)], threshold)\n",
    "\n",
    "baseline1 = np.column_stack((np.zeros(len(predictions)),np.ones(len(predictions))))\n",
    "baseline2 = np.column_stack((np.ones(len(predictions)),np.zeros(len(predictions))))\n",
    "baseline1_signals = getSignals(baseline1, test_y[:len(predictions)], 0)\n",
    "baseline2_signals = getSignals(baseline2, test_y[:len(predictions)], 0)\n",
    "if sum(baseline1_signals) > sum(baseline2_signals):\n",
    "    baseline_signals = baseline1_signals \n",
    "else:\n",
    "    baseline_signals = baseline2_signals\n",
    "    \n",
    "market = np.argmax(test_y[:len(predictions)], axis=1)\n",
    "market[market==0] = -1\n",
    "\n",
    "# Show the loss as the value of lambda changes\n",
    "fig, (ax1) = plt.subplots(1, 1)\n",
    "plt.subplots_adjust(wspace=.3)\n",
    "fig.set_size_inches(10, 4)\n",
    "\n",
    "#ax1.plot(x, p, color=\"blue\")\n",
    "#ax1.plot(x, r, color=\"blue\")\n",
    "plt1, = ax1.plot(np.cumsum(signals1), label=\"Signal1\")\n",
    "plt2, = ax1.plot(np.cumsum(signals2), label=\"Signal2\")\n",
    "plt3, = ax1.plot(np.cumsum(signals3), label=\"Signal3\")\n",
    "plt4, = ax1.plot(np.cumsum(signals4), label=\"Signal4\")\n",
    "plt5, = ax1.plot(np.cumsum(signals5), label=\"Signal5\")\n",
    "plt6, = ax1.plot(np.cumsum(signals6), label=\"Signal6\")\n",
    "plt7, = ax1.plot(np.cumsum(signals7), label=\"SignalX\")\n",
    "ax1.plot(np.cumsum(baseline_signals), color=\"red\")\n",
    "ax1.plot(np.cumsum(market), color=\"blue\")\n",
    "plt.grid()\n",
    "plt.legend(handles=[plt1,plt2,plt3,plt4,plt5,plt6,plt7])\n",
    "plt.show()\n",
    "\n",
    "evaluate(predictions, test_y[:len(predictions)], threshold)"
   ]
  },
  {
   "cell_type": "code",
   "execution_count": 28,
   "metadata": {},
   "outputs": [
    {
     "name": "stdout",
     "output_type": "stream",
     "text": [
      "(0.62318838, 0.64186046511627903, 0.6323866209946799)\n"
     ]
    },
    {
     "data": {
      "text/plain": [
       "0.35813953488372102"
      ]
     },
     "execution_count": 28,
     "metadata": {},
     "output_type": "execute_result"
    }
   ],
   "source": [
    "res = evaluate(predictions, test_y, .5, majorityVote=True)\n",
    "print res\n",
    "\n",
    "(1 - res[1]) * 430 / 2 / 215\n"
   ]
  },
  {
   "cell_type": "code",
   "execution_count": 7,
   "metadata": {},
   "outputs": [
    {
     "name": "stdout",
     "output_type": "stream",
     "text": [
      "(394, 2)\n",
      "(0.52030456, 1.0, 0.6844741167322278)\n"
     ]
    }
   ],
   "source": [
    "#########################################\n",
    "## Load predictions and produce stats ###\n",
    "#########################################\n",
    "_, test_y = ppl.splitCol(test_set, NUM_FEATURES)\n",
    "predictions = pandas.read_csv(objStore.get_file('Experiment2', 'results_new.csv'), header=None)\n",
    "predictions = predictions.values#[:,1:]\n",
    "initialTestValue = 0\n",
    "print predictions.shape\n",
    "print evaluate(predictions, test_y[initialTestValue:initialTestValue+len(predictions),:], .0)\n"
   ]
  },
  {
   "cell_type": "code",
   "execution_count": 23,
   "metadata": {
    "collapsed": true
   },
   "outputs": [],
   "source": [
    "predictions2 = predictions"
   ]
  },
  {
   "cell_type": "code",
   "execution_count": 31,
   "metadata": {},
   "outputs": [
    {
     "data": {
      "text/plain": [
       "(430, 2)"
      ]
     },
     "execution_count": 31,
     "metadata": {},
     "output_type": "execute_result"
    }
   ],
   "source": [
    "predictions = np.concatenate((predictions, predictions2), axis=0)\n",
    "predictions.shape\n"
   ]
  },
  {
   "cell_type": "code",
   "execution_count": 106,
   "metadata": {
    "collapsed": true
   },
   "outputs": [],
   "source": [
    "pandas.DataFrame(predictions).to_csv(\"Experiment2_Boosting+LOO+FixedWindow_Results.csv\", index=False, header=False)"
   ]
  },
  {
   "cell_type": "code",
   "execution_count": 7,
   "metadata": {},
   "outputs": [
    {
     "ename": "IOError",
     "evalue": "File ../Results/Experiment2_Boosting+LOO+FixedWindow_Results.csv does not exist",
     "output_type": "error",
     "traceback": [
      "\u001b[0;31m---------------------------------------------------------------------------\u001b[0m",
      "\u001b[0;31mIOError\u001b[0m                                   Traceback (most recent call last)",
      "\u001b[0;32m<ipython-input-7-5eb9ccd04efa>\u001b[0m in \u001b[0;36m<module>\u001b[0;34m()\u001b[0m\n\u001b[0;32m----> 1\u001b[0;31m \u001b[0mpredictions6\u001b[0m \u001b[0;34m=\u001b[0m \u001b[0mpandas\u001b[0m\u001b[0;34m.\u001b[0m\u001b[0mread_csv\u001b[0m\u001b[0;34m(\u001b[0m\u001b[0;34m\"../Results/Experiment2_Boosting+LOO+FixedWindow_Results.csv\"\u001b[0m\u001b[0;34m,\u001b[0m \u001b[0mheader\u001b[0m\u001b[0;34m=\u001b[0m\u001b[0mNone\u001b[0m\u001b[0;34m)\u001b[0m\u001b[0;34m.\u001b[0m\u001b[0mvalues\u001b[0m\u001b[0;34m\u001b[0m\u001b[0m\n\u001b[0m\u001b[1;32m      2\u001b[0m \u001b[0mpredictions5\u001b[0m \u001b[0;34m=\u001b[0m \u001b[0mpandas\u001b[0m\u001b[0;34m.\u001b[0m\u001b[0mread_csv\u001b[0m\u001b[0;34m(\u001b[0m\u001b[0;34m\"../Results/Experiment2_Boosting+LOO+NoWindow_Results.csv\"\u001b[0m\u001b[0;34m,\u001b[0m \u001b[0mheader\u001b[0m\u001b[0;34m=\u001b[0m\u001b[0mNone\u001b[0m\u001b[0;34m)\u001b[0m\u001b[0;34m.\u001b[0m\u001b[0mvalues\u001b[0m\u001b[0;34m\u001b[0m\u001b[0m\n\u001b[1;32m      3\u001b[0m \u001b[0mpredictions4\u001b[0m \u001b[0;34m=\u001b[0m \u001b[0mpandas\u001b[0m\u001b[0;34m.\u001b[0m\u001b[0mread_csv\u001b[0m\u001b[0;34m(\u001b[0m\u001b[0;34m\"../Results/Experiment2_Boosting_Results.csv\"\u001b[0m\u001b[0;34m,\u001b[0m \u001b[0mheader\u001b[0m\u001b[0;34m=\u001b[0m\u001b[0mNone\u001b[0m\u001b[0;34m)\u001b[0m\u001b[0;34m.\u001b[0m\u001b[0mvalues\u001b[0m\u001b[0;34m\u001b[0m\u001b[0m\n\u001b[1;32m      4\u001b[0m \u001b[0mpredictions3\u001b[0m \u001b[0;34m=\u001b[0m \u001b[0mpandas\u001b[0m\u001b[0;34m.\u001b[0m\u001b[0mread_csv\u001b[0m\u001b[0;34m(\u001b[0m\u001b[0;34m\"../Results/Experiment2_Bootstrap+LOO+FixedWindow_Results.csv\"\u001b[0m\u001b[0;34m,\u001b[0m \u001b[0mheader\u001b[0m\u001b[0;34m=\u001b[0m\u001b[0mNone\u001b[0m\u001b[0;34m)\u001b[0m\u001b[0;34m.\u001b[0m\u001b[0mvalues\u001b[0m\u001b[0;34m\u001b[0m\u001b[0m\n\u001b[1;32m      5\u001b[0m \u001b[0mpredictions2\u001b[0m \u001b[0;34m=\u001b[0m \u001b[0mpandas\u001b[0m\u001b[0;34m.\u001b[0m\u001b[0mread_csv\u001b[0m\u001b[0;34m(\u001b[0m\u001b[0;34m\"../Results/Experiment2_Bootstrap+LOO+NoWindow_Results.csv\"\u001b[0m\u001b[0;34m,\u001b[0m \u001b[0mheader\u001b[0m\u001b[0;34m=\u001b[0m\u001b[0mNone\u001b[0m\u001b[0;34m)\u001b[0m\u001b[0;34m.\u001b[0m\u001b[0mvalues\u001b[0m\u001b[0;34m\u001b[0m\u001b[0m\n",
      "\u001b[0;32m/usr/local/lib/python2.7/dist-packages/pandas/io/parsers.pyc\u001b[0m in \u001b[0;36mparser_f\u001b[0;34m(filepath_or_buffer, sep, delimiter, header, names, index_col, usecols, squeeze, prefix, mangle_dupe_cols, dtype, engine, converters, true_values, false_values, skipinitialspace, skiprows, nrows, na_values, keep_default_na, na_filter, verbose, skip_blank_lines, parse_dates, infer_datetime_format, keep_date_col, date_parser, dayfirst, iterator, chunksize, compression, thousands, decimal, lineterminator, quotechar, quoting, escapechar, comment, encoding, dialect, tupleize_cols, error_bad_lines, warn_bad_lines, skipfooter, skip_footer, doublequote, delim_whitespace, as_recarray, compact_ints, use_unsigned, low_memory, buffer_lines, memory_map, float_precision)\u001b[0m\n\u001b[1;32m    707\u001b[0m                     skip_blank_lines=skip_blank_lines)\n\u001b[1;32m    708\u001b[0m \u001b[0;34m\u001b[0m\u001b[0m\n\u001b[0;32m--> 709\u001b[0;31m         \u001b[0;32mreturn\u001b[0m \u001b[0m_read\u001b[0m\u001b[0;34m(\u001b[0m\u001b[0mfilepath_or_buffer\u001b[0m\u001b[0;34m,\u001b[0m \u001b[0mkwds\u001b[0m\u001b[0;34m)\u001b[0m\u001b[0;34m\u001b[0m\u001b[0m\n\u001b[0m\u001b[1;32m    710\u001b[0m \u001b[0;34m\u001b[0m\u001b[0m\n\u001b[1;32m    711\u001b[0m     \u001b[0mparser_f\u001b[0m\u001b[0;34m.\u001b[0m\u001b[0m__name__\u001b[0m \u001b[0;34m=\u001b[0m \u001b[0mname\u001b[0m\u001b[0;34m\u001b[0m\u001b[0m\n",
      "\u001b[0;32m/usr/local/lib/python2.7/dist-packages/pandas/io/parsers.pyc\u001b[0m in \u001b[0;36m_read\u001b[0;34m(filepath_or_buffer, kwds)\u001b[0m\n\u001b[1;32m    447\u001b[0m \u001b[0;34m\u001b[0m\u001b[0m\n\u001b[1;32m    448\u001b[0m     \u001b[0;31m# Create the parser.\u001b[0m\u001b[0;34m\u001b[0m\u001b[0;34m\u001b[0m\u001b[0m\n\u001b[0;32m--> 449\u001b[0;31m     \u001b[0mparser\u001b[0m \u001b[0;34m=\u001b[0m \u001b[0mTextFileReader\u001b[0m\u001b[0;34m(\u001b[0m\u001b[0mfilepath_or_buffer\u001b[0m\u001b[0;34m,\u001b[0m \u001b[0;34m**\u001b[0m\u001b[0mkwds\u001b[0m\u001b[0;34m)\u001b[0m\u001b[0;34m\u001b[0m\u001b[0m\n\u001b[0m\u001b[1;32m    450\u001b[0m \u001b[0;34m\u001b[0m\u001b[0m\n\u001b[1;32m    451\u001b[0m     \u001b[0;32mif\u001b[0m \u001b[0mchunksize\u001b[0m \u001b[0;32mor\u001b[0m \u001b[0miterator\u001b[0m\u001b[0;34m:\u001b[0m\u001b[0;34m\u001b[0m\u001b[0m\n",
      "\u001b[0;32m/usr/local/lib/python2.7/dist-packages/pandas/io/parsers.pyc\u001b[0m in \u001b[0;36m__init__\u001b[0;34m(self, f, engine, **kwds)\u001b[0m\n\u001b[1;32m    816\u001b[0m             \u001b[0mself\u001b[0m\u001b[0;34m.\u001b[0m\u001b[0moptions\u001b[0m\u001b[0;34m[\u001b[0m\u001b[0;34m'has_index_names'\u001b[0m\u001b[0;34m]\u001b[0m \u001b[0;34m=\u001b[0m \u001b[0mkwds\u001b[0m\u001b[0;34m[\u001b[0m\u001b[0;34m'has_index_names'\u001b[0m\u001b[0;34m]\u001b[0m\u001b[0;34m\u001b[0m\u001b[0m\n\u001b[1;32m    817\u001b[0m \u001b[0;34m\u001b[0m\u001b[0m\n\u001b[0;32m--> 818\u001b[0;31m         \u001b[0mself\u001b[0m\u001b[0;34m.\u001b[0m\u001b[0m_make_engine\u001b[0m\u001b[0;34m(\u001b[0m\u001b[0mself\u001b[0m\u001b[0;34m.\u001b[0m\u001b[0mengine\u001b[0m\u001b[0;34m)\u001b[0m\u001b[0;34m\u001b[0m\u001b[0m\n\u001b[0m\u001b[1;32m    819\u001b[0m \u001b[0;34m\u001b[0m\u001b[0m\n\u001b[1;32m    820\u001b[0m     \u001b[0;32mdef\u001b[0m \u001b[0mclose\u001b[0m\u001b[0;34m(\u001b[0m\u001b[0mself\u001b[0m\u001b[0;34m)\u001b[0m\u001b[0;34m:\u001b[0m\u001b[0;34m\u001b[0m\u001b[0m\n",
      "\u001b[0;32m/usr/local/lib/python2.7/dist-packages/pandas/io/parsers.pyc\u001b[0m in \u001b[0;36m_make_engine\u001b[0;34m(self, engine)\u001b[0m\n\u001b[1;32m   1047\u001b[0m     \u001b[0;32mdef\u001b[0m \u001b[0m_make_engine\u001b[0m\u001b[0;34m(\u001b[0m\u001b[0mself\u001b[0m\u001b[0;34m,\u001b[0m \u001b[0mengine\u001b[0m\u001b[0;34m=\u001b[0m\u001b[0;34m'c'\u001b[0m\u001b[0;34m)\u001b[0m\u001b[0;34m:\u001b[0m\u001b[0;34m\u001b[0m\u001b[0m\n\u001b[1;32m   1048\u001b[0m         \u001b[0;32mif\u001b[0m \u001b[0mengine\u001b[0m \u001b[0;34m==\u001b[0m \u001b[0;34m'c'\u001b[0m\u001b[0;34m:\u001b[0m\u001b[0;34m\u001b[0m\u001b[0m\n\u001b[0;32m-> 1049\u001b[0;31m             \u001b[0mself\u001b[0m\u001b[0;34m.\u001b[0m\u001b[0m_engine\u001b[0m \u001b[0;34m=\u001b[0m \u001b[0mCParserWrapper\u001b[0m\u001b[0;34m(\u001b[0m\u001b[0mself\u001b[0m\u001b[0;34m.\u001b[0m\u001b[0mf\u001b[0m\u001b[0;34m,\u001b[0m \u001b[0;34m**\u001b[0m\u001b[0mself\u001b[0m\u001b[0;34m.\u001b[0m\u001b[0moptions\u001b[0m\u001b[0;34m)\u001b[0m\u001b[0;34m\u001b[0m\u001b[0m\n\u001b[0m\u001b[1;32m   1050\u001b[0m         \u001b[0;32melse\u001b[0m\u001b[0;34m:\u001b[0m\u001b[0;34m\u001b[0m\u001b[0m\n\u001b[1;32m   1051\u001b[0m             \u001b[0;32mif\u001b[0m \u001b[0mengine\u001b[0m \u001b[0;34m==\u001b[0m \u001b[0;34m'python'\u001b[0m\u001b[0;34m:\u001b[0m\u001b[0;34m\u001b[0m\u001b[0m\n",
      "\u001b[0;32m/usr/local/lib/python2.7/dist-packages/pandas/io/parsers.pyc\u001b[0m in \u001b[0;36m__init__\u001b[0;34m(self, src, **kwds)\u001b[0m\n\u001b[1;32m   1693\u001b[0m         \u001b[0mkwds\u001b[0m\u001b[0;34m[\u001b[0m\u001b[0;34m'allow_leading_cols'\u001b[0m\u001b[0;34m]\u001b[0m \u001b[0;34m=\u001b[0m \u001b[0mself\u001b[0m\u001b[0;34m.\u001b[0m\u001b[0mindex_col\u001b[0m \u001b[0;32mis\u001b[0m \u001b[0;32mnot\u001b[0m \u001b[0mFalse\u001b[0m\u001b[0;34m\u001b[0m\u001b[0m\n\u001b[1;32m   1694\u001b[0m \u001b[0;34m\u001b[0m\u001b[0m\n\u001b[0;32m-> 1695\u001b[0;31m         \u001b[0mself\u001b[0m\u001b[0;34m.\u001b[0m\u001b[0m_reader\u001b[0m \u001b[0;34m=\u001b[0m \u001b[0mparsers\u001b[0m\u001b[0;34m.\u001b[0m\u001b[0mTextReader\u001b[0m\u001b[0;34m(\u001b[0m\u001b[0msrc\u001b[0m\u001b[0;34m,\u001b[0m \u001b[0;34m**\u001b[0m\u001b[0mkwds\u001b[0m\u001b[0;34m)\u001b[0m\u001b[0;34m\u001b[0m\u001b[0m\n\u001b[0m\u001b[1;32m   1696\u001b[0m \u001b[0;34m\u001b[0m\u001b[0m\n\u001b[1;32m   1697\u001b[0m         \u001b[0;31m# XXX\u001b[0m\u001b[0;34m\u001b[0m\u001b[0;34m\u001b[0m\u001b[0m\n",
      "\u001b[0;32mpandas/_libs/parsers.pyx\u001b[0m in \u001b[0;36mpandas._libs.parsers.TextReader.__cinit__\u001b[0;34m()\u001b[0m\n",
      "\u001b[0;32mpandas/_libs/parsers.pyx\u001b[0m in \u001b[0;36mpandas._libs.parsers.TextReader._setup_parser_source\u001b[0;34m()\u001b[0m\n",
      "\u001b[0;31mIOError\u001b[0m: File ../Results/Experiment2_Boosting+LOO+FixedWindow_Results.csv does not exist"
     ]
    }
   ],
   "source": [
    "predictions6 = pandas.read_csv(\"../Results/Experiment2_Boosting+LOO+FixedWindow_Results.csv\", header=None).values\n",
    "predictions5 = pandas.read_csv(\"../Results/Experiment2_Boosting+LOO+NoWindow_Results.csv\", header=None).values\n",
    "predictions4 = pandas.read_csv(\"../Results/Experiment2_Boosting_Results.csv\", header=None).values\n",
    "predictions3 = pandas.read_csv(\"../Results/Experiment2_Bootstrap+LOO+FixedWindow_Results.csv\", header=None).values\n",
    "predictions2 = pandas.read_csv(\"../Results/Experiment2_Bootstrap+LOO+NoWindow_Results.csv\", header=None).values\n",
    "predictions1 = pandas.read_csv(\"../Results/Experiment2_Bootstrap_Results.csv\", header=None).values\n",
    "predictions = predictions6"
   ]
  },
  {
   "cell_type": "code",
   "execution_count": null,
   "metadata": {
    "collapsed": true
   },
   "outputs": [],
   "source": [
    "#### LEARNING CURVES FOR TRAINING SET AND CROSS-VALIDATION SET \n",
    "###\n",
    "train_losses = []\n",
    "val_losses = [0]\n",
    "perc_losses = [0]\n",
    "tf.logging.set_verbosity(tf.logging.ERROR)\n",
    "\n",
    "metrics = {\n",
    "        \"train_loss\":[],\n",
    "        \"train_precision\":[],\n",
    "        \"train_recall\":[],\n",
    "        \"train_f\":[],\n",
    "        \"val_loss\":[],\n",
    "        \"val_precision\":[],\n",
    "        \"val_recall\":[],\n",
    "        \"val_f\":[]\n",
    "    }\n",
    "\n",
    "myLam = 0.0\n",
    "THRESHOLD = 0\n",
    "\n",
    "for i in range(10,train_X.shape[0]+1,10):\n",
    "    \n",
    "    results = train({train_data_node: train_X[:i,:], train_labels_node: train_y[:i,:], lam: myLam},\n",
    "            {train_data_node: val_X, train_labels_node: val_y, lam: myLam},\n",
    "             THRESHOLD,\n",
    "              1\n",
    "            )\n",
    "    \n",
    "    metrics[\"train_loss\"].append(results[\"train_loss\"][\"mean\"])\n",
    "    metrics[\"val_loss\"].append(results[\"val_loss\"][\"mean\"])\n",
    "    metrics[\"val_precision\"].append(results[\"val_precision\"][\"mean\"])\n",
    "    metrics[\"val_recall\"].append(results[\"val_recall\"][\"mean\"])\n",
    "    metrics[\"val_f\"].append(results[\"val_f\"][\"mean\"])\n",
    "        \n",
    "# Show the loss as the amount of data increases\n",
    "fig, (ax1) = plt.subplots(1, 1)\n",
    "plt.subplots_adjust(wspace=.3)\n",
    "fig.set_size_inches(10, 4)\n",
    "\n",
    "x = np.array(range(0, len(metrics[\"val_loss\"]))) * 10\n",
    "ax1.plot(x, np.array(metrics[\"train_loss\"]).ravel())\n",
    "ax1.plot(x, np.array(metrics[\"val_loss\"]).ravel(),'r')\n",
    "ax1.set_ylabel(\"Loss\")\n",
    "ax1.set_xlabel(\"Training Examples\")\n",
    "plt.show()"
   ]
  },
  {
   "cell_type": "code",
   "execution_count": 68,
   "metadata": {},
   "outputs": [
    {
     "data": {
      "image/png": "[encoded data removed]",
      "text/plain": [
       "<matplotlib.figure.Figure at 0x7fb52f6672d0>"
      ]
     },
     "metadata": {},
     "output_type": "display_data"
    }
   ],
   "source": [
    "# Show the loss as the amount of data increases\n",
    "fig, (ax1) = plt.subplots(1, 1)\n",
    "plt.subplots_adjust(wspace=.3)\n",
    "fig.set_size_inches(10, 4)\n",
    "\n",
    "x = np.array(range(0, len(metrics[\"val_loss\"]))) * 10\n",
    "#ax1.plot(x, np.array(train_losses).ravel())\n",
    "#ax1.plot(x, np.array(val_losses).ravel(),'r')\n",
    "ax1.plot(x[2:], (np.array(((np.array(metrics[\"val_loss\"])) ))[2:]).ravel(),'g')\n",
    "ax1.set_ylabel(\"Loss\")\n",
    "ax1.set_xlabel(\"Training Examples\")\n",
    "plt.show()"
   ]
  },
  {
   "cell_type": "code",
   "execution_count": 46,
   "metadata": {
    "collapsed": true
   },
   "outputs": [
    {
     "name": "stdout",
     "output_type": "stream",
     "text": [
      "Training . . . . . . . . . . . . . . . Iteration : 4 Lambda : 0.00, Threshold : 0.00\n",
      "Training loss : 0.27+/-0.03, precision : 0.89+/-0.02, recall : 1.00+/-0.00, F : 0.94+/-0.01\n",
      "Validation loss : 2.44+/-0.46, precision : 0.55+/-0.02, recall : 1.00+/-0.00, F : 0.71+/-0.01\n",
      "Test loss : 2.61+/-0.38, precision : 0.53+/-0.02, recall : 1.00+/-0.00, F : 0.69+/-0.02\n",
      "Training . . . . . . . . . . . . . . . Iteration : 4 Lambda : 0.00, Threshold : 0.00\n",
      "Training loss : 0.30+/-0.05, precision : 0.88+/-0.02, recall : 1.00+/-0.00, F : 0.93+/-0.01\n",
      "Validation loss : 1.78+/-0.38, precision : 0.57+/-0.02, recall : 1.00+/-0.00, F : 0.72+/-0.02\n",
      "Test loss : 2.05+/-0.48, precision : 0.52+/-0.02, recall : 1.00+/-0.00, F : 0.68+/-0.02\n",
      "Training . . . . . . . . . . . . . . . Iteration : 4 Lambda : 0.00, Threshold : 0.00\n",
      "Training loss : 0.26+/-0.03, precision : 0.91+/-0.02, recall : 1.00+/-0.00, F : 0.95+/-0.01\n",
      "Validation loss : 1.87+/-0.24, precision : 0.56+/-0.02, recall : 1.00+/-0.00, F : 0.72+/-0.01\n",
      "Test loss : 2.21+/-0.42, precision : 0.52+/-0.02, recall : 1.00+/-0.00, F : 0.68+/-0.02\n",
      "Training . . . . . . . . . . . . . . . Iteration : 4 Lambda : 0.01, Threshold : 0.00\n",
      "Training loss : 0.28+/-0.03, precision : 0.89+/-0.02, recall : 1.00+/-0.00, F : 0.94+/-0.01\n",
      "Validation loss : 1.44+/-0.22, precision : 0.59+/-0.02, recall : 1.00+/-0.00, F : 0.74+/-0.01\n",
      "Test loss : 1.84+/-0.24, precision : 0.51+/-0.01, recall : 1.00+/-0.00, F : 0.68+/-0.01\n",
      "Training . . . . . . . . . . . . . . . Iteration : 4 Lambda : 0.01, Threshold : 0.00\n",
      "Training loss : 0.31+/-0.01, precision : 0.88+/-0.01, recall : 1.00+/-0.00, F : 0.94+/-0.00\n",
      "Validation loss : 1.30+/-0.06, precision : 0.57+/-0.01, recall : 1.00+/-0.00, F : 0.72+/-0.01\n",
      "Test loss : 1.49+/-0.11, precision : 0.54+/-0.02, recall : 1.00+/-0.00, F : 0.70+/-0.02\n",
      "Training . . . . . . . . . . . . . . . Iteration : 4 Lambda : 0.03, Threshold : 0.00\n",
      "Training loss : 0.37+/-0.02, precision : 0.85+/-0.01, recall : 1.00+/-0.00, F : 0.92+/-0.01\n",
      "Validation loss : 0.95+/-0.09, precision : 0.58+/-0.02, recall : 1.00+/-0.00, F : 0.74+/-0.02\n",
      "Test loss : 1.09+/-0.04, precision : 0.53+/-0.01, recall : 1.00+/-0.00, F : 0.70+/-0.01\n",
      "Training . . . . . . . . . . . . . . . Iteration : 4 Lambda : 0.06, Threshold : 0.00\n",
      "Training loss : 0.49+/-0.01, precision : 0.76+/-0.01, recall : 1.00+/-0.00, F : 0.87+/-0.01\n",
      "Validation loss : 0.79+/-0.03, precision : 0.56+/-0.01, recall : 1.00+/-0.00, F : 0.72+/-0.01\n",
      "Test loss : 0.83+/-0.04, precision : 0.53+/-0.03, recall : 1.00+/-0.00, F : 0.69+/-0.02\n",
      "Training . . . . . . . . . . . . . . . Iteration : 4 Lambda : 0.10, Threshold : 0.00\n",
      "Training loss : 0.61+/-0.02, precision : 0.67+/-0.03, recall : 1.00+/-0.00, F : 0.80+/-0.02\n",
      "Validation loss : 0.71+/-0.01, precision : 0.54+/-0.02, recall : 1.00+/-0.00, F : 0.70+/-0.02\n",
      "Test loss : 0.73+/-0.02, precision : 0.54+/-0.02, recall : 1.00+/-0.00, F : 0.70+/-0.02\n",
      "Optimal value for lambda is 0.1\n"
     ]
    },
    {
     "data": {
      "image/png": "[encoded data removed]",
      "text/plain": [
       "<matplotlib.figure.Figure at 0x7fa3f14daf90>"
      ]
     },
     "metadata": {},
     "output_type": "display_data"
    }
   ],
   "source": [
    "###\n",
    "### LAMBDA OPTIMIZATION\n",
    "###\n",
    "\n",
    "tf.logging.set_verbosity(tf.logging.ERROR)\n",
    "\n",
    "_, test_y = ppl.splitCol(test_set, NUM_FEATURES)\n",
    "\n",
    "lams = [0.0, 0.001, 0.003, 0.006, 0.01, 0.03, 0.06, 0.1]#, 0.3, 1.0, 3.0, 10.0]\n",
    "#lams = np.arange(0.02,.04, .001)\n",
    "#lams = [0.0, 0.01]\n",
    "\n",
    "metrics = {\n",
    "        \"train_loss\":[],\n",
    "        \"train_precision\":[],\n",
    "        \"train_recall\":[],\n",
    "        \"train_f\":[],\n",
    "        \"test_loss\":[],\n",
    "        \"test_precision\":[],\n",
    "        \"test_recall\":[],\n",
    "        \"test_f\":[]\n",
    "    }\n",
    "\n",
    "for i in lams:\n",
    "    \n",
    "    print \"Training\",\n",
    "\n",
    "    results = bootstrapTrain(training_set, test_set, i, 5, .0, True)\n",
    "    \n",
    "    metrics[\"train_loss\"].append(results[\"train_loss\"][\"mean\"])\n",
    "    metrics[\"test_loss\"].append(results[\"test_loss\"][\"mean\"])\n",
    "     \n",
    "\n",
    "lam_opt = lams[np.argmin(metrics[\"test_loss\"])]\n",
    "print(\"Optimal value for lambda is %s\" % lam_opt)\n",
    "    \n",
    "# Show the loss as the value of lambda changes\n",
    "fig, (ax1) = plt.subplots(1, 1)\n",
    "plt.subplots_adjust(wspace=.3)\n",
    "fig.set_size_inches(10, 4)\n",
    "\n",
    "ax1.plot(lams, np.array(metrics[\"train_loss\"]).ravel())\n",
    "ax1.plot(lams, np.array(metrics[\"test_loss\"]).ravel(),'r')\n",
    "ax1.plot(lams[np.argmin(metrics[\"test_loss\"])], metrics[\"test_loss\"][np.argmin(metrics[\"test_loss\"])], 'x', color='black')\n",
    "ax1.set_ylabel(\"Loss\")\n",
    "ax1.set_xlabel(\"Lambda\")\n",
    "plt.show()"
   ]
  },
  {
   "cell_type": "code",
   "execution_count": 9,
   "metadata": {},
   "outputs": [],
   "source": [
    "## Put results to MI API\n",
    "\n",
    "res1, res2 = ppl.deinterleave(predictions)\n",
    "res1.index = isect[-len(res1):]\n",
    "res2.index = isect[-len(res2):]\n",
    "\n",
    "mi.put_predictions(res1, MARKET1, MODEL_ID, throttle=10, sleep=2, debug=False)\n",
    "mi.put_predictions(res2, MARKET2, MODEL_ID, throttle=10, sleep=2, debug=False)"
   ]
  },
  {
   "cell_type": "code",
   "execution_count": 4,
   "metadata": {},
   "outputs": [
    {
     "data": {
      "text/html": [
       "<div>\n",
       "<style scoped>\n",
       "    .dataframe tbody tr th:only-of-type {\n",
       "        vertical-align: middle;\n",
       "    }\n",
       "\n",
       "    .dataframe tbody tr th {\n",
       "        vertical-align: top;\n",
       "    }\n",
       "\n",
       "    .dataframe thead th {\n",
       "        text-align: right;\n",
       "    }\n",
       "</style>\n",
       "<table border=\"1\" class=\"dataframe\">\n",
       "  <thead>\n",
       "    <tr style=\"text-align: right;\">\n",
       "      <th></th>\n",
       "      <th>0</th>\n",
       "      <th>1</th>\n",
       "    </tr>\n",
       "  </thead>\n",
       "  <tbody>\n",
       "    <tr>\n",
       "      <th>2016-08-10 15:00:00</th>\n",
       "      <td>0.404936</td>\n",
       "      <td>0.584992</td>\n",
       "    </tr>\n",
       "    <tr>\n",
       "      <th>2016-08-11 15:00:00</th>\n",
       "      <td>0.434818</td>\n",
       "      <td>0.543098</td>\n",
       "    </tr>\n",
       "    <tr>\n",
       "      <th>2016-08-15 15:00:00</th>\n",
       "      <td>0.539887</td>\n",
       "      <td>0.451761</td>\n",
       "    </tr>\n",
       "    <tr>\n",
       "      <th>2016-08-16 15:00:00</th>\n",
       "      <td>0.509789</td>\n",
       "      <td>0.485636</td>\n",
       "    </tr>\n",
       "    <tr>\n",
       "      <th>2016-08-17 15:00:00</th>\n",
       "      <td>0.508589</td>\n",
       "      <td>0.517218</td>\n",
       "    </tr>\n",
       "    <tr>\n",
       "      <th>2016-08-18 15:00:00</th>\n",
       "      <td>0.273171</td>\n",
       "      <td>0.731172</td>\n",
       "    </tr>\n",
       "    <tr>\n",
       "      <th>2016-08-19 15:00:00</th>\n",
       "      <td>0.578864</td>\n",
       "      <td>0.429019</td>\n",
       "    </tr>\n",
       "  </tbody>\n",
       "</table>\n",
       "</div>"
      ],
      "text/plain": [
       "                            0         1\n",
       "2016-08-10 15:00:00  0.404936  0.584992\n",
       "2016-08-11 15:00:00  0.434818  0.543098\n",
       "2016-08-15 15:00:00  0.539887  0.451761\n",
       "2016-08-16 15:00:00  0.509789  0.485636\n",
       "2016-08-17 15:00:00  0.508589  0.517218\n",
       "2016-08-18 15:00:00  0.273171  0.731172\n",
       "2016-08-19 15:00:00  0.578864  0.429019"
      ]
     },
     "execution_count": 4,
     "metadata": {},
     "output_type": "execute_result"
    }
   ],
   "source": [
    "mi.get_predictions(MARKET1, MODEL_ID, start=\"2016-08-10 15:00:00\", end=\"2016-08-20 15:00:00\")"
   ]
  },
  {
   "cell_type": "code",
   "execution_count": null,
   "metadata": {},
   "outputs": [],
   "source": [
    "res"
   ]
  }
 ],
 "metadata": {
  "kernelspec": {
   "display_name": "Python 2",
   "language": "python",
   "name": "python2"
  },
  "language_info": {
   "codemirror_mode": {
    "name": "ipython",
    "version": 2
   },
   "file_extension": ".py",
   "mimetype": "text/x-python",
   "name": "python",
   "nbconvert_exporter": "python",
   "pygments_lexer": "ipython2",
   "version": "2.7.12"
  }
 },
 "nbformat": 4,
 "nbformat_minor": 2
}
