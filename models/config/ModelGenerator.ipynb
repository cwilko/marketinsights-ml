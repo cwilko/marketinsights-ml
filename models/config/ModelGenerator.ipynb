{
 "cells": [
  {
   "cell_type": "markdown",
   "metadata": {},
   "source": [
    "### Model Generator\n",
    "For adding model json to the models datastore via the marketinsights models API"
   ]
  },
  {
   "cell_type": "code",
   "execution_count": 1,
   "metadata": {
    "collapsed": false
   },
   "outputs": [],
   "source": [
    "#!pip install ../../../quantutils\n",
    "from quantutils.api.marketinsights import MarketInsights\n",
    "import json\n",
    "\n",
    "mi = MarketInsights('../local/cred/MIOapi_cred.json')"
   ]
  },
  {
   "cell_type": "code",
   "execution_count": 2,
   "metadata": {
    "collapsed": false
   },
   "outputs": [
    {
     "name": "stdout",
     "output_type": "stream",
     "text": [
      "{\"model_id\":\"3a491b1a-8af6-416d-aa14-f812cbd660bb\",\"model_desc\":\"Basic Bootstrap with Fixed Seed (For unittest)\",\"runtime\":\"test\",\"network\":{\"weights\":{\"seed\":42,\"stdev\":0.1},\"bias\":0.1,\"hidden_units\":32},\"optimizer\":{\"minimize_iterations\":50,\"training_loss_error_case\":0.65,\"maxIter\":4000},\"training\":{\"threshold\":0,\"training_retries\":5,\"lamda\":0.001,\"iterations\":1},\"debug\":false,\"_rev\":\"2-bbee73bfdb550123cc0000fd6a157228\"}\n"
     ]
    },
    {
     "data": {
      "text/plain": [
       "{u'_rev': u'2-bbee73bfdb550123cc0000fd6a157228',\n",
       " u'debug': False,\n",
       " u'model_desc': u'Basic Bootstrap with Fixed Seed (For unittest)',\n",
       " u'model_id': u'3a491b1a-8af6-416d-aa14-f812cbd660bb',\n",
       " u'network': {u'bias': 0.1,\n",
       "  u'hidden_units': 32,\n",
       "  u'weights': {u'seed': 42, u'stdev': 0.1}},\n",
       " u'optimizer': {u'maxIter': 4000,\n",
       "  u'minimize_iterations': 50,\n",
       "  u'training_loss_error_case': 0.65},\n",
       " u'runtime': u'test',\n",
       " u'training': {u'iterations': 1,\n",
       "  u'lamda': 0.001,\n",
       "  u'threshold': 0,\n",
       "  u'training_retries': 5}}"
      ]
     },
     "execution_count": 2,
     "metadata": {},
     "output_type": "execute_result"
    }
   ],
   "source": [
    "MODEL_ID = \"3a491b1a-8af6-416d-aa14-f812cbd660bb\"\n",
    "\n",
    "## Load JSON file\n",
    "data = json.load(open(\"\".join([MODEL_ID, \".json\"])))\n",
    "\n",
    "mi.put_model(data, True)"
   ]
  },
  {
   "cell_type": "code",
   "execution_count": 3,
   "metadata": {
    "collapsed": false
   },
   "outputs": [
    {
     "data": {
      "text/plain": [
       "{u'_rev': u'6-12c5bc8f7eb06ae8b7eced8b94152480',\n",
       " u'debug': False,\n",
       " u'model_desc': u'Basic Bootstrap',\n",
       " u'model_id': u'0aaf64aa-95bc-476b-9ac0-28891e40892a',\n",
       " u'network': {u'bias': 0.1,\n",
       "  u'hidden_units': 32,\n",
       "  u'weights': {u'seed': None, u'stdev': 0.1}},\n",
       " u'optimizer': {u'maxIter': 4000,\n",
       "  u'minimize_iterations': 50,\n",
       "  u'training_loss_error_case': 0.65},\n",
       " u'runtime': u'MktDirection (TF-NN-Bootstrap).ipynb',\n",
       " u'training': {u'fixed_training_set_size': True,\n",
       "  u'iterations': 20,\n",
       "  u'lamda': 0.1,\n",
       "  u'threshold': 0}}"
      ]
     },
     "execution_count": 3,
     "metadata": {},
     "output_type": "execute_result"
    }
   ],
   "source": [
    "mi.get_model(MODEL_ID)"
   ]
  },
  {
   "cell_type": "code",
   "execution_count": null,
   "metadata": {
    "collapsed": true
   },
   "outputs": [],
   "source": []
  }
 ],
 "metadata": {
  "kernelspec": {
   "display_name": "Python 2",
   "language": "python",
   "name": "python2"
  },
  "language_info": {
   "codemirror_mode": {
    "name": "ipython",
    "version": 2
   },
   "file_extension": ".py",
   "mimetype": "text/x-python",
   "name": "python",
   "nbconvert_exporter": "python",
   "pygments_lexer": "ipython2",
   "version": "2.7.12"
  }
 },
 "nbformat": 4,
 "nbformat_minor": 0
}
