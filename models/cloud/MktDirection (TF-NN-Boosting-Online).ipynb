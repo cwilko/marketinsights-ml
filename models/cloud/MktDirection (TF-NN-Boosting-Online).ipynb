{
    "nbformat_minor": 2, 
    "cells": [
        {
            "source": "## Model : marketdirection\n### Description :\nThis model uses a Tensorflow neural network to predict the direction of a market in the next Y periods, based on the values of the previous X periods. \n\n### Model Attributes :\n- FFNN\n- Boosting\n- Re-training of entire network for each additional period\n\n### USP :\n- Normalised market data (between 0 and 1) to highlight common patterns at any time scale.\n- Utilises similar markets to increase size of training set\n", 
            "cell_type": "markdown", 
            "metadata": {}
        }, 
        {
            "execution_count": 3, 
            "cell_type": "code", 
            "metadata": {}, 
            "outputs": [], 
            "source": "MODEL_ID = \"a80a294f-12f8-4b27-8eac-9aad9a53ec8b\"\n\nMARKET1 = \"DOW\"\nMARKET2 = \"SPY\"\n\nPIPELINE_ID = \"marketdirection\"\n\n# TODO : Pull out of pipeline config?\n##### Specific to the data ##\nNUM_FEATURES = (2 * 4) + 1\nNUM_LABELS = 2\n#############################"
        }, 
        {
            "execution_count": 7, 
            "cell_type": "code", 
            "metadata": {
                "collapsed": true
            }, 
            "outputs": [], 
            "source": "#\n# Get dataset from MI API #\n#\n\nimport pandas\nimport sys\nimport gc\nimport uuid\nimport numpy as np\n\n#!pip install --upgrade git+https://github.com/cwilko/quantutils.git\n\nimport quantutils.dataset.pipeline as ppl\nfrom quantutils.api.bluemix import ObjectStore, Metrics, Logger\nfrom quantutils.api.marketinsights import MarketInsights\nimport quantutils.model.utils as mlutils\nfrom quantutils.model.ml import Model\n\nmetrics = Metrics('cred/metrics_cred.json')\nmi = MarketInsights('cred/MIOapi_cred.json')\nobjStore = ObjectStore('cred/object_storage_cred.json')\nlog = Logger('MarketInsights-ML','cred/logging_cred.json')\n\n# Logging helper function\ntag = lambda x,y : \"\".join([\"(\", x, \":\", str((y+2)/2), \") \"])\n\nCONFIG = mi.get_model(MODEL_ID)\nTRN_CNF = CONFIG['training']\n\nmkt1 = mi.get_dataset(MARKET1, PIPELINE_ID)\nmkt2 = mi.get_dataset(MARKET2, PIPELINE_ID)\n\n# Interleave (part of the \"added insight\" for this model)\nmkt1, mkt2, isect = ppl.intersect(mkt1,mkt2)\ndataset = ppl.interleave(mkt1,mkt2)\n\ntestSetLength = 430\ntraining_set = dataset[:-(testSetLength)]\ntest_set = dataset[-(testSetLength):]\n\n# Create ML model\nffnn = Model(NUM_FEATURES, NUM_LABELS, CONFIG)\n\nprint(\"Done\")"
        }, 
        {
            "execution_count": 8, 
            "cell_type": "code", 
            "metadata": {
                "scrolled": false, 
                "collapsed": true
            }, 
            "outputs": [], 
            "source": "##\n## BOOTSTRAP/BOOSTING TRAINING WITH LOO\n##\n\n\npredictions = np.array([]).reshape(0,2)\nbstrapTrainingSet = training_set\nthreshold = .0\n_, test_y = ppl.splitCol(test_set, NUM_FEATURES)\n\n\nbstrapTrainingSet = bstrapTrainingSet.append(pandas.DataFrame(test_set.values[:initialTestValue,:]))\n\n# Train thread id\ntrain_id = str(uuid.uuid1())[:8]\n#train_id = \"0b4045ec\"\ninitialTestValue = 0\nresultIndex = isect[-(testSetLength/2):]\n\nlog.info(\"\".join([\"(\", train_id, \")\", \" Training model: \", CONFIG['model_desc'], \"(\",MODEL_ID,\") , Pipeline: \", PIPELINE_ID]))\n                  \ntry:\n    \n    for i in range(initialTestValue,len(test_set),2):\n        print \"Training\",\n        test_rows = pandas.DataFrame(test_set.values[[i, i+1],:])\n        success = False\n        prediction = [-1, -1]\n        retry = 0\n        while ((not success) & (retry<TRN_CNF['training_retries'])):\n            try:\n                ## CHOOSE BOOTSTRAP OR BOOST\n                results = mlutils.boostingTrain(ffnn, bstrapTrainingSet, test_rows, TRN_CNF['lamda'], TRN_CNF['iterations'], CONFIG['debug'])\n                #esults = mlutils.bootstrapTrain(ffnn, bstrapTrainingSet, test_rows, TRN_CNF['lamda'], TRN_CNF['iterations'], TRN_CNF['threshold'], CONFIG['debug'])\n                prediction = np.nanmean(results[\"test_predictions\"], axis=0)\n                predictions =  np.concatenate([predictions, prediction])    \n                success = True\n            except ValueError: \n                print \"Value error\"\n                log.error(\"\".join([tag(train_id, i), \"ValueError - Retrying...\"]))\n                retry = retry + 1\n        \n        if (not success):\n            log.error(\"Failed to train after several retries\")\n            break\n            \n        print \".\"\n        bstrapTrainingSet = bstrapTrainingSet.append(test_rows)\n        \n        if (TRN_CNF['fixed_training_set_size']):\n            # Window\n            bstrapTrainingSet = bstrapTrainingSet[-len(training_set):]\n\n        # Extract predictions and store them\n        p1, p2 = [pandas.DataFrame([mkt], index=resultIndex[i/2:(i/2)+1]) for mkt in prediction]\n        \n        if (True):\n            log.debug(\"\".join([tag(train_id, i), resultIndex[i/2].isoformat(), \" \", MARKET1, \": \", str(p1.values[0])]))\n            log.debug(\"\".join([tag(train_id, i), resultIndex[i/2].isoformat(), \" \", MARKET2, \": \", str(p2.values[0])]))\n            \n        # Progress statistics\n        res = mlutils.evaluate(predictions, test_y[initialTestValue:initialTestValue+len(predictions),:], threshold)\n        log.info(\"\".join([tag(train_id, i), str(\"Results after %d iterations, %.2f precision, %.2f recall at %.2f threshold\" % (i+2, res[0], res[1], threshold))]))   \n        metrics.send([{'name':'MI.precision', 'value':res[0].tolist()},{'name':'MI.recall', 'value':res[1].tolist()}])\n\n        # Backup precictions to filestore (deprecated)\n        x = 1\n        for mkt in ppl.deinterleave(pandas.DataFrame(predictions)):\n            mkt.index = isect[-(testSetLength/2):-(testSetLength/2)+len(mkt)]\n            mkt.to_csv(\"results.csv\", header=False)\n            objStore.put_file('Experiment2', \"results.csv\", \"\".join([MODEL_ID, \"_\", str(x), \".csv\"]) )\n            x = x + 1\n\n        # Try to free memory\n        gc.collect()\nexcept:\n    log.error(\"\".join([tag(train_id, i), str(\"Unexpected error: %s\" % sys.exc_info()[0])]))\n    raise\n    "
        }
    ], 
    "metadata": {
        "kernelspec": {
            "display_name": "Python 2 with Spark 2.0 (Deprecated)", 
            "name": "python2-spark20", 
            "language": "python"
        }, 
        "language_info": {
            "mimetype": "text/x-python", 
            "nbconvert_exporter": "python", 
            "version": "2.7.11", 
            "name": "python", 
            "file_extension": ".py", 
            "pygments_lexer": "ipython2", 
            "codemirror_mode": {
                "version": 2, 
                "name": "ipython"
            }
        }
    }, 
    "nbformat": 4
}